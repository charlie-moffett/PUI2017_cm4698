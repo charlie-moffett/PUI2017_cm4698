{
 "cells": [
  {
   "cell_type": "code",
   "execution_count": 189,
   "metadata": {},
   "outputs": [
    {
     "name": "stdout",
     "output_type": "stream",
     "text": [
      "Populating the interactive namespace from numpy and matplotlib\n"
     ]
    }
   ],
   "source": [
    "import numpy as np\n",
    "import pandas as pd\n",
    "import pylab as pl\n",
    "import statsmodels.formula.api as smf\n",
    "%pylab inline\n",
    "\n",
    "import seaborn as sns\n",
    "import statsmodels.api as sm"
   ]
  },
  {
   "cell_type": "code",
   "execution_count": 104,
   "metadata": {},
   "outputs": [
    {
     "data": {
      "text/html": [
       "<div>\n",
       "<table border=\"1\" class=\"dataframe\">\n",
       "  <thead>\n",
       "    <tr style=\"text-align: right;\">\n",
       "      <th></th>\n",
       "      <th>state</th>\n",
       "      <th>county</th>\n",
       "      <th>name</th>\n",
       "      <th>totpop</th>\n",
       "      <th>totpopc</th>\n",
       "      <th>urb800</th>\n",
       "      <th>urb25</th>\n",
       "      <th>wm09</th>\n",
       "      <th>wm1015</th>\n",
       "      <th>wm1625</th>\n",
       "      <th>...</th>\n",
       "      <th>totpop2</th>\n",
       "      <th>region1</th>\n",
       "      <th>region2</th>\n",
       "      <th>level</th>\n",
       "      <th>fips</th>\n",
       "      <th>statefip</th>\n",
       "      <th>wmtot</th>\n",
       "      <th>wftot</th>\n",
       "      <th>whtot</th>\n",
       "      <th>nwtot</th>\n",
       "    </tr>\n",
       "  </thead>\n",
       "  <tbody>\n",
       "    <tr>\n",
       "      <th>0</th>\n",
       "      <td>1</td>\n",
       "      <td>10</td>\n",
       "      <td>FAIRFIELD</td>\n",
       "      <td>38208</td>\n",
       "      <td>38208</td>\n",
       "      <td>0</td>\n",
       "      <td>0</td>\n",
       "      <td>5929.0</td>\n",
       "      <td>2863.0</td>\n",
       "      <td>3150.0</td>\n",
       "      <td>...</td>\n",
       "      <td>38208.0</td>\n",
       "      <td>1.0</td>\n",
       "      <td>1.0</td>\n",
       "      <td>1</td>\n",
       "      <td>9001.0</td>\n",
       "      <td>9</td>\n",
       "      <td>18442.0</td>\n",
       "      <td>18533.0</td>\n",
       "      <td>36975.0</td>\n",
       "      <td>1233.0</td>\n",
       "    </tr>\n",
       "    <tr>\n",
       "      <th>1</th>\n",
       "      <td>1</td>\n",
       "      <td>30</td>\n",
       "      <td>HARTFORD</td>\n",
       "      <td>42147</td>\n",
       "      <td>42147</td>\n",
       "      <td>3523</td>\n",
       "      <td>0</td>\n",
       "      <td>6412.0</td>\n",
       "      <td>3421.0</td>\n",
       "      <td>3779.0</td>\n",
       "      <td>...</td>\n",
       "      <td>42147.0</td>\n",
       "      <td>1.0</td>\n",
       "      <td>1.0</td>\n",
       "      <td>1</td>\n",
       "      <td>9003.0</td>\n",
       "      <td>9</td>\n",
       "      <td>20701.0</td>\n",
       "      <td>20636.0</td>\n",
       "      <td>41337.0</td>\n",
       "      <td>810.0</td>\n",
       "    </tr>\n",
       "  </tbody>\n",
       "</table>\n",
       "<p>2 rows × 29 columns</p>\n",
       "</div>"
      ],
      "text/plain": [
       "   state  county       name  totpop  totpopc  urb800  urb25    wm09  wm1015  \\\n",
       "0      1      10  FAIRFIELD   38208    38208       0      0  5929.0  2863.0   \n",
       "1      1      30   HARTFORD   42147    42147    3523      0  6412.0  3421.0   \n",
       "\n",
       "   wm1625   ...    totpop2  region1  region2  level    fips  statefip  \\\n",
       "0  3150.0   ...    38208.0      1.0      1.0      1  9001.0         9   \n",
       "1  3779.0   ...    42147.0      1.0      1.0      1  9003.0         9   \n",
       "\n",
       "     wmtot    wftot    whtot   nwtot  \n",
       "0  18442.0  18533.0  36975.0  1233.0  \n",
       "1  20701.0  20636.0  41337.0   810.0  \n",
       "\n",
       "[2 rows x 29 columns]"
      ]
     },
     "execution_count": 104,
     "metadata": {},
     "output_type": "execute_result"
    }
   ],
   "source": [
    "# reading in county population data from 1800\n",
    "# source: Wealth and Officeholding in Antebellum Georgia\" https://github.com/jvpoulos/ga-lottery\n",
    "df = pd.read_csv('https://raw.githubusercontent.com/jvpoulos/ga-lottery/master/counties-1800.csv')\n",
    "df.head(2)"
   ]
  },
  {
   "cell_type": "code",
   "execution_count": 105,
   "metadata": {},
   "outputs": [
    {
     "data": {
      "text/plain": [
       "(448, 4)"
      ]
     },
     "execution_count": 105,
     "metadata": {},
     "output_type": "execute_result"
    }
   ],
   "source": [
    "# new df for comparing total population against urban population by county in 1800\n",
    "skinny = df[['name', 'county', 'totpop', 'urb800']]\n",
    "skinny.shape"
   ]
  },
  {
   "cell_type": "markdown",
   "metadata": {},
   "source": [
    "# Remove outliers"
   ]
  },
  {
   "cell_type": "code",
   "execution_count": 106,
   "metadata": {},
   "outputs": [
    {
     "data": {
      "text/html": [
       "<div>\n",
       "<table border=\"1\" class=\"dataframe\">\n",
       "  <thead>\n",
       "    <tr style=\"text-align: right;\">\n",
       "      <th></th>\n",
       "      <th>name</th>\n",
       "      <th>county</th>\n",
       "      <th>totpop</th>\n",
       "      <th>urb800</th>\n",
       "    </tr>\n",
       "  </thead>\n",
       "  <tbody>\n",
       "    <tr>\n",
       "      <th>8</th>\n",
       "      <td>CONNECTICUT</td>\n",
       "      <td>0</td>\n",
       "      <td>251002</td>\n",
       "      <td>12722</td>\n",
       "    </tr>\n",
       "    <tr>\n",
       "      <th>15</th>\n",
       "      <td>MAINE</td>\n",
       "      <td>0</td>\n",
       "      <td>151719</td>\n",
       "      <td>3704</td>\n",
       "    </tr>\n",
       "    <tr>\n",
       "      <th>28</th>\n",
       "      <td>MASSACHUSETTS</td>\n",
       "      <td>0</td>\n",
       "      <td>422845</td>\n",
       "      <td>65300</td>\n",
       "    </tr>\n",
       "    <tr>\n",
       "      <th>34</th>\n",
       "      <td>NEW HAMPSHIRE</td>\n",
       "      <td>0</td>\n",
       "      <td>183858</td>\n",
       "      <td>5339</td>\n",
       "    </tr>\n",
       "    <tr>\n",
       "      <th>40</th>\n",
       "      <td>RHODE ISLAND</td>\n",
       "      <td>0</td>\n",
       "      <td>69122</td>\n",
       "      <td>14353</td>\n",
       "    </tr>\n",
       "    <tr>\n",
       "      <th>100</th>\n",
       "      <td>NEW YORK</td>\n",
       "      <td>0</td>\n",
       "      <td>586761</td>\n",
       "      <td>74757</td>\n",
       "    </tr>\n",
       "    <tr>\n",
       "      <th>135</th>\n",
       "      <td>PENNSYLVANIA</td>\n",
       "      <td>0</td>\n",
       "      <td>602365</td>\n",
       "      <td>68354</td>\n",
       "    </tr>\n",
       "    <tr>\n",
       "      <th>271</th>\n",
       "      <td>GEORGIA</td>\n",
       "      <td>0</td>\n",
       "      <td>162686</td>\n",
       "      <td>5146</td>\n",
       "    </tr>\n",
       "    <tr>\n",
       "      <th>362</th>\n",
       "      <td>SOUTH CAROLINA</td>\n",
       "      <td>0</td>\n",
       "      <td>345591</td>\n",
       "      <td>18824</td>\n",
       "    </tr>\n",
       "    <tr>\n",
       "      <th>426</th>\n",
       "      <td>MARYLAND</td>\n",
       "      <td>0</td>\n",
       "      <td>341548</td>\n",
       "      <td>26514</td>\n",
       "    </tr>\n",
       "    <tr>\n",
       "      <th>446</th>\n",
       "      <td>DIST. COLUMBIA</td>\n",
       "      <td>0</td>\n",
       "      <td>14093</td>\n",
       "      <td>11174</td>\n",
       "    </tr>\n",
       "  </tbody>\n",
       "</table>\n",
       "</div>"
      ],
      "text/plain": [
       "               name  county  totpop  urb800\n",
       "8       CONNECTICUT       0  251002   12722\n",
       "15            MAINE       0  151719    3704\n",
       "28    MASSACHUSETTS       0  422845   65300\n",
       "34    NEW HAMPSHIRE       0  183858    5339\n",
       "40     RHODE ISLAND       0   69122   14353\n",
       "100        NEW YORK       0  586761   74757\n",
       "135    PENNSYLVANIA       0  602365   68354\n",
       "271         GEORGIA       0  162686    5146\n",
       "362  SOUTH CAROLINA       0  345591   18824\n",
       "426        MARYLAND       0  341548   26514\n",
       "446  DIST. COLUMBIA       0   14093   11174"
      ]
     },
     "execution_count": 106,
     "metadata": {},
     "output_type": "execute_result"
    }
   ],
   "source": [
    "# look just at state total\n",
    "skinny = skinny[skinny['county'] == 0]\n",
    "skinny = skinny[skinny['name'] != 'UNITED STATES']\n",
    "skinny = skinny[skinny['name'] != 'VIRGINIA']\n",
    "\n",
    "# remove 0 urbpop states\n",
    "skinny = skinny[skinny['urb800'] != 0]\n",
    "skinny"
   ]
  },
  {
   "cell_type": "code",
   "execution_count": 194,
   "metadata": {},
   "outputs": [
    {
     "name": "stderr",
     "output_type": "stream",
     "text": [
      "/opt/rh/anaconda/root/envs/PUI2016_Python3/lib/python3.5/site-packages/scipy/stats/stats.py:1535: UserWarning: kurtosistest only valid for n>=20 ... continuing anyway, n=11\n",
      "  \"anyway, n=%i\" % int(n))\n"
     ]
    },
    {
     "data": {
      "text/html": [
       "<table class=\"simpletable\">\n",
       "<caption>OLS Regression Results</caption>\n",
       "<tr>\n",
       "  <th>Dep. Variable:</th>    <td>skinny['urb800']</td> <th>  R-squared:         </th> <td>   0.784</td>\n",
       "</tr>\n",
       "<tr>\n",
       "  <th>Model:</th>                   <td>OLS</td>       <th>  Adj. R-squared:    </th> <td>   0.760</td>\n",
       "</tr>\n",
       "<tr>\n",
       "  <th>Method:</th>             <td>Least Squares</td>  <th>  F-statistic:       </th> <td>   32.72</td>\n",
       "</tr>\n",
       "<tr>\n",
       "  <th>Date:</th>             <td>Tue, 14 Nov 2017</td> <th>  Prob (F-statistic):</th> <td>0.000287</td>\n",
       "</tr>\n",
       "<tr>\n",
       "  <th>Time:</th>                 <td>15:43:01</td>     <th>  Log-Likelihood:    </th> <td> -119.13</td>\n",
       "</tr>\n",
       "<tr>\n",
       "  <th>No. Observations:</th>      <td>    11</td>      <th>  AIC:               </th> <td>   242.3</td>\n",
       "</tr>\n",
       "<tr>\n",
       "  <th>Df Residuals:</th>          <td>     9</td>      <th>  BIC:               </th> <td>   243.1</td>\n",
       "</tr>\n",
       "<tr>\n",
       "  <th>Df Model:</th>              <td>     1</td>      <th>                     </th>     <td> </td>   \n",
       "</tr>\n",
       "<tr>\n",
       "  <th>Covariance Type:</th>      <td>nonrobust</td>    <th>                     </th>     <td> </td>   \n",
       "</tr>\n",
       "</table>\n",
       "<table class=\"simpletable\">\n",
       "<tr>\n",
       "          <td></td>            <th>coef</th>     <th>std err</th>      <th>t</th>      <th>P>|t|</th> <th>[95.0% Conf. Int.]</th> \n",
       "</tr>\n",
       "<tr>\n",
       "  <th>Intercept</th>        <td>-7786.5525</td> <td> 7442.613</td> <td>   -1.046</td> <td> 0.323</td> <td>-2.46e+04  9049.808</td>\n",
       "</tr>\n",
       "<tr>\n",
       "  <th>skinny['totpop']</th> <td>    0.1251</td> <td>    0.022</td> <td>    5.720</td> <td> 0.000</td> <td>    0.076     0.175</td>\n",
       "</tr>\n",
       "</table>\n",
       "<table class=\"simpletable\">\n",
       "<tr>\n",
       "  <th>Omnibus:</th>       <td> 2.490</td> <th>  Durbin-Watson:     </th> <td>   1.941</td>\n",
       "</tr>\n",
       "<tr>\n",
       "  <th>Prob(Omnibus):</th> <td> 0.288</td> <th>  Jarque-Bera (JB):  </th> <td>   1.147</td>\n",
       "</tr>\n",
       "<tr>\n",
       "  <th>Skew:</th>          <td> 0.409</td> <th>  Prob(JB):          </th> <td>   0.564</td>\n",
       "</tr>\n",
       "<tr>\n",
       "  <th>Kurtosis:</th>      <td> 1.647</td> <th>  Cond. No.          </th> <td>6.21e+05</td>\n",
       "</tr>\n",
       "</table>"
      ],
      "text/plain": [
       "<class 'statsmodels.iolib.summary.Summary'>\n",
       "\"\"\"\n",
       "                            OLS Regression Results                            \n",
       "==============================================================================\n",
       "Dep. Variable:       skinny['urb800']   R-squared:                       0.784\n",
       "Model:                            OLS   Adj. R-squared:                  0.760\n",
       "Method:                 Least Squares   F-statistic:                     32.72\n",
       "Date:                Tue, 14 Nov 2017   Prob (F-statistic):           0.000287\n",
       "Time:                        15:43:01   Log-Likelihood:                -119.13\n",
       "No. Observations:                  11   AIC:                             242.3\n",
       "Df Residuals:                       9   BIC:                             243.1\n",
       "Df Model:                           1                                         \n",
       "Covariance Type:            nonrobust                                         \n",
       "====================================================================================\n",
       "                       coef    std err          t      P>|t|      [95.0% Conf. Int.]\n",
       "------------------------------------------------------------------------------------\n",
       "Intercept        -7786.5525   7442.613     -1.046      0.323     -2.46e+04  9049.808\n",
       "skinny['totpop']     0.1251      0.022      5.720      0.000         0.076     0.175\n",
       "==============================================================================\n",
       "Omnibus:                        2.490   Durbin-Watson:                   1.941\n",
       "Prob(Omnibus):                  0.288   Jarque-Bera (JB):                1.147\n",
       "Skew:                           0.409   Prob(JB):                        0.564\n",
       "Kurtosis:                       1.647   Cond. No.                     6.21e+05\n",
       "==============================================================================\n",
       "\n",
       "Warnings:\n",
       "[1] Standard Errors assume that the covariance matrix of the errors is correctly specified.\n",
       "[2] The condition number is large, 6.21e+05. This might indicate that there are\n",
       "strong multicollinearity or other numerical problems.\n",
       "\"\"\""
      ]
     },
     "execution_count": 194,
     "metadata": {},
     "output_type": "execute_result"
    }
   ],
   "source": [
    "lm = smf.ols(formula = \"skinny['urb800'] ~ skinny['totpop']\", data=skinny).fit()\n",
    "lm.summary()"
   ]
  },
  {
   "cell_type": "code",
   "execution_count": 239,
   "metadata": {},
   "outputs": [
    {
     "data": {
      "image/png": "[encoded data removed]",
      "text/plain": [
       "<matplotlib.figure.Figure at 0x7f81665c1a58>"
      ]
     },
     "metadata": {},
     "output_type": "display_data"
    }
   ],
   "source": [
    "x = skinny['totpop'] / 1000\n",
    "y = skinny['urb800'] / 1000\n",
    "\n",
    "plt.figure(num=None, figsize=(7, 5))\n",
    "\n",
    "plt.grid(False)\n",
    "\n",
    "plt.plot(x, y, 'kp', label='States')\n",
    "plt.xlabel('Total Population', fontsize = 12)\n",
    "plt.ylabel('Urban Population', fontsize = 12)\n",
    "plt.title('Total v. Urban Popuplation of U.S. States in 1800', fontsize=16)\n",
    "plt.legend(loc='lower right', fontsize = 16, frameon=True, edgecolor=\"b\")\n",
    "#plt.text(x=100, y = -20, s='Fig 1: 1 8 Americans were Urban in 1800.', fontsize = 14)\n",
    "plt.show()"
   ]
  },
  {
   "cell_type": "code",
   "execution_count": 124,
   "metadata": {},
   "outputs": [
    {
     "data": {
      "image/png": "[encoded data removed]",
      "text/plain": [
       "<matplotlib.figure.Figure at 0x7f8168092f98>"
      ]
     },
     "metadata": {},
     "output_type": "display_data"
    }
   ],
   "source": [
    "ax = plt.figure(num=None, figsize=(7, 6)).add_subplot(111)\n",
    "ax = plt.scatter(x, y)\n",
    "ax = plt.gca()\n",
    "ax.set_facecolor('w')\n",
    "#plt.xlabel('Total Pop')\n",
    "\n",
    "plt.legend()"
   ]
  },
  {
   "cell_type": "raw",
   "metadata": {},
   "source": [
    "# I wonder if state number is related to urban population\n",
    "state = df['state'][:-3]\n",
    "urbpop = df['urb800'][:-3]\n",
    "\n",
    "pl.plot(state, urbpop, '.')\n",
    "pl.show()\n",
    "pl.xlabel('nope')"
   ]
  },
  {
   "cell_type": "code",
   "execution_count": null,
   "metadata": {},
   "outputs": [],
   "source": [
    "# add regression line\n",
    "# add colorblind test\n",
    "# add legend\n",
    "# add title\n",
    "# add axis labels\n",
    "# check lecture notes for more\n",
    "# look at federica's code for plotting direction"
   ]
  },
  {
   "cell_type": "code",
   "execution_count": 221,
   "metadata": {},
   "outputs": [],
   "source": [
    "plt.plot?"
   ]
  },
  {
   "cell_type": "code",
   "execution_count": null,
   "metadata": {},
   "outputs": [],
   "source": []
  }
 ],
 "metadata": {
  "kernelspec": {
   "display_name": "PUI2016_Python3",
   "language": "python",
   "name": "pui2016_python3"
  },
  "language_info": {
   "codemirror_mode": {
    "name": "ipython",
    "version": 3
   },
   "file_extension": ".py",
   "mimetype": "text/x-python",
   "name": "python",
   "nbconvert_exporter": "python",
   "pygments_lexer": "ipython3",
   "version": "3.5.4"
  }
 },
 "nbformat": 4,
 "nbformat_minor": 2
}
