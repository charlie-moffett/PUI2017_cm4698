{
 "cells": [
  {
   "cell_type": "code",
   "execution_count": 1,
   "metadata": {},
   "outputs": [
    {
     "name": "stdout",
     "output_type": "stream",
     "text": [
      "Populating the interactive namespace from numpy and matplotlib\n"
     ]
    }
   ],
   "source": [
    "import numpy as np\n",
    "import pandas as pd\n",
    "import pylab as pl\n",
    "import statsmodels.formula.api as smf\n",
    "%pylab inline\n",
    "\n",
    "#import seaborn as sns\n",
    "import statsmodels.api as sm"
   ]
  },
  {
   "cell_type": "code",
   "execution_count": 2,
   "metadata": {},
   "outputs": [
    {
     "data": {
      "text/html": [
       "<div>\n",
       "<table border=\"1\" class=\"dataframe\">\n",
       "  <thead>\n",
       "    <tr style=\"text-align: right;\">\n",
       "      <th></th>\n",
       "      <th>state</th>\n",
       "      <th>county</th>\n",
       "      <th>name</th>\n",
       "      <th>totpop</th>\n",
       "      <th>totpopc</th>\n",
       "      <th>urb800</th>\n",
       "      <th>urb25</th>\n",
       "      <th>wm09</th>\n",
       "      <th>wm1015</th>\n",
       "      <th>wm1625</th>\n",
       "      <th>...</th>\n",
       "      <th>totpop2</th>\n",
       "      <th>region1</th>\n",
       "      <th>region2</th>\n",
       "      <th>level</th>\n",
       "      <th>fips</th>\n",
       "      <th>statefip</th>\n",
       "      <th>wmtot</th>\n",
       "      <th>wftot</th>\n",
       "      <th>whtot</th>\n",
       "      <th>nwtot</th>\n",
       "    </tr>\n",
       "  </thead>\n",
       "  <tbody>\n",
       "    <tr>\n",
       "      <th>0</th>\n",
       "      <td>1</td>\n",
       "      <td>10</td>\n",
       "      <td>FAIRFIELD</td>\n",
       "      <td>38208</td>\n",
       "      <td>38208</td>\n",
       "      <td>0</td>\n",
       "      <td>0</td>\n",
       "      <td>5929.0</td>\n",
       "      <td>2863.0</td>\n",
       "      <td>3150.0</td>\n",
       "      <td>...</td>\n",
       "      <td>38208.0</td>\n",
       "      <td>1.0</td>\n",
       "      <td>1.0</td>\n",
       "      <td>1</td>\n",
       "      <td>9001.0</td>\n",
       "      <td>9</td>\n",
       "      <td>18442.0</td>\n",
       "      <td>18533.0</td>\n",
       "      <td>36975.0</td>\n",
       "      <td>1233.0</td>\n",
       "    </tr>\n",
       "    <tr>\n",
       "      <th>1</th>\n",
       "      <td>1</td>\n",
       "      <td>30</td>\n",
       "      <td>HARTFORD</td>\n",
       "      <td>42147</td>\n",
       "      <td>42147</td>\n",
       "      <td>3523</td>\n",
       "      <td>0</td>\n",
       "      <td>6412.0</td>\n",
       "      <td>3421.0</td>\n",
       "      <td>3779.0</td>\n",
       "      <td>...</td>\n",
       "      <td>42147.0</td>\n",
       "      <td>1.0</td>\n",
       "      <td>1.0</td>\n",
       "      <td>1</td>\n",
       "      <td>9003.0</td>\n",
       "      <td>9</td>\n",
       "      <td>20701.0</td>\n",
       "      <td>20636.0</td>\n",
       "      <td>41337.0</td>\n",
       "      <td>810.0</td>\n",
       "    </tr>\n",
       "  </tbody>\n",
       "</table>\n",
       "<p>2 rows × 29 columns</p>\n",
       "</div>"
      ],
      "text/plain": [
       "   state  county       name  totpop  totpopc  urb800  urb25    wm09  wm1015  \\\n",
       "0      1      10  FAIRFIELD   38208    38208       0      0  5929.0  2863.0   \n",
       "1      1      30   HARTFORD   42147    42147    3523      0  6412.0  3421.0   \n",
       "\n",
       "   wm1625   ...    totpop2  region1  region2  level    fips  statefip  \\\n",
       "0  3150.0   ...    38208.0      1.0      1.0      1  9001.0         9   \n",
       "1  3779.0   ...    42147.0      1.0      1.0      1  9003.0         9   \n",
       "\n",
       "     wmtot    wftot    whtot   nwtot  \n",
       "0  18442.0  18533.0  36975.0  1233.0  \n",
       "1  20701.0  20636.0  41337.0   810.0  \n",
       "\n",
       "[2 rows x 29 columns]"
      ]
     },
     "execution_count": 2,
     "metadata": {},
     "output_type": "execute_result"
    }
   ],
   "source": [
    "# reading in county population data from 1800\n",
    "# source: Wealth and Officeholding in Antebellum Georgia\" https://github.com/jvpoulos/ga-lottery\n",
    "df = pd.read_csv('https://raw.githubusercontent.com/jvpoulos/ga-lottery/master/counties-1800.csv')\n",
    "df.head(2)"
   ]
  },
  {
   "cell_type": "code",
   "execution_count": 3,
   "metadata": {},
   "outputs": [
    {
     "data": {
      "text/plain": [
       "(448, 4)"
      ]
     },
     "execution_count": 3,
     "metadata": {},
     "output_type": "execute_result"
    }
   ],
   "source": [
    "# new df for comparing total population against urban population by county in 1800\n",
    "skinny = df[['name', 'county', 'totpop', 'urb800']]\n",
    "skinny.shape"
   ]
  },
  {
   "cell_type": "markdown",
   "metadata": {},
   "source": [
    "# Remove outliers"
   ]
  },
  {
   "cell_type": "code",
   "execution_count": 4,
   "metadata": {},
   "outputs": [
    {
     "data": {
      "text/html": [
       "<div>\n",
       "<table border=\"1\" class=\"dataframe\">\n",
       "  <thead>\n",
       "    <tr style=\"text-align: right;\">\n",
       "      <th></th>\n",
       "      <th>name</th>\n",
       "      <th>county</th>\n",
       "      <th>totpop</th>\n",
       "      <th>urb800</th>\n",
       "    </tr>\n",
       "  </thead>\n",
       "  <tbody>\n",
       "    <tr>\n",
       "      <th>8</th>\n",
       "      <td>CONNECTICUT</td>\n",
       "      <td>0</td>\n",
       "      <td>251002</td>\n",
       "      <td>12722</td>\n",
       "    </tr>\n",
       "    <tr>\n",
       "      <th>15</th>\n",
       "      <td>MAINE</td>\n",
       "      <td>0</td>\n",
       "      <td>151719</td>\n",
       "      <td>3704</td>\n",
       "    </tr>\n",
       "    <tr>\n",
       "      <th>28</th>\n",
       "      <td>MASSACHUSETTS</td>\n",
       "      <td>0</td>\n",
       "      <td>422845</td>\n",
       "      <td>65300</td>\n",
       "    </tr>\n",
       "    <tr>\n",
       "      <th>34</th>\n",
       "      <td>NEW HAMPSHIRE</td>\n",
       "      <td>0</td>\n",
       "      <td>183858</td>\n",
       "      <td>5339</td>\n",
       "    </tr>\n",
       "    <tr>\n",
       "      <th>40</th>\n",
       "      <td>RHODE ISLAND</td>\n",
       "      <td>0</td>\n",
       "      <td>69122</td>\n",
       "      <td>14353</td>\n",
       "    </tr>\n",
       "    <tr>\n",
       "      <th>100</th>\n",
       "      <td>NEW YORK</td>\n",
       "      <td>0</td>\n",
       "      <td>586761</td>\n",
       "      <td>74757</td>\n",
       "    </tr>\n",
       "    <tr>\n",
       "      <th>135</th>\n",
       "      <td>PENNSYLVANIA</td>\n",
       "      <td>0</td>\n",
       "      <td>602365</td>\n",
       "      <td>68354</td>\n",
       "    </tr>\n",
       "    <tr>\n",
       "      <th>271</th>\n",
       "      <td>GEORGIA</td>\n",
       "      <td>0</td>\n",
       "      <td>162686</td>\n",
       "      <td>5146</td>\n",
       "    </tr>\n",
       "    <tr>\n",
       "      <th>362</th>\n",
       "      <td>SOUTH CAROLINA</td>\n",
       "      <td>0</td>\n",
       "      <td>345591</td>\n",
       "      <td>18824</td>\n",
       "    </tr>\n",
       "    <tr>\n",
       "      <th>426</th>\n",
       "      <td>MARYLAND</td>\n",
       "      <td>0</td>\n",
       "      <td>341548</td>\n",
       "      <td>26514</td>\n",
       "    </tr>\n",
       "    <tr>\n",
       "      <th>446</th>\n",
       "      <td>DIST. COLUMBIA</td>\n",
       "      <td>0</td>\n",
       "      <td>14093</td>\n",
       "      <td>11174</td>\n",
       "    </tr>\n",
       "  </tbody>\n",
       "</table>\n",
       "</div>"
      ],
      "text/plain": [
       "               name  county  totpop  urb800\n",
       "8       CONNECTICUT       0  251002   12722\n",
       "15            MAINE       0  151719    3704\n",
       "28    MASSACHUSETTS       0  422845   65300\n",
       "34    NEW HAMPSHIRE       0  183858    5339\n",
       "40     RHODE ISLAND       0   69122   14353\n",
       "100        NEW YORK       0  586761   74757\n",
       "135    PENNSYLVANIA       0  602365   68354\n",
       "271         GEORGIA       0  162686    5146\n",
       "362  SOUTH CAROLINA       0  345591   18824\n",
       "426        MARYLAND       0  341548   26514\n",
       "446  DIST. COLUMBIA       0   14093   11174"
      ]
     },
     "execution_count": 4,
     "metadata": {},
     "output_type": "execute_result"
    }
   ],
   "source": [
    "# look just at state total\n",
    "skinny = skinny[skinny['county'] == 0]\n",
    "skinny = skinny[skinny['name'] != 'UNITED STATES']\n",
    "skinny = skinny[skinny['name'] != 'VIRGINIA']\n",
    "\n",
    "# remove 0 urbpop states\n",
    "skinny = skinny[skinny['urb800'] != 0]\n",
    "skinny"
   ]
  },
  {
   "cell_type": "code",
   "execution_count": 87,
   "metadata": {},
   "outputs": [
    {
     "name": "stderr",
     "output_type": "stream",
     "text": [
      "/opt/rh/anaconda/root/envs/PUI2016_Python3/lib/python3.5/site-packages/scipy/stats/stats.py:1535: UserWarning: kurtosistest only valid for n>=20 ... continuing anyway, n=11\n",
      "  \"anyway, n=%i\" % int(n))\n"
     ]
    },
    {
     "data": {
      "image/png": "[encoded data removed]",
      "text/plain": [
       "<matplotlib.figure.Figure at 0x7f735435dcc0>"
      ]
     },
     "metadata": {},
     "output_type": "display_data"
    }
   ],
   "source": [
    "x = skinny['totpop'] / 1000\n",
    "y = skinny['urb800'] / 1000\n",
    "\n",
    "lm = smf.ols(formula = \"y ~ x\", data=skinny).fit()\n",
    "lm.summary()\n",
    "\n",
    "ax = plt.figure(num=None, figsize=(7, 5))\n",
    "rects = ax.patches\n",
    "\n",
    "plt.grid(False)\n",
    "\n",
    "plt.plot(x, y, 'kp', label='States')\n",
    "plt.plot(x, lm.predict(), 'c-', label='OLS')\n",
    "plt.xlabel('Total Population (thousands)', fontsize = 12)\n",
    "plt.ylabel('Urban Population (thousands)', fontsize = 12)\n",
    "plt.title('Total v. Urban Popuplation of U.S. States in 1800', fontsize=16)\n",
    "#plt.legend(loc='lower right', fontsize = 16, frameon=True, edgecolor=\"b\")\n",
    "plt.legend()\n",
    "plt.text(x=45, y = -30, s='Fig: 1 in 8 Americans were city-dwellers in 1800.', fontsize = 14)\n",
    "\"\"\"my_xticks = ['John','Arnold','Mavis','Matt']\n",
    "plt.xticks(x, my_xticks)\"\"\"\n",
    "\n",
    "\n",
    "\n",
    "    \n",
    "\"\"\"for rect, label in zip(rects, mylist):\n",
    "    height = rect.get_height()\n",
    "    ax.text(rect.get_x() + rect.get_width()/2, height/2, label, ha='center', va='bottom')\n",
    "\"\"\"\n",
    "plt.show()"
   ]
  },
  {
   "cell_type": "code",
   "execution_count": 86,
   "metadata": {},
   "outputs": [
    {
     "ename": "SyntaxError",
     "evalue": "invalid syntax (<ipython-input-86-5ea3ca31d4a0>, line 1)",
     "output_type": "error",
     "traceback": [
      "\u001b[0;36m  File \u001b[0;32m\"<ipython-input-86-5ea3ca31d4a0>\"\u001b[0;36m, line \u001b[0;32m1\u001b[0m\n\u001b[0;31m    plt.?\u001b[0m\n\u001b[0m        ^\u001b[0m\n\u001b[0;31mSyntaxError\u001b[0m\u001b[0;31m:\u001b[0m invalid syntax\n"
     ]
    }
   ],
   "source": [
    "pl"
   ]
  },
  {
   "cell_type": "code",
   "execution_count": 41,
   "metadata": {},
   "outputs": [],
   "source": [
    "plt.plot?"
   ]
  },
  {
   "cell_type": "code",
   "execution_count": 7,
   "metadata": {},
   "outputs": [
    {
     "data": {
      "text/plain": [
       "<matplotlib.legend.Legend at 0x7f7357238f98>"
      ]
     },
     "execution_count": 7,
     "metadata": {},
     "output_type": "execute_result"
    },
    {
     "data": {
      "image/png": "[encoded data removed]",
      "text/plain": [
       "<matplotlib.figure.Figure at 0x7f73571a0ba8>"
      ]
     },
     "metadata": {},
     "output_type": "display_data"
    }
   ],
   "source": [
    "ax = plt.figure(num=None, figsize=(7, 6)).add_subplot(111)\n",
    "ax = plt.scatter(x, y)\n",
    "ax = plt.gca()\n",
    "ax.set_facecolor('w')\n",
    "#plt.xlabel('Total Pop')\n",
    "\n",
    "plt.legend()"
   ]
  },
  {
   "cell_type": "raw",
   "metadata": {},
   "source": [
    "# I wonder if state number is related to urban population\n",
    "state = df['state'][:-3]\n",
    "urbpop = df['urb800'][:-3]\n",
    "\n",
    "pl.plot(state, urbpop, '.')\n",
    "pl.show()\n",
    "pl.xlabel('nope')"
   ]
  },
  {
   "cell_type": "code",
   "execution_count": 8,
   "metadata": {},
   "outputs": [],
   "source": [
    "# add regression line\n",
    "# add colorblind test\n",
    "# add legend\n",
    "# add title\n",
    "# add axis labels\n",
    "# check lecture notes for more\n",
    "# look at federica's code for plotting direction"
   ]
  },
  {
   "cell_type": "code",
   "execution_count": 45,
   "metadata": {},
   "outputs": [],
   "source": [
    "plt.plot?"
   ]
  },
  {
   "cell_type": "code",
   "execution_count": null,
   "metadata": {},
   "outputs": [],
   "source": []
  }
 ],
 "metadata": {
  "kernelspec": {
   "display_name": "PUI2016_Python3",
   "language": "python",
   "name": "pui2016_python3"
  },
  "language_info": {
   "codemirror_mode": {
    "name": "ipython",
    "version": 3
   },
   "file_extension": ".py",
   "mimetype": "text/x-python",
   "name": "python",
   "nbconvert_exporter": "python",
   "pygments_lexer": "ipython3",
   "version": "3.5.4"
  }
 },
 "nbformat": 4,
 "nbformat_minor": 2
}
