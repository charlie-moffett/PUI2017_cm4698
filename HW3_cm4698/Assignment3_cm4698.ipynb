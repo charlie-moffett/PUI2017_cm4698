{
 "cells": [
  {
   "cell_type": "markdown",
   "metadata": {},
   "source": [
    "# Z-test Lab"
   ]
  },
  {
   "cell_type": "code",
   "execution_count": 22,
   "metadata": {
    "collapsed": false
   },
   "outputs": [
    {
     "name": "stdout",
     "output_type": "stream",
     "text": [
      "Populating the interactive namespace from numpy and matplotlib\n"
     ]
    },
    {
     "name": "stderr",
     "output_type": "stream",
     "text": [
      "/opt/rh/anaconda/root/envs/PUI2016_Python3/lib/python3.5/site-packages/IPython/core/magics/pylab.py:161: UserWarning: pylab import has clobbered these variables: ['std', 'mean']\n",
      "`%matplotlib` prevents importing * from pylab and numpy\n",
      "  \"\\n`%matplotlib` prevents importing * from pylab and numpy\"\n"
     ]
    }
   ],
   "source": [
    "from __future__  import print_function, division\n",
    "\n",
    "import numpy as np\n",
    "import pandas as pd\n",
    "import pylab as pl\n",
    "import scipy.stats\n",
    "\n",
    "import os\n",
    "import json\n",
    "\n",
    "%pylab inline"
   ]
  },
  {
   "cell_type": "code",
   "execution_count": 23,
   "metadata": {
    "collapsed": true
   },
   "outputs": [],
   "source": [
    "# how to find out if we're in the tail of the distro\n",
    "# where is new mean compared to old mean?\n",
    "# make them floats cause it's better to work with in computation\n",
    "\n",
    "# values from Lab 3 in class\n",
    "tOldMean = 36.\n",
    "tOldStdev = 6."
   ]
  },
  {
   "cell_type": "code",
   "execution_count": 36,
   "metadata": {
    "collapsed": false
   },
   "outputs": [
    {
     "name": "stdout",
     "output_type": "stream",
     "text": [
      "            0\n",
      "0   31.622239\n",
      "1   32.821376\n",
      "2   30.229101\n",
      "3   31.413766\n",
      "4   39.010550\n",
      "5   34.822079\n",
      "6   39.871884\n",
      "7   39.579946\n",
      "8   31.026587\n",
      "9   27.662461\n",
      "10  18.875288\n",
      "11  46.231373\n",
      "12  30.015226\n",
      "13  47.600410\n",
      "14  16.527267\n",
      "15  42.446233\n",
      "16  33.625274\n",
      "17  42.284626\n",
      "18  46.205207\n",
      "19  30.875174\n",
      "20  32.948003\n",
      "21  26.176915\n",
      "22  31.256996\n",
      "23  35.336446\n",
      "24  35.640725\n",
      "25  40.322972\n",
      "26  38.043486\n",
      "27  29.457979\n",
      "28  23.916364\n",
      "29  34.564035\n",
      "..        ...\n",
      "70  31.481028\n",
      "71  37.149151\n",
      "72  38.991504\n",
      "73  20.530594\n",
      "74  27.804477\n",
      "75  38.699333\n",
      "76  30.022314\n",
      "77  38.648842\n",
      "78  26.406689\n",
      "79  32.102250\n",
      "80  28.315328\n",
      "81  43.261959\n",
      "82  40.360941\n",
      "83  37.302526\n",
      "84  31.451102\n",
      "85  38.795995\n",
      "86  36.925534\n",
      "87  32.371679\n",
      "88  23.258356\n",
      "89  26.426133\n",
      "90  48.749877\n",
      "91  31.425124\n",
      "92  46.806793\n",
      "93  30.597486\n",
      "94  20.792632\n",
      "95  26.197852\n",
      "96  42.727410\n",
      "97  33.731470\n",
      "98  37.238591\n",
      "99  36.339841\n",
      "\n",
      "[100 rows x 1 columns]\n"
     ]
    }
   ],
   "source": [
    "# .values makes it a numpy array\n",
    "# .shape shows us the funny shape of 100 by 1\n",
    "# .squeeze() gives us an array of just values; removes redundant dimension\n",
    "# using tNew to represent time of new bus routes\n",
    "\n",
    "tNew = pd.read_csv('https://raw.githubusercontent.com/fedhere/PUI2017_fb55/' +\n",
    "                  'master/Lab3_fb55/times.txt', header=None)\n",
    "\n",
    "print(tNew)"
   ]
  },
  {
   "cell_type": "markdown",
   "metadata": {},
   "source": [
    "# Question: Is the new bus route improving commute times?\n",
    "\n",
    "# Null Hypothesis (H0): The average commute time with the new bus route is the same as or longer than it was before\n",
    "# Formula: tNew >= tOld\n",
    "\n",
    "# Alternative Hypothesis (Ha): The average commute time with the new bus route as it was before \n",
    "# Formula: tNew < tOld\n",
    "\n",
    "# alpha: 0.05"
   ]
  },
  {
   "cell_type": "code",
   "execution_count": 37,
   "metadata": {
    "collapsed": false
   },
   "outputs": [
    {
     "name": "stdout",
     "output_type": "stream",
     "text": [
      "0    34.466162\n",
      "dtype: float64\n",
      "0    7.13728\n",
      "dtype: float64\n"
     ]
    }
   ],
   "source": [
    "# we want to see if measurement we got is at tail of distro or not\n",
    "# before anything we have to set our alpha; we'll say 5% here\n",
    "# if we're father than two stds from initial bus times dataset, \n",
    "# trick is to figure out how to treat distro of a whole pop vs distro of a sample\n",
    "\n",
    "# find the mean and std\n",
    "tNewMean = tNew.mean()\n",
    "tNewStd = tNew.std()\n",
    "print(tNewMean)\n",
    "print(tNewStd)"
   ]
  },
  {
   "cell_type": "code",
   "execution_count": 38,
   "metadata": {
    "collapsed": false
   },
   "outputs": [
    {
     "data": {
      "text/html": [
       "<div>\n",
       "<table border=\"1\" class=\"dataframe\">\n",
       "  <thead>\n",
       "    <tr style=\"text-align: right;\">\n",
       "      <th></th>\n",
       "      <th>0</th>\n",
       "    </tr>\n",
       "  </thead>\n",
       "  <tbody>\n",
       "    <tr>\n",
       "      <th>count</th>\n",
       "      <td>100.000000</td>\n",
       "    </tr>\n",
       "    <tr>\n",
       "      <th>mean</th>\n",
       "      <td>34.466162</td>\n",
       "    </tr>\n",
       "    <tr>\n",
       "      <th>std</th>\n",
       "      <td>7.137280</td>\n",
       "    </tr>\n",
       "    <tr>\n",
       "      <th>min</th>\n",
       "      <td>16.527267</td>\n",
       "    </tr>\n",
       "    <tr>\n",
       "      <th>25%</th>\n",
       "      <td>30.020542</td>\n",
       "    </tr>\n",
       "    <tr>\n",
       "      <th>50%</th>\n",
       "      <td>34.693057</td>\n",
       "    </tr>\n",
       "    <tr>\n",
       "      <th>75%</th>\n",
       "      <td>39.603456</td>\n",
       "    </tr>\n",
       "    <tr>\n",
       "      <th>max</th>\n",
       "      <td>48.749877</td>\n",
       "    </tr>\n",
       "  </tbody>\n",
       "</table>\n",
       "</div>"
      ],
      "text/plain": [
       "                0\n",
       "count  100.000000\n",
       "mean    34.466162\n",
       "std      7.137280\n",
       "min     16.527267\n",
       "25%     30.020542\n",
       "50%     34.693057\n",
       "75%     39.603456\n",
       "max     48.749877"
      ]
     },
     "execution_count": 38,
     "metadata": {},
     "output_type": "execute_result"
    }
   ],
   "source": [
    "tNew.describe()"
   ]
  },
  {
   "cell_type": "code",
   "execution_count": null,
   "metadata": {
    "collapsed": true
   },
   "outputs": [],
   "source": [
    "# Z-score: how many standard deviations away from the mean?"
   ]
  },
  {
   "cell_type": "code",
   "execution_count": 14,
   "metadata": {
    "collapsed": false
   },
   "outputs": [
    {
     "data": {
      "text/plain": [
       "0.25563971861666701"
      ]
     },
     "execution_count": 14,
     "metadata": {},
     "output_type": "execute_result"
    }
   ],
   "source": [
    "# Right way is to take old pop mean and new sample mean divided by std\n",
    "(tOldMean - tNew.mean()) / tOldStdev"
   ]
  },
  {
   "cell_type": "markdown",
   "metadata": {},
   "source": [
    "Z = $\\frac{\\mu_{pop} - \\mu_{sample}}{\\sigma / \\sqrt{N}}$"
   ]
  },
  {
   "cell_type": "code",
   "execution_count": 44,
   "metadata": {
    "collapsed": false
   },
   "outputs": [
    {
     "name": "stdout",
     "output_type": "stream",
     "text": [
      "0    2.556397\n",
      "dtype: float64\n"
     ]
    }
   ],
   "source": [
    "# and divided by number of measurements you took square rooted\n",
    "# this gives me the number I want to compare with my alpha significance (0.05), which is two stds\n",
    "ztest = (tOldMean -tNew.mean())/(tOldStdev/len(tNew)**0.5)\n",
    "print (ztest)"
   ]
  },
  {
   "cell_type": "markdown",
   "metadata": {},
   "source": [
    "# It's further into my tail than my measurement!\n",
    "# 2.5 > 2 means we are farther than 2 stds away from the old mean \n",
    "# Null hypothesis has been rejected"
   ]
  },
  {
   "cell_type": "code",
   "execution_count": null,
   "metadata": {
    "collapsed": true
   },
   "outputs": [],
   "source": []
  }
 ],
 "metadata": {
  "kernelspec": {
   "display_name": "PUI2016_Python3",
   "language": "python",
   "name": "pui2016_python3"
  },
  "language_info": {
   "codemirror_mode": {
    "name": "ipython",
    "version": 3
   },
   "file_extension": ".py",
   "mimetype": "text/x-python",
   "name": "python",
   "nbconvert_exporter": "python",
   "pygments_lexer": "ipython3",
   "version": "3.5.4"
  }
 },
 "nbformat": 4,
 "nbformat_minor": 0
}
