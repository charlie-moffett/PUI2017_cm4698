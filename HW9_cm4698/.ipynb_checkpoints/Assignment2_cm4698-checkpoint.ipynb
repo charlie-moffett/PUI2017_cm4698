{
 "cells": [
  {
   "cell_type": "markdown",
   "metadata": {},
   "source": [
    "### Author: Charlie Moffett, NYU CUSP, 2017\n",
    "\n",
    "This is a simple spatial exploratory analysis of census data. \n",
    "\n",
    "The goal is to assess whether LinkNYC access point locations are optimal to guarantee a more \"democratic\" access to the internet."
   ]
  },
  {
   "cell_type": "code",
   "execution_count": 232,
   "metadata": {},
   "outputs": [
    {
     "name": "stdout",
     "output_type": "stream",
     "text": [
      "Populating the interactive namespace from numpy and matplotlib\n"
     ]
    },
    {
     "name": "stderr",
     "output_type": "stream",
     "text": [
      "/opt/rh/anaconda/root/envs/PUI2016_Python3/lib/python3.5/site-packages/IPython/core/magics/pylab.py:161: UserWarning: pylab import has clobbered these variables: ['f']\n",
      "`%matplotlib` prevents importing * from pylab and numpy\n",
      "  \"\\n`%matplotlib` prevents importing * from pylab and numpy\"\n"
     ]
    }
   ],
   "source": [
    "from __future__ import print_function, division\n",
    "import pandas as pd\n",
    "import geopandas as gpd\n",
    "import numpy as np\n",
    "import os\n",
    "import json\n",
    "import io\n",
    "import shapely\n",
    "import pylab as pl\n",
    "%pylab inline\n",
    "\n",
    "from pandas.tools.plotting import scatter_matrix\n",
    "import statsmodels.api as sm\n",
    "import statsmodels.formula.api as smf\n",
    "import datetime as dt\n",
    "\n",
    "try:\n",
    "    import urllib2 as urllib\n",
    "except ImportError:\n",
    "    import urllib.request as urllib"
   ]
  },
  {
   "cell_type": "markdown",
   "metadata": {},
   "source": [
    "# 1. PUMA : Public Use Microdata Area"
   ]
  },
  {
   "cell_type": "code",
   "execution_count": 233,
   "metadata": {},
   "outputs": [],
   "source": [
    "# download the NYC PUMA geometry fron the NYC Open Data API and read it in with geopandas\n",
    "# from https://data.cityofnewyork.us/Housing-Development/Public-Use-Microdata-Areas-PUMA-/cwiz-gcty/data\n",
    "\n",
    "#url = 'https://data.cityofnewyork.us/api/geospatial/cwiz-gcty?method=export&format=Shapefile'\n",
    "#urllib.urlretrieve(url, \"puma.zip\")"
   ]
  },
  {
   "cell_type": "code",
   "execution_count": 234,
   "metadata": {},
   "outputs": [],
   "source": [
    "# unpack the data into my PUIdata directory\n",
    "# os.system('unzip -d %s puma.zip'%(os.getenv('PUIDATA')))"
   ]
  },
  {
   "cell_type": "code",
   "execution_count": 235,
   "metadata": {},
   "outputs": [
    {
     "data": {
      "text/html": [
       "<div>\n",
       "<table border=\"1\" class=\"dataframe\">\n",
       "  <thead>\n",
       "    <tr style=\"text-align: right;\">\n",
       "      <th></th>\n",
       "      <th>puma</th>\n",
       "      <th>shape_leng</th>\n",
       "      <th>shape_area</th>\n",
       "      <th>geometry</th>\n",
       "    </tr>\n",
       "  </thead>\n",
       "  <tbody>\n",
       "    <tr>\n",
       "      <th>0</th>\n",
       "      <td>3701</td>\n",
       "      <td>53227.144376</td>\n",
       "      <td>9.792852e+07</td>\n",
       "      <td>POLYGON ((-73.89641133483133 40.90450452082026...</td>\n",
       "    </tr>\n",
       "    <tr>\n",
       "      <th>1</th>\n",
       "      <td>3702</td>\n",
       "      <td>106050.008344</td>\n",
       "      <td>1.889860e+08</td>\n",
       "      <td>POLYGON ((-73.86477258283533 40.90201244187379...</td>\n",
       "    </tr>\n",
       "    <tr>\n",
       "      <th>2</th>\n",
       "      <td>3703</td>\n",
       "      <td>304875.033427</td>\n",
       "      <td>2.670770e+08</td>\n",
       "      <td>(POLYGON ((-73.78833349834532 40.8346671297593...</td>\n",
       "    </tr>\n",
       "    <tr>\n",
       "      <th>3</th>\n",
       "      <td>3704</td>\n",
       "      <td>47970.900868</td>\n",
       "      <td>1.062129e+08</td>\n",
       "      <td>POLYGON ((-73.84792614069238 40.8713422330779,...</td>\n",
       "    </tr>\n",
       "    <tr>\n",
       "      <th>4</th>\n",
       "      <td>3705</td>\n",
       "      <td>68593.066759</td>\n",
       "      <td>1.224946e+08</td>\n",
       "      <td>POLYGON ((-73.87045508990893 40.86663286876232...</td>\n",
       "    </tr>\n",
       "  </tbody>\n",
       "</table>\n",
       "</div>"
      ],
      "text/plain": [
       "   puma     shape_leng    shape_area  \\\n",
       "0  3701   53227.144376  9.792852e+07   \n",
       "1  3702  106050.008344  1.889860e+08   \n",
       "2  3703  304875.033427  2.670770e+08   \n",
       "3  3704   47970.900868  1.062129e+08   \n",
       "4  3705   68593.066759  1.224946e+08   \n",
       "\n",
       "                                            geometry  \n",
       "0  POLYGON ((-73.89641133483133 40.90450452082026...  \n",
       "1  POLYGON ((-73.86477258283533 40.90201244187379...  \n",
       "2  (POLYGON ((-73.78833349834532 40.8346671297593...  \n",
       "3  POLYGON ((-73.84792614069238 40.8713422330779,...  \n",
       "4  POLYGON ((-73.87045508990893 40.86663286876232...  "
      ]
     },
     "execution_count": 235,
     "metadata": {},
     "output_type": "execute_result"
    }
   ],
   "source": [
    "# read in shapefile with geopandas\n",
    "filename = 'geo_export_0472869f-1837-47ee-9564-3fc8590e7fbc.shp'\n",
    "pumashp = gpd.GeoDataFrame.from_file(os.getenv('PUIDATA') + '/geo_export_0472869f-1837-47ee-9564-3fc8590e7fbc.shp')\n",
    "\n",
    "pumashp.head()"
   ]
  },
  {
   "cell_type": "code",
   "execution_count": 236,
   "metadata": {},
   "outputs": [
    {
     "data": {
      "text/plain": [
       "{'init': 'epsg:4326'}"
      ]
     },
     "execution_count": 236,
     "metadata": {},
     "output_type": "execute_result"
    }
   ],
   "source": [
    "pumashp.crs"
   ]
  },
  {
   "cell_type": "code",
   "execution_count": 237,
   "metadata": {},
   "outputs": [
    {
     "name": "stdout",
     "output_type": "stream",
     "text": [
      "\n",
      "Title: PUMA regions in New York City\n"
     ]
    },
    {
     "data": {
      "image/png": "[encoded data removed]",
      "text/plain": [
       "<matplotlib.figure.Figure at 0x7f8169b92da0>"
      ]
     },
     "metadata": {},
     "output_type": "display_data"
    }
   ],
   "source": [
    "# plot the PUMA NYC regions\n",
    "\n",
    "pumashp.plot()\n",
    "print(\"\\nTitle: PUMA regions in New York City\")"
   ]
  },
  {
   "cell_type": "markdown",
   "metadata": {},
   "source": [
    "__Figure 1: This map of New York City displays the contours of the PUMA regions. PUMAs are geographical areas designed to aggregate census data. Each PUMA contains at least 100,000 people. PUMAs do not overlap, and are contained within a single state.__"
   ]
  },
  {
   "cell_type": "markdown",
   "metadata": {},
   "source": [
    "# 2. American FactFinder data on % of houses w/ broadband internet access"
   ]
  },
  {
   "cell_type": "code",
   "execution_count": 238,
   "metadata": {},
   "outputs": [],
   "source": [
    "#reading in my api key saved in censusAPI.py as\n",
    "#myAPI = 'XXXXXXXXXXXXXXX'\n",
    "import censusAPI\n",
    "import requests"
   ]
  },
  {
   "cell_type": "code",
   "execution_count": 239,
   "metadata": {},
   "outputs": [],
   "source": [
    "# Download the table of data from 2016 for NYC\n",
    "\n",
    "url = \"https://api.census.gov/data/2016/acs/acs1/variables.json\"\n",
    "resp = requests.request('GET', url)\n",
    "aff1y = json.loads(resp.text)"
   ]
  },
  {
   "cell_type": "code",
   "execution_count": 240,
   "metadata": {},
   "outputs": [],
   "source": [
    "#turning things into arrays to enable broadcasting\n",
    "#Python3\n",
    "affkeys = np.array(list(aff1y['variables'].keys()))"
   ]
  },
  {
   "cell_type": "markdown",
   "metadata": {},
   "source": [
    "I need two features: total number of households, and number of households with broadband access"
   ]
  },
  {
   "cell_type": "code",
   "execution_count": 241,
   "metadata": {},
   "outputs": [
    {
     "data": {
      "text/plain": [
       "[('B28002_004E',\n",
       "  'Estimate!!Total!!With an Internet subscription!!Broadband of any type'),\n",
       " ('B28002_007MA',\n",
       "  'Annotation of Margin of Error!!Total!!With an Internet subscription!!Broadband such as cable, fiber optic or DSL'),\n",
       " ('B28002_007M',\n",
       "  'Margin of Error!!Total!!With an Internet subscription!!Broadband such as cable, fiber optic or DSL'),\n",
       " ('B28002_004M',\n",
       "  'Margin of Error!!Total!!With an Internet subscription!!Broadband of any type'),\n",
       " ('B28002_008M',\n",
       "  'Margin of Error!!Total!!With an Internet subscription!!Broadband such as cable, fiber optic or DSL!!Broadband such as cable, fiber optic or DSL with no other type of Internet subscription'),\n",
       " ('B28002_008EA',\n",
       "  'Annotation of Estimate!!Total!!With an Internet subscription!!Broadband such as cable, fiber optic or DSL!!Broadband such as cable, fiber optic or DSL with no other type of Internet subscription'),\n",
       " ('B28002_007EA',\n",
       "  'Annotation of Estimate!!Total!!With an Internet subscription!!Broadband such as cable, fiber optic or DSL'),\n",
       " ('B28002_004MA',\n",
       "  'Annotation of Margin of Error!!Total!!With an Internet subscription!!Broadband of any type'),\n",
       " ('B28002_007E',\n",
       "  'Estimate!!Total!!With an Internet subscription!!Broadband such as cable, fiber optic or DSL'),\n",
       " ('B28002_008MA',\n",
       "  'Annotation of Margin of Error!!Total!!With an Internet subscription!!Broadband such as cable, fiber optic or DSL!!Broadband such as cable, fiber optic or DSL with no other type of Internet subscription'),\n",
       " ('B28002_008E',\n",
       "  'Estimate!!Total!!With an Internet subscription!!Broadband such as cable, fiber optic or DSL!!Broadband such as cable, fiber optic or DSL with no other type of Internet subscription'),\n",
       " ('B28002_004EA',\n",
       "  'Annotation of Estimate!!Total!!With an Internet subscription!!Broadband of any type')]"
      ]
     },
     "execution_count": 241,
     "metadata": {},
     "output_type": "execute_result"
    }
   ],
   "source": [
    "#extracting variables of B28002 that contain \"broadband\"\n",
    "[(k, aff1y['variables'][k]['label'])  for k in affkeys if k.startswith (\"B28002\") and \n",
    " 'Broadband' in aff1y['variables'][k]['label']]"
   ]
  },
  {
   "cell_type": "code",
   "execution_count": 242,
   "metadata": {},
   "outputs": [
    {
     "data": {
      "text/plain": [
       "{'attributes': 'B28002_001M,B28002_001EA',\n",
       " 'concept': 'PRESENCE AND TYPES OF INTERNET SUBSCRIPTIONS IN HOUSEHOLD',\n",
       " 'group': 'B28002',\n",
       " 'label': 'Estimate!!Total',\n",
       " 'limit': 0,\n",
       " 'predicateType': 'int',\n",
       " 'validValues': []}"
      ]
     },
     "execution_count": 242,
     "metadata": {},
     "output_type": "execute_result"
    }
   ],
   "source": [
    "#keyword for the number of households\n",
    "keyNhouseholds = 'B28002_001E'\n",
    "aff1y['variables'][keyNhouseholds]"
   ]
  },
  {
   "cell_type": "code",
   "execution_count": 243,
   "metadata": {},
   "outputs": [
    {
     "data": {
      "text/plain": [
       "{'attributes': 'B28002_004M,B28002_004EA',\n",
       " 'concept': 'PRESENCE AND TYPES OF INTERNET SUBSCRIPTIONS IN HOUSEHOLD',\n",
       " 'group': 'B28002',\n",
       " 'label': 'Estimate!!Total!!With an Internet subscription!!Broadband of any type',\n",
       " 'limit': 0,\n",
       " 'predicateType': 'int',\n",
       " 'validValues': []}"
      ]
     },
     "execution_count": 243,
     "metadata": {},
     "output_type": "execute_result"
    }
   ],
   "source": [
    "# choose the fractions of houses with any \"With an Internet subscription!!Broadband of any type\"\n",
    "keyNBB = 'B28002_004E'\n",
    "aff1y['variables'][keyNBB]"
   ]
  },
  {
   "cell_type": "code",
   "execution_count": 245,
   "metadata": {},
   "outputs": [],
   "source": [
    "key = open(os.getenv('PUIDATA') + '/myAPI.txt', 'r')\n",
    "myAPI = key.readline()"
   ]
  },
  {
   "cell_type": "code",
   "execution_count": 246,
   "metadata": {},
   "outputs": [
    {
     "data": {
      "text/html": [
       "<div>\n",
       "<table border=\"1\" class=\"dataframe\">\n",
       "  <thead>\n",
       "    <tr style=\"text-align: right;\">\n",
       "      <th></th>\n",
       "      <th>B28002_004E</th>\n",
       "      <th>NAME</th>\n",
       "      <th>state</th>\n",
       "      <th>public use microdata area</th>\n",
       "      <th>Unnamed: 4</th>\n",
       "    </tr>\n",
       "  </thead>\n",
       "  <tbody>\n",
       "    <tr>\n",
       "      <th>140</th>\n",
       "      <td>50844</td>\n",
       "      <td>NYC-Queens Community District 5--Ridgewood, Gl...</td>\n",
       "      <td>36</td>\n",
       "      <td>4110</td>\n",
       "      <td>NaN</td>\n",
       "    </tr>\n",
       "    <tr>\n",
       "      <th>141</th>\n",
       "      <td>37570</td>\n",
       "      <td>NYC-Queens Community District 9--Richmond Hill...</td>\n",
       "      <td>36</td>\n",
       "      <td>4111</td>\n",
       "      <td>NaN</td>\n",
       "    </tr>\n",
       "    <tr>\n",
       "      <th>142</th>\n",
       "      <td>54603</td>\n",
       "      <td>NYC-Queens Community District 12--Jamaica, Hol...</td>\n",
       "      <td>36</td>\n",
       "      <td>4112</td>\n",
       "      <td>NaN</td>\n",
       "    </tr>\n",
       "    <tr>\n",
       "      <th>143</th>\n",
       "      <td>32506</td>\n",
       "      <td>NYC-Queens Community District 10--Howard Beach...</td>\n",
       "      <td>36</td>\n",
       "      <td>4113</td>\n",
       "      <td>NaN</td>\n",
       "    </tr>\n",
       "    <tr>\n",
       "      <th>144</th>\n",
       "      <td>32172</td>\n",
       "      <td>NYC-Queens Community District 14--Far Rockaway...</td>\n",
       "      <td>36</td>\n",
       "      <td>4114</td>\n",
       "      <td>NaN</td>\n",
       "    </tr>\n",
       "  </tbody>\n",
       "</table>\n",
       "</div>"
      ],
      "text/plain": [
       "     B28002_004E                                               NAME  state  \\\n",
       "140        50844  NYC-Queens Community District 5--Ridgewood, Gl...     36   \n",
       "141        37570  NYC-Queens Community District 9--Richmond Hill...     36   \n",
       "142        54603  NYC-Queens Community District 12--Jamaica, Hol...     36   \n",
       "143        32506  NYC-Queens Community District 10--Howard Beach...     36   \n",
       "144        32172  NYC-Queens Community District 14--Far Rockaway...     36   \n",
       "\n",
       "     public use microdata area  Unnamed: 4  \n",
       "140                       4110         NaN  \n",
       "141                       4111         NaN  \n",
       "142                       4112         NaN  \n",
       "143                       4113         NaN  \n",
       "144                       4114         NaN  "
      ]
     },
     "execution_count": 246,
     "metadata": {},
     "output_type": "execute_result"
    }
   ],
   "source": [
    "# getting the broadband access number of households\n",
    "# replace API key with env var before pushing\n",
    "url = \"https://api.census.gov/data/2016/acs/acs1?get=\" + keyNBB +\\\n",
    "\",NAME&for=public%20use%20microdata%20area:*&in=state:36&key=\" + myAPI\n",
    "resp = requests.request('GET', url).content\n",
    "pumaBB = pd.read_csv(io.StringIO(resp.decode('utf-8').replace('[','').replace(']','')))\n",
    "\n",
    "pumaBB.tail()"
   ]
  },
  {
   "cell_type": "code",
   "execution_count": 247,
   "metadata": {},
   "outputs": [
    {
     "data": {
      "text/html": [
       "<div>\n",
       "<table border=\"1\" class=\"dataframe\">\n",
       "  <thead>\n",
       "    <tr style=\"text-align: right;\">\n",
       "      <th></th>\n",
       "      <th>B28002_001E</th>\n",
       "      <th>NAME</th>\n",
       "      <th>state</th>\n",
       "      <th>public use microdata area</th>\n",
       "      <th>Unnamed: 4</th>\n",
       "    </tr>\n",
       "  </thead>\n",
       "  <tbody>\n",
       "    <tr>\n",
       "      <th>140</th>\n",
       "      <td>61570</td>\n",
       "      <td>NYC-Queens Community District 5--Ridgewood, Gl...</td>\n",
       "      <td>36</td>\n",
       "      <td>4110</td>\n",
       "      <td>NaN</td>\n",
       "    </tr>\n",
       "    <tr>\n",
       "      <th>141</th>\n",
       "      <td>44811</td>\n",
       "      <td>NYC-Queens Community District 9--Richmond Hill...</td>\n",
       "      <td>36</td>\n",
       "      <td>4111</td>\n",
       "      <td>NaN</td>\n",
       "    </tr>\n",
       "    <tr>\n",
       "      <th>142</th>\n",
       "      <td>71109</td>\n",
       "      <td>NYC-Queens Community District 12--Jamaica, Hol...</td>\n",
       "      <td>36</td>\n",
       "      <td>4112</td>\n",
       "      <td>NaN</td>\n",
       "    </tr>\n",
       "    <tr>\n",
       "      <th>143</th>\n",
       "      <td>37998</td>\n",
       "      <td>NYC-Queens Community District 10--Howard Beach...</td>\n",
       "      <td>36</td>\n",
       "      <td>4113</td>\n",
       "      <td>NaN</td>\n",
       "    </tr>\n",
       "    <tr>\n",
       "      <th>144</th>\n",
       "      <td>41368</td>\n",
       "      <td>NYC-Queens Community District 14--Far Rockaway...</td>\n",
       "      <td>36</td>\n",
       "      <td>4114</td>\n",
       "      <td>NaN</td>\n",
       "    </tr>\n",
       "  </tbody>\n",
       "</table>\n",
       "</div>"
      ],
      "text/plain": [
       "     B28002_001E                                               NAME  state  \\\n",
       "140        61570  NYC-Queens Community District 5--Ridgewood, Gl...     36   \n",
       "141        44811  NYC-Queens Community District 9--Richmond Hill...     36   \n",
       "142        71109  NYC-Queens Community District 12--Jamaica, Hol...     36   \n",
       "143        37998  NYC-Queens Community District 10--Howard Beach...     36   \n",
       "144        41368  NYC-Queens Community District 14--Far Rockaway...     36   \n",
       "\n",
       "     public use microdata area  Unnamed: 4  \n",
       "140                       4110         NaN  \n",
       "141                       4111         NaN  \n",
       "142                       4112         NaN  \n",
       "143                       4113         NaN  \n",
       "144                       4114         NaN  "
      ]
     },
     "execution_count": 247,
     "metadata": {},
     "output_type": "execute_result"
    }
   ],
   "source": [
    "#getting the first row of the table: the total number of households\n",
    "url2 = \"https://api.census.gov/data/2016/acs/acs1?get=\" + keyNhouseholds +\\\n",
    "\",NAME&for=public%20use%20microdata%20area:*&in=state:36&key=\" + myAPI\n",
    "resp2 = requests.request('GET', url2).content\n",
    "pumaPP = pd.read_csv(io.StringIO(resp2.decode('utf-8').replace('[','').replace(']','')))\n",
    "\n",
    "pumaPP.tail()"
   ]
  },
  {
   "cell_type": "code",
   "execution_count": 248,
   "metadata": {},
   "outputs": [],
   "source": [
    "# generate a feature for the percentage of households with broadband access\n",
    "pumaBB['pcBB'] = (pumaBB.B28002_004E / pumaPP.B28002_001E) * 100\n",
    "pumaBB['pcBB'] = pumaBB.pcBB.astype(int)"
   ]
  },
  {
   "cell_type": "code",
   "execution_count": 249,
   "metadata": {},
   "outputs": [],
   "source": [
    "#pumaBB.pcBB"
   ]
  },
  {
   "cell_type": "code",
   "execution_count": 250,
   "metadata": {},
   "outputs": [
    {
     "data": {
      "text/html": [
       "<div>\n",
       "<table border=\"1\" class=\"dataframe\">\n",
       "  <thead>\n",
       "    <tr style=\"text-align: right;\">\n",
       "      <th></th>\n",
       "      <th>GCT_STUB.target-geo-id2</th>\n",
       "      <th>HC01</th>\n",
       "      <th>HC02</th>\n",
       "    </tr>\n",
       "  </thead>\n",
       "  <tbody>\n",
       "    <tr>\n",
       "      <th>0</th>\n",
       "      <td>1</td>\n",
       "      <td>74.7</td>\n",
       "      <td>0.5</td>\n",
       "    </tr>\n",
       "    <tr>\n",
       "      <th>1</th>\n",
       "      <td>100100</td>\n",
       "      <td>70.9</td>\n",
       "      <td>2.5</td>\n",
       "    </tr>\n",
       "    <tr>\n",
       "      <th>2</th>\n",
       "      <td>100200</td>\n",
       "      <td>80.5</td>\n",
       "      <td>2.7</td>\n",
       "    </tr>\n",
       "    <tr>\n",
       "      <th>3</th>\n",
       "      <td>100301</td>\n",
       "      <td>87.0</td>\n",
       "      <td>2.8</td>\n",
       "    </tr>\n",
       "    <tr>\n",
       "      <th>4</th>\n",
       "      <td>100302</td>\n",
       "      <td>81.9</td>\n",
       "      <td>2.9</td>\n",
       "    </tr>\n",
       "  </tbody>\n",
       "</table>\n",
       "</div>"
      ],
      "text/plain": [
       "   GCT_STUB.target-geo-id2  HC01  HC02\n",
       "0                        1  74.7   0.5\n",
       "1                   100100  70.9   2.5\n",
       "2                   100200  80.5   2.7\n",
       "3                   100301  87.0   2.8\n",
       "4                   100302  81.9   2.9"
      ]
     },
     "execution_count": 250,
     "metadata": {},
     "output_type": "execute_result"
    }
   ],
   "source": [
    "# compare it with the AFF published \"percentage of households with broadband access\"\n",
    "bbpc = pd.read_csv(os.getenv(\"PUIDATA\") + \"/ACS_16_1YR_GCT2801.ST50_with_ann.csv\",\n",
    "            usecols=[\"GCT_STUB.target-geo-id2\",\"HC01\",\"HC02\"])\n",
    "\n",
    "bbpc.head()"
   ]
  },
  {
   "cell_type": "code",
   "execution_count": 63,
   "metadata": {},
   "outputs": [
    {
     "data": {
      "text/plain": [
       "Index(['GCT_STUB.target-geo-id2', 'HC01', 'HC02'], dtype='object')"
      ]
     },
     "execution_count": 63,
     "metadata": {},
     "output_type": "execute_result"
    }
   ],
   "source": [
    "bbpc.columns"
   ]
  },
  {
   "cell_type": "code",
   "execution_count": 64,
   "metadata": {},
   "outputs": [],
   "source": [
    "bbpc['gid'] = bbpc[['GCT_STUB.target-geo-id2']].astype(int)"
   ]
  },
  {
   "cell_type": "code",
   "execution_count": 65,
   "metadata": {},
   "outputs": [
    {
     "data": {
      "text/plain": [
       "numpy.int64"
      ]
     },
     "execution_count": 65,
     "metadata": {},
     "output_type": "execute_result"
    }
   ],
   "source": [
    "type(bbpc.gid[1])"
   ]
  },
  {
   "cell_type": "code",
   "execution_count": 66,
   "metadata": {},
   "outputs": [],
   "source": [
    "bbpc[\"gid\"] = bbpc.gid - 100000"
   ]
  },
  {
   "cell_type": "code",
   "execution_count": 67,
   "metadata": {},
   "outputs": [
    {
     "data": {
      "text/html": [
       "<div>\n",
       "<table border=\"1\" class=\"dataframe\">\n",
       "  <thead>\n",
       "    <tr style=\"text-align: right;\">\n",
       "      <th></th>\n",
       "      <th>GCT_STUB.target-geo-id2</th>\n",
       "      <th>HC01</th>\n",
       "      <th>HC02</th>\n",
       "      <th>gid</th>\n",
       "    </tr>\n",
       "  </thead>\n",
       "  <tbody>\n",
       "    <tr>\n",
       "      <th>0</th>\n",
       "      <td>1</td>\n",
       "      <td>74.7</td>\n",
       "      <td>0.5</td>\n",
       "      <td>-99999</td>\n",
       "    </tr>\n",
       "    <tr>\n",
       "      <th>1</th>\n",
       "      <td>100100</td>\n",
       "      <td>70.9</td>\n",
       "      <td>2.5</td>\n",
       "      <td>100</td>\n",
       "    </tr>\n",
       "    <tr>\n",
       "      <th>2</th>\n",
       "      <td>100200</td>\n",
       "      <td>80.5</td>\n",
       "      <td>2.7</td>\n",
       "      <td>200</td>\n",
       "    </tr>\n",
       "    <tr>\n",
       "      <th>3</th>\n",
       "      <td>100301</td>\n",
       "      <td>87.0</td>\n",
       "      <td>2.8</td>\n",
       "      <td>301</td>\n",
       "    </tr>\n",
       "    <tr>\n",
       "      <th>4</th>\n",
       "      <td>100302</td>\n",
       "      <td>81.9</td>\n",
       "      <td>2.9</td>\n",
       "      <td>302</td>\n",
       "    </tr>\n",
       "  </tbody>\n",
       "</table>\n",
       "</div>"
      ],
      "text/plain": [
       "   GCT_STUB.target-geo-id2  HC01  HC02    gid\n",
       "0                        1  74.7   0.5 -99999\n",
       "1                   100100  70.9   2.5    100\n",
       "2                   100200  80.5   2.7    200\n",
       "3                   100301  87.0   2.8    301\n",
       "4                   100302  81.9   2.9    302"
      ]
     },
     "execution_count": 67,
     "metadata": {},
     "output_type": "execute_result"
    }
   ],
   "source": [
    "bbpc.head()"
   ]
  },
  {
   "cell_type": "code",
   "execution_count": 68,
   "metadata": {},
   "outputs": [
    {
     "data": {
      "text/plain": [
       "numpy.int64"
      ]
     },
     "execution_count": 68,
     "metadata": {},
     "output_type": "execute_result"
    }
   ],
   "source": [
    "type(pumaBB.pcBB[1])"
   ]
  },
  {
   "cell_type": "code",
   "execution_count": 69,
   "metadata": {},
   "outputs": [
    {
     "data": {
      "text/html": [
       "<div>\n",
       "<table border=\"1\" class=\"dataframe\">\n",
       "  <thead>\n",
       "    <tr style=\"text-align: right;\">\n",
       "      <th></th>\n",
       "      <th>pcBB</th>\n",
       "      <th>HC01</th>\n",
       "      <th>diff</th>\n",
       "    </tr>\n",
       "  </thead>\n",
       "  <tbody>\n",
       "    <tr>\n",
       "      <th>count</th>\n",
       "      <td>17.000000</td>\n",
       "      <td>17.000000</td>\n",
       "      <td>17.000000</td>\n",
       "    </tr>\n",
       "    <tr>\n",
       "      <th>mean</th>\n",
       "      <td>79.647059</td>\n",
       "      <td>73.094118</td>\n",
       "      <td>7.964706</td>\n",
       "    </tr>\n",
       "    <tr>\n",
       "      <th>std</th>\n",
       "      <td>4.471314</td>\n",
       "      <td>6.834789</td>\n",
       "      <td>7.743380</td>\n",
       "    </tr>\n",
       "    <tr>\n",
       "      <th>min</th>\n",
       "      <td>73.000000</td>\n",
       "      <td>58.400000</td>\n",
       "      <td>0.300000</td>\n",
       "    </tr>\n",
       "    <tr>\n",
       "      <th>25%</th>\n",
       "      <td>75.000000</td>\n",
       "      <td>70.100000</td>\n",
       "      <td>2.000000</td>\n",
       "    </tr>\n",
       "    <tr>\n",
       "      <th>50%</th>\n",
       "      <td>80.000000</td>\n",
       "      <td>74.700000</td>\n",
       "      <td>5.500000</td>\n",
       "    </tr>\n",
       "    <tr>\n",
       "      <th>75%</th>\n",
       "      <td>84.000000</td>\n",
       "      <td>77.200000</td>\n",
       "      <td>11.900000</td>\n",
       "    </tr>\n",
       "    <tr>\n",
       "      <th>max</th>\n",
       "      <td>87.000000</td>\n",
       "      <td>82.300000</td>\n",
       "      <td>26.200000</td>\n",
       "    </tr>\n",
       "  </tbody>\n",
       "</table>\n",
       "</div>"
      ],
      "text/plain": [
       "            pcBB       HC01       diff\n",
       "count  17.000000  17.000000  17.000000\n",
       "mean   79.647059  73.094118   7.964706\n",
       "std     4.471314   6.834789   7.743380\n",
       "min    73.000000  58.400000   0.300000\n",
       "25%    75.000000  70.100000   2.000000\n",
       "50%    80.000000  74.700000   5.500000\n",
       "75%    84.000000  77.200000  11.900000\n",
       "max    87.000000  82.300000  26.200000"
      ]
     },
     "execution_count": 69,
     "metadata": {},
     "output_type": "execute_result"
    }
   ],
   "source": [
    "# checking that the percentage of households with broadband I generated, \n",
    "# and the one I read in from the table I downloaded manually, \n",
    "# are the same\n",
    "diff_ = pumaBB.merge(bbpc, right_on=\"gid\", \n",
    "                     left_on=\"public use microdata area\")[[\"pcBB\", \"HC01\"]]\n",
    "\n",
    "diff_[\"diff\"] = np.abs(diff_[\"pcBB\"] - diff_[\"HC01\"].astype(float))\n",
    "\n",
    "diff_.describe()"
   ]
  },
  {
   "cell_type": "code",
   "execution_count": 70,
   "metadata": {},
   "outputs": [
    {
     "data": {
      "text/html": [
       "<div>\n",
       "<table border=\"1\" class=\"dataframe\">\n",
       "  <thead>\n",
       "    <tr style=\"text-align: right;\">\n",
       "      <th></th>\n",
       "      <th>pcBB</th>\n",
       "      <th>HC01</th>\n",
       "      <th>diff</th>\n",
       "    </tr>\n",
       "  </thead>\n",
       "  <tbody>\n",
       "    <tr>\n",
       "      <th>0</th>\n",
       "      <td>80</td>\n",
       "      <td>70.9</td>\n",
       "      <td>9.1</td>\n",
       "    </tr>\n",
       "    <tr>\n",
       "      <th>1</th>\n",
       "      <td>75</td>\n",
       "      <td>80.5</td>\n",
       "      <td>5.5</td>\n",
       "    </tr>\n",
       "    <tr>\n",
       "      <th>2</th>\n",
       "      <td>81</td>\n",
       "      <td>81.3</td>\n",
       "      <td>0.3</td>\n",
       "    </tr>\n",
       "    <tr>\n",
       "      <th>3</th>\n",
       "      <td>84</td>\n",
       "      <td>68.6</td>\n",
       "      <td>15.4</td>\n",
       "    </tr>\n",
       "    <tr>\n",
       "      <th>4</th>\n",
       "      <td>81</td>\n",
       "      <td>74.7</td>\n",
       "      <td>6.3</td>\n",
       "    </tr>\n",
       "  </tbody>\n",
       "</table>\n",
       "</div>"
      ],
      "text/plain": [
       "   pcBB  HC01  diff\n",
       "0    80  70.9   9.1\n",
       "1    75  80.5   5.5\n",
       "2    81  81.3   0.3\n",
       "3    84  68.6  15.4\n",
       "4    81  74.7   6.3"
      ]
     },
     "execution_count": 70,
     "metadata": {},
     "output_type": "execute_result"
    }
   ],
   "source": [
    "diff_.head()"
   ]
  },
  {
   "cell_type": "markdown",
   "metadata": {},
   "source": [
    "# 3 Plot a choropleth of NYC broadband access"
   ]
  },
  {
   "cell_type": "code",
   "execution_count": 71,
   "metadata": {},
   "outputs": [
    {
     "data": {
      "text/html": [
       "<div>\n",
       "<table border=\"1\" class=\"dataframe\">\n",
       "  <thead>\n",
       "    <tr style=\"text-align: right;\">\n",
       "      <th></th>\n",
       "      <th>puma</th>\n",
       "      <th>shape_leng</th>\n",
       "      <th>shape_area</th>\n",
       "      <th>geometry</th>\n",
       "    </tr>\n",
       "  </thead>\n",
       "  <tbody>\n",
       "    <tr>\n",
       "      <th>0</th>\n",
       "      <td>3701</td>\n",
       "      <td>53227.144376</td>\n",
       "      <td>9.792852e+07</td>\n",
       "      <td>POLYGON ((-73.89641133483133 40.90450452082026...</td>\n",
       "    </tr>\n",
       "    <tr>\n",
       "      <th>1</th>\n",
       "      <td>3702</td>\n",
       "      <td>106050.008344</td>\n",
       "      <td>1.889860e+08</td>\n",
       "      <td>POLYGON ((-73.86477258283533 40.90201244187379...</td>\n",
       "    </tr>\n",
       "    <tr>\n",
       "      <th>2</th>\n",
       "      <td>3703</td>\n",
       "      <td>304875.033427</td>\n",
       "      <td>2.670770e+08</td>\n",
       "      <td>(POLYGON ((-73.78833349834532 40.8346671297593...</td>\n",
       "    </tr>\n",
       "    <tr>\n",
       "      <th>3</th>\n",
       "      <td>3704</td>\n",
       "      <td>47970.900868</td>\n",
       "      <td>1.062129e+08</td>\n",
       "      <td>POLYGON ((-73.84792614069238 40.8713422330779,...</td>\n",
       "    </tr>\n",
       "    <tr>\n",
       "      <th>4</th>\n",
       "      <td>3705</td>\n",
       "      <td>68593.066759</td>\n",
       "      <td>1.224946e+08</td>\n",
       "      <td>POLYGON ((-73.87045508990893 40.86663286876232...</td>\n",
       "    </tr>\n",
       "  </tbody>\n",
       "</table>\n",
       "</div>"
      ],
      "text/plain": [
       "   puma     shape_leng    shape_area  \\\n",
       "0  3701   53227.144376  9.792852e+07   \n",
       "1  3702  106050.008344  1.889860e+08   \n",
       "2  3703  304875.033427  2.670770e+08   \n",
       "3  3704   47970.900868  1.062129e+08   \n",
       "4  3705   68593.066759  1.224946e+08   \n",
       "\n",
       "                                            geometry  \n",
       "0  POLYGON ((-73.89641133483133 40.90450452082026...  \n",
       "1  POLYGON ((-73.86477258283533 40.90201244187379...  \n",
       "2  (POLYGON ((-73.78833349834532 40.8346671297593...  \n",
       "3  POLYGON ((-73.84792614069238 40.8713422330779,...  \n",
       "4  POLYGON ((-73.87045508990893 40.86663286876232...  "
      ]
     },
     "execution_count": 71,
     "metadata": {},
     "output_type": "execute_result"
    }
   ],
   "source": [
    "pumashp.head()"
   ]
  },
  {
   "cell_type": "code",
   "execution_count": 72,
   "metadata": {},
   "outputs": [
    {
     "data": {
      "text/plain": [
       "Index(['puma', 'shape_leng', 'shape_area', 'geometry'], dtype='object')"
      ]
     },
     "execution_count": 72,
     "metadata": {},
     "output_type": "execute_result"
    }
   ],
   "source": [
    "pumashp.columns"
   ]
  },
  {
   "cell_type": "code",
   "execution_count": 76,
   "metadata": {},
   "outputs": [
    {
     "data": {
      "text/plain": [
       "Index(['B28002_004E', 'NAME', 'state', 'public use microdata area',\n",
       "       'Unnamed: 4', 'pcBB'],\n",
       "      dtype='object')"
      ]
     },
     "execution_count": 76,
     "metadata": {},
     "output_type": "execute_result"
    }
   ],
   "source": [
    "pumaBB.columns"
   ]
  },
  {
   "cell_type": "code",
   "execution_count": 91,
   "metadata": {},
   "outputs": [],
   "source": [
    "pumaBB['public use microdata area'] = pumaBB['public use microdata area'].astype(int)\n",
    "pumashp['puma'] = pumashp.puma.astype(int)"
   ]
  },
  {
   "cell_type": "code",
   "execution_count": 92,
   "metadata": {},
   "outputs": [],
   "source": [
    "# Merge with the PUMA geodataframe\n",
    "\n",
    "pumashp_new = pumashp.merge(pumaBB, right_on=\"public use microdata area\", \n",
    "                     left_on=\"puma\")"
   ]
  },
  {
   "cell_type": "code",
   "execution_count": 93,
   "metadata": {},
   "outputs": [
    {
     "data": {
      "text/plain": [
       "(55, 10)"
      ]
     },
     "execution_count": 93,
     "metadata": {},
     "output_type": "execute_result"
    }
   ],
   "source": [
    "pumashp_new.shape"
   ]
  },
  {
   "cell_type": "code",
   "execution_count": 96,
   "metadata": {},
   "outputs": [
    {
     "data": {
      "text/plain": [
       "Index(['puma', 'shape_leng', 'shape_area', 'geometry', 'B28002_004E', 'NAME',\n",
       "       'state', 'public use microdata area', 'Unnamed: 4', 'pcBB'],\n",
       "      dtype='object')"
      ]
     },
     "execution_count": 96,
     "metadata": {},
     "output_type": "execute_result"
    }
   ],
   "source": [
    "pumashp_new.columns"
   ]
  },
  {
   "cell_type": "code",
   "execution_count": 146,
   "metadata": {},
   "outputs": [
    {
     "name": "stdout",
     "output_type": "stream",
     "text": [
      "\n",
      "Title: Percentage of Household in NYC with Broadband Access by PUMA\n"
     ]
    },
    {
     "data": {
      "image/png": "[encoded data removed]",
      "text/plain": [
       "<matplotlib.figure.Figure at 0x7f8168f965f8>"
      ]
     },
     "metadata": {},
     "output_type": "display_data"
    }
   ],
   "source": [
    "# Plot a choropleth of the percentage of households with broadband access\n",
    "pumashp_new.plot(column='pcBB')\n",
    "print(\"\\nTitle: Percentage of Household in NYC with Broadband Access by PUMA\")"
   ]
  },
  {
   "cell_type": "markdown",
   "metadata": {},
   "source": [
    "__Figure 2: This map shows the number of households in each Public Use Micro Area (as defined by the US Census Bureau) divided by the total number of households in each PUMA region - expressed as a percentage. The lighter regions (up to bright yellow) are PUMA regions with higher percentages of households with broadband internet subscriptions. The darker regions have lower rates of broadband access.__"
   ]
  },
  {
   "cell_type": "markdown",
   "metadata": {},
   "source": [
    "# 4. LinkNYC: assess whether the station locations are well distributed"
   ]
  },
  {
   "cell_type": "code",
   "execution_count": 102,
   "metadata": {},
   "outputs": [],
   "source": [
    "# acquire the linkNYC locations and prepare them into a dataframe\n",
    "linkNYC = pd.read_csv('https://raw.githubusercontent.com/fedhere/PUI2017_fb55/master/HW9_fb55/linkNYClocations.csv')"
   ]
  },
  {
   "cell_type": "code",
   "execution_count": 103,
   "metadata": {},
   "outputs": [
    {
     "data": {
      "text/html": [
       "<div>\n",
       "<table border=\"1\" class=\"dataframe\">\n",
       "  <thead>\n",
       "    <tr style=\"text-align: right;\">\n",
       "      <th></th>\n",
       "      <th>Unnamed: 0</th>\n",
       "      <th>link_site</th>\n",
       "      <th>longitude</th>\n",
       "      <th>date_link_</th>\n",
       "      <th>latitude</th>\n",
       "    </tr>\n",
       "  </thead>\n",
       "  <tbody>\n",
       "    <tr>\n",
       "      <th>0</th>\n",
       "      <td>0</td>\n",
       "      <td>bk-01-138951</td>\n",
       "      <td>-73.942489</td>\n",
       "      <td>2017-07-01</td>\n",
       "      <td>40.701668</td>\n",
       "    </tr>\n",
       "    <tr>\n",
       "      <th>1</th>\n",
       "      <td>1</td>\n",
       "      <td>bk-01-109091</td>\n",
       "      <td>-73.942169</td>\n",
       "      <td>2017-07-01</td>\n",
       "      <td>40.701542</td>\n",
       "    </tr>\n",
       "    <tr>\n",
       "      <th>2</th>\n",
       "      <td>2</td>\n",
       "      <td>bk-01-143982</td>\n",
       "      <td>-73.942239</td>\n",
       "      <td>2017-07-01</td>\n",
       "      <td>40.701930</td>\n",
       "    </tr>\n",
       "    <tr>\n",
       "      <th>3</th>\n",
       "      <td>3</td>\n",
       "      <td>bk-01-109262</td>\n",
       "      <td>-73.942918</td>\n",
       "      <td>2017-04-28</td>\n",
       "      <td>40.705060</td>\n",
       "    </tr>\n",
       "    <tr>\n",
       "      <th>4</th>\n",
       "      <td>4</td>\n",
       "      <td>bk-01-125268</td>\n",
       "      <td>-73.953439</td>\n",
       "      <td>2017-03-31</td>\n",
       "      <td>40.728133</td>\n",
       "    </tr>\n",
       "  </tbody>\n",
       "</table>\n",
       "</div>"
      ],
      "text/plain": [
       "   Unnamed: 0     link_site  longitude  date_link_   latitude\n",
       "0           0  bk-01-138951 -73.942489  2017-07-01  40.701668\n",
       "1           1  bk-01-109091 -73.942169  2017-07-01  40.701542\n",
       "2           2  bk-01-143982 -73.942239  2017-07-01  40.701930\n",
       "3           3  bk-01-109262 -73.942918  2017-04-28  40.705060\n",
       "4           4  bk-01-125268 -73.953439  2017-03-31  40.728133"
      ]
     },
     "execution_count": 103,
     "metadata": {},
     "output_type": "execute_result"
    }
   ],
   "source": [
    "linkNYC.head()"
   ]
  },
  {
   "cell_type": "code",
   "execution_count": 104,
   "metadata": {},
   "outputs": [
    {
     "data": {
      "text/plain": [
       "(1414, 5)"
      ]
     },
     "execution_count": 104,
     "metadata": {},
     "output_type": "execute_result"
    }
   ],
   "source": [
    "linkNYC.shape"
   ]
  },
  {
   "cell_type": "code",
   "execution_count": 110,
   "metadata": {},
   "outputs": [],
   "source": [
    "# combine long lat into a column\n",
    "linkNYC.dropna(axis=0, subset=['latitude','longitude'], inplace=True)\n",
    "linkNYC['lonlat']=list(zip(linkNYC.longitude, linkNYC.latitude))"
   ]
  },
  {
   "cell_type": "code",
   "execution_count": 111,
   "metadata": {},
   "outputs": [
    {
     "data": {
      "text/html": [
       "<div>\n",
       "<table border=\"1\" class=\"dataframe\">\n",
       "  <thead>\n",
       "    <tr style=\"text-align: right;\">\n",
       "      <th></th>\n",
       "      <th>Unnamed: 0</th>\n",
       "      <th>link_site</th>\n",
       "      <th>longitude</th>\n",
       "      <th>date_link_</th>\n",
       "      <th>latitude</th>\n",
       "      <th>lonlat</th>\n",
       "      <th>geometry</th>\n",
       "    </tr>\n",
       "  </thead>\n",
       "  <tbody>\n",
       "    <tr>\n",
       "      <th>0</th>\n",
       "      <td>0</td>\n",
       "      <td>bk-01-138951</td>\n",
       "      <td>-73.942489</td>\n",
       "      <td>2017-07-01</td>\n",
       "      <td>40.701668</td>\n",
       "      <td>(-73.94248859, 40.70166753)</td>\n",
       "      <td>POINT (-73.94248859 40.70166753)</td>\n",
       "    </tr>\n",
       "    <tr>\n",
       "      <th>1</th>\n",
       "      <td>1</td>\n",
       "      <td>bk-01-109091</td>\n",
       "      <td>-73.942169</td>\n",
       "      <td>2017-07-01</td>\n",
       "      <td>40.701542</td>\n",
       "      <td>(-73.9421692831, 40.7015421938)</td>\n",
       "      <td>POINT (-73.9421692831 40.7015421938)</td>\n",
       "    </tr>\n",
       "    <tr>\n",
       "      <th>2</th>\n",
       "      <td>2</td>\n",
       "      <td>bk-01-143982</td>\n",
       "      <td>-73.942239</td>\n",
       "      <td>2017-07-01</td>\n",
       "      <td>40.701930</td>\n",
       "      <td>(-73.9422392385, 40.7019303439)</td>\n",
       "      <td>POINT (-73.94223923850001 40.7019303439)</td>\n",
       "    </tr>\n",
       "    <tr>\n",
       "      <th>3</th>\n",
       "      <td>3</td>\n",
       "      <td>bk-01-109262</td>\n",
       "      <td>-73.942918</td>\n",
       "      <td>2017-04-28</td>\n",
       "      <td>40.705060</td>\n",
       "      <td>(-73.94291758, 40.70506042)</td>\n",
       "      <td>POINT (-73.94291758 40.70506042)</td>\n",
       "    </tr>\n",
       "    <tr>\n",
       "      <th>4</th>\n",
       "      <td>4</td>\n",
       "      <td>bk-01-125268</td>\n",
       "      <td>-73.953439</td>\n",
       "      <td>2017-03-31</td>\n",
       "      <td>40.728133</td>\n",
       "      <td>(-73.953439, 40.728133)</td>\n",
       "      <td>POINT (-73.953439 40.728133)</td>\n",
       "    </tr>\n",
       "  </tbody>\n",
       "</table>\n",
       "</div>"
      ],
      "text/plain": [
       "   Unnamed: 0     link_site  longitude  date_link_   latitude  \\\n",
       "0           0  bk-01-138951 -73.942489  2017-07-01  40.701668   \n",
       "1           1  bk-01-109091 -73.942169  2017-07-01  40.701542   \n",
       "2           2  bk-01-143982 -73.942239  2017-07-01  40.701930   \n",
       "3           3  bk-01-109262 -73.942918  2017-04-28  40.705060   \n",
       "4           4  bk-01-125268 -73.953439  2017-03-31  40.728133   \n",
       "\n",
       "                            lonlat                                  geometry  \n",
       "0      (-73.94248859, 40.70166753)          POINT (-73.94248859 40.70166753)  \n",
       "1  (-73.9421692831, 40.7015421938)      POINT (-73.9421692831 40.7015421938)  \n",
       "2  (-73.9422392385, 40.7019303439)  POINT (-73.94223923850001 40.7019303439)  \n",
       "3      (-73.94291758, 40.70506042)          POINT (-73.94291758 40.70506042)  \n",
       "4          (-73.953439, 40.728133)              POINT (-73.953439 40.728133)  "
      ]
     },
     "execution_count": 111,
     "metadata": {},
     "output_type": "execute_result"
    }
   ],
   "source": [
    "# convert the dataframe into a GeoDataFrame 'linkNYC' and set native coordinates frame to lat/lon\n",
    "linkNYC['geometry'] = linkNYC[['lonlat']].applymap(lambda x:shapely.geometry.Point(x))\n",
    "linkNYC.head()"
   ]
  },
  {
   "cell_type": "code",
   "execution_count": 112,
   "metadata": {},
   "outputs": [
    {
     "data": {
      "text/html": [
       "<div>\n",
       "<table border=\"1\" class=\"dataframe\">\n",
       "  <thead>\n",
       "    <tr style=\"text-align: right;\">\n",
       "      <th></th>\n",
       "      <th>Unnamed: 0</th>\n",
       "      <th>link_site</th>\n",
       "      <th>longitude</th>\n",
       "      <th>date_link_</th>\n",
       "      <th>latitude</th>\n",
       "      <th>lonlat</th>\n",
       "      <th>geometry</th>\n",
       "    </tr>\n",
       "  </thead>\n",
       "  <tbody>\n",
       "    <tr>\n",
       "      <th>0</th>\n",
       "      <td>0</td>\n",
       "      <td>bk-01-138951</td>\n",
       "      <td>-73.942489</td>\n",
       "      <td>2017-07-01</td>\n",
       "      <td>40.701668</td>\n",
       "      <td>(-73.94248859, 40.70166753)</td>\n",
       "      <td>POINT (-73.94248859 40.70166753)</td>\n",
       "    </tr>\n",
       "    <tr>\n",
       "      <th>1</th>\n",
       "      <td>1</td>\n",
       "      <td>bk-01-109091</td>\n",
       "      <td>-73.942169</td>\n",
       "      <td>2017-07-01</td>\n",
       "      <td>40.701542</td>\n",
       "      <td>(-73.9421692831, 40.7015421938)</td>\n",
       "      <td>POINT (-73.9421692831 40.7015421938)</td>\n",
       "    </tr>\n",
       "    <tr>\n",
       "      <th>2</th>\n",
       "      <td>2</td>\n",
       "      <td>bk-01-143982</td>\n",
       "      <td>-73.942239</td>\n",
       "      <td>2017-07-01</td>\n",
       "      <td>40.701930</td>\n",
       "      <td>(-73.9422392385, 40.7019303439)</td>\n",
       "      <td>POINT (-73.94223923850001 40.7019303439)</td>\n",
       "    </tr>\n",
       "    <tr>\n",
       "      <th>3</th>\n",
       "      <td>3</td>\n",
       "      <td>bk-01-109262</td>\n",
       "      <td>-73.942918</td>\n",
       "      <td>2017-04-28</td>\n",
       "      <td>40.705060</td>\n",
       "      <td>(-73.94291758, 40.70506042)</td>\n",
       "      <td>POINT (-73.94291758 40.70506042)</td>\n",
       "    </tr>\n",
       "    <tr>\n",
       "      <th>4</th>\n",
       "      <td>4</td>\n",
       "      <td>bk-01-125268</td>\n",
       "      <td>-73.953439</td>\n",
       "      <td>2017-03-31</td>\n",
       "      <td>40.728133</td>\n",
       "      <td>(-73.953439, 40.728133)</td>\n",
       "      <td>POINT (-73.953439 40.728133)</td>\n",
       "    </tr>\n",
       "  </tbody>\n",
       "</table>\n",
       "</div>"
      ],
      "text/plain": [
       "   Unnamed: 0     link_site  longitude  date_link_   latitude  \\\n",
       "0           0  bk-01-138951 -73.942489  2017-07-01  40.701668   \n",
       "1           1  bk-01-109091 -73.942169  2017-07-01  40.701542   \n",
       "2           2  bk-01-143982 -73.942239  2017-07-01  40.701930   \n",
       "3           3  bk-01-109262 -73.942918  2017-04-28  40.705060   \n",
       "4           4  bk-01-125268 -73.953439  2017-03-31  40.728133   \n",
       "\n",
       "                            lonlat                                  geometry  \n",
       "0      (-73.94248859, 40.70166753)          POINT (-73.94248859 40.70166753)  \n",
       "1  (-73.9421692831, 40.7015421938)      POINT (-73.9421692831 40.7015421938)  \n",
       "2  (-73.9422392385, 40.7019303439)  POINT (-73.94223923850001 40.7019303439)  \n",
       "3      (-73.94291758, 40.70506042)          POINT (-73.94291758 40.70506042)  \n",
       "4          (-73.953439, 40.728133)              POINT (-73.953439 40.728133)  "
      ]
     },
     "execution_count": 112,
     "metadata": {},
     "output_type": "execute_result"
    }
   ],
   "source": [
    "noisegdf = gpd.GeoDataFrame(linkNYC)\n",
    "noisegdf.crs = {'init': 'epsg:4326'} ## noisegdf did not have a defined crs, \n",
    "                                     # but it is clearly in 4326: lat/lon\n",
    "noisegdf.head()"
   ]
  },
  {
   "cell_type": "code",
   "execution_count": 147,
   "metadata": {},
   "outputs": [
    {
     "name": "stdout",
     "output_type": "stream",
     "text": [
      "\n",
      "Title: LinkNYC Stations over Broadband Access Percentage\n"
     ]
    },
    {
     "data": {
      "image/png": "[encoded data removed]",
      "text/plain": [
       "<matplotlib.figure.Figure at 0x7f8168f5d240>"
      ]
     },
     "metadata": {},
     "output_type": "display_data"
    }
   ],
   "source": [
    "# plot the location of the linkNYC stations on top of a choropleth of broadband access percentage in 5 equal intervals\n",
    "f, ax = plt.subplots(figsize=(10,10))\n",
    "\n",
    "base = pumashp_new.plot(ax=ax, column = 'pcBB', k=5, scheme='equal_interval', legend=True)\n",
    "noisegdf.plot(ax=ax, markersize=15, column = 'date_link_')\n",
    "\n",
    "print(\"\\nTitle: LinkNYC Stations over Broadband Access Percentage\")"
   ]
  },
  {
   "cell_type": "markdown",
   "metadata": {},
   "source": [
    "__Figure 3: Basemap here is the same as Figure 2, except that now we've bucketed our percentages of household broadband access into five equal intervals. On top, we've plotted the locations of LinkNYC stations, color coded by how long ago each was installed.__"
   ]
  },
  {
   "cell_type": "markdown",
   "metadata": {},
   "source": [
    "# 5. Find the number of LinkNYC locations per person by PUMA"
   ]
  },
  {
   "cell_type": "code",
   "execution_count": 199,
   "metadata": {},
   "outputs": [],
   "source": [
    "#keyword for the number of total population\n",
    "keyNpop = 'B00001_001E'"
   ]
  },
  {
   "cell_type": "code",
   "execution_count": 200,
   "metadata": {},
   "outputs": [
    {
     "data": {
      "text/html": [
       "<div>\n",
       "<table border=\"1\" class=\"dataframe\">\n",
       "  <thead>\n",
       "    <tr style=\"text-align: right;\">\n",
       "      <th></th>\n",
       "      <th>B00001_001E</th>\n",
       "      <th>NAME</th>\n",
       "      <th>state</th>\n",
       "      <th>public use microdata area</th>\n",
       "      <th>Unnamed: 4</th>\n",
       "    </tr>\n",
       "  </thead>\n",
       "  <tbody>\n",
       "    <tr>\n",
       "      <th>0</th>\n",
       "      <td>3075</td>\n",
       "      <td>St. Lawrence County PUMA, New York</td>\n",
       "      <td>36</td>\n",
       "      <td>100</td>\n",
       "      <td>NaN</td>\n",
       "    </tr>\n",
       "    <tr>\n",
       "      <th>1</th>\n",
       "      <td>4356</td>\n",
       "      <td>Clinton, Franklin, Essex &amp; Hamilton Counties P...</td>\n",
       "      <td>36</td>\n",
       "      <td>200</td>\n",
       "      <td>NaN</td>\n",
       "    </tr>\n",
       "    <tr>\n",
       "      <th>2</th>\n",
       "      <td>2736</td>\n",
       "      <td>Warren &amp; Washington Counties PUMA, New York</td>\n",
       "      <td>36</td>\n",
       "      <td>300</td>\n",
       "      <td>NaN</td>\n",
       "    </tr>\n",
       "    <tr>\n",
       "      <th>3</th>\n",
       "      <td>2722</td>\n",
       "      <td>Herkimer (North &amp; Central) &amp; Oneida (Outer) Co...</td>\n",
       "      <td>36</td>\n",
       "      <td>401</td>\n",
       "      <td>NaN</td>\n",
       "    </tr>\n",
       "    <tr>\n",
       "      <th>4</th>\n",
       "      <td>2874</td>\n",
       "      <td>Oneida County (Central)--Greater Utica &amp; Rome ...</td>\n",
       "      <td>36</td>\n",
       "      <td>402</td>\n",
       "      <td>NaN</td>\n",
       "    </tr>\n",
       "  </tbody>\n",
       "</table>\n",
       "</div>"
      ],
      "text/plain": [
       "   B00001_001E                                               NAME  state  \\\n",
       "0         3075                 St. Lawrence County PUMA, New York     36   \n",
       "1         4356  Clinton, Franklin, Essex & Hamilton Counties P...     36   \n",
       "2         2736        Warren & Washington Counties PUMA, New York     36   \n",
       "3         2722  Herkimer (North & Central) & Oneida (Outer) Co...     36   \n",
       "4         2874  Oneida County (Central)--Greater Utica & Rome ...     36   \n",
       "\n",
       "   public use microdata area  Unnamed: 4  \n",
       "0                        100         NaN  \n",
       "1                        200         NaN  \n",
       "2                        300         NaN  \n",
       "3                        401         NaN  \n",
       "4                        402         NaN  "
      ]
     },
     "execution_count": 200,
     "metadata": {},
     "output_type": "execute_result"
    }
   ],
   "source": [
    "# Grabbing the total population by puma and merge it into my GeoDF\n",
    "url3 = \"https://api.census.gov/data/2016/acs/acs1?get=\" + keyNpop +\\\n",
    "\",NAME&for=public%20use%20microdata%20area:*&in=state:36&key=\" + myAPI\n",
    "resp3 = requests.request('GET', url3).content\n",
    "pumaPop = pd.read_csv(io.StringIO(resp3.decode('utf-8').replace('[','').replace(']','')))\n",
    "\n",
    "pumaPop.head()"
   ]
  },
  {
   "cell_type": "code",
   "execution_count": 215,
   "metadata": {},
   "outputs": [
    {
     "data": {
      "text/plain": [
       "(145, 5)"
      ]
     },
     "execution_count": 215,
     "metadata": {},
     "output_type": "execute_result"
    }
   ],
   "source": [
    "pumaPop.shape"
   ]
  },
  {
   "cell_type": "code",
   "execution_count": 201,
   "metadata": {},
   "outputs": [],
   "source": [
    "# convert both pumashp and linkNYC to flat coordinate plane systems\n",
    "puma_ft = pumashp_new.to_crs(epsg=2263)\n",
    "linkNYC_ft = noisegdf.to_crs(epsg=2263)"
   ]
  },
  {
   "cell_type": "code",
   "execution_count": 202,
   "metadata": {},
   "outputs": [
    {
     "data": {
      "text/plain": [
       "numpy.int64"
      ]
     },
     "execution_count": 202,
     "metadata": {},
     "output_type": "execute_result"
    }
   ],
   "source": [
    "type(pumaPop['public use microdata area'][1])"
   ]
  },
  {
   "cell_type": "code",
   "execution_count": 203,
   "metadata": {},
   "outputs": [
    {
     "data": {
      "text/plain": [
       "Index(['puma', 'shape_leng', 'shape_area', 'geometry', 'B28002_004E', 'NAME',\n",
       "       'state', 'public use microdata area', 'Unnamed: 4', 'pcBB'],\n",
       "      dtype='object')"
      ]
     },
     "execution_count": 203,
     "metadata": {},
     "output_type": "execute_result"
    }
   ],
   "source": [
    "puma_ft.columns"
   ]
  },
  {
   "cell_type": "code",
   "execution_count": 204,
   "metadata": {},
   "outputs": [
    {
     "data": {
      "text/html": [
       "<div>\n",
       "<table border=\"1\" class=\"dataframe\">\n",
       "  <thead>\n",
       "    <tr style=\"text-align: right;\">\n",
       "      <th></th>\n",
       "      <th>puma</th>\n",
       "      <th>link_site</th>\n",
       "    </tr>\n",
       "  </thead>\n",
       "  <tbody>\n",
       "    <tr>\n",
       "      <th>0</th>\n",
       "      <td>3701</td>\n",
       "      <td>1</td>\n",
       "    </tr>\n",
       "    <tr>\n",
       "      <th>1</th>\n",
       "      <td>3705</td>\n",
       "      <td>1</td>\n",
       "    </tr>\n",
       "    <tr>\n",
       "      <th>2</th>\n",
       "      <td>3706</td>\n",
       "      <td>20</td>\n",
       "    </tr>\n",
       "    <tr>\n",
       "      <th>3</th>\n",
       "      <td>3707</td>\n",
       "      <td>29</td>\n",
       "    </tr>\n",
       "    <tr>\n",
       "      <th>4</th>\n",
       "      <td>3708</td>\n",
       "      <td>19</td>\n",
       "    </tr>\n",
       "  </tbody>\n",
       "</table>\n",
       "</div>"
      ],
      "text/plain": [
       "   puma  link_site\n",
       "0  3701          1\n",
       "1  3705          1\n",
       "2  3706         20\n",
       "3  3707         29\n",
       "4  3708         19"
      ]
     },
     "execution_count": 204,
     "metadata": {},
     "output_type": "execute_result"
    }
   ],
   "source": [
    "# create a geodataframe with a spatial join\n",
    "# use groupby to count the number of linkNYC in each PUMA\n",
    "linkpp = gpd.sjoin(puma_ft, linkNYC_ft, op='intersects').groupby('puma').count().reset_index()[[\"puma\", \"link_site\"]]\n",
    "\n",
    "linkpp.head()"
   ]
  },
  {
   "cell_type": "code",
   "execution_count": 205,
   "metadata": {},
   "outputs": [
    {
     "data": {
      "text/html": [
       "<div>\n",
       "<table border=\"1\" class=\"dataframe\">\n",
       "  <thead>\n",
       "    <tr style=\"text-align: right;\">\n",
       "      <th></th>\n",
       "      <th>puma</th>\n",
       "      <th>shape_leng</th>\n",
       "      <th>shape_area</th>\n",
       "      <th>geometry</th>\n",
       "      <th>B28002_004E</th>\n",
       "      <th>NAME</th>\n",
       "      <th>state</th>\n",
       "      <th>public use microdata area</th>\n",
       "      <th>Unnamed: 4</th>\n",
       "      <th>pcBB</th>\n",
       "      <th>link_site</th>\n",
       "    </tr>\n",
       "  </thead>\n",
       "  <tbody>\n",
       "    <tr>\n",
       "      <th>0</th>\n",
       "      <td>3701</td>\n",
       "      <td>53227.144376</td>\n",
       "      <td>9.792852e+07</td>\n",
       "      <td>POLYGON ((1012885.033996583 268830.4841918442,...</td>\n",
       "      <td>35529</td>\n",
       "      <td>NYC-Bronx Community District 8--Riverdale, Fie...</td>\n",
       "      <td>36</td>\n",
       "      <td>3701</td>\n",
       "      <td>NaN</td>\n",
       "      <td>84</td>\n",
       "      <td>1.0</td>\n",
       "    </tr>\n",
       "    <tr>\n",
       "      <th>1</th>\n",
       "      <td>3702</td>\n",
       "      <td>106050.008344</td>\n",
       "      <td>1.889860e+08</td>\n",
       "      <td>POLYGON ((1021632.335632326 267934.4393920284,...</td>\n",
       "      <td>34030</td>\n",
       "      <td>NYC-Bronx Community District 12--Wakefield, Wi...</td>\n",
       "      <td>36</td>\n",
       "      <td>3702</td>\n",
       "      <td>NaN</td>\n",
       "      <td>68</td>\n",
       "      <td>NaN</td>\n",
       "    </tr>\n",
       "    <tr>\n",
       "      <th>2</th>\n",
       "      <td>3703</td>\n",
       "      <td>304875.033427</td>\n",
       "      <td>2.670770e+08</td>\n",
       "      <td>(POLYGON ((1042822.450195312 243439.8142089319...</td>\n",
       "      <td>36716</td>\n",
       "      <td>NYC-Bronx Community District 10--Co-op City, P...</td>\n",
       "      <td>36</td>\n",
       "      <td>3703</td>\n",
       "      <td>NaN</td>\n",
       "      <td>82</td>\n",
       "      <td>NaN</td>\n",
       "    </tr>\n",
       "    <tr>\n",
       "      <th>3</th>\n",
       "      <td>3704</td>\n",
       "      <td>47970.900868</td>\n",
       "      <td>1.062129e+08</td>\n",
       "      <td>POLYGON ((1026308.769592285 256767.6972045382,...</td>\n",
       "      <td>32269</td>\n",
       "      <td>NYC-Bronx Community District 11--Pelham Parkwa...</td>\n",
       "      <td>36</td>\n",
       "      <td>3704</td>\n",
       "      <td>NaN</td>\n",
       "      <td>72</td>\n",
       "      <td>NaN</td>\n",
       "    </tr>\n",
       "    <tr>\n",
       "      <th>4</th>\n",
       "      <td>3705</td>\n",
       "      <td>68593.066759</td>\n",
       "      <td>1.224946e+08</td>\n",
       "      <td>POLYGON ((1020080.524597168 255041.8771972096,...</td>\n",
       "      <td>40757</td>\n",
       "      <td>NYC-Bronx Community District 3 &amp; 6--Belmont, C...</td>\n",
       "      <td>36</td>\n",
       "      <td>3705</td>\n",
       "      <td>NaN</td>\n",
       "      <td>69</td>\n",
       "      <td>1.0</td>\n",
       "    </tr>\n",
       "  </tbody>\n",
       "</table>\n",
       "</div>"
      ],
      "text/plain": [
       "   puma     shape_leng    shape_area  \\\n",
       "0  3701   53227.144376  9.792852e+07   \n",
       "1  3702  106050.008344  1.889860e+08   \n",
       "2  3703  304875.033427  2.670770e+08   \n",
       "3  3704   47970.900868  1.062129e+08   \n",
       "4  3705   68593.066759  1.224946e+08   \n",
       "\n",
       "                                            geometry  B28002_004E  \\\n",
       "0  POLYGON ((1012885.033996583 268830.4841918442,...        35529   \n",
       "1  POLYGON ((1021632.335632326 267934.4393920284,...        34030   \n",
       "2  (POLYGON ((1042822.450195312 243439.8142089319...        36716   \n",
       "3  POLYGON ((1026308.769592285 256767.6972045382,...        32269   \n",
       "4  POLYGON ((1020080.524597168 255041.8771972096,...        40757   \n",
       "\n",
       "                                                NAME  state  \\\n",
       "0  NYC-Bronx Community District 8--Riverdale, Fie...     36   \n",
       "1  NYC-Bronx Community District 12--Wakefield, Wi...     36   \n",
       "2  NYC-Bronx Community District 10--Co-op City, P...     36   \n",
       "3  NYC-Bronx Community District 11--Pelham Parkwa...     36   \n",
       "4  NYC-Bronx Community District 3 & 6--Belmont, C...     36   \n",
       "\n",
       "   public use microdata area  Unnamed: 4  pcBB  link_site  \n",
       "0                       3701         NaN    84        1.0  \n",
       "1                       3702         NaN    68        NaN  \n",
       "2                       3703         NaN    82        NaN  \n",
       "3                       3704         NaN    72        NaN  \n",
       "4                       3705         NaN    69        1.0  "
      ]
     },
     "execution_count": 205,
     "metadata": {},
     "output_type": "execute_result"
    }
   ],
   "source": [
    "# find the number of stations per 100 people per PUMA\n",
    "linkNYC_combo = puma_ft.merge(linkpp, how='outer')\n",
    "linkNYC_combo.head()"
   ]
  },
  {
   "cell_type": "code",
   "execution_count": 206,
   "metadata": {},
   "outputs": [
    {
     "data": {
      "text/plain": [
       "(55, 11)"
      ]
     },
     "execution_count": 206,
     "metadata": {},
     "output_type": "execute_result"
    }
   ],
   "source": [
    "linkNYC_combo.shape"
   ]
  },
  {
   "cell_type": "code",
   "execution_count": 208,
   "metadata": {},
   "outputs": [
    {
     "data": {
      "text/plain": [
       "Index(['B00001_001E', 'NAME', 'state', 'public use microdata area',\n",
       "       'Unnamed: 4'],\n",
       "      dtype='object')"
      ]
     },
     "execution_count": 208,
     "metadata": {},
     "output_type": "execute_result"
    }
   ],
   "source": [
    "pumaPop.columns"
   ]
  },
  {
   "cell_type": "code",
   "execution_count": 209,
   "metadata": {},
   "outputs": [
    {
     "data": {
      "text/plain": [
       "(55, 12)"
      ]
     },
     "execution_count": 209,
     "metadata": {},
     "output_type": "execute_result"
    }
   ],
   "source": [
    "final_merge = linkNYC_combo.merge(pumaPop)\n",
    "final_merge.shape"
   ]
  },
  {
   "cell_type": "code",
   "execution_count": 210,
   "metadata": {},
   "outputs": [
    {
     "data": {
      "text/plain": [
       "Index(['puma', 'shape_leng', 'shape_area', 'geometry', 'B28002_004E', 'NAME',\n",
       "       'state', 'public use microdata area', 'Unnamed: 4', 'pcBB', 'link_site',\n",
       "       'B00001_001E'],\n",
       "      dtype='object')"
      ]
     },
     "execution_count": 210,
     "metadata": {},
     "output_type": "execute_result"
    }
   ],
   "source": [
    "final_merge.columns"
   ]
  },
  {
   "cell_type": "code",
   "execution_count": 211,
   "metadata": {},
   "outputs": [
    {
     "data": {
      "text/html": [
       "<div>\n",
       "<table border=\"1\" class=\"dataframe\">\n",
       "  <thead>\n",
       "    <tr style=\"text-align: right;\">\n",
       "      <th></th>\n",
       "      <th>puma</th>\n",
       "      <th>shape_leng</th>\n",
       "      <th>shape_area</th>\n",
       "      <th>geometry</th>\n",
       "      <th>B28002_004E</th>\n",
       "      <th>NAME</th>\n",
       "      <th>state</th>\n",
       "      <th>public use microdata area</th>\n",
       "      <th>Unnamed: 4</th>\n",
       "      <th>pcBB</th>\n",
       "      <th>link_site</th>\n",
       "      <th>B00001_001E</th>\n",
       "    </tr>\n",
       "  </thead>\n",
       "  <tbody>\n",
       "    <tr>\n",
       "      <th>0</th>\n",
       "      <td>3701</td>\n",
       "      <td>53227.144376</td>\n",
       "      <td>9.792852e+07</td>\n",
       "      <td>POLYGON ((1012885.033996583 268830.4841918442,...</td>\n",
       "      <td>35529</td>\n",
       "      <td>NYC-Bronx Community District 8--Riverdale, Fie...</td>\n",
       "      <td>36</td>\n",
       "      <td>3701</td>\n",
       "      <td>NaN</td>\n",
       "      <td>84</td>\n",
       "      <td>1.0</td>\n",
       "      <td>1517</td>\n",
       "    </tr>\n",
       "    <tr>\n",
       "      <th>1</th>\n",
       "      <td>3702</td>\n",
       "      <td>106050.008344</td>\n",
       "      <td>1.889860e+08</td>\n",
       "      <td>POLYGON ((1021632.335632326 267934.4393920284,...</td>\n",
       "      <td>34030</td>\n",
       "      <td>NYC-Bronx Community District 12--Wakefield, Wi...</td>\n",
       "      <td>36</td>\n",
       "      <td>3702</td>\n",
       "      <td>NaN</td>\n",
       "      <td>68</td>\n",
       "      <td>NaN</td>\n",
       "      <td>1959</td>\n",
       "    </tr>\n",
       "    <tr>\n",
       "      <th>2</th>\n",
       "      <td>3703</td>\n",
       "      <td>304875.033427</td>\n",
       "      <td>2.670770e+08</td>\n",
       "      <td>(POLYGON ((1042822.450195312 243439.8142089319...</td>\n",
       "      <td>36716</td>\n",
       "      <td>NYC-Bronx Community District 10--Co-op City, P...</td>\n",
       "      <td>36</td>\n",
       "      <td>3703</td>\n",
       "      <td>NaN</td>\n",
       "      <td>82</td>\n",
       "      <td>NaN</td>\n",
       "      <td>1305</td>\n",
       "    </tr>\n",
       "    <tr>\n",
       "      <th>3</th>\n",
       "      <td>3704</td>\n",
       "      <td>47970.900868</td>\n",
       "      <td>1.062129e+08</td>\n",
       "      <td>POLYGON ((1026308.769592285 256767.6972045382,...</td>\n",
       "      <td>32269</td>\n",
       "      <td>NYC-Bronx Community District 11--Pelham Parkwa...</td>\n",
       "      <td>36</td>\n",
       "      <td>3704</td>\n",
       "      <td>NaN</td>\n",
       "      <td>72</td>\n",
       "      <td>NaN</td>\n",
       "      <td>1882</td>\n",
       "    </tr>\n",
       "    <tr>\n",
       "      <th>4</th>\n",
       "      <td>3705</td>\n",
       "      <td>68593.066759</td>\n",
       "      <td>1.224946e+08</td>\n",
       "      <td>POLYGON ((1020080.524597168 255041.8771972096,...</td>\n",
       "      <td>40757</td>\n",
       "      <td>NYC-Bronx Community District 3 &amp; 6--Belmont, C...</td>\n",
       "      <td>36</td>\n",
       "      <td>3705</td>\n",
       "      <td>NaN</td>\n",
       "      <td>69</td>\n",
       "      <td>1.0</td>\n",
       "      <td>2011</td>\n",
       "    </tr>\n",
       "  </tbody>\n",
       "</table>\n",
       "</div>"
      ],
      "text/plain": [
       "   puma     shape_leng    shape_area  \\\n",
       "0  3701   53227.144376  9.792852e+07   \n",
       "1  3702  106050.008344  1.889860e+08   \n",
       "2  3703  304875.033427  2.670770e+08   \n",
       "3  3704   47970.900868  1.062129e+08   \n",
       "4  3705   68593.066759  1.224946e+08   \n",
       "\n",
       "                                            geometry  B28002_004E  \\\n",
       "0  POLYGON ((1012885.033996583 268830.4841918442,...        35529   \n",
       "1  POLYGON ((1021632.335632326 267934.4393920284,...        34030   \n",
       "2  (POLYGON ((1042822.450195312 243439.8142089319...        36716   \n",
       "3  POLYGON ((1026308.769592285 256767.6972045382,...        32269   \n",
       "4  POLYGON ((1020080.524597168 255041.8771972096,...        40757   \n",
       "\n",
       "                                                NAME  state  \\\n",
       "0  NYC-Bronx Community District 8--Riverdale, Fie...     36   \n",
       "1  NYC-Bronx Community District 12--Wakefield, Wi...     36   \n",
       "2  NYC-Bronx Community District 10--Co-op City, P...     36   \n",
       "3  NYC-Bronx Community District 11--Pelham Parkwa...     36   \n",
       "4  NYC-Bronx Community District 3 & 6--Belmont, C...     36   \n",
       "\n",
       "   public use microdata area  Unnamed: 4  pcBB  link_site  B00001_001E  \n",
       "0                       3701         NaN    84        1.0         1517  \n",
       "1                       3702         NaN    68        NaN         1959  \n",
       "2                       3703         NaN    82        NaN         1305  \n",
       "3                       3704         NaN    72        NaN         1882  \n",
       "4                       3705         NaN    69        1.0         2011  "
      ]
     },
     "execution_count": 211,
     "metadata": {},
     "output_type": "execute_result"
    }
   ],
   "source": [
    "final_merge.head()"
   ]
  },
  {
   "cell_type": "code",
   "execution_count": 212,
   "metadata": {},
   "outputs": [],
   "source": [
    "final_merge[\"linkNYCp100p\"] = (final_merge.link_site / final_merge.B00001_001E) * 100"
   ]
  },
  {
   "cell_type": "code",
   "execution_count": 213,
   "metadata": {},
   "outputs": [
    {
     "name": "stderr",
     "output_type": "stream",
     "text": [
      "/opt/rh/anaconda/root/envs/PUI2016_Python3/lib/python3.5/site-packages/numpy/lib/function_base.py:3403: RuntimeWarning: Invalid value encountered in median\n",
      "  RuntimeWarning)\n"
     ]
    },
    {
     "data": {
      "text/plain": [
       "count    37.000000\n",
       "mean      2.327677\n",
       "std       3.328955\n",
       "min       0.049727\n",
       "25%            NaN\n",
       "50%            NaN\n",
       "75%            NaN\n",
       "max      15.141540\n",
       "Name: linkNYCp100p, dtype: float64"
      ]
     },
     "execution_count": 213,
     "metadata": {},
     "output_type": "execute_result"
    }
   ],
   "source": [
    "final_merge[\"linkNYCp100p\"].describe()"
   ]
  },
  {
   "cell_type": "markdown",
   "metadata": {},
   "source": [
    "# At last! Plot the linkNYC locations on top of a choropleth of number of stations per 100 people in 10 equal intervals"
   ]
  },
  {
   "cell_type": "code",
   "execution_count": 214,
   "metadata": {},
   "outputs": [
    {
     "data": {
      "text/plain": [
       "Index(['puma', 'shape_leng', 'shape_area', 'geometry', 'B28002_004E', 'NAME',\n",
       "       'state', 'public use microdata area', 'Unnamed: 4', 'pcBB', 'link_site',\n",
       "       'B00001_001E', 'linkNYCp100p'],\n",
       "      dtype='object')"
      ]
     },
     "execution_count": 214,
     "metadata": {},
     "output_type": "execute_result"
    }
   ],
   "source": [
    "final_merge.columns"
   ]
  },
  {
   "cell_type": "code",
   "execution_count": null,
   "metadata": {},
   "outputs": [],
   "source": []
  },
  {
   "cell_type": "code",
   "execution_count": 227,
   "metadata": {},
   "outputs": [
    {
     "name": "stderr",
     "output_type": "stream",
     "text": [
      "/opt/rh/anaconda/root/envs/PUI2016_Python3/lib/python3.5/site-packages/numpy/lib/function_base.py:3142: RuntimeWarning: Invalid value encountered in median\n",
      "  RuntimeWarning)\n"
     ]
    },
    {
     "name": "stdout",
     "output_type": "stream",
     "text": [
      "\n",
      "Title: LinkNYC Stations over Number of Stations per 100ppl\n"
     ]
    },
    {
     "data": {
      "image/png": "[encoded data removed]",
      "text/plain": [
       "<matplotlib.figure.Figure at 0x7f8169b6bd68>"
      ]
     },
     "metadata": {},
     "output_type": "display_data"
    }
   ],
   "source": [
    "f, ax = plt.subplots(figsize=(10,10))\n",
    "\n",
    "base = final_merge.plot(ax=ax, column = 'linkNYCp100p', k=10, scheme='equal_interval', legend=True, cmap='copper')\n",
    "linkNYC_ft.plot(ax=ax, markersize=15, column = 'date_link_')\n",
    "\n",
    "print(\"\\nTitle: LinkNYC Stations over Number of Stations per 100ppl\")"
   ]
  },
  {
   "cell_type": "markdown",
   "metadata": {},
   "source": [
    "__Figure 4: The basemap in this plot is a cloropleth of the number of LinkNYC stations per 100 persons, split into 10 equal intervals. On top, we've plotted the locations of LinkNYC stations, color coded by how long ago each was installed. If we look back at Figure 3, we can see that there are PUMA regions in the Bronx and in Brooklyn with comparatively lower rates of household broadband access. These areas also have low numbers of LinkNYC stations per 100 people, suggesting that the LinkNYC efforts are not necessarily supplying internet where it's needed, but rather where people already have good access to broadband internet.__"
   ]
  }
 ],
 "metadata": {
  "kernelspec": {
   "display_name": "PUI2016_Python3",
   "language": "python",
   "name": "pui2016_python3"
  },
  "language_info": {
   "codemirror_mode": {
    "name": "ipython",
    "version": 3
   },
   "file_extension": ".py",
   "mimetype": "text/x-python",
   "name": "python",
   "nbconvert_exporter": "python",
   "pygments_lexer": "ipython3",
   "version": "3.5.4"
  }
 },
 "nbformat": 4,
 "nbformat_minor": 2
}
