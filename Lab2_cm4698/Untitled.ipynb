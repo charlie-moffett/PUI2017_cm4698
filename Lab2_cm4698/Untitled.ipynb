{
 "cells": [
  {
   "cell_type": "code",
   "execution_count": 54,
   "metadata": {
    "collapsed": false
   },
   "outputs": [],
   "source": [
    "from __future__ import print_function\n",
    "import sys\n",
    "import os\n",
    "\n",
    "\n",
    "import pylab as pl\n",
    "import os\n",
    "import json\n",
    "try:\n",
    "    import urllib2 as urllib\n",
    "except ImportError:\n",
    "    import urllib.request as urllib\n",
    "    \n",
    "url = \"http://bustime.mta.info/api/siri/vehicle-monitoring.json?key=7622fbc4-4694-49b1-90d2-0a89296b59ea&VehicleMonitoringDetailLevel=calls&LineRef=B52\"\n",
    "\n",
    "response = urllib.urlopen(url)\n",
    "data = response.read().decode(\"utf-8\")\n",
    "data = json.loads(data)"
   ]
  },
  {
   "cell_type": "code",
   "execution_count": 57,
   "metadata": {
    "collapsed": false
   },
   "outputs": [],
   "source": [
    "stop_name = data['Siri']['ServiceDelivery']['VehicleMonitoringDelivery'][0]['VehicleActivity'][0]['MonitoredVehicleJourney']['OnwardCalls']['OnwardCall'][0]['StopPointName']"
   ]
  },
  {
   "cell_type": "code",
   "execution_count": 58,
   "metadata": {
    "collapsed": false
   },
   "outputs": [
    {
     "name": "stdout",
     "output_type": "stream",
     "text": [
      "GREENE AV/VANDERBILT AV\n"
     ]
    }
   ],
   "source": [
    "print(stop_name)"
   ]
  },
  {
   "cell_type": "code",
   "execution_count": 63,
   "metadata": {
    "collapsed": false
   },
   "outputs": [],
   "source": [
    "fout = open(sys.argv[1], \"w\")\n",
    "\n",
    "veh_act = data['Siri']['ServiceDelivery']['VehicleMonitoringDelivery'][0]['VehicleActivity']\n",
    "\n",
    "buscount = len(veh_act)\n",
    "for i in range(buscount):\n",
    "    Long = veh_act[i]['MonitoredVehicleJourney']['VehicleLocation']['Longitude']\n",
    "    Lat = veh_act[i]['MonitoredVehicleJourney']['VehicleLocation']['Latitude']\n",
    "    stop_name = veh_act[i]['MonitoredVehicleJourney']['OnwardCalls']['OnwardCall'][0]['StopPointName']\n",
    "    stop_status = veh_act[i]['MonitoredVehicleJourney']['OnwardCalls']['OnwardCall'][0]['Extensions']['Distances']['PresentableDistance']\n",
    "    veh_act[i]['MonitoredVehicleJourney']['VehicleLocation']\n",
    "    # print(Lat, Long, stop_name, stop_status)\n",
    "    fout.write(\"%s,%s,%s,%s\\n\" %(Lat, Long, stop_name, stop_status))"
   ]
  },
  {
   "cell_type": "code",
   "execution_count": null,
   "metadata": {
    "collapsed": true
   },
   "outputs": [],
   "source": []
  }
 ],
 "metadata": {
  "kernelspec": {
   "display_name": "PUI2016_Python3",
   "language": "python",
   "name": "pui2016_python3"
  },
  "language_info": {
   "codemirror_mode": {
    "name": "ipython",
    "version": 3
   },
   "file_extension": ".py",
   "mimetype": "text/x-python",
   "name": "python",
   "nbconvert_exporter": "python",
   "pygments_lexer": "ipython3",
   "version": "3.5.2"
  }
 },
 "nbformat": 4,
 "nbformat_minor": 0
}
