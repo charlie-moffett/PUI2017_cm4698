{
 "cells": [
  {
   "cell_type": "markdown",
   "metadata": {},
   "source": [
    "Ex: Chi Square  -- http://journals.plos.org/plosone/article?id=10.1371/journal.pone.0185727\n",
    "\n",
    "| Statistical Analysis  | Dep. Variables  | Independent Variables  |  Control Variables  |  Question Answered  |\n",
    "|  -------------        |:-------------:  |    -----:      |  -------------      |  -------------      |    \n",
    "| Chi Sq             | pocket gopher distributions (categorical)  | soil attributes  (categorical)        |    soil hardness                 |   interaction between soil and moisture on the distribution of vertebrates                  |"
   ]
  },
  {
   "cell_type": "markdown",
   "metadata": {},
   "source": [
    "Ex: Correlation  -- http://journals.plos.org/plosone/article?id=10.1371/journal.pone.0099151\n",
    "\n",
    "| Statistical Analysis  | Dep. Variables  | Independent Variables  |  Control Variables  |  Question Answered  |\n",
    "|  -------------        |:-------------:  |    -----:      |  -------------      |  -------------      |    \n",
    "| Correlation           | numbers of fish caught (continuous)   |  distance in space and time between the fish  (continuous)        |    species                 |    correlations between observations according to time, space, and fish size          |"
   ]
  },
  {
   "cell_type": "code",
   "execution_count": null,
   "metadata": {
    "collapsed": true
   },
   "outputs": [],
   "source": [
    "Ex: Logistic Regression  -- http://journals.plos.org/plosone/article?id=10.1371/journal.pone.0099151\n",
    "\n",
    "| Statistical Analysis  | Dep. Variables  | Independent Variables  |  Control Variables  |  Question Answered  |\n",
    "|  -------------        |:-------------:  |    -----:      |  -------------      |  -------------      |    \n",
    "| Correlation           | numbers of fish caught (continuous)   |  distance in space and time between the fish  (continuous)        |    species                 |    correlations between observations according to time, space, and fish size          |"
   ]
  }
 ],
 "metadata": {
  "kernelspec": {
   "display_name": "PUI2016_Python3",
   "language": "python",
   "name": "pui2016_python3"
  },
  "language_info": {
   "codemirror_mode": {
    "name": "ipython",
    "version": 3
   },
   "file_extension": ".py",
   "mimetype": "text/x-python",
   "name": "python",
   "nbconvert_exporter": "python",
   "pygments_lexer": "ipython3",
   "version": "3.5.4"
  }
 },
 "nbformat": 4,
 "nbformat_minor": 0
}
