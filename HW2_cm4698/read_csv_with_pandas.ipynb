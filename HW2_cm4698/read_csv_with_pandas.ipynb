{
 "cells": [
  {
   "cell_type": "code",
   "execution_count": 50,
   "metadata": {
    "collapsed": false
   },
   "outputs": [],
   "source": [
    "import os\n",
    "import sys\n",
    "\n",
    "import pandas as pd\n",
    "\n",
    "# Checks that an environmental variable DFDATA exists and that it points to the data facility location \n",
    "\n",
    "DFdata = os.getenv(\"DFDATA\")"
   ]
  },
  {
   "cell_type": "code",
   "execution_count": 51,
   "metadata": {
    "collapsed": false
   },
   "outputs": [
    {
     "data": {
      "text/html": [
       "<div>\n",
       "<table border=\"1\" class=\"dataframe\">\n",
       "  <thead>\n",
       "    <tr style=\"text-align: right;\">\n",
       "      <th></th>\n",
       "      <th>Screen Name (LED + Vinyl Signs)</th>\n",
       "      <th>Building Address</th>\n",
       "      <th>Location Description</th>\n",
       "      <th>Location</th>\n",
       "      <th>Height</th>\n",
       "      <th>Type</th>\n",
       "      <th>#</th>\n",
       "      <th>Width</th>\n",
       "      <th>__Height</th>\n",
       "      <th>SF</th>\n",
       "      <th>Note/Photo</th>\n",
       "      <th>_#</th>\n",
       "      <th>_Width</th>\n",
       "      <th>_Height</th>\n",
       "      <th>_SF</th>\n",
       "      <th>TOTAL</th>\n",
       "      <th>TOTAL SF</th>\n",
       "      <th>TOTAL BY TYPE</th>\n",
       "    </tr>\n",
       "  </thead>\n",
       "  <tbody>\n",
       "    <tr>\n",
       "      <th>0</th>\n",
       "      <td>Modell's</td>\n",
       "      <td>234 W 42nd St</td>\n",
       "      <td>NaN</td>\n",
       "      <td>42nd/Below</td>\n",
       "      <td>Marquee</td>\n",
       "      <td>LED</td>\n",
       "      <td>1</td>\n",
       "      <td>30.0</td>\n",
       "      <td>10.0</td>\n",
       "      <td>300</td>\n",
       "      <td>IMG_8993</td>\n",
       "      <td>NaN</td>\n",
       "      <td>NaN</td>\n",
       "      <td>NaN</td>\n",
       "      <td>0.0</td>\n",
       "      <td>1</td>\n",
       "      <td>300</td>\n",
       "      <td>NaN</td>\n",
       "    </tr>\n",
       "    <tr>\n",
       "      <th>1</th>\n",
       "      <td>Ripley's Odditorium Screen (3 LED Screens)</td>\n",
       "      <td>234 W 42nd St</td>\n",
       "      <td>Marquee Level</td>\n",
       "      <td>42nd/Below</td>\n",
       "      <td>Marquee</td>\n",
       "      <td>LED</td>\n",
       "      <td>3</td>\n",
       "      <td>NaN</td>\n",
       "      <td>NaN</td>\n",
       "      <td>44</td>\n",
       "      <td>NaN</td>\n",
       "      <td>NaN</td>\n",
       "      <td>NaN</td>\n",
       "      <td>NaN</td>\n",
       "      <td>0.0</td>\n",
       "      <td>3</td>\n",
       "      <td>44</td>\n",
       "      <td>NaN</td>\n",
       "    </tr>\n",
       "    <tr>\n",
       "      <th>2</th>\n",
       "      <td>Above Chevys corner (1/9 LED center)</td>\n",
       "      <td>243 W 42nd St</td>\n",
       "      <td>NE corner of 42nd St and 8th Ave</td>\n",
       "      <td>42nd/Below</td>\n",
       "      <td>Under 65 Ft</td>\n",
       "      <td>LED</td>\n",
       "      <td>1</td>\n",
       "      <td>11.0</td>\n",
       "      <td>11.0</td>\n",
       "      <td>121</td>\n",
       "      <td>IMG_8998</td>\n",
       "      <td>NaN</td>\n",
       "      <td>NaN</td>\n",
       "      <td>NaN</td>\n",
       "      <td>0.0</td>\n",
       "      <td>1</td>\n",
       "      <td>121</td>\n",
       "      <td>NaN</td>\n",
       "    </tr>\n",
       "    <tr>\n",
       "      <th>3</th>\n",
       "      <td>CBS/Panasonic</td>\n",
       "      <td>253 W 42nd</td>\n",
       "      <td>Above Cold Stone</td>\n",
       "      <td>42nd/Below</td>\n",
       "      <td>Under 65 Ft</td>\n",
       "      <td>LED</td>\n",
       "      <td>1</td>\n",
       "      <td>24.0</td>\n",
       "      <td>18.0</td>\n",
       "      <td>432</td>\n",
       "      <td>IMG_8994</td>\n",
       "      <td>NaN</td>\n",
       "      <td>NaN</td>\n",
       "      <td>NaN</td>\n",
       "      <td>NaN</td>\n",
       "      <td>1</td>\n",
       "      <td>432</td>\n",
       "      <td>NaN</td>\n",
       "    </tr>\n",
       "    <tr>\n",
       "      <th>4</th>\n",
       "      <td>Skechers</td>\n",
       "      <td>3 Times Sq</td>\n",
       "      <td>Above 42nd/7th subway entrance</td>\n",
       "      <td>42nd/Below</td>\n",
       "      <td>Under 65 Ft</td>\n",
       "      <td>LED</td>\n",
       "      <td>1</td>\n",
       "      <td>4.0</td>\n",
       "      <td>10.0</td>\n",
       "      <td>40</td>\n",
       "      <td>IMG_8985</td>\n",
       "      <td>NaN</td>\n",
       "      <td>NaN</td>\n",
       "      <td>NaN</td>\n",
       "      <td>0.0</td>\n",
       "      <td>1</td>\n",
       "      <td>40</td>\n",
       "      <td>NaN</td>\n",
       "    </tr>\n",
       "  </tbody>\n",
       "</table>\n",
       "</div>"
      ],
      "text/plain": [
       "              Screen Name (LED + Vinyl Signs) Building Address  \\\n",
       "0                                    Modell's    234 W 42nd St   \n",
       "1  Ripley's Odditorium Screen (3 LED Screens)    234 W 42nd St   \n",
       "2        Above Chevys corner (1/9 LED center)    243 W 42nd St   \n",
       "3                               CBS/Panasonic       253 W 42nd   \n",
       "4                                    Skechers       3 Times Sq   \n",
       "\n",
       "               Location Description    Location       Height Type  #  Width  \\\n",
       "0                               NaN  42nd/Below      Marquee  LED  1   30.0   \n",
       "1                     Marquee Level  42nd/Below      Marquee  LED  3    NaN   \n",
       "2  NE corner of 42nd St and 8th Ave  42nd/Below  Under 65 Ft  LED  1   11.0   \n",
       "3                  Above Cold Stone  42nd/Below  Under 65 Ft  LED  1   24.0   \n",
       "4    Above 42nd/7th subway entrance  42nd/Below  Under 65 Ft  LED  1    4.0   \n",
       "\n",
       "   __Height   SF Note/Photo  _#   _Width  _Height  _SF  TOTAL  TOTAL SF  \\\n",
       "0      10.0  300   IMG_8993  NaN     NaN      NaN  0.0      1       300   \n",
       "1       NaN   44        NaN  NaN     NaN      NaN  0.0      3        44   \n",
       "2      11.0  121   IMG_8998  NaN     NaN      NaN  0.0      1       121   \n",
       "3      18.0  432   IMG_8994  NaN     NaN      NaN  NaN      1       432   \n",
       "4      10.0   40   IMG_8985  NaN     NaN      NaN  0.0      1        40   \n",
       "\n",
       "  TOTAL BY TYPE  \n",
       "0           NaN  \n",
       "1           NaN  \n",
       "2           NaN  \n",
       "3           NaN  \n",
       "4           NaN  "
      ]
     },
     "execution_count": 51,
     "metadata": {},
     "output_type": "execute_result"
    }
   ],
   "source": [
    "# Uses pandas to read in the CSV file from the DF into a pandas dataframe\n",
    "# I chose information on signage in the Times Square area!\n",
    "\n",
    "df_signs = pd.read_csv(DFdata + '/6bzx-emuu/1414245945/6bzx-emuu')\n",
    "\n",
    "df_signs.head()"
   ]
  },
  {
   "cell_type": "code",
   "execution_count": 52,
   "metadata": {
    "collapsed": false
   },
   "outputs": [],
   "source": [
    "# Removes all but 2 numerical values columns of my choice\n",
    "df_signs = df_signs.iloc[:,15:17]"
   ]
  },
  {
   "cell_type": "code",
   "execution_count": 53,
   "metadata": {
    "collapsed": false
   },
   "outputs": [
    {
     "data": {
      "text/html": [
       "<div>\n",
       "<table border=\"1\" class=\"dataframe\">\n",
       "  <thead>\n",
       "    <tr style=\"text-align: right;\">\n",
       "      <th></th>\n",
       "      <th>TOTAL</th>\n",
       "      <th>TOTAL SF</th>\n",
       "    </tr>\n",
       "  </thead>\n",
       "  <tbody>\n",
       "    <tr>\n",
       "      <th>0</th>\n",
       "      <td>1</td>\n",
       "      <td>300</td>\n",
       "    </tr>\n",
       "    <tr>\n",
       "      <th>1</th>\n",
       "      <td>3</td>\n",
       "      <td>44</td>\n",
       "    </tr>\n",
       "    <tr>\n",
       "      <th>2</th>\n",
       "      <td>1</td>\n",
       "      <td>121</td>\n",
       "    </tr>\n",
       "    <tr>\n",
       "      <th>3</th>\n",
       "      <td>1</td>\n",
       "      <td>432</td>\n",
       "    </tr>\n",
       "    <tr>\n",
       "      <th>4</th>\n",
       "      <td>1</td>\n",
       "      <td>40</td>\n",
       "    </tr>\n",
       "  </tbody>\n",
       "</table>\n",
       "</div>"
      ],
      "text/plain": [
       "   TOTAL  TOTAL SF\n",
       "0      1       300\n",
       "1      3        44\n",
       "2      1       121\n",
       "3      1       432\n",
       "4      1        40"
      ]
     },
     "execution_count": 53,
     "metadata": {},
     "output_type": "execute_result"
    }
   ],
   "source": [
    "df_signs.head()"
   ]
  },
  {
   "cell_type": "code",
   "execution_count": 80,
   "metadata": {
    "collapsed": false
   },
   "outputs": [
    {
     "name": "stdout",
     "output_type": "stream",
     "text": [
      "Populating the interactive namespace from numpy and matplotlib\n"
     ]
    },
    {
     "data": {
      "text/plain": [
       "<matplotlib.legend.Legend at 0x7f4b9a548f28>"
      ]
     },
     "execution_count": 80,
     "metadata": {},
     "output_type": "execute_result"
    },
    {
     "data": {
      "image/png": "[encoded data removed]",
      "text/plain": [
       "<matplotlib.figure.Figure at 0x7f4b9abbe908>"
      ]
     },
     "metadata": {},
     "output_type": "display_data"
    }
   ],
   "source": [
    "# setting up some preferences\n",
    "import pylab as pl\n",
    "%pylab inline\n",
    "pl.rc('font', size=15)\n",
    "\n",
    "# turning my 2 numerical values columns into x and y data\n",
    "x = df_signs['TOTAL']\n",
    "y = df_signs['TOTAL SF']\n",
    "\n",
    "# Plot the columns one against the other in a scatter plot\n",
    "plt.plot(x, y, 'o')\n",
    "\n",
    "# setting x and y axes labels and title\n",
    "pl.xlabel(\"# of screens\")\n",
    "pl.ylabel(\"square feet\")\n",
    "pl.title(\"Sign size vs. # of screens in TS\")\n",
    "\n",
    "# creating legend\n",
    "plt.legend(loc=\"upper left\")"
   ]
  },
  {
   "cell_type": "code",
   "execution_count": null,
   "metadata": {
    "collapsed": false
   },
   "outputs": [],
   "source": []
  },
  {
   "cell_type": "code",
   "execution_count": null,
   "metadata": {
    "collapsed": true
   },
   "outputs": [],
   "source": []
  }
 ],
 "metadata": {
  "kernelspec": {
   "display_name": "PUI2016_Python3",
   "language": "python",
   "name": "pui2016_python3"
  },
  "language_info": {
   "codemirror_mode": {
    "name": "ipython",
    "version": 3
   },
   "file_extension": ".py",
   "mimetype": "text/x-python",
   "name": "python",
   "nbconvert_exporter": "python",
   "pygments_lexer": "ipython3",
   "version": "3.5.2"
  }
 },
 "nbformat": 4,
 "nbformat_minor": 0
}
