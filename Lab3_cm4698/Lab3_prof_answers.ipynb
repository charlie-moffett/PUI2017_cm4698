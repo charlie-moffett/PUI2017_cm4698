{
 "cells": [
  {
   "cell_type": "code",
   "execution_count": 1,
   "metadata": {
    "collapsed": true
   },
   "outputs": [],
   "source": [
    "# did it with pandas on a single line\n",
    "import numpy as np\n",
    "import pandas as pd"
   ]
  },
  {
   "cell_type": "code",
   "execution_count": 5,
   "metadata": {
    "collapsed": false
   },
   "outputs": [],
   "source": [
    "# if you want to make a string shorter you can use +\n",
    "\n",
    "# .values makes it a numpy array\n",
    "# .shape shows us the funny shape of 100 by 1\n",
    "# . squeeze gives us an array of just values; removes redundant dimension\n",
    "# using tNew to represent time of new bus routes\n",
    "\n",
    "tNew = pd.read_csv('https://raw.githubusercontent.com/fedhere/PUI2017_fb55/' +\n",
    "                  'master/Lab3_fb55/times.txt', header=None).values.squeeze()"
   ]
  },
  {
   "cell_type": "code",
   "execution_count": 6,
   "metadata": {
    "collapsed": false
   },
   "outputs": [
    {
     "data": {
      "text/plain": [
       "34.466161688299998"
      ]
     },
     "execution_count": 6,
     "metadata": {},
     "output_type": "execute_result"
    }
   ],
   "source": [
    "# we want to see if measurement we got is at tail of distro or not\n",
    "# before anything we have to set our alpha; we'll say 5% here\n",
    "# if we're father than two stds from initial bus times dataset, \n",
    "# trick is to figure out how to treat distro of a whole pop vs distro of a sample\n",
    "\n",
    "# start by calculating mean\n",
    "# np.mean(tNew) would give you the same; below is more pythonic\n",
    "tNew.mean()"
   ]
  },
  {
   "cell_type": "code",
   "execution_count": 7,
   "metadata": {
    "collapsed": true
   },
   "outputs": [],
   "source": [
    "# how to find out if we're in the tail of the distro\n",
    "# where is new mean compared to old mean?\n",
    "# make them floats cause it's better to work with in computation\n",
    "tOldMean = 36.\n",
    "tOldStdev = 6."
   ]
  },
  {
   "cell_type": "code",
   "execution_count": 8,
   "metadata": {
    "collapsed": false
   },
   "outputs": [
    {
     "data": {
      "text/plain": [
       "1.5338383117000021"
      ]
     },
     "execution_count": 8,
     "metadata": {},
     "output_type": "execute_result"
    }
   ],
   "source": [
    "tOldMean - tNew.mean()"
   ]
  },
  {
   "cell_type": "code",
   "execution_count": 9,
   "metadata": {
    "collapsed": false
   },
   "outputs": [
    {
     "data": {
      "text/plain": [
       "0.25563971861666701"
      ]
     },
     "execution_count": 9,
     "metadata": {},
     "output_type": "execute_result"
    }
   ],
   "source": [
    "# how many stds\n",
    "(tOldMean - tNew.mean()) / tOldStdev"
   ]
  },
  {
   "cell_type": "code",
   "execution_count": null,
   "metadata": {
    "collapsed": true
   },
   "outputs": [],
   "source": [
    "# right way is to take old pop mean and new sample mean divided by std \n",
    "# and divided by number of measurements you took square rooted\n",
    "# this gives you the number you want to compare with your alpha significance (0.05), which is two stds\n",
    "# it's further into your tail than your measurement\n",
    "# 2.5 > 2 => we are farther than 2 stds away from the old mean => reject NULL(this is a Z-test)\n",
    "# your sample has to be large enough to use z-test (otherwise use t-test)"
   ]
  }
 ],
 "metadata": {
  "kernelspec": {
   "display_name": "PUI2016_Python3",
   "language": "python",
   "name": "pui2016_python3"
  },
  "language_info": {
   "codemirror_mode": {
    "name": "ipython",
    "version": 3
   },
   "file_extension": ".py",
   "mimetype": "text/x-python",
   "name": "python",
   "nbconvert_exporter": "python",
   "pygments_lexer": "ipython3",
   "version": "3.5.2"
  }
 },
 "nbformat": 4,
 "nbformat_minor": 0
}
