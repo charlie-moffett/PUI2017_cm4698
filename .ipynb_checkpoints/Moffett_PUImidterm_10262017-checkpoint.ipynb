{
 "cells": [
  {
   "cell_type": "code",
   "execution_count": 263,
   "metadata": {
    "collapsed": false
   },
   "outputs": [
    {
     "name": "stdout",
     "output_type": "stream",
     "text": [
      "Populating the interactive namespace from numpy and matplotlib\n"
     ]
    },
    {
     "name": "stderr",
     "output_type": "stream",
     "text": [
      "/opt/rh/anaconda/root/envs/PUI2016_Python3/lib/python3.5/site-packages/IPython/html.py:14: ShimWarning: The `IPython.html` package has been deprecated. You should import from `notebook` instead. `IPython.html.widgets` has moved to `ipywidgets`.\n",
      "  \"`IPython.html.widgets` has moved to `ipywidgets`.\", ShimWarning)\n"
     ]
    }
   ],
   "source": [
    "from __future__ import print_function, division\n",
    "import geopandas as gp\n",
    "import pandas as pd\n",
    "import scipy\n",
    "import os\n",
    "import sys\n",
    "import json\n",
    "import pylab as pl\n",
    "from pandas.tools.plotting import scatter_matrix\n",
    "import statsmodels.api as sm\n",
    "import statsmodels.formula.api as smf\n",
    "import datetime as dt\n",
    "import seaborn as sns\n",
    "\n",
    "try:\n",
    "    import urllib2 as urllib\n",
    "except ImportError:\n",
    "    import urllib.request as urllib\n",
    "%pylab inline"
   ]
  },
  {
   "cell_type": "code",
   "execution_count": 3,
   "metadata": {
    "collapsed": false
   },
   "outputs": [
    {
     "name": "stdout",
     "output_type": "stream",
     "text": [
      "--2017-10-26 09:46:04--  https://s3.amazonaws.com/nyc-tlc/trip+data/yellow_tripdata_2009-02.csv\n",
      "Resolving s3.amazonaws.com... 54.231.120.226\n",
      "Connecting to s3.amazonaws.com|54.231.120.226|:443... connected.\n",
      "HTTP request sent, awaiting response... 200 OK\n",
      "Length: 2415447672 (2.2G) [application/octet-stream]\n",
      "Saving to: “yellow_tripdata_2009-02.csv”\n",
      "\n",
      "100%[====================================>] 2,415,447,672 64.6M/s   in 42s     \n",
      "\n",
      "2017-10-26 09:46:46 (55.0 MB/s) - “yellow_tripdata_2009-02.csv” saved [2415447672/2415447672]\n",
      "\n"
     ]
    }
   ],
   "source": [
    "# Downloading and moving yellowcab data\n",
    "# https://s3.amazonaws.com/nyc-tlc/trip+data/yellow_tripdata_2009-02.csv\n",
    "# !wget 'https://s3.amazonaws.com/nyc-tlc/trip+data/yellow_tripdata_2009-02.csv'"
   ]
  },
  {
   "cell_type": "code",
   "execution_count": 4,
   "metadata": {
    "collapsed": false
   },
   "outputs": [
    {
     "data": {
      "text/plain": [
       "0"
      ]
     },
     "execution_count": 4,
     "metadata": {},
     "output_type": "execute_result"
    }
   ],
   "source": [
    "# Moving the dataset 'yellow_tripdata_2009-02.csv' into PUIDATA\n",
    "# os.system(\"mv %s %s\"%(\"yellow_tripdata_2009-02.csv\", os.getenv(\"PUIDATA\")))"
   ]
  },
  {
   "cell_type": "code",
   "execution_count": 283,
   "metadata": {
    "collapsed": false
   },
   "outputs": [],
   "source": [
    "# Confirming I've moved 'yellow_tripdata_2009-02.csv' to a directory linked to the environmental variable $PUIDATA\n",
    "# !ls $PUIDATA"
   ]
  },
  {
   "cell_type": "code",
   "execution_count": 284,
   "metadata": {
    "collapsed": false
   },
   "outputs": [],
   "source": [
    "# yc = pd.read_csv(os.getenv(\"PUIDATA\")+'/yellow_tripdata_2009-02.csv')"
   ]
  },
  {
   "cell_type": "code",
   "execution_count": 285,
   "metadata": {
    "collapsed": false
   },
   "outputs": [
    {
     "data": {
      "text/plain": [
       "(13380122, 18)"
      ]
     },
     "execution_count": 285,
     "metadata": {},
     "output_type": "execute_result"
    }
   ],
   "source": [
    "yc.shape"
   ]
  },
  {
   "cell_type": "code",
   "execution_count": 286,
   "metadata": {
    "collapsed": false
   },
   "outputs": [
    {
     "data": {
      "text/html": [
       "<div>\n",
       "<table border=\"1\" class=\"dataframe\">\n",
       "  <thead>\n",
       "    <tr style=\"text-align: right;\">\n",
       "      <th></th>\n",
       "      <th>vendor_name</th>\n",
       "      <th>Trip_Pickup_DateTime</th>\n",
       "      <th>Trip_Dropoff_DateTime</th>\n",
       "      <th>Passenger_Count</th>\n",
       "      <th>Trip_Distance</th>\n",
       "      <th>Start_Lon</th>\n",
       "      <th>Start_Lat</th>\n",
       "      <th>Rate_Code</th>\n",
       "      <th>store_and_forward</th>\n",
       "      <th>End_Lon</th>\n",
       "      <th>End_Lat</th>\n",
       "      <th>Payment_Type</th>\n",
       "      <th>Fare_Amt</th>\n",
       "      <th>surcharge</th>\n",
       "      <th>mta_tax</th>\n",
       "      <th>Tip_Amt</th>\n",
       "      <th>Tolls_Amt</th>\n",
       "      <th>Total_Amt</th>\n",
       "    </tr>\n",
       "  </thead>\n",
       "  <tbody>\n",
       "    <tr>\n",
       "      <th>0</th>\n",
       "      <td>DDS</td>\n",
       "      <td>2009-02-03 08:25:00</td>\n",
       "      <td>2009-02-03 08:33:39</td>\n",
       "      <td>1</td>\n",
       "      <td>1.60</td>\n",
       "      <td>-73.992768</td>\n",
       "      <td>40.758325</td>\n",
       "      <td>NaN</td>\n",
       "      <td>NaN</td>\n",
       "      <td>-73.994710</td>\n",
       "      <td>40.739723</td>\n",
       "      <td>CASH</td>\n",
       "      <td>6.9</td>\n",
       "      <td>0.0</td>\n",
       "      <td>NaN</td>\n",
       "      <td>0.0</td>\n",
       "      <td>0.0</td>\n",
       "      <td>6.9</td>\n",
       "    </tr>\n",
       "    <tr>\n",
       "      <th>1</th>\n",
       "      <td>VTS</td>\n",
       "      <td>2009-02-28 00:26:00</td>\n",
       "      <td>2009-02-28 00:40:00</td>\n",
       "      <td>5</td>\n",
       "      <td>3.05</td>\n",
       "      <td>0.000000</td>\n",
       "      <td>0.000000</td>\n",
       "      <td>NaN</td>\n",
       "      <td>NaN</td>\n",
       "      <td>0.000000</td>\n",
       "      <td>0.000000</td>\n",
       "      <td>CASH</td>\n",
       "      <td>10.5</td>\n",
       "      <td>0.5</td>\n",
       "      <td>NaN</td>\n",
       "      <td>0.0</td>\n",
       "      <td>0.0</td>\n",
       "      <td>11.0</td>\n",
       "    </tr>\n",
       "    <tr>\n",
       "      <th>2</th>\n",
       "      <td>DDS</td>\n",
       "      <td>2009-02-22 00:39:23</td>\n",
       "      <td>2009-02-22 00:45:52</td>\n",
       "      <td>1</td>\n",
       "      <td>1.50</td>\n",
       "      <td>-73.137393</td>\n",
       "      <td>41.366138</td>\n",
       "      <td>NaN</td>\n",
       "      <td>NaN</td>\n",
       "      <td>-73.137393</td>\n",
       "      <td>41.366138</td>\n",
       "      <td>CASH</td>\n",
       "      <td>5.7</td>\n",
       "      <td>0.5</td>\n",
       "      <td>NaN</td>\n",
       "      <td>0.0</td>\n",
       "      <td>0.0</td>\n",
       "      <td>6.2</td>\n",
       "    </tr>\n",
       "    <tr>\n",
       "      <th>3</th>\n",
       "      <td>VTS</td>\n",
       "      <td>2009-02-28 12:47:00</td>\n",
       "      <td>2009-02-28 12:54:00</td>\n",
       "      <td>1</td>\n",
       "      <td>1.42</td>\n",
       "      <td>-73.980458</td>\n",
       "      <td>40.748445</td>\n",
       "      <td>NaN</td>\n",
       "      <td>NaN</td>\n",
       "      <td>-73.996103</td>\n",
       "      <td>40.737095</td>\n",
       "      <td>CASH</td>\n",
       "      <td>6.1</td>\n",
       "      <td>0.0</td>\n",
       "      <td>NaN</td>\n",
       "      <td>0.0</td>\n",
       "      <td>0.0</td>\n",
       "      <td>6.1</td>\n",
       "    </tr>\n",
       "    <tr>\n",
       "      <th>4</th>\n",
       "      <td>DDS</td>\n",
       "      <td>2009-02-05 18:34:35</td>\n",
       "      <td>2009-02-05 18:43:26</td>\n",
       "      <td>1</td>\n",
       "      <td>1.50</td>\n",
       "      <td>-73.137393</td>\n",
       "      <td>41.366138</td>\n",
       "      <td>NaN</td>\n",
       "      <td>NaN</td>\n",
       "      <td>-73.137393</td>\n",
       "      <td>41.366138</td>\n",
       "      <td>CASH</td>\n",
       "      <td>6.9</td>\n",
       "      <td>1.0</td>\n",
       "      <td>NaN</td>\n",
       "      <td>0.0</td>\n",
       "      <td>0.0</td>\n",
       "      <td>7.9</td>\n",
       "    </tr>\n",
       "  </tbody>\n",
       "</table>\n",
       "</div>"
      ],
      "text/plain": [
       "  vendor_name Trip_Pickup_DateTime Trip_Dropoff_DateTime  Passenger_Count  \\\n",
       "0         DDS  2009-02-03 08:25:00   2009-02-03 08:33:39                1   \n",
       "1         VTS  2009-02-28 00:26:00   2009-02-28 00:40:00                5   \n",
       "2         DDS  2009-02-22 00:39:23   2009-02-22 00:45:52                1   \n",
       "3         VTS  2009-02-28 12:47:00   2009-02-28 12:54:00                1   \n",
       "4         DDS  2009-02-05 18:34:35   2009-02-05 18:43:26                1   \n",
       "\n",
       "   Trip_Distance  Start_Lon  Start_Lat  Rate_Code  store_and_forward  \\\n",
       "0           1.60 -73.992768  40.758325        NaN                NaN   \n",
       "1           3.05   0.000000   0.000000        NaN                NaN   \n",
       "2           1.50 -73.137393  41.366138        NaN                NaN   \n",
       "3           1.42 -73.980458  40.748445        NaN                NaN   \n",
       "4           1.50 -73.137393  41.366138        NaN                NaN   \n",
       "\n",
       "     End_Lon    End_Lat Payment_Type  Fare_Amt  surcharge  mta_tax  Tip_Amt  \\\n",
       "0 -73.994710  40.739723         CASH       6.9        0.0      NaN      0.0   \n",
       "1   0.000000   0.000000         CASH      10.5        0.5      NaN      0.0   \n",
       "2 -73.137393  41.366138         CASH       5.7        0.5      NaN      0.0   \n",
       "3 -73.996103  40.737095         CASH       6.1        0.0      NaN      0.0   \n",
       "4 -73.137393  41.366138         CASH       6.9        1.0      NaN      0.0   \n",
       "\n",
       "   Tolls_Amt  Total_Amt  \n",
       "0        0.0        6.9  \n",
       "1        0.0       11.0  \n",
       "2        0.0        6.2  \n",
       "3        0.0        6.1  \n",
       "4        0.0        7.9  "
      ]
     },
     "execution_count": 286,
     "metadata": {},
     "output_type": "execute_result"
    }
   ],
   "source": [
    "yc.head()"
   ]
  },
  {
   "cell_type": "markdown",
   "metadata": {},
   "source": [
    "### I used the taxi data shortcut here and had planned to revise"
   ]
  },
  {
   "cell_type": "code",
   "execution_count": 287,
   "metadata": {
    "collapsed": false
   },
   "outputs": [
    {
     "data": {
      "text/html": [
       "<div>\n",
       "<table border=\"1\" class=\"dataframe\">\n",
       "  <thead>\n",
       "    <tr style=\"text-align: right;\">\n",
       "      <th></th>\n",
       "      <th>Unnamed: 0</th>\n",
       "      <th>vendor_name</th>\n",
       "      <th>Trip_Pickup_DateTime</th>\n",
       "      <th>Trip_Dropoff_DateTime</th>\n",
       "      <th>Passenger_Count</th>\n",
       "      <th>Trip_Distance</th>\n",
       "      <th>Start_Lon</th>\n",
       "      <th>Start_Lat</th>\n",
       "      <th>Rate_Code</th>\n",
       "      <th>store_and_forward</th>\n",
       "      <th>End_Lon</th>\n",
       "      <th>End_Lat</th>\n",
       "      <th>Payment_Type</th>\n",
       "      <th>Fare_Amt</th>\n",
       "      <th>surcharge</th>\n",
       "      <th>mta_tax</th>\n",
       "      <th>Tip_Amt</th>\n",
       "      <th>Tolls_Amt</th>\n",
       "      <th>Total_Amt</th>\n",
       "    </tr>\n",
       "  </thead>\n",
       "  <tbody>\n",
       "    <tr>\n",
       "      <th>0</th>\n",
       "      <td>0</td>\n",
       "      <td>DDS</td>\n",
       "      <td>2009-02-03 08:25:00</td>\n",
       "      <td>2009-02-03 08:33:39</td>\n",
       "      <td>1</td>\n",
       "      <td>1.60</td>\n",
       "      <td>-73.992768</td>\n",
       "      <td>40.758325</td>\n",
       "      <td>NaN</td>\n",
       "      <td>NaN</td>\n",
       "      <td>-73.994710</td>\n",
       "      <td>40.739723</td>\n",
       "      <td>CASH</td>\n",
       "      <td>6.9</td>\n",
       "      <td>0.0</td>\n",
       "      <td>NaN</td>\n",
       "      <td>0.00</td>\n",
       "      <td>0.0</td>\n",
       "      <td>6.90</td>\n",
       "    </tr>\n",
       "    <tr>\n",
       "      <th>1</th>\n",
       "      <td>1000</td>\n",
       "      <td>VTS</td>\n",
       "      <td>2009-02-11 23:03:00</td>\n",
       "      <td>2009-02-11 23:29:00</td>\n",
       "      <td>1</td>\n",
       "      <td>11.95</td>\n",
       "      <td>-73.968478</td>\n",
       "      <td>40.760553</td>\n",
       "      <td>NaN</td>\n",
       "      <td>NaN</td>\n",
       "      <td>-73.972788</td>\n",
       "      <td>40.637433</td>\n",
       "      <td>CASH</td>\n",
       "      <td>28.5</td>\n",
       "      <td>0.5</td>\n",
       "      <td>NaN</td>\n",
       "      <td>0.00</td>\n",
       "      <td>0.0</td>\n",
       "      <td>29.00</td>\n",
       "    </tr>\n",
       "    <tr>\n",
       "      <th>2</th>\n",
       "      <td>2000</td>\n",
       "      <td>VTS</td>\n",
       "      <td>2009-02-28 07:22:00</td>\n",
       "      <td>2009-02-28 07:32:00</td>\n",
       "      <td>3</td>\n",
       "      <td>2.86</td>\n",
       "      <td>-73.986690</td>\n",
       "      <td>40.726995</td>\n",
       "      <td>NaN</td>\n",
       "      <td>NaN</td>\n",
       "      <td>-73.988673</td>\n",
       "      <td>40.755612</td>\n",
       "      <td>CASH</td>\n",
       "      <td>9.3</td>\n",
       "      <td>0.0</td>\n",
       "      <td>NaN</td>\n",
       "      <td>0.00</td>\n",
       "      <td>0.0</td>\n",
       "      <td>9.30</td>\n",
       "    </tr>\n",
       "    <tr>\n",
       "      <th>3</th>\n",
       "      <td>3000</td>\n",
       "      <td>VTS</td>\n",
       "      <td>2009-02-14 17:02:00</td>\n",
       "      <td>2009-02-14 17:22:00</td>\n",
       "      <td>4</td>\n",
       "      <td>4.60</td>\n",
       "      <td>-73.991188</td>\n",
       "      <td>40.723345</td>\n",
       "      <td>NaN</td>\n",
       "      <td>NaN</td>\n",
       "      <td>-73.946650</td>\n",
       "      <td>40.776628</td>\n",
       "      <td>Credit</td>\n",
       "      <td>14.9</td>\n",
       "      <td>0.0</td>\n",
       "      <td>NaN</td>\n",
       "      <td>2.00</td>\n",
       "      <td>0.0</td>\n",
       "      <td>16.90</td>\n",
       "    </tr>\n",
       "    <tr>\n",
       "      <th>4</th>\n",
       "      <td>4000</td>\n",
       "      <td>CMT</td>\n",
       "      <td>2009-02-08 11:54:51</td>\n",
       "      <td>2009-02-08 12:06:43</td>\n",
       "      <td>1</td>\n",
       "      <td>2.40</td>\n",
       "      <td>-73.980833</td>\n",
       "      <td>40.744672</td>\n",
       "      <td>NaN</td>\n",
       "      <td>NaN</td>\n",
       "      <td>-73.984400</td>\n",
       "      <td>40.718905</td>\n",
       "      <td>Credit</td>\n",
       "      <td>9.3</td>\n",
       "      <td>0.0</td>\n",
       "      <td>NaN</td>\n",
       "      <td>1.39</td>\n",
       "      <td>0.0</td>\n",
       "      <td>10.69</td>\n",
       "    </tr>\n",
       "  </tbody>\n",
       "</table>\n",
       "</div>"
      ],
      "text/plain": [
       "   Unnamed: 0 vendor_name Trip_Pickup_DateTime Trip_Dropoff_DateTime  \\\n",
       "0           0         DDS  2009-02-03 08:25:00   2009-02-03 08:33:39   \n",
       "1        1000         VTS  2009-02-11 23:03:00   2009-02-11 23:29:00   \n",
       "2        2000         VTS  2009-02-28 07:22:00   2009-02-28 07:32:00   \n",
       "3        3000         VTS  2009-02-14 17:02:00   2009-02-14 17:22:00   \n",
       "4        4000         CMT  2009-02-08 11:54:51   2009-02-08 12:06:43   \n",
       "\n",
       "   Passenger_Count  Trip_Distance  Start_Lon  Start_Lat  Rate_Code  \\\n",
       "0                1           1.60 -73.992768  40.758325        NaN   \n",
       "1                1          11.95 -73.968478  40.760553        NaN   \n",
       "2                3           2.86 -73.986690  40.726995        NaN   \n",
       "3                4           4.60 -73.991188  40.723345        NaN   \n",
       "4                1           2.40 -73.980833  40.744672        NaN   \n",
       "\n",
       "   store_and_forward    End_Lon    End_Lat Payment_Type  Fare_Amt  surcharge  \\\n",
       "0                NaN -73.994710  40.739723         CASH       6.9        0.0   \n",
       "1                NaN -73.972788  40.637433         CASH      28.5        0.5   \n",
       "2                NaN -73.988673  40.755612         CASH       9.3        0.0   \n",
       "3                NaN -73.946650  40.776628       Credit      14.9        0.0   \n",
       "4                NaN -73.984400  40.718905       Credit       9.3        0.0   \n",
       "\n",
       "   mta_tax  Tip_Amt  Tolls_Amt  Total_Amt  \n",
       "0      NaN     0.00        0.0       6.90  \n",
       "1      NaN     0.00        0.0      29.00  \n",
       "2      NaN     0.00        0.0       9.30  \n",
       "3      NaN     2.00        0.0      16.90  \n",
       "4      NaN     1.39        0.0      10.69  "
      ]
     },
     "execution_count": 287,
     "metadata": {},
     "output_type": "execute_result"
    }
   ],
   "source": [
    "# Downloading and moving taxi data shortcut\n",
    "# !wget 'http://cosmo.nyu.edu/~fb55/data/yc200902_tripdata_trimmed.csv'\n",
    "\n",
    "# Moving the dataset 'yc200902_tripdata_trimmed.csv' into PUIDATA\n",
    "# os.system(\"mv %s %s\"%(\"yc200902_tripdata_trimmed.csv\", os.getenv(\"PUIDATA\")))\n",
    "\n",
    "# USING SHORTCUT\n",
    "yc_trimmed = pd.read_csv('http://cosmo.nyu.edu/~fb55/data/yc200902_tripdata_trimmed.csv')\n",
    "yc_trimmed.head()"
   ]
  },
  {
   "cell_type": "code",
   "execution_count": 288,
   "metadata": {
    "collapsed": false
   },
   "outputs": [
    {
     "data": {
      "text/plain": [
       "(13381, 18)"
      ]
     },
     "execution_count": 288,
     "metadata": {},
     "output_type": "execute_result"
    }
   ],
   "source": [
    "#selecting by broadcasting: this selects everty 1000th row from my data, stating w row 0\n",
    "yc200902_short = yc[::1000]\n",
    "yc200902_short.shape"
   ]
  },
  {
   "cell_type": "markdown",
   "metadata": {},
   "source": [
    "### I used the income data shortcut here and had planned to revise"
   ]
  },
  {
   "cell_type": "code",
   "execution_count": 289,
   "metadata": {
    "collapsed": false
   },
   "outputs": [],
   "source": [
    "# Downloading income data by zipcode\n",
    "# The wrangled income-by-zipcode dataframe can be read in with pandas (there is a read_json function!)\n",
    "def get_jsonparsed_data(url):\n",
    "    \"\"\"\n",
    "    from http://stackoverflow.com/questions/12965203/how-to-get-json-from-webpage-into-python-script\n",
    "    Receive the content of ``url``, parse it as JSON and return the object.\n",
    "\n",
    "    Parameters\n",
    "    ----------\n",
    "    url : str\n",
    "\n",
    "    Returns\n",
    "    -------\n",
    "    dict\n",
    "    \"\"\"\n",
    "    response = urllib.urlopen(url)\n",
    "    data = response.read().decode(\"utf-8\")\n",
    "    return json.loads(data)\n",
    "jsonData = get_jsonparsed_data(\\\n",
    "                    \"http://cosmo.nyu.edu/~fb55/data/zipincome.json\")\n",
    "#jsonData"
   ]
  },
  {
   "cell_type": "code",
   "execution_count": 290,
   "metadata": {
    "collapsed": false
   },
   "outputs": [
    {
     "data": {
      "text/html": [
       "<div>\n",
       "<table border=\"1\" class=\"dataframe\">\n",
       "  <thead>\n",
       "    <tr style=\"text-align: right;\">\n",
       "      <th></th>\n",
       "      <th>POPULATION</th>\n",
       "      <th>ZIPCODE</th>\n",
       "      <th>incomePC</th>\n",
       "    </tr>\n",
       "  </thead>\n",
       "  <tbody>\n",
       "    <tr>\n",
       "      <th>0</th>\n",
       "      <td>8859870.0</td>\n",
       "      <td>0</td>\n",
       "      <td>34.735223</td>\n",
       "    </tr>\n",
       "    <tr>\n",
       "      <th>1</th>\n",
       "      <td>12393.0</td>\n",
       "      <td>10001</td>\n",
       "      <td>94.386319</td>\n",
       "    </tr>\n",
       "    <tr>\n",
       "      <th>10</th>\n",
       "      <td>29995.0</td>\n",
       "      <td>10011</td>\n",
       "      <td>121.765217</td>\n",
       "    </tr>\n",
       "    <tr>\n",
       "      <th>100</th>\n",
       "      <td>981.0</td>\n",
       "      <td>10526</td>\n",
       "      <td>62.539512</td>\n",
       "    </tr>\n",
       "    <tr>\n",
       "      <th>1000</th>\n",
       "      <td>705.0</td>\n",
       "      <td>13335</td>\n",
       "      <td>19.930311</td>\n",
       "    </tr>\n",
       "  </tbody>\n",
       "</table>\n",
       "</div>"
      ],
      "text/plain": [
       "      POPULATION ZIPCODE    incomePC\n",
       "0      8859870.0       0   34.735223\n",
       "1        12393.0   10001   94.386319\n",
       "10       29995.0   10011  121.765217\n",
       "100        981.0   10526   62.539512\n",
       "1000       705.0   13335   19.930311"
      ]
     },
     "execution_count": 290,
     "metadata": {},
     "output_type": "execute_result"
    }
   ],
   "source": [
    "# convert jsonData to pandas dataframe\n",
    "zipincome = pd.DataFrame(jsonData)\n",
    "zipincome.head()"
   ]
  },
  {
   "cell_type": "markdown",
   "metadata": {},
   "source": [
    "### the zip codes series should look like this, and may contain some spurious values (0, 99999), but should you worry about those??\n",
    "\n",
    "*yes, we should worry about these! they seriously skewed my data and I ended up dropping some of them later (See below)*"
   ]
  },
  {
   "cell_type": "code",
   "execution_count": 291,
   "metadata": {
    "collapsed": false
   },
   "outputs": [
    {
     "data": {
      "text/plain": [
       "0           0\n",
       "1       10001\n",
       "10      10011\n",
       "100     10526\n",
       "1000    13335\n",
       "1001    13337\n",
       "1002    13338\n",
       "1003    13339\n",
       "1004    13340\n",
       "1005    13342\n",
       "Name: ZIPCODE, dtype: object"
      ]
     },
     "execution_count": 291,
     "metadata": {},
     "output_type": "execute_result"
    }
   ],
   "source": [
    "zipincome.ZIPCODE[:10]"
   ]
  },
  {
   "cell_type": "markdown",
   "metadata": {},
   "source": [
    "# 3. Feature engineering task: extract the trip duration from the data and tip percentage"
   ]
  },
  {
   "cell_type": "code",
   "execution_count": 292,
   "metadata": {
    "collapsed": false
   },
   "outputs": [
    {
     "name": "stderr",
     "output_type": "stream",
     "text": [
      "/opt/rh/anaconda/root/envs/PUI2016_Python3/lib/python3.5/site-packages/ipykernel/__main__.py:2: SettingWithCopyWarning: \n",
      "A value is trying to be set on a copy of a slice from a DataFrame.\n",
      "Try using .loc[row_indexer,col_indexer] = value instead\n",
      "\n",
      "See the caveats in the documentation: http://pandas.pydata.org/pandas-docs/stable/indexing.html#indexing-view-versus-copy\n",
      "  from ipykernel import kernelapp as app\n"
     ]
    }
   ],
   "source": [
    "# create a trip duration column where the duration is in hours using pandas datetime package\n",
    "yc200902_short['Trip_Pickup_DateTime'] = pd.to_datetime(yc200902_short['Trip_Pickup_DateTime'])"
   ]
  },
  {
   "cell_type": "markdown",
   "metadata": {},
   "source": [
    "### Used shortcut for datetime"
   ]
  },
  {
   "cell_type": "code",
   "execution_count": 293,
   "metadata": {
    "collapsed": false
   },
   "outputs": [
    {
     "data": {
      "text/html": [
       "<div>\n",
       "<table border=\"1\" class=\"dataframe\">\n",
       "  <thead>\n",
       "    <tr style=\"text-align: right;\">\n",
       "      <th></th>\n",
       "      <th>Unnamed: 0</th>\n",
       "      <th>tripDurationHours</th>\n",
       "    </tr>\n",
       "  </thead>\n",
       "  <tbody>\n",
       "    <tr>\n",
       "      <th>0</th>\n",
       "      <td>0</td>\n",
       "      <td>0.144167</td>\n",
       "    </tr>\n",
       "    <tr>\n",
       "      <th>1</th>\n",
       "      <td>1000</td>\n",
       "      <td>0.433333</td>\n",
       "    </tr>\n",
       "    <tr>\n",
       "      <th>2</th>\n",
       "      <td>2000</td>\n",
       "      <td>0.166667</td>\n",
       "    </tr>\n",
       "    <tr>\n",
       "      <th>3</th>\n",
       "      <td>3000</td>\n",
       "      <td>0.333333</td>\n",
       "    </tr>\n",
       "    <tr>\n",
       "      <th>4</th>\n",
       "      <td>4000</td>\n",
       "      <td>0.197778</td>\n",
       "    </tr>\n",
       "  </tbody>\n",
       "</table>\n",
       "</div>"
      ],
      "text/plain": [
       "   Unnamed: 0  tripDurationHours\n",
       "0           0           0.144167\n",
       "1        1000           0.433333\n",
       "2        2000           0.166667\n",
       "3        3000           0.333333\n",
       "4        4000           0.197778"
      ]
     },
     "execution_count": 293,
     "metadata": {},
     "output_type": "execute_result"
    }
   ],
   "source": [
    "yc200902_short_with_duration = pd.read_csv('http://cosmo.nyu.edu/~fb55/data/yc200902_short_with_duration.csv')\n",
    "yc_sd = yc200902_short_with_duration\n",
    "yc_sd.head()"
   ]
  },
  {
   "cell_type": "code",
   "execution_count": 294,
   "metadata": {
    "collapsed": false
   },
   "outputs": [
    {
     "data": {
      "text/plain": [
       "Index(['Unnamed: 0', 'tripDurationHours'], dtype='object')"
      ]
     },
     "execution_count": 294,
     "metadata": {},
     "output_type": "execute_result"
    }
   ],
   "source": [
    "yc_sd.columns"
   ]
  },
  {
   "cell_type": "code",
   "execution_count": 295,
   "metadata": {
    "collapsed": false
   },
   "outputs": [],
   "source": [
    "# merge 'yc200902_short_with_duration' with 'yc_trimmed'\n",
    "yc_merged = yc_trimmed.merge(yc_sd, left_on='Unnamed: 0', right_on='Unnamed: 0', how='inner')"
   ]
  },
  {
   "cell_type": "code",
   "execution_count": 296,
   "metadata": {
    "collapsed": false
   },
   "outputs": [
    {
     "data": {
      "text/html": [
       "<div>\n",
       "<table border=\"1\" class=\"dataframe\">\n",
       "  <thead>\n",
       "    <tr style=\"text-align: right;\">\n",
       "      <th></th>\n",
       "      <th>Unnamed: 0</th>\n",
       "      <th>vendor_name</th>\n",
       "      <th>Trip_Pickup_DateTime</th>\n",
       "      <th>Trip_Dropoff_DateTime</th>\n",
       "      <th>Passenger_Count</th>\n",
       "      <th>Trip_Distance</th>\n",
       "      <th>Start_Lon</th>\n",
       "      <th>Start_Lat</th>\n",
       "      <th>Rate_Code</th>\n",
       "      <th>store_and_forward</th>\n",
       "      <th>End_Lon</th>\n",
       "      <th>End_Lat</th>\n",
       "      <th>Payment_Type</th>\n",
       "      <th>Fare_Amt</th>\n",
       "      <th>surcharge</th>\n",
       "      <th>mta_tax</th>\n",
       "      <th>Tip_Amt</th>\n",
       "      <th>Tolls_Amt</th>\n",
       "      <th>Total_Amt</th>\n",
       "      <th>tripDurationHours</th>\n",
       "    </tr>\n",
       "  </thead>\n",
       "  <tbody>\n",
       "    <tr>\n",
       "      <th>0</th>\n",
       "      <td>0</td>\n",
       "      <td>DDS</td>\n",
       "      <td>2009-02-03 08:25:00</td>\n",
       "      <td>2009-02-03 08:33:39</td>\n",
       "      <td>1</td>\n",
       "      <td>1.60</td>\n",
       "      <td>-73.992768</td>\n",
       "      <td>40.758325</td>\n",
       "      <td>NaN</td>\n",
       "      <td>NaN</td>\n",
       "      <td>-73.994710</td>\n",
       "      <td>40.739723</td>\n",
       "      <td>CASH</td>\n",
       "      <td>6.9</td>\n",
       "      <td>0.0</td>\n",
       "      <td>NaN</td>\n",
       "      <td>0.00</td>\n",
       "      <td>0.0</td>\n",
       "      <td>6.90</td>\n",
       "      <td>0.144167</td>\n",
       "    </tr>\n",
       "    <tr>\n",
       "      <th>1</th>\n",
       "      <td>1000</td>\n",
       "      <td>VTS</td>\n",
       "      <td>2009-02-11 23:03:00</td>\n",
       "      <td>2009-02-11 23:29:00</td>\n",
       "      <td>1</td>\n",
       "      <td>11.95</td>\n",
       "      <td>-73.968478</td>\n",
       "      <td>40.760553</td>\n",
       "      <td>NaN</td>\n",
       "      <td>NaN</td>\n",
       "      <td>-73.972788</td>\n",
       "      <td>40.637433</td>\n",
       "      <td>CASH</td>\n",
       "      <td>28.5</td>\n",
       "      <td>0.5</td>\n",
       "      <td>NaN</td>\n",
       "      <td>0.00</td>\n",
       "      <td>0.0</td>\n",
       "      <td>29.00</td>\n",
       "      <td>0.433333</td>\n",
       "    </tr>\n",
       "    <tr>\n",
       "      <th>2</th>\n",
       "      <td>2000</td>\n",
       "      <td>VTS</td>\n",
       "      <td>2009-02-28 07:22:00</td>\n",
       "      <td>2009-02-28 07:32:00</td>\n",
       "      <td>3</td>\n",
       "      <td>2.86</td>\n",
       "      <td>-73.986690</td>\n",
       "      <td>40.726995</td>\n",
       "      <td>NaN</td>\n",
       "      <td>NaN</td>\n",
       "      <td>-73.988673</td>\n",
       "      <td>40.755612</td>\n",
       "      <td>CASH</td>\n",
       "      <td>9.3</td>\n",
       "      <td>0.0</td>\n",
       "      <td>NaN</td>\n",
       "      <td>0.00</td>\n",
       "      <td>0.0</td>\n",
       "      <td>9.30</td>\n",
       "      <td>0.166667</td>\n",
       "    </tr>\n",
       "    <tr>\n",
       "      <th>3</th>\n",
       "      <td>3000</td>\n",
       "      <td>VTS</td>\n",
       "      <td>2009-02-14 17:02:00</td>\n",
       "      <td>2009-02-14 17:22:00</td>\n",
       "      <td>4</td>\n",
       "      <td>4.60</td>\n",
       "      <td>-73.991188</td>\n",
       "      <td>40.723345</td>\n",
       "      <td>NaN</td>\n",
       "      <td>NaN</td>\n",
       "      <td>-73.946650</td>\n",
       "      <td>40.776628</td>\n",
       "      <td>Credit</td>\n",
       "      <td>14.9</td>\n",
       "      <td>0.0</td>\n",
       "      <td>NaN</td>\n",
       "      <td>2.00</td>\n",
       "      <td>0.0</td>\n",
       "      <td>16.90</td>\n",
       "      <td>0.333333</td>\n",
       "    </tr>\n",
       "    <tr>\n",
       "      <th>4</th>\n",
       "      <td>4000</td>\n",
       "      <td>CMT</td>\n",
       "      <td>2009-02-08 11:54:51</td>\n",
       "      <td>2009-02-08 12:06:43</td>\n",
       "      <td>1</td>\n",
       "      <td>2.40</td>\n",
       "      <td>-73.980833</td>\n",
       "      <td>40.744672</td>\n",
       "      <td>NaN</td>\n",
       "      <td>NaN</td>\n",
       "      <td>-73.984400</td>\n",
       "      <td>40.718905</td>\n",
       "      <td>Credit</td>\n",
       "      <td>9.3</td>\n",
       "      <td>0.0</td>\n",
       "      <td>NaN</td>\n",
       "      <td>1.39</td>\n",
       "      <td>0.0</td>\n",
       "      <td>10.69</td>\n",
       "      <td>0.197778</td>\n",
       "    </tr>\n",
       "  </tbody>\n",
       "</table>\n",
       "</div>"
      ],
      "text/plain": [
       "   Unnamed: 0 vendor_name Trip_Pickup_DateTime Trip_Dropoff_DateTime  \\\n",
       "0           0         DDS  2009-02-03 08:25:00   2009-02-03 08:33:39   \n",
       "1        1000         VTS  2009-02-11 23:03:00   2009-02-11 23:29:00   \n",
       "2        2000         VTS  2009-02-28 07:22:00   2009-02-28 07:32:00   \n",
       "3        3000         VTS  2009-02-14 17:02:00   2009-02-14 17:22:00   \n",
       "4        4000         CMT  2009-02-08 11:54:51   2009-02-08 12:06:43   \n",
       "\n",
       "   Passenger_Count  Trip_Distance  Start_Lon  Start_Lat  Rate_Code  \\\n",
       "0                1           1.60 -73.992768  40.758325        NaN   \n",
       "1                1          11.95 -73.968478  40.760553        NaN   \n",
       "2                3           2.86 -73.986690  40.726995        NaN   \n",
       "3                4           4.60 -73.991188  40.723345        NaN   \n",
       "4                1           2.40 -73.980833  40.744672        NaN   \n",
       "\n",
       "   store_and_forward    End_Lon    End_Lat Payment_Type  Fare_Amt  surcharge  \\\n",
       "0                NaN -73.994710  40.739723         CASH       6.9        0.0   \n",
       "1                NaN -73.972788  40.637433         CASH      28.5        0.5   \n",
       "2                NaN -73.988673  40.755612         CASH       9.3        0.0   \n",
       "3                NaN -73.946650  40.776628       Credit      14.9        0.0   \n",
       "4                NaN -73.984400  40.718905       Credit       9.3        0.0   \n",
       "\n",
       "   mta_tax  Tip_Amt  Tolls_Amt  Total_Amt  tripDurationHours  \n",
       "0      NaN     0.00        0.0       6.90           0.144167  \n",
       "1      NaN     0.00        0.0      29.00           0.433333  \n",
       "2      NaN     0.00        0.0       9.30           0.166667  \n",
       "3      NaN     2.00        0.0      16.90           0.333333  \n",
       "4      NaN     1.39        0.0      10.69           0.197778  "
      ]
     },
     "execution_count": 296,
     "metadata": {},
     "output_type": "execute_result"
    }
   ],
   "source": [
    "yc_merged.head()"
   ]
  },
  {
   "cell_type": "code",
   "execution_count": 297,
   "metadata": {
    "collapsed": false
   },
   "outputs": [],
   "source": [
    "yc_merged_drop = yc_merged[['Unnamed: 0', 'Fare_Amt', 'tripDurationHours', 'Trip_Distance', 'Tip_Amt']]"
   ]
  },
  {
   "cell_type": "code",
   "execution_count": 298,
   "metadata": {
    "collapsed": false
   },
   "outputs": [
    {
     "data": {
      "text/html": [
       "<div>\n",
       "<table border=\"1\" class=\"dataframe\">\n",
       "  <thead>\n",
       "    <tr style=\"text-align: right;\">\n",
       "      <th></th>\n",
       "      <th>Unnamed: 0</th>\n",
       "      <th>Fare_Amt</th>\n",
       "      <th>tripDurationHours</th>\n",
       "      <th>Trip_Distance</th>\n",
       "      <th>Tip_Amt</th>\n",
       "    </tr>\n",
       "  </thead>\n",
       "  <tbody>\n",
       "    <tr>\n",
       "      <th>0</th>\n",
       "      <td>0</td>\n",
       "      <td>6.9</td>\n",
       "      <td>0.144167</td>\n",
       "      <td>1.60</td>\n",
       "      <td>0.00</td>\n",
       "    </tr>\n",
       "    <tr>\n",
       "      <th>1</th>\n",
       "      <td>1000</td>\n",
       "      <td>28.5</td>\n",
       "      <td>0.433333</td>\n",
       "      <td>11.95</td>\n",
       "      <td>0.00</td>\n",
       "    </tr>\n",
       "    <tr>\n",
       "      <th>2</th>\n",
       "      <td>2000</td>\n",
       "      <td>9.3</td>\n",
       "      <td>0.166667</td>\n",
       "      <td>2.86</td>\n",
       "      <td>0.00</td>\n",
       "    </tr>\n",
       "    <tr>\n",
       "      <th>3</th>\n",
       "      <td>3000</td>\n",
       "      <td>14.9</td>\n",
       "      <td>0.333333</td>\n",
       "      <td>4.60</td>\n",
       "      <td>2.00</td>\n",
       "    </tr>\n",
       "    <tr>\n",
       "      <th>4</th>\n",
       "      <td>4000</td>\n",
       "      <td>9.3</td>\n",
       "      <td>0.197778</td>\n",
       "      <td>2.40</td>\n",
       "      <td>1.39</td>\n",
       "    </tr>\n",
       "  </tbody>\n",
       "</table>\n",
       "</div>"
      ],
      "text/plain": [
       "   Unnamed: 0  Fare_Amt  tripDurationHours  Trip_Distance  Tip_Amt\n",
       "0           0       6.9           0.144167           1.60     0.00\n",
       "1        1000      28.5           0.433333          11.95     0.00\n",
       "2        2000       9.3           0.166667           2.86     0.00\n",
       "3        3000      14.9           0.333333           4.60     2.00\n",
       "4        4000       9.3           0.197778           2.40     1.39"
      ]
     },
     "execution_count": 298,
     "metadata": {},
     "output_type": "execute_result"
    }
   ],
   "source": [
    "yc_merged_drop.head()"
   ]
  },
  {
   "cell_type": "code",
   "execution_count": 299,
   "metadata": {
    "collapsed": false
   },
   "outputs": [
    {
     "data": {
      "text/plain": [
       "(13381, 5)"
      ]
     },
     "execution_count": 299,
     "metadata": {},
     "output_type": "execute_result"
    }
   ],
   "source": [
    "yc_merged_drop.shape"
   ]
  },
  {
   "cell_type": "markdown",
   "metadata": {},
   "source": [
    "# 4. Find the departure and destination zipcode of every ride"
   ]
  },
  {
   "cell_type": "code",
   "execution_count": 300,
   "metadata": {
    "collapsed": true
   },
   "outputs": [],
   "source": [
    "# making even this shortcut piece reproducible\n",
    "#!wget http://cosmo.nyu.edu/~fb55/data/departureZIP.csv\n",
    "#!wget http://cosmo.nyu.edu/~fb55/data/destinationZIP.csv\n",
    "\n",
    "# Moving the datasets for zipcode into PUIDATA\n",
    "os.system(\"mv %s %s\"%(\"departureZIP.csv\", os.getenv(\"PUIDATA\")))\n",
    "os.system(\"mv %s %s\"%(\"destinationZIP.csv\", os.getenv(\"PUIDATA\")))\n",
    "\n",
    "# downloading departureZIP.csv and destinationZIP.csv\n",
    "departureZip = pd.read_csv('http://cosmo.nyu.edu/~fb55/data/departureZIP.csv')\n",
    "destinationZip = pd.read_csv('http://cosmo.nyu.edu/~fb55/data/destinationZIP.csv')"
   ]
  },
  {
   "cell_type": "code",
   "execution_count": 301,
   "metadata": {
    "collapsed": false
   },
   "outputs": [
    {
     "data": {
      "text/html": [
       "<div>\n",
       "<table border=\"1\" class=\"dataframe\">\n",
       "  <thead>\n",
       "    <tr style=\"text-align: right;\">\n",
       "      <th></th>\n",
       "      <th>Unnamed: 0</th>\n",
       "      <th>zip_depart</th>\n",
       "    </tr>\n",
       "  </thead>\n",
       "  <tbody>\n",
       "    <tr>\n",
       "      <th>0</th>\n",
       "      <td>0</td>\n",
       "      <td>10036</td>\n",
       "    </tr>\n",
       "    <tr>\n",
       "      <th>1</th>\n",
       "      <td>48000</td>\n",
       "      <td>10036</td>\n",
       "    </tr>\n",
       "    <tr>\n",
       "      <th>2</th>\n",
       "      <td>98000</td>\n",
       "      <td>10036</td>\n",
       "    </tr>\n",
       "    <tr>\n",
       "      <th>3</th>\n",
       "      <td>138000</td>\n",
       "      <td>10036</td>\n",
       "    </tr>\n",
       "    <tr>\n",
       "      <th>4</th>\n",
       "      <td>162000</td>\n",
       "      <td>10036</td>\n",
       "    </tr>\n",
       "  </tbody>\n",
       "</table>\n",
       "</div>"
      ],
      "text/plain": [
       "   Unnamed: 0  zip_depart\n",
       "0           0       10036\n",
       "1       48000       10036\n",
       "2       98000       10036\n",
       "3      138000       10036\n",
       "4      162000       10036"
      ]
     },
     "execution_count": 301,
     "metadata": {},
     "output_type": "execute_result"
    }
   ],
   "source": [
    "departureZip = departureZip[['Unnamed: 0', 'ZIPCODE']]\n",
    "departureZip.rename(columns={'ZIPCODE':'zip_depart'}, inplace=True)\n",
    "departureZip.head()"
   ]
  },
  {
   "cell_type": "code",
   "execution_count": 302,
   "metadata": {
    "collapsed": false
   },
   "outputs": [
    {
     "data": {
      "text/html": [
       "<div>\n",
       "<table border=\"1\" class=\"dataframe\">\n",
       "  <thead>\n",
       "    <tr style=\"text-align: right;\">\n",
       "      <th></th>\n",
       "      <th>Unnamed: 0</th>\n",
       "      <th>zip_dest</th>\n",
       "    </tr>\n",
       "  </thead>\n",
       "  <tbody>\n",
       "    <tr>\n",
       "      <th>0</th>\n",
       "      <td>0</td>\n",
       "      <td>10011</td>\n",
       "    </tr>\n",
       "    <tr>\n",
       "      <th>1</th>\n",
       "      <td>7000</td>\n",
       "      <td>10011</td>\n",
       "    </tr>\n",
       "    <tr>\n",
       "      <th>2</th>\n",
       "      <td>32000</td>\n",
       "      <td>10011</td>\n",
       "    </tr>\n",
       "    <tr>\n",
       "      <th>3</th>\n",
       "      <td>37000</td>\n",
       "      <td>10011</td>\n",
       "    </tr>\n",
       "    <tr>\n",
       "      <th>4</th>\n",
       "      <td>60000</td>\n",
       "      <td>10011</td>\n",
       "    </tr>\n",
       "  </tbody>\n",
       "</table>\n",
       "</div>"
      ],
      "text/plain": [
       "   Unnamed: 0  zip_dest\n",
       "0           0     10011\n",
       "1        7000     10011\n",
       "2       32000     10011\n",
       "3       37000     10011\n",
       "4       60000     10011"
      ]
     },
     "execution_count": 302,
     "metadata": {},
     "output_type": "execute_result"
    }
   ],
   "source": [
    "destinationZip = destinationZip[['Unnamed: 0', 'ZIPCODE']]\n",
    "destinationZip.rename(columns={'ZIPCODE':'zip_dest'}, inplace=True)\n",
    "destinationZip.head()"
   ]
  },
  {
   "cell_type": "markdown",
   "metadata": {},
   "source": [
    "__Now that I had brought in the yellow cab data, IRS data, and start/end zipcode information for each trip, it was time I merged these puppies together!__"
   ]
  },
  {
   "cell_type": "code",
   "execution_count": 304,
   "metadata": {
    "collapsed": false
   },
   "outputs": [
    {
     "data": {
      "text/plain": [
       "(13290, 6)"
      ]
     },
     "execution_count": 304,
     "metadata": {},
     "output_type": "execute_result"
    }
   ],
   "source": [
    "# merge 'yc_merged_drop' with the departure zip codes\n",
    "yc_depart = yc_merged_drop.merge(departureZip, left_on='Unnamed: 0', right_on='Unnamed: 0', how='inner')\n",
    "yc_depart.shape"
   ]
  },
  {
   "cell_type": "code",
   "execution_count": 305,
   "metadata": {
    "collapsed": false
   },
   "outputs": [
    {
     "data": {
      "text/plain": [
       "(13421, 7)"
      ]
     },
     "execution_count": 305,
     "metadata": {},
     "output_type": "execute_result"
    }
   ],
   "source": [
    "# merge 'yc_depart' with the destination zip codes\n",
    "yc_new = yc_depart.merge(destinationZip, left_on='Unnamed: 0', right_on='Unnamed: 0', how='inner')\n",
    "yc_new.shape"
   ]
  },
  {
   "cell_type": "code",
   "execution_count": 306,
   "metadata": {
    "collapsed": false
   },
   "outputs": [
    {
     "data": {
      "text/html": [
       "<div>\n",
       "<table border=\"1\" class=\"dataframe\">\n",
       "  <thead>\n",
       "    <tr style=\"text-align: right;\">\n",
       "      <th></th>\n",
       "      <th>Unnamed: 0</th>\n",
       "      <th>Fare_Amt</th>\n",
       "      <th>tripDurationHours</th>\n",
       "      <th>Trip_Distance</th>\n",
       "      <th>Tip_Amt</th>\n",
       "      <th>zip_depart</th>\n",
       "      <th>zip_dest</th>\n",
       "    </tr>\n",
       "  </thead>\n",
       "  <tbody>\n",
       "    <tr>\n",
       "      <th>0</th>\n",
       "      <td>0</td>\n",
       "      <td>6.9</td>\n",
       "      <td>0.144167</td>\n",
       "      <td>1.60</td>\n",
       "      <td>0.00</td>\n",
       "      <td>10036</td>\n",
       "      <td>10011</td>\n",
       "    </tr>\n",
       "    <tr>\n",
       "      <th>1</th>\n",
       "      <td>1000</td>\n",
       "      <td>28.5</td>\n",
       "      <td>0.433333</td>\n",
       "      <td>11.95</td>\n",
       "      <td>0.00</td>\n",
       "      <td>10022</td>\n",
       "      <td>11218</td>\n",
       "    </tr>\n",
       "    <tr>\n",
       "      <th>2</th>\n",
       "      <td>2000</td>\n",
       "      <td>9.3</td>\n",
       "      <td>0.166667</td>\n",
       "      <td>2.86</td>\n",
       "      <td>0.00</td>\n",
       "      <td>10003</td>\n",
       "      <td>10018</td>\n",
       "    </tr>\n",
       "    <tr>\n",
       "      <th>3</th>\n",
       "      <td>3000</td>\n",
       "      <td>14.9</td>\n",
       "      <td>0.333333</td>\n",
       "      <td>4.60</td>\n",
       "      <td>2.00</td>\n",
       "      <td>10002</td>\n",
       "      <td>10128</td>\n",
       "    </tr>\n",
       "    <tr>\n",
       "      <th>4</th>\n",
       "      <td>4000</td>\n",
       "      <td>9.3</td>\n",
       "      <td>0.197778</td>\n",
       "      <td>2.40</td>\n",
       "      <td>1.39</td>\n",
       "      <td>10016</td>\n",
       "      <td>10002</td>\n",
       "    </tr>\n",
       "  </tbody>\n",
       "</table>\n",
       "</div>"
      ],
      "text/plain": [
       "   Unnamed: 0  Fare_Amt  tripDurationHours  Trip_Distance  Tip_Amt  \\\n",
       "0           0       6.9           0.144167           1.60     0.00   \n",
       "1        1000      28.5           0.433333          11.95     0.00   \n",
       "2        2000       9.3           0.166667           2.86     0.00   \n",
       "3        3000      14.9           0.333333           4.60     2.00   \n",
       "4        4000       9.3           0.197778           2.40     1.39   \n",
       "\n",
       "   zip_depart  zip_dest  \n",
       "0       10036     10011  \n",
       "1       10022     11218  \n",
       "2       10003     10018  \n",
       "3       10002     10128  \n",
       "4       10016     10002  "
      ]
     },
     "execution_count": 306,
     "metadata": {},
     "output_type": "execute_result"
    }
   ],
   "source": [
    "yc_new.head()"
   ]
  },
  {
   "cell_type": "markdown",
   "metadata": {},
   "source": [
    "# 5. Data aggregation task: Join the datasets so that your data contains at least: trip duration, trip distance, fare amount, tip percentage, departure zipcode income, and destination zipcode income"
   ]
  },
  {
   "cell_type": "code",
   "execution_count": 307,
   "metadata": {
    "collapsed": false
   },
   "outputs": [
    {
     "data": {
      "text/html": [
       "<div>\n",
       "<table border=\"1\" class=\"dataframe\">\n",
       "  <thead>\n",
       "    <tr style=\"text-align: right;\">\n",
       "      <th></th>\n",
       "      <th>POPULATION</th>\n",
       "      <th>ZIPCODE</th>\n",
       "      <th>incomePC</th>\n",
       "    </tr>\n",
       "  </thead>\n",
       "  <tbody>\n",
       "    <tr>\n",
       "      <th>0</th>\n",
       "      <td>8859870.0</td>\n",
       "      <td>0</td>\n",
       "      <td>34.735223</td>\n",
       "    </tr>\n",
       "    <tr>\n",
       "      <th>1</th>\n",
       "      <td>12393.0</td>\n",
       "      <td>10001</td>\n",
       "      <td>94.386319</td>\n",
       "    </tr>\n",
       "    <tr>\n",
       "      <th>10</th>\n",
       "      <td>29995.0</td>\n",
       "      <td>10011</td>\n",
       "      <td>121.765217</td>\n",
       "    </tr>\n",
       "    <tr>\n",
       "      <th>100</th>\n",
       "      <td>981.0</td>\n",
       "      <td>10526</td>\n",
       "      <td>62.539512</td>\n",
       "    </tr>\n",
       "    <tr>\n",
       "      <th>1000</th>\n",
       "      <td>705.0</td>\n",
       "      <td>13335</td>\n",
       "      <td>19.930311</td>\n",
       "    </tr>\n",
       "  </tbody>\n",
       "</table>\n",
       "</div>"
      ],
      "text/plain": [
       "      POPULATION ZIPCODE    incomePC\n",
       "0      8859870.0       0   34.735223\n",
       "1        12393.0   10001   94.386319\n",
       "10       29995.0   10011  121.765217\n",
       "100        981.0   10526   62.539512\n",
       "1000       705.0   13335   19.930311"
      ]
     },
     "execution_count": 307,
     "metadata": {},
     "output_type": "execute_result"
    }
   ],
   "source": [
    "zipincome.head()"
   ]
  },
  {
   "cell_type": "code",
   "execution_count": 308,
   "metadata": {
    "collapsed": false
   },
   "outputs": [
    {
     "data": {
      "text/html": [
       "<div>\n",
       "<table border=\"1\" class=\"dataframe\">\n",
       "  <thead>\n",
       "    <tr style=\"text-align: right;\">\n",
       "      <th></th>\n",
       "      <th>Unnamed: 0</th>\n",
       "      <th>Fare_Amt</th>\n",
       "      <th>tripDurationHours</th>\n",
       "      <th>Trip_Distance</th>\n",
       "      <th>Tip_Amt</th>\n",
       "      <th>zip_depart</th>\n",
       "      <th>zip_dest</th>\n",
       "    </tr>\n",
       "  </thead>\n",
       "  <tbody>\n",
       "    <tr>\n",
       "      <th>0</th>\n",
       "      <td>0</td>\n",
       "      <td>6.9</td>\n",
       "      <td>0.144167</td>\n",
       "      <td>1.60</td>\n",
       "      <td>0.00</td>\n",
       "      <td>10036</td>\n",
       "      <td>10011</td>\n",
       "    </tr>\n",
       "    <tr>\n",
       "      <th>1</th>\n",
       "      <td>1000</td>\n",
       "      <td>28.5</td>\n",
       "      <td>0.433333</td>\n",
       "      <td>11.95</td>\n",
       "      <td>0.00</td>\n",
       "      <td>10022</td>\n",
       "      <td>11218</td>\n",
       "    </tr>\n",
       "    <tr>\n",
       "      <th>2</th>\n",
       "      <td>2000</td>\n",
       "      <td>9.3</td>\n",
       "      <td>0.166667</td>\n",
       "      <td>2.86</td>\n",
       "      <td>0.00</td>\n",
       "      <td>10003</td>\n",
       "      <td>10018</td>\n",
       "    </tr>\n",
       "    <tr>\n",
       "      <th>3</th>\n",
       "      <td>3000</td>\n",
       "      <td>14.9</td>\n",
       "      <td>0.333333</td>\n",
       "      <td>4.60</td>\n",
       "      <td>2.00</td>\n",
       "      <td>10002</td>\n",
       "      <td>10128</td>\n",
       "    </tr>\n",
       "    <tr>\n",
       "      <th>4</th>\n",
       "      <td>4000</td>\n",
       "      <td>9.3</td>\n",
       "      <td>0.197778</td>\n",
       "      <td>2.40</td>\n",
       "      <td>1.39</td>\n",
       "      <td>10016</td>\n",
       "      <td>10002</td>\n",
       "    </tr>\n",
       "  </tbody>\n",
       "</table>\n",
       "</div>"
      ],
      "text/plain": [
       "   Unnamed: 0  Fare_Amt  tripDurationHours  Trip_Distance  Tip_Amt  \\\n",
       "0           0       6.9           0.144167           1.60     0.00   \n",
       "1        1000      28.5           0.433333          11.95     0.00   \n",
       "2        2000       9.3           0.166667           2.86     0.00   \n",
       "3        3000      14.9           0.333333           4.60     2.00   \n",
       "4        4000       9.3           0.197778           2.40     1.39   \n",
       "\n",
       "   zip_depart  zip_dest  \n",
       "0       10036     10011  \n",
       "1       10022     11218  \n",
       "2       10003     10018  \n",
       "3       10002     10128  \n",
       "4       10016     10002  "
      ]
     },
     "execution_count": 308,
     "metadata": {},
     "output_type": "execute_result"
    }
   ],
   "source": [
    "yc_new.head()"
   ]
  },
  {
   "cell_type": "code",
   "execution_count": 309,
   "metadata": {
    "collapsed": false
   },
   "outputs": [],
   "source": [
    "# before merging, both zip columns need to be the same datatype\n",
    "zipincome['ZIPCODE'] = zipincome['ZIPCODE'].astype(float)"
   ]
  },
  {
   "cell_type": "markdown",
   "metadata": {},
   "source": [
    "__I realize here that I should have converted the other zipcode column to integer instead of converting this one into float, but in the interest of time I made the decision to just convert one column instead of two. My apologies!__"
   ]
  },
  {
   "cell_type": "code",
   "execution_count": 311,
   "metadata": {
    "collapsed": false
   },
   "outputs": [
    {
     "data": {
      "text/html": [
       "<div>\n",
       "<table border=\"1\" class=\"dataframe\">\n",
       "  <thead>\n",
       "    <tr style=\"text-align: right;\">\n",
       "      <th></th>\n",
       "      <th>POPULATION</th>\n",
       "      <th>ZIPCODE</th>\n",
       "      <th>incomePC</th>\n",
       "    </tr>\n",
       "  </thead>\n",
       "  <tbody>\n",
       "    <tr>\n",
       "      <th>0</th>\n",
       "      <td>8859870.0</td>\n",
       "      <td>0.0</td>\n",
       "      <td>34.735223</td>\n",
       "    </tr>\n",
       "    <tr>\n",
       "      <th>1</th>\n",
       "      <td>12393.0</td>\n",
       "      <td>10001.0</td>\n",
       "      <td>94.386319</td>\n",
       "    </tr>\n",
       "    <tr>\n",
       "      <th>10</th>\n",
       "      <td>29995.0</td>\n",
       "      <td>10011.0</td>\n",
       "      <td>121.765217</td>\n",
       "    </tr>\n",
       "    <tr>\n",
       "      <th>100</th>\n",
       "      <td>981.0</td>\n",
       "      <td>10526.0</td>\n",
       "      <td>62.539512</td>\n",
       "    </tr>\n",
       "    <tr>\n",
       "      <th>1000</th>\n",
       "      <td>705.0</td>\n",
       "      <td>13335.0</td>\n",
       "      <td>19.930311</td>\n",
       "    </tr>\n",
       "  </tbody>\n",
       "</table>\n",
       "</div>"
      ],
      "text/plain": [
       "      POPULATION  ZIPCODE    incomePC\n",
       "0      8859870.0      0.0   34.735223\n",
       "1        12393.0  10001.0   94.386319\n",
       "10       29995.0  10011.0  121.765217\n",
       "100        981.0  10526.0   62.539512\n",
       "1000       705.0  13335.0   19.930311"
      ]
     },
     "execution_count": 311,
     "metadata": {},
     "output_type": "execute_result"
    }
   ],
   "source": [
    "zipincome.head()"
   ]
  },
  {
   "cell_type": "code",
   "execution_count": 312,
   "metadata": {
    "collapsed": false
   },
   "outputs": [
    {
     "data": {
      "text/html": [
       "<div>\n",
       "<table border=\"1\" class=\"dataframe\">\n",
       "  <thead>\n",
       "    <tr style=\"text-align: right;\">\n",
       "      <th></th>\n",
       "      <th>Unnamed: 0</th>\n",
       "      <th>Fare_Amt</th>\n",
       "      <th>tripDurationHours</th>\n",
       "      <th>Trip_Distance</th>\n",
       "      <th>Tip_Amt</th>\n",
       "      <th>zip_depart</th>\n",
       "      <th>zip_dest</th>\n",
       "      <th>POPULATION</th>\n",
       "      <th>ZIPCODE</th>\n",
       "      <th>incomePC</th>\n",
       "    </tr>\n",
       "  </thead>\n",
       "  <tbody>\n",
       "    <tr>\n",
       "      <th>0</th>\n",
       "      <td>0</td>\n",
       "      <td>6.9</td>\n",
       "      <td>0.144167</td>\n",
       "      <td>1.60</td>\n",
       "      <td>0.0</td>\n",
       "      <td>10036</td>\n",
       "      <td>10011</td>\n",
       "      <td>17454.0</td>\n",
       "      <td>10036.0</td>\n",
       "      <td>120.643519</td>\n",
       "    </tr>\n",
       "    <tr>\n",
       "      <th>1</th>\n",
       "      <td>48000</td>\n",
       "      <td>5.7</td>\n",
       "      <td>0.116667</td>\n",
       "      <td>1.01</td>\n",
       "      <td>0.0</td>\n",
       "      <td>10036</td>\n",
       "      <td>10019</td>\n",
       "      <td>17454.0</td>\n",
       "      <td>10036.0</td>\n",
       "      <td>120.643519</td>\n",
       "    </tr>\n",
       "    <tr>\n",
       "      <th>2</th>\n",
       "      <td>98000</td>\n",
       "      <td>6.1</td>\n",
       "      <td>0.150000</td>\n",
       "      <td>1.16</td>\n",
       "      <td>0.0</td>\n",
       "      <td>10036</td>\n",
       "      <td>10022</td>\n",
       "      <td>17454.0</td>\n",
       "      <td>10036.0</td>\n",
       "      <td>120.643519</td>\n",
       "    </tr>\n",
       "    <tr>\n",
       "      <th>3</th>\n",
       "      <td>138000</td>\n",
       "      <td>5.7</td>\n",
       "      <td>0.116667</td>\n",
       "      <td>0.80</td>\n",
       "      <td>0.0</td>\n",
       "      <td>10036</td>\n",
       "      <td>10001</td>\n",
       "      <td>17454.0</td>\n",
       "      <td>10036.0</td>\n",
       "      <td>120.643519</td>\n",
       "    </tr>\n",
       "    <tr>\n",
       "      <th>4</th>\n",
       "      <td>138000</td>\n",
       "      <td>5.7</td>\n",
       "      <td>0.116667</td>\n",
       "      <td>0.80</td>\n",
       "      <td>0.0</td>\n",
       "      <td>10036</td>\n",
       "      <td>10119</td>\n",
       "      <td>17454.0</td>\n",
       "      <td>10036.0</td>\n",
       "      <td>120.643519</td>\n",
       "    </tr>\n",
       "  </tbody>\n",
       "</table>\n",
       "</div>"
      ],
      "text/plain": [
       "   Unnamed: 0  Fare_Amt  tripDurationHours  Trip_Distance  Tip_Amt  \\\n",
       "0           0       6.9           0.144167           1.60      0.0   \n",
       "1       48000       5.7           0.116667           1.01      0.0   \n",
       "2       98000       6.1           0.150000           1.16      0.0   \n",
       "3      138000       5.7           0.116667           0.80      0.0   \n",
       "4      138000       5.7           0.116667           0.80      0.0   \n",
       "\n",
       "   zip_depart  zip_dest  POPULATION  ZIPCODE    incomePC  \n",
       "0       10036     10011     17454.0  10036.0  120.643519  \n",
       "1       10036     10019     17454.0  10036.0  120.643519  \n",
       "2       10036     10022     17454.0  10036.0  120.643519  \n",
       "3       10036     10001     17454.0  10036.0  120.643519  \n",
       "4       10036     10119     17454.0  10036.0  120.643519  "
      ]
     },
     "execution_count": 312,
     "metadata": {},
     "output_type": "execute_result"
    }
   ],
   "source": [
    "# merging zipincome with zip_depart\n",
    "yc_new1 = yc_new.merge(zipincome, left_on='zip_depart', right_on='ZIPCODE', how='inner')\n",
    "yc_new1.head()"
   ]
  },
  {
   "cell_type": "code",
   "execution_count": 313,
   "metadata": {
    "collapsed": false
   },
   "outputs": [
    {
     "data": {
      "text/plain": [
       "Index(['Unnamed: 0', 'Fare_Amt', 'tripDurationHours', 'Trip_Distance',\n",
       "       'Tip_Amt', 'zip_depart', 'zip_dest', 'POPULATION', 'ZIPCODE',\n",
       "       'income_departure'],\n",
       "      dtype='object')"
      ]
     },
     "execution_count": 313,
     "metadata": {},
     "output_type": "execute_result"
    }
   ],
   "source": [
    "yc_new1.rename(columns={'incomePC':'income_departure'}, inplace=True)\n",
    "yc_new1.columns"
   ]
  },
  {
   "cell_type": "code",
   "execution_count": 314,
   "metadata": {
    "collapsed": false
   },
   "outputs": [
    {
     "data": {
      "text/html": [
       "<div>\n",
       "<table border=\"1\" class=\"dataframe\">\n",
       "  <thead>\n",
       "    <tr style=\"text-align: right;\">\n",
       "      <th></th>\n",
       "      <th>Unnamed: 0</th>\n",
       "      <th>Fare_Amt</th>\n",
       "      <th>tripDurationHours</th>\n",
       "      <th>Trip_Distance</th>\n",
       "      <th>Tip_Amt</th>\n",
       "      <th>income_departure</th>\n",
       "      <th>zip_dest</th>\n",
       "    </tr>\n",
       "  </thead>\n",
       "  <tbody>\n",
       "    <tr>\n",
       "      <th>0</th>\n",
       "      <td>0</td>\n",
       "      <td>6.9</td>\n",
       "      <td>0.144167</td>\n",
       "      <td>1.60</td>\n",
       "      <td>0.0</td>\n",
       "      <td>120.643519</td>\n",
       "      <td>10011</td>\n",
       "    </tr>\n",
       "    <tr>\n",
       "      <th>1</th>\n",
       "      <td>48000</td>\n",
       "      <td>5.7</td>\n",
       "      <td>0.116667</td>\n",
       "      <td>1.01</td>\n",
       "      <td>0.0</td>\n",
       "      <td>120.643519</td>\n",
       "      <td>10019</td>\n",
       "    </tr>\n",
       "    <tr>\n",
       "      <th>2</th>\n",
       "      <td>98000</td>\n",
       "      <td>6.1</td>\n",
       "      <td>0.150000</td>\n",
       "      <td>1.16</td>\n",
       "      <td>0.0</td>\n",
       "      <td>120.643519</td>\n",
       "      <td>10022</td>\n",
       "    </tr>\n",
       "    <tr>\n",
       "      <th>3</th>\n",
       "      <td>138000</td>\n",
       "      <td>5.7</td>\n",
       "      <td>0.116667</td>\n",
       "      <td>0.80</td>\n",
       "      <td>0.0</td>\n",
       "      <td>120.643519</td>\n",
       "      <td>10001</td>\n",
       "    </tr>\n",
       "    <tr>\n",
       "      <th>4</th>\n",
       "      <td>138000</td>\n",
       "      <td>5.7</td>\n",
       "      <td>0.116667</td>\n",
       "      <td>0.80</td>\n",
       "      <td>0.0</td>\n",
       "      <td>120.643519</td>\n",
       "      <td>10119</td>\n",
       "    </tr>\n",
       "  </tbody>\n",
       "</table>\n",
       "</div>"
      ],
      "text/plain": [
       "   Unnamed: 0  Fare_Amt  tripDurationHours  Trip_Distance  Tip_Amt  \\\n",
       "0           0       6.9           0.144167           1.60      0.0   \n",
       "1       48000       5.7           0.116667           1.01      0.0   \n",
       "2       98000       6.1           0.150000           1.16      0.0   \n",
       "3      138000       5.7           0.116667           0.80      0.0   \n",
       "4      138000       5.7           0.116667           0.80      0.0   \n",
       "\n",
       "   income_departure  zip_dest  \n",
       "0        120.643519     10011  \n",
       "1        120.643519     10019  \n",
       "2        120.643519     10022  \n",
       "3        120.643519     10001  \n",
       "4        120.643519     10119  "
      ]
     },
     "execution_count": 314,
     "metadata": {},
     "output_type": "execute_result"
    }
   ],
   "source": [
    "yc_new1 = yc_new1[['Unnamed: 0', 'Fare_Amt', 'tripDurationHours', 'Trip_Distance', 'Tip_Amt', 'income_departure', 'zip_dest']]\n",
    "yc_new1.head()"
   ]
  },
  {
   "cell_type": "code",
   "execution_count": 315,
   "metadata": {
    "collapsed": false
   },
   "outputs": [
    {
     "data": {
      "text/html": [
       "<div>\n",
       "<table border=\"1\" class=\"dataframe\">\n",
       "  <thead>\n",
       "    <tr style=\"text-align: right;\">\n",
       "      <th></th>\n",
       "      <th>Unnamed: 0</th>\n",
       "      <th>Fare_Amt</th>\n",
       "      <th>tripDurationHours</th>\n",
       "      <th>Trip_Distance</th>\n",
       "      <th>Tip_Amt</th>\n",
       "      <th>income_departure</th>\n",
       "      <th>zip_dest</th>\n",
       "      <th>POPULATION</th>\n",
       "      <th>ZIPCODE</th>\n",
       "      <th>incomePC</th>\n",
       "    </tr>\n",
       "  </thead>\n",
       "  <tbody>\n",
       "    <tr>\n",
       "      <th>0</th>\n",
       "      <td>0</td>\n",
       "      <td>6.9</td>\n",
       "      <td>0.144167</td>\n",
       "      <td>1.60</td>\n",
       "      <td>0.0</td>\n",
       "      <td>120.643519</td>\n",
       "      <td>10011</td>\n",
       "      <td>29995.0</td>\n",
       "      <td>10011.0</td>\n",
       "      <td>121.765217</td>\n",
       "    </tr>\n",
       "    <tr>\n",
       "      <th>1</th>\n",
       "      <td>192000</td>\n",
       "      <td>6.9</td>\n",
       "      <td>0.199444</td>\n",
       "      <td>1.70</td>\n",
       "      <td>0.0</td>\n",
       "      <td>120.643519</td>\n",
       "      <td>10011</td>\n",
       "      <td>29995.0</td>\n",
       "      <td>10011.0</td>\n",
       "      <td>121.765217</td>\n",
       "    </tr>\n",
       "    <tr>\n",
       "      <th>2</th>\n",
       "      <td>398000</td>\n",
       "      <td>9.9</td>\n",
       "      <td>0.197222</td>\n",
       "      <td>2.30</td>\n",
       "      <td>0.0</td>\n",
       "      <td>120.643519</td>\n",
       "      <td>10011</td>\n",
       "      <td>29995.0</td>\n",
       "      <td>10011.0</td>\n",
       "      <td>121.765217</td>\n",
       "    </tr>\n",
       "    <tr>\n",
       "      <th>3</th>\n",
       "      <td>769000</td>\n",
       "      <td>7.3</td>\n",
       "      <td>0.150000</td>\n",
       "      <td>1.85</td>\n",
       "      <td>0.0</td>\n",
       "      <td>120.643519</td>\n",
       "      <td>10011</td>\n",
       "      <td>29995.0</td>\n",
       "      <td>10011.0</td>\n",
       "      <td>121.765217</td>\n",
       "    </tr>\n",
       "    <tr>\n",
       "      <th>4</th>\n",
       "      <td>1708000</td>\n",
       "      <td>5.7</td>\n",
       "      <td>0.100000</td>\n",
       "      <td>1.37</td>\n",
       "      <td>0.0</td>\n",
       "      <td>120.643519</td>\n",
       "      <td>10011</td>\n",
       "      <td>29995.0</td>\n",
       "      <td>10011.0</td>\n",
       "      <td>121.765217</td>\n",
       "    </tr>\n",
       "  </tbody>\n",
       "</table>\n",
       "</div>"
      ],
      "text/plain": [
       "   Unnamed: 0  Fare_Amt  tripDurationHours  Trip_Distance  Tip_Amt  \\\n",
       "0           0       6.9           0.144167           1.60      0.0   \n",
       "1      192000       6.9           0.199444           1.70      0.0   \n",
       "2      398000       9.9           0.197222           2.30      0.0   \n",
       "3      769000       7.3           0.150000           1.85      0.0   \n",
       "4     1708000       5.7           0.100000           1.37      0.0   \n",
       "\n",
       "   income_departure  zip_dest  POPULATION  ZIPCODE    incomePC  \n",
       "0        120.643519     10011     29995.0  10011.0  121.765217  \n",
       "1        120.643519     10011     29995.0  10011.0  121.765217  \n",
       "2        120.643519     10011     29995.0  10011.0  121.765217  \n",
       "3        120.643519     10011     29995.0  10011.0  121.765217  \n",
       "4        120.643519     10011     29995.0  10011.0  121.765217  "
      ]
     },
     "execution_count": 315,
     "metadata": {},
     "output_type": "execute_result"
    }
   ],
   "source": [
    "# merging zipincome with zip_dest\n",
    "yc_new1 = yc_new1.merge(zipincome, left_on='zip_dest', right_on='ZIPCODE', how='inner')\n",
    "yc_new1.head()"
   ]
  },
  {
   "cell_type": "code",
   "execution_count": 316,
   "metadata": {
    "collapsed": false
   },
   "outputs": [
    {
     "data": {
      "text/plain": [
       "Index(['Unnamed: 0', 'Fare_Amt', 'tripDurationHours', 'Trip_Distance',\n",
       "       'Tip_Amt', 'income_departure', 'zip_dest', 'POPULATION', 'ZIPCODE',\n",
       "       'income_dest'],\n",
       "      dtype='object')"
      ]
     },
     "execution_count": 316,
     "metadata": {},
     "output_type": "execute_result"
    }
   ],
   "source": [
    "yc_new1.rename(columns={'incomePC':'income_dest'}, inplace=True)\n",
    "yc_new1.columns"
   ]
  },
  {
   "cell_type": "code",
   "execution_count": 317,
   "metadata": {
    "collapsed": false
   },
   "outputs": [
    {
     "data": {
      "text/html": [
       "<div>\n",
       "<table border=\"1\" class=\"dataframe\">\n",
       "  <thead>\n",
       "    <tr style=\"text-align: right;\">\n",
       "      <th></th>\n",
       "      <th>Fare_Amt</th>\n",
       "      <th>tripDurationHours</th>\n",
       "      <th>Trip_Distance</th>\n",
       "      <th>Tip_Amt</th>\n",
       "      <th>income_departure</th>\n",
       "      <th>income_dest</th>\n",
       "    </tr>\n",
       "  </thead>\n",
       "  <tbody>\n",
       "    <tr>\n",
       "      <th>0</th>\n",
       "      <td>6.9</td>\n",
       "      <td>0.144167</td>\n",
       "      <td>1.60</td>\n",
       "      <td>0.0</td>\n",
       "      <td>120.643519</td>\n",
       "      <td>121.765217</td>\n",
       "    </tr>\n",
       "    <tr>\n",
       "      <th>1</th>\n",
       "      <td>6.9</td>\n",
       "      <td>0.199444</td>\n",
       "      <td>1.70</td>\n",
       "      <td>0.0</td>\n",
       "      <td>120.643519</td>\n",
       "      <td>121.765217</td>\n",
       "    </tr>\n",
       "    <tr>\n",
       "      <th>2</th>\n",
       "      <td>9.9</td>\n",
       "      <td>0.197222</td>\n",
       "      <td>2.30</td>\n",
       "      <td>0.0</td>\n",
       "      <td>120.643519</td>\n",
       "      <td>121.765217</td>\n",
       "    </tr>\n",
       "    <tr>\n",
       "      <th>3</th>\n",
       "      <td>7.3</td>\n",
       "      <td>0.150000</td>\n",
       "      <td>1.85</td>\n",
       "      <td>0.0</td>\n",
       "      <td>120.643519</td>\n",
       "      <td>121.765217</td>\n",
       "    </tr>\n",
       "    <tr>\n",
       "      <th>4</th>\n",
       "      <td>5.7</td>\n",
       "      <td>0.100000</td>\n",
       "      <td>1.37</td>\n",
       "      <td>0.0</td>\n",
       "      <td>120.643519</td>\n",
       "      <td>121.765217</td>\n",
       "    </tr>\n",
       "  </tbody>\n",
       "</table>\n",
       "</div>"
      ],
      "text/plain": [
       "   Fare_Amt  tripDurationHours  Trip_Distance  Tip_Amt  income_departure  \\\n",
       "0       6.9           0.144167           1.60      0.0        120.643519   \n",
       "1       6.9           0.199444           1.70      0.0        120.643519   \n",
       "2       9.9           0.197222           2.30      0.0        120.643519   \n",
       "3       7.3           0.150000           1.85      0.0        120.643519   \n",
       "4       5.7           0.100000           1.37      0.0        120.643519   \n",
       "\n",
       "   income_dest  \n",
       "0   121.765217  \n",
       "1   121.765217  \n",
       "2   121.765217  \n",
       "3   121.765217  \n",
       "4   121.765217  "
      ]
     },
     "execution_count": 317,
     "metadata": {},
     "output_type": "execute_result"
    }
   ],
   "source": [
    "# creating a new dataframe with just the columns I need\n",
    "yc_new2 = yc_new1[['Fare_Amt', 'tripDurationHours', 'Trip_Distance',\n",
    "       'Tip_Amt', 'income_departure', 'income_dest']]\n",
    "yc_new2.head()"
   ]
  },
  {
   "cell_type": "code",
   "execution_count": 318,
   "metadata": {
    "collapsed": false
   },
   "outputs": [
    {
     "name": "stderr",
     "output_type": "stream",
     "text": [
      "/opt/rh/anaconda/root/envs/PUI2016_Python3/lib/python3.5/site-packages/ipykernel/__main__.py:2: SettingWithCopyWarning: \n",
      "A value is trying to be set on a copy of a slice from a DataFrame.\n",
      "Try using .loc[row_indexer,col_indexer] = value instead\n",
      "\n",
      "See the caveats in the documentation: http://pandas.pydata.org/pandas-docs/stable/indexing.html#indexing-view-versus-copy\n",
      "  from ipykernel import kernelapp as app\n"
     ]
    },
    {
     "data": {
      "text/html": [
       "<div>\n",
       "<table border=\"1\" class=\"dataframe\">\n",
       "  <thead>\n",
       "    <tr style=\"text-align: right;\">\n",
       "      <th></th>\n",
       "      <th>Fare_Amt</th>\n",
       "      <th>tripDurationHours</th>\n",
       "      <th>Trip_Distance</th>\n",
       "      <th>Tip_Amt</th>\n",
       "      <th>income_departure</th>\n",
       "      <th>income_dest</th>\n",
       "    </tr>\n",
       "  </thead>\n",
       "  <tbody>\n",
       "    <tr>\n",
       "      <th>0</th>\n",
       "      <td>6.9</td>\n",
       "      <td>0.144167</td>\n",
       "      <td>1.60</td>\n",
       "      <td>0.000000</td>\n",
       "      <td>120.643519</td>\n",
       "      <td>121.765217</td>\n",
       "    </tr>\n",
       "    <tr>\n",
       "      <th>1</th>\n",
       "      <td>6.9</td>\n",
       "      <td>0.199444</td>\n",
       "      <td>1.70</td>\n",
       "      <td>0.000000</td>\n",
       "      <td>120.643519</td>\n",
       "      <td>121.765217</td>\n",
       "    </tr>\n",
       "    <tr>\n",
       "      <th>2</th>\n",
       "      <td>9.9</td>\n",
       "      <td>0.197222</td>\n",
       "      <td>2.30</td>\n",
       "      <td>0.000000</td>\n",
       "      <td>120.643519</td>\n",
       "      <td>121.765217</td>\n",
       "    </tr>\n",
       "    <tr>\n",
       "      <th>3</th>\n",
       "      <td>7.3</td>\n",
       "      <td>0.150000</td>\n",
       "      <td>1.85</td>\n",
       "      <td>13.422819</td>\n",
       "      <td>120.643519</td>\n",
       "      <td>121.765217</td>\n",
       "    </tr>\n",
       "    <tr>\n",
       "      <th>4</th>\n",
       "      <td>5.7</td>\n",
       "      <td>0.100000</td>\n",
       "      <td>1.37</td>\n",
       "      <td>14.946237</td>\n",
       "      <td>120.643519</td>\n",
       "      <td>121.765217</td>\n",
       "    </tr>\n",
       "  </tbody>\n",
       "</table>\n",
       "</div>"
      ],
      "text/plain": [
       "   Fare_Amt  tripDurationHours  Trip_Distance    Tip_Amt  income_departure  \\\n",
       "0       6.9           0.144167           1.60   0.000000        120.643519   \n",
       "1       6.9           0.199444           1.70   0.000000        120.643519   \n",
       "2       9.9           0.197222           2.30   0.000000        120.643519   \n",
       "3       7.3           0.150000           1.85  13.422819        120.643519   \n",
       "4       5.7           0.100000           1.37  14.946237        120.643519   \n",
       "\n",
       "   income_dest  \n",
       "0   121.765217  \n",
       "1   121.765217  \n",
       "2   121.765217  \n",
       "3   121.765217  \n",
       "4   121.765217  "
      ]
     },
     "execution_count": 318,
     "metadata": {},
     "output_type": "execute_result"
    }
   ],
   "source": [
    "# convert Tip_Amt into Tip percentage\n",
    "yc_new2['Tip_Amt'] = yc_new['Tip_Amt'] / yc_new['Fare_Amt'] * 100\n",
    "yc_new2.head()"
   ]
  },
  {
   "cell_type": "code",
   "execution_count": 319,
   "metadata": {
    "collapsed": false
   },
   "outputs": [
    {
     "name": "stderr",
     "output_type": "stream",
     "text": [
      "/opt/rh/anaconda/root/envs/PUI2016_Python3/lib/python3.5/site-packages/pandas/core/frame.py:2754: SettingWithCopyWarning: \n",
      "A value is trying to be set on a copy of a slice from a DataFrame\n",
      "\n",
      "See the caveats in the documentation: http://pandas.pydata.org/pandas-docs/stable/indexing.html#indexing-view-versus-copy\n",
      "  **kwargs)\n"
     ]
    },
    {
     "data": {
      "text/html": [
       "<div>\n",
       "<table border=\"1\" class=\"dataframe\">\n",
       "  <thead>\n",
       "    <tr style=\"text-align: right;\">\n",
       "      <th></th>\n",
       "      <th>Fare_Amt</th>\n",
       "      <th>tripDurationHours</th>\n",
       "      <th>Trip_Distance</th>\n",
       "      <th>tipPC</th>\n",
       "      <th>income_departure</th>\n",
       "      <th>income_dest</th>\n",
       "    </tr>\n",
       "  </thead>\n",
       "  <tbody>\n",
       "    <tr>\n",
       "      <th>0</th>\n",
       "      <td>6.9</td>\n",
       "      <td>0.144167</td>\n",
       "      <td>1.60</td>\n",
       "      <td>0.000000</td>\n",
       "      <td>120.643519</td>\n",
       "      <td>121.765217</td>\n",
       "    </tr>\n",
       "    <tr>\n",
       "      <th>1</th>\n",
       "      <td>6.9</td>\n",
       "      <td>0.199444</td>\n",
       "      <td>1.70</td>\n",
       "      <td>0.000000</td>\n",
       "      <td>120.643519</td>\n",
       "      <td>121.765217</td>\n",
       "    </tr>\n",
       "    <tr>\n",
       "      <th>2</th>\n",
       "      <td>9.9</td>\n",
       "      <td>0.197222</td>\n",
       "      <td>2.30</td>\n",
       "      <td>0.000000</td>\n",
       "      <td>120.643519</td>\n",
       "      <td>121.765217</td>\n",
       "    </tr>\n",
       "    <tr>\n",
       "      <th>3</th>\n",
       "      <td>7.3</td>\n",
       "      <td>0.150000</td>\n",
       "      <td>1.85</td>\n",
       "      <td>13.422819</td>\n",
       "      <td>120.643519</td>\n",
       "      <td>121.765217</td>\n",
       "    </tr>\n",
       "    <tr>\n",
       "      <th>4</th>\n",
       "      <td>5.7</td>\n",
       "      <td>0.100000</td>\n",
       "      <td>1.37</td>\n",
       "      <td>14.946237</td>\n",
       "      <td>120.643519</td>\n",
       "      <td>121.765217</td>\n",
       "    </tr>\n",
       "  </tbody>\n",
       "</table>\n",
       "</div>"
      ],
      "text/plain": [
       "   Fare_Amt  tripDurationHours  Trip_Distance      tipPC  income_departure  \\\n",
       "0       6.9           0.144167           1.60   0.000000        120.643519   \n",
       "1       6.9           0.199444           1.70   0.000000        120.643519   \n",
       "2       9.9           0.197222           2.30   0.000000        120.643519   \n",
       "3       7.3           0.150000           1.85  13.422819        120.643519   \n",
       "4       5.7           0.100000           1.37  14.946237        120.643519   \n",
       "\n",
       "   income_dest  \n",
       "0   121.765217  \n",
       "1   121.765217  \n",
       "2   121.765217  \n",
       "3   121.765217  \n",
       "4   121.765217  "
      ]
     },
     "execution_count": 319,
     "metadata": {},
     "output_type": "execute_result"
    }
   ],
   "source": [
    "# rename Tip_Amt to reflect new value: TipPC\n",
    "yc_new2.rename(columns={'Tip_Amt':'tipPC'}, inplace=True)\n",
    "yc_new2.head()"
   ]
  },
  {
   "cell_type": "markdown",
   "metadata": {},
   "source": [
    "# ANALYSIS PORTION"
   ]
  },
  {
   "cell_type": "markdown",
   "metadata": {},
   "source": [
    "## 6. Plot the distribution of tip percentages and describe its first and second moment."
   ]
  },
  {
   "cell_type": "code",
   "execution_count": 320,
   "metadata": {
    "collapsed": false
   },
   "outputs": [
    {
     "data": {
      "text/plain": [
       "Fare_Amt             0\n",
       "tripDurationHours    0\n",
       "Trip_Distance        0\n",
       "tipPC                0\n",
       "income_departure     0\n",
       "income_dest          0\n",
       "dtype: int64"
      ]
     },
     "execution_count": 320,
     "metadata": {},
     "output_type": "execute_result"
    }
   ],
   "source": [
    "# getting rid of null values and then providing description to show success in that endeavor\n",
    "yc_new2.dropna()\n",
    "yc_new2.isnull().sum()"
   ]
  },
  {
   "cell_type": "code",
   "execution_count": 160,
   "metadata": {
    "collapsed": false
   },
   "outputs": [
    {
     "data": {
      "text/html": [
       "<div>\n",
       "<table border=\"1\" class=\"dataframe\">\n",
       "  <thead>\n",
       "    <tr style=\"text-align: right;\">\n",
       "      <th></th>\n",
       "      <th>Fare_Amt</th>\n",
       "      <th>tripDurationHours</th>\n",
       "      <th>Trip_Distance</th>\n",
       "      <th>tipPC</th>\n",
       "      <th>income_departure</th>\n",
       "      <th>income_dest</th>\n",
       "    </tr>\n",
       "  </thead>\n",
       "  <tbody>\n",
       "    <tr>\n",
       "      <th>count</th>\n",
       "      <td>12253.000000</td>\n",
       "      <td>12253.000000</td>\n",
       "      <td>12253.000000</td>\n",
       "      <td>12253.000000</td>\n",
       "      <td>12253.000000</td>\n",
       "      <td>12253.000000</td>\n",
       "    </tr>\n",
       "    <tr>\n",
       "      <th>mean</th>\n",
       "      <td>9.249168</td>\n",
       "      <td>0.184321</td>\n",
       "      <td>2.442429</td>\n",
       "      <td>4.890716</td>\n",
       "      <td>140.614077</td>\n",
       "      <td>135.066641</td>\n",
       "    </tr>\n",
       "    <tr>\n",
       "      <th>std</th>\n",
       "      <td>6.425502</td>\n",
       "      <td>0.263452</td>\n",
       "      <td>2.696968</td>\n",
       "      <td>15.217159</td>\n",
       "      <td>67.457681</td>\n",
       "      <td>72.409097</td>\n",
       "    </tr>\n",
       "    <tr>\n",
       "      <th>min</th>\n",
       "      <td>2.500000</td>\n",
       "      <td>-0.933333</td>\n",
       "      <td>0.000000</td>\n",
       "      <td>0.000000</td>\n",
       "      <td>12.070212</td>\n",
       "      <td>12.070212</td>\n",
       "    </tr>\n",
       "    <tr>\n",
       "      <th>25%</th>\n",
       "      <td>5.700000</td>\n",
       "      <td>0.096667</td>\n",
       "      <td>1.000000</td>\n",
       "      <td>0.000000</td>\n",
       "      <td>111.452011</td>\n",
       "      <td>94.386319</td>\n",
       "    </tr>\n",
       "    <tr>\n",
       "      <th>50%</th>\n",
       "      <td>7.400000</td>\n",
       "      <td>0.150000</td>\n",
       "      <td>1.600000</td>\n",
       "      <td>0.000000</td>\n",
       "      <td>136.763861</td>\n",
       "      <td>121.765217</td>\n",
       "    </tr>\n",
       "    <tr>\n",
       "      <th>75%</th>\n",
       "      <td>10.600000</td>\n",
       "      <td>0.233333</td>\n",
       "      <td>2.860000</td>\n",
       "      <td>0.000000</td>\n",
       "      <td>170.259993</td>\n",
       "      <td>170.259993</td>\n",
       "    </tr>\n",
       "    <tr>\n",
       "      <th>max</th>\n",
       "      <td>68.900000</td>\n",
       "      <td>23.983333</td>\n",
       "      <td>31.430000</td>\n",
       "      <td>900.000000</td>\n",
       "      <td>430.402252</td>\n",
       "      <td>430.402252</td>\n",
       "    </tr>\n",
       "  </tbody>\n",
       "</table>\n",
       "</div>"
      ],
      "text/plain": [
       "           Fare_Amt  tripDurationHours  Trip_Distance         tipPC  \\\n",
       "count  12253.000000       12253.000000   12253.000000  12253.000000   \n",
       "mean       9.249168           0.184321       2.442429      4.890716   \n",
       "std        6.425502           0.263452       2.696968     15.217159   \n",
       "min        2.500000          -0.933333       0.000000      0.000000   \n",
       "25%        5.700000           0.096667       1.000000      0.000000   \n",
       "50%        7.400000           0.150000       1.600000      0.000000   \n",
       "75%       10.600000           0.233333       2.860000      0.000000   \n",
       "max       68.900000          23.983333      31.430000    900.000000   \n",
       "\n",
       "       income_departure   income_dest  \n",
       "count      12253.000000  12253.000000  \n",
       "mean         140.614077    135.066641  \n",
       "std           67.457681     72.409097  \n",
       "min           12.070212     12.070212  \n",
       "25%          111.452011     94.386319  \n",
       "50%          136.763861    121.765217  \n",
       "75%          170.259993    170.259993  \n",
       "max          430.402252    430.402252  "
      ]
     },
     "execution_count": 160,
     "metadata": {},
     "output_type": "execute_result"
    }
   ],
   "source": [
    "# Are there any outliers that would make this task difficult??\n",
    "yc_new2.describe()"
   ]
  },
  {
   "cell_type": "markdown",
   "metadata": {},
   "source": [
    "__I can tell by the fact that my 'max' value for tipPC is way bigger than the 75% value that I'm dealing with some big outliers. I'll address them below.__"
   ]
  },
  {
   "cell_type": "code",
   "execution_count": 321,
   "metadata": {
    "collapsed": false
   },
   "outputs": [
    {
     "name": "stdout",
     "output_type": "stream",
     "text": [
      "The first moment is 4.89 and the second moment is 15.22\n"
     ]
    },
    {
     "data": {
      "image/png": "[encoded data removed]",
      "text/plain": [
       "<matplotlib.figure.Figure at 0x7fda7b788358>"
      ]
     },
     "metadata": {},
     "output_type": "display_data"
    }
   ],
   "source": [
    "# Plotting distribution of tipPC as a histogram\n",
    "pl.hist(yc_new2['tipPC'], bins=100)\n",
    "pl.ylabel('N')\n",
    "pl.xlabel('tipPC')\n",
    "pl.title('Distribution of Tips as a percentage of Fare')\n",
    "print('The first moment is 4.89 and the second moment is 15.22')"
   ]
  },
  {
   "cell_type": "markdown",
   "metadata": {},
   "source": [
    "__Figure 1: This histogram plots the distribution of tip percentages for yellow cab taxi rides in Feb 2009. It appears there are some outliers that are really making it hard to see the distribution of the meat of the data. Most of the tip percentages look to be between 0 and 50, whereas there are some outliers up around 800 or 900 that stretch out my plot.__"
   ]
  },
  {
   "cell_type": "code",
   "execution_count": 322,
   "metadata": {
    "collapsed": false
   },
   "outputs": [
    {
     "data": {
      "text/html": [
       "<div>\n",
       "<table border=\"1\" class=\"dataframe\">\n",
       "  <thead>\n",
       "    <tr style=\"text-align: right;\">\n",
       "      <th></th>\n",
       "      <th>Fare_Amt</th>\n",
       "      <th>tripDurationHours</th>\n",
       "      <th>Trip_Distance</th>\n",
       "      <th>tipPC</th>\n",
       "      <th>income_departure</th>\n",
       "      <th>income_dest</th>\n",
       "    </tr>\n",
       "  </thead>\n",
       "  <tbody>\n",
       "    <tr>\n",
       "      <th>16</th>\n",
       "      <td>6.6</td>\n",
       "      <td>0.109722</td>\n",
       "      <td>1.40</td>\n",
       "      <td>233.333333</td>\n",
       "      <td>120.643519</td>\n",
       "      <td>121.765217</td>\n",
       "    </tr>\n",
       "    <tr>\n",
       "      <th>666</th>\n",
       "      <td>8.1</td>\n",
       "      <td>0.150000</td>\n",
       "      <td>1.39</td>\n",
       "      <td>189.655172</td>\n",
       "      <td>252.197725</td>\n",
       "      <td>147.284296</td>\n",
       "    </tr>\n",
       "    <tr>\n",
       "      <th>3532</th>\n",
       "      <td>9.0</td>\n",
       "      <td>0.184722</td>\n",
       "      <td>2.30</td>\n",
       "      <td>140.000000</td>\n",
       "      <td>147.284296</td>\n",
       "      <td>139.074511</td>\n",
       "    </tr>\n",
       "    <tr>\n",
       "      <th>4132</th>\n",
       "      <td>8.5</td>\n",
       "      <td>0.159167</td>\n",
       "      <td>2.50</td>\n",
       "      <td>111.524164</td>\n",
       "      <td>119.356720</td>\n",
       "      <td>158.973139</td>\n",
       "    </tr>\n",
       "    <tr>\n",
       "      <th>11073</th>\n",
       "      <td>27.4</td>\n",
       "      <td>0.382222</td>\n",
       "      <td>11.40</td>\n",
       "      <td>900.000000</td>\n",
       "      <td>119.356720</td>\n",
       "      <td>28.548379</td>\n",
       "    </tr>\n",
       "    <tr>\n",
       "      <th>11244</th>\n",
       "      <td>13.3</td>\n",
       "      <td>0.252778</td>\n",
       "      <td>4.60</td>\n",
       "      <td>280.000000</td>\n",
       "      <td>115.621026</td>\n",
       "      <td>24.278307</td>\n",
       "    </tr>\n",
       "    <tr>\n",
       "      <th>11779</th>\n",
       "      <td>18.9</td>\n",
       "      <td>0.350000</td>\n",
       "      <td>7.08</td>\n",
       "      <td>849.056604</td>\n",
       "      <td>94.386319</td>\n",
       "      <td>77.654585</td>\n",
       "    </tr>\n",
       "  </tbody>\n",
       "</table>\n",
       "</div>"
      ],
      "text/plain": [
       "       Fare_Amt  tripDurationHours  Trip_Distance       tipPC  \\\n",
       "16          6.6           0.109722           1.40  233.333333   \n",
       "666         8.1           0.150000           1.39  189.655172   \n",
       "3532        9.0           0.184722           2.30  140.000000   \n",
       "4132        8.5           0.159167           2.50  111.524164   \n",
       "11073      27.4           0.382222          11.40  900.000000   \n",
       "11244      13.3           0.252778           4.60  280.000000   \n",
       "11779      18.9           0.350000           7.08  849.056604   \n",
       "\n",
       "       income_departure  income_dest  \n",
       "16           120.643519   121.765217  \n",
       "666          252.197725   147.284296  \n",
       "3532         147.284296   139.074511  \n",
       "4132         119.356720   158.973139  \n",
       "11073        119.356720    28.548379  \n",
       "11244        115.621026    24.278307  \n",
       "11779         94.386319    77.654585  "
      ]
     },
     "execution_count": 322,
     "metadata": {},
     "output_type": "execute_result"
    }
   ],
   "source": [
    "# Remove outliers if needed, replot and see if the moments changed significantly.\n",
    "# Checking how many values I have above 100% tipPC\n",
    "yc_new2[yc_new2.tipPC > 100]"
   ]
  },
  {
   "cell_type": "code",
   "execution_count": 323,
   "metadata": {
    "collapsed": false
   },
   "outputs": [],
   "source": [
    "# Create new dataframe that only contains rows with tipPC < 200\n",
    "yc_new3 = yc_new2[yc_new2.tipPC < 100]"
   ]
  },
  {
   "cell_type": "code",
   "execution_count": 324,
   "metadata": {
    "collapsed": false
   },
   "outputs": [
    {
     "data": {
      "text/html": [
       "<div>\n",
       "<table border=\"1\" class=\"dataframe\">\n",
       "  <thead>\n",
       "    <tr style=\"text-align: right;\">\n",
       "      <th></th>\n",
       "      <th>Fare_Amt</th>\n",
       "      <th>tripDurationHours</th>\n",
       "      <th>Trip_Distance</th>\n",
       "      <th>tipPC</th>\n",
       "      <th>income_departure</th>\n",
       "      <th>income_dest</th>\n",
       "    </tr>\n",
       "  </thead>\n",
       "  <tbody>\n",
       "    <tr>\n",
       "      <th>count</th>\n",
       "      <td>12246.000000</td>\n",
       "      <td>12246.000000</td>\n",
       "      <td>12246.000000</td>\n",
       "      <td>12246.000000</td>\n",
       "      <td>12246.000000</td>\n",
       "      <td>12246.000000</td>\n",
       "    </tr>\n",
       "    <tr>\n",
       "      <th>mean</th>\n",
       "      <td>9.246958</td>\n",
       "      <td>0.184297</td>\n",
       "      <td>2.441320</td>\n",
       "      <td>4.672740</td>\n",
       "      <td>140.615339</td>\n",
       "      <td>135.086884</td>\n",
       "    </tr>\n",
       "    <tr>\n",
       "      <th>std</th>\n",
       "      <td>6.424491</td>\n",
       "      <td>0.263515</td>\n",
       "      <td>2.696094</td>\n",
       "      <td>9.610817</td>\n",
       "      <td>67.466938</td>\n",
       "      <td>72.414096</td>\n",
       "    </tr>\n",
       "    <tr>\n",
       "      <th>min</th>\n",
       "      <td>2.500000</td>\n",
       "      <td>-0.933333</td>\n",
       "      <td>0.000000</td>\n",
       "      <td>0.000000</td>\n",
       "      <td>12.070212</td>\n",
       "      <td>12.070212</td>\n",
       "    </tr>\n",
       "    <tr>\n",
       "      <th>25%</th>\n",
       "      <td>5.700000</td>\n",
       "      <td>0.096458</td>\n",
       "      <td>1.000000</td>\n",
       "      <td>0.000000</td>\n",
       "      <td>111.452011</td>\n",
       "      <td>94.386319</td>\n",
       "    </tr>\n",
       "    <tr>\n",
       "      <th>50%</th>\n",
       "      <td>7.400000</td>\n",
       "      <td>0.150000</td>\n",
       "      <td>1.600000</td>\n",
       "      <td>0.000000</td>\n",
       "      <td>136.763861</td>\n",
       "      <td>121.765217</td>\n",
       "    </tr>\n",
       "    <tr>\n",
       "      <th>75%</th>\n",
       "      <td>10.600000</td>\n",
       "      <td>0.233333</td>\n",
       "      <td>2.850000</td>\n",
       "      <td>0.000000</td>\n",
       "      <td>170.259993</td>\n",
       "      <td>170.259993</td>\n",
       "    </tr>\n",
       "    <tr>\n",
       "      <th>max</th>\n",
       "      <td>68.900000</td>\n",
       "      <td>23.983333</td>\n",
       "      <td>31.430000</td>\n",
       "      <td>88.888889</td>\n",
       "      <td>430.402252</td>\n",
       "      <td>430.402252</td>\n",
       "    </tr>\n",
       "  </tbody>\n",
       "</table>\n",
       "</div>"
      ],
      "text/plain": [
       "           Fare_Amt  tripDurationHours  Trip_Distance         tipPC  \\\n",
       "count  12246.000000       12246.000000   12246.000000  12246.000000   \n",
       "mean       9.246958           0.184297       2.441320      4.672740   \n",
       "std        6.424491           0.263515       2.696094      9.610817   \n",
       "min        2.500000          -0.933333       0.000000      0.000000   \n",
       "25%        5.700000           0.096458       1.000000      0.000000   \n",
       "50%        7.400000           0.150000       1.600000      0.000000   \n",
       "75%       10.600000           0.233333       2.850000      0.000000   \n",
       "max       68.900000          23.983333      31.430000     88.888889   \n",
       "\n",
       "       income_departure   income_dest  \n",
       "count      12246.000000  12246.000000  \n",
       "mean         140.615339    135.086884  \n",
       "std           67.466938     72.414096  \n",
       "min           12.070212     12.070212  \n",
       "25%          111.452011     94.386319  \n",
       "50%          136.763861    121.765217  \n",
       "75%          170.259993    170.259993  \n",
       "max          430.402252    430.402252  "
      ]
     },
     "execution_count": 324,
     "metadata": {},
     "output_type": "execute_result"
    }
   ],
   "source": [
    "# Replotting and seeing if the moments changed significantly\n",
    "yc_new3.describe()"
   ]
  },
  {
   "cell_type": "code",
   "execution_count": 325,
   "metadata": {
    "collapsed": false
   },
   "outputs": [
    {
     "name": "stdout",
     "output_type": "stream",
     "text": [
      "The first moment is 4.67 and the second moment is 9.61\n"
     ]
    },
    {
     "data": {
      "image/png": "[encoded data removed]",
      "text/plain": [
       "<matplotlib.figure.Figure at 0x7fda1125bcf8>"
      ]
     },
     "metadata": {},
     "output_type": "display_data"
    }
   ],
   "source": [
    "pl.hist(yc_new3['tipPC'], bins=30)\n",
    "pl.ylabel('N')\n",
    "pl.xlabel('tipPC')\n",
    "pl.title('Distribution of Tips as a percentage of Fare, under 100%')\n",
    "print('The first moment is 4.67 and the second moment is 9.61')"
   ]
  },
  {
   "cell_type": "markdown",
   "metadata": {},
   "source": [
    "__Figure 2: This histogram makes a bit more sense now that I've narrowed down my tip percentages to just those below 100. I chose to remove outliers of tips above 50% because there were only 7 tips above that threshold and they were seriously skewing my data. I recognize that those are likely legitimate tips, but it'll be easier to work with the data given a more closely clustered set of datapoints.__"
   ]
  },
  {
   "cell_type": "code",
   "execution_count": 326,
   "metadata": {
    "collapsed": false
   },
   "outputs": [],
   "source": [
    "# let's see if removing some of those values near 0 gives me a more recognizable distribution:\n",
    "yc_new4 = yc_new3[yc_new3.tipPC > 1]"
   ]
  },
  {
   "cell_type": "code",
   "execution_count": 327,
   "metadata": {
    "collapsed": false
   },
   "outputs": [
    {
     "data": {
      "text/html": [
       "<div>\n",
       "<table border=\"1\" class=\"dataframe\">\n",
       "  <thead>\n",
       "    <tr style=\"text-align: right;\">\n",
       "      <th></th>\n",
       "      <th>Fare_Amt</th>\n",
       "      <th>tripDurationHours</th>\n",
       "      <th>Trip_Distance</th>\n",
       "      <th>tipPC</th>\n",
       "      <th>income_departure</th>\n",
       "      <th>income_dest</th>\n",
       "    </tr>\n",
       "  </thead>\n",
       "  <tbody>\n",
       "    <tr>\n",
       "      <th>count</th>\n",
       "      <td>2799.000000</td>\n",
       "      <td>2799.000000</td>\n",
       "      <td>2799.000000</td>\n",
       "      <td>2799.000000</td>\n",
       "      <td>2799.000000</td>\n",
       "      <td>2799.000000</td>\n",
       "    </tr>\n",
       "    <tr>\n",
       "      <th>mean</th>\n",
       "      <td>9.212862</td>\n",
       "      <td>0.181733</td>\n",
       "      <td>2.433505</td>\n",
       "      <td>20.443776</td>\n",
       "      <td>141.305218</td>\n",
       "      <td>136.230934</td>\n",
       "    </tr>\n",
       "    <tr>\n",
       "      <th>std</th>\n",
       "      <td>6.442379</td>\n",
       "      <td>0.131430</td>\n",
       "      <td>2.712954</td>\n",
       "      <td>9.038726</td>\n",
       "      <td>67.993304</td>\n",
       "      <td>73.206495</td>\n",
       "    </tr>\n",
       "    <tr>\n",
       "      <th>min</th>\n",
       "      <td>2.500000</td>\n",
       "      <td>-0.183333</td>\n",
       "      <td>0.000000</td>\n",
       "      <td>1.600000</td>\n",
       "      <td>12.730810</td>\n",
       "      <td>12.070212</td>\n",
       "    </tr>\n",
       "    <tr>\n",
       "      <th>25%</th>\n",
       "      <td>5.400000</td>\n",
       "      <td>0.093611</td>\n",
       "      <td>0.990000</td>\n",
       "      <td>14.948454</td>\n",
       "      <td>111.452011</td>\n",
       "      <td>94.386319</td>\n",
       "    </tr>\n",
       "    <tr>\n",
       "      <th>50%</th>\n",
       "      <td>7.400000</td>\n",
       "      <td>0.150000</td>\n",
       "      <td>1.610000</td>\n",
       "      <td>20.000000</td>\n",
       "      <td>136.763861</td>\n",
       "      <td>121.765217</td>\n",
       "    </tr>\n",
       "    <tr>\n",
       "      <th>75%</th>\n",
       "      <td>10.500000</td>\n",
       "      <td>0.233333</td>\n",
       "      <td>2.805000</td>\n",
       "      <td>23.983471</td>\n",
       "      <td>170.259993</td>\n",
       "      <td>170.259993</td>\n",
       "    </tr>\n",
       "    <tr>\n",
       "      <th>max</th>\n",
       "      <td>68.900000</td>\n",
       "      <td>1.466667</td>\n",
       "      <td>29.200000</td>\n",
       "      <td>88.888889</td>\n",
       "      <td>430.402252</td>\n",
       "      <td>430.402252</td>\n",
       "    </tr>\n",
       "  </tbody>\n",
       "</table>\n",
       "</div>"
      ],
      "text/plain": [
       "          Fare_Amt  tripDurationHours  Trip_Distance        tipPC  \\\n",
       "count  2799.000000        2799.000000    2799.000000  2799.000000   \n",
       "mean      9.212862           0.181733       2.433505    20.443776   \n",
       "std       6.442379           0.131430       2.712954     9.038726   \n",
       "min       2.500000          -0.183333       0.000000     1.600000   \n",
       "25%       5.400000           0.093611       0.990000    14.948454   \n",
       "50%       7.400000           0.150000       1.610000    20.000000   \n",
       "75%      10.500000           0.233333       2.805000    23.983471   \n",
       "max      68.900000           1.466667      29.200000    88.888889   \n",
       "\n",
       "       income_departure  income_dest  \n",
       "count       2799.000000  2799.000000  \n",
       "mean         141.305218   136.230934  \n",
       "std           67.993304    73.206495  \n",
       "min           12.730810    12.070212  \n",
       "25%          111.452011    94.386319  \n",
       "50%          136.763861   121.765217  \n",
       "75%          170.259993   170.259993  \n",
       "max          430.402252   430.402252  "
      ]
     },
     "execution_count": 327,
     "metadata": {},
     "output_type": "execute_result"
    }
   ],
   "source": [
    "yc_new4.describe()"
   ]
  },
  {
   "cell_type": "code",
   "execution_count": 328,
   "metadata": {
    "collapsed": false
   },
   "outputs": [
    {
     "name": "stdout",
     "output_type": "stream",
     "text": [
      "The first moment is 20.44 and the second moment is 9.04\n"
     ]
    },
    {
     "data": {
      "image/png": "[encoded data removed]",
      "text/plain": [
       "<matplotlib.figure.Figure at 0x7fda0ff94320>"
      ]
     },
     "metadata": {},
     "output_type": "display_data"
    }
   ],
   "source": [
    "# plotting my final histogram here\n",
    "pl.hist(yc_new4['tipPC'], bins=30)\n",
    "pl.ylabel('N')\n",
    "pl.xlabel('tipPC')\n",
    "pl.title('Distribution of Tips as a percentage of Fare, under 100% and over 1%')\n",
    "print('The first moment is 20.44 and the second moment is 9.04')"
   ]
  },
  {
   "cell_type": "markdown",
   "metadata": {},
   "source": [
    "__Figure 3: Same as Figure 2, but I've removed all tip percentages below 1 percent. this looks a lot more like a distribution I've seen in class, but I've lost a lot of records in the process.__"
   ]
  },
  {
   "cell_type": "markdown",
   "metadata": {},
   "source": [
    "# 7. Test if the distribution is consistent with a Gaussian"
   ]
  },
  {
   "cell_type": "markdown",
   "metadata": {},
   "source": [
    "Stating the Null Hypothesis: My tipPC sample comes from a Gaussian distribution.\n",
    "\n",
    "** $H_0: P_0 - P_1 \\geq$    0 **\n",
    "    \n",
    "** $H_a: P_0 - P_1 $ < 0    **\n",
    "    \n",
    "    \n",
    "** $\\alpha$ = 0.05    **"
   ]
  },
  {
   "cell_type": "code",
   "execution_count": 329,
   "metadata": {
    "collapsed": false
   },
   "outputs": [],
   "source": [
    "# generate a Gaussian distribution\n",
    "alpha = 0.05\n",
    "np.random.seed(999)\n",
    "dist_n = (np.random.randn(10000) + 5) * 4 # +5 fixes mean, *4 fixes stdev"
   ]
  },
  {
   "cell_type": "code",
   "execution_count": 330,
   "metadata": {
    "collapsed": false
   },
   "outputs": [
    {
     "data": {
      "image/png": "[encoded data removed]",
      "text/plain": [
       "<matplotlib.figure.Figure at 0x7fda10405e48>"
      ]
     },
     "metadata": {},
     "output_type": "display_data"
    },
    {
     "name": "stdout",
     "output_type": "stream",
     "text": [
      "tipPC on normal KstestResult(statistic=0.99795167703031895, pvalue=0.0)\n"
     ]
    }
   ],
   "source": [
    "# Plot my tipPC distribution against this Gaussian\n",
    "pl.figure()\n",
    "pl.hist(yc_new4['tipPC'], alpha=0.5, label=\"tipPC\")\n",
    "pl.hist(dist_n, alpha=0.5, label=\"Gaussian\")\n",
    "pl.legend()\n",
    "pl.title(\"similar distributions in shape\\nbut different stretch\")\n",
    "pl.show()\n",
    "\n",
    "print(\"tipPC on normal\", scipy.stats.kstest(yc_new4['tipPC'],'norm'))"
   ]
  },
  {
   "cell_type": "markdown",
   "metadata": {},
   "source": [
    "__Figure 4: Plotting a Gaussian over my tipPC distribution. They have a similar shape, but the stdev is way smaller on the Gaussian. I wasn't able to transform the Gaussian correctly to get them to line up the way I would have liked to, so as a result I wasn't able to demonstrate that my data follows a normal distribution.__"
   ]
  },
  {
   "cell_type": "markdown",
   "metadata": {},
   "source": [
    "### KS: low p-value < 0.05: H0 that sample comes from a Gaussian distribution has to be rejected"
   ]
  },
  {
   "cell_type": "code",
   "execution_count": 331,
   "metadata": {
    "collapsed": false
   },
   "outputs": [
    {
     "data": {
      "text/html": [
       "<div>\n",
       "<table border=\"1\" class=\"dataframe\">\n",
       "  <thead>\n",
       "    <tr style=\"text-align: right;\">\n",
       "      <th></th>\n",
       "      <th>Fare_Amt</th>\n",
       "      <th>tripDurationHours</th>\n",
       "      <th>Trip_Distance</th>\n",
       "      <th>tipPC</th>\n",
       "      <th>income_departure</th>\n",
       "      <th>income_dest</th>\n",
       "    </tr>\n",
       "  </thead>\n",
       "  <tbody>\n",
       "    <tr>\n",
       "      <th>3</th>\n",
       "      <td>7.3</td>\n",
       "      <td>0.150000</td>\n",
       "      <td>1.85</td>\n",
       "      <td>13.422819</td>\n",
       "      <td>120.643519</td>\n",
       "      <td>121.765217</td>\n",
       "    </tr>\n",
       "    <tr>\n",
       "      <th>4</th>\n",
       "      <td>5.7</td>\n",
       "      <td>0.100000</td>\n",
       "      <td>1.37</td>\n",
       "      <td>14.946237</td>\n",
       "      <td>120.643519</td>\n",
       "      <td>121.765217</td>\n",
       "    </tr>\n",
       "    <tr>\n",
       "      <th>7</th>\n",
       "      <td>7.3</td>\n",
       "      <td>0.166667</td>\n",
       "      <td>1.73</td>\n",
       "      <td>21.621622</td>\n",
       "      <td>120.643519</td>\n",
       "      <td>121.765217</td>\n",
       "    </tr>\n",
       "    <tr>\n",
       "      <th>10</th>\n",
       "      <td>7.8</td>\n",
       "      <td>0.139444</td>\n",
       "      <td>1.90</td>\n",
       "      <td>19.469027</td>\n",
       "      <td>120.643519</td>\n",
       "      <td>121.765217</td>\n",
       "    </tr>\n",
       "    <tr>\n",
       "      <th>13</th>\n",
       "      <td>8.7</td>\n",
       "      <td>0.154444</td>\n",
       "      <td>2.10</td>\n",
       "      <td>20.000000</td>\n",
       "      <td>120.643519</td>\n",
       "      <td>121.765217</td>\n",
       "    </tr>\n",
       "  </tbody>\n",
       "</table>\n",
       "</div>"
      ],
      "text/plain": [
       "    Fare_Amt  tripDurationHours  Trip_Distance      tipPC  income_departure  \\\n",
       "3        7.3           0.150000           1.85  13.422819        120.643519   \n",
       "4        5.7           0.100000           1.37  14.946237        120.643519   \n",
       "7        7.3           0.166667           1.73  21.621622        120.643519   \n",
       "10       7.8           0.139444           1.90  19.469027        120.643519   \n",
       "13       8.7           0.154444           2.10  20.000000        120.643519   \n",
       "\n",
       "    income_dest  \n",
       "3    121.765217  \n",
       "4    121.765217  \n",
       "7    121.765217  \n",
       "10   121.765217  \n",
       "13   121.765217  "
      ]
     },
     "execution_count": 331,
     "metadata": {},
     "output_type": "execute_result"
    }
   ],
   "source": [
    "# OK. Now I want to look again at my dataset head to remind myself of the column names and values for each.\n",
    "yc_new4.head()"
   ]
  },
  {
   "cell_type": "markdown",
   "metadata": {},
   "source": [
    "# 8. Fit a line to taxi fare vs trip duration and to taxi fare vs trip distance to decide which variable between duration and distance \"contains more information\" when used with the fare."
   ]
  },
  {
   "cell_type": "code",
   "execution_count": 270,
   "metadata": {
    "collapsed": false
   },
   "outputs": [
    {
     "name": "stdout",
     "output_type": "stream",
     "text": [
      "9.21286173633\n",
      "0.181732662459\n"
     ]
    },
    {
     "data": {
      "text/plain": [
       "<matplotlib.axes._subplots.AxesSubplot at 0x7fda7b41bcc0>"
      ]
     },
     "execution_count": 270,
     "metadata": {},
     "output_type": "execute_result"
    },
    {
     "data": {
      "image/png": "[encoded data removed]",
      "text/plain": [
       "<matplotlib.figure.Figure at 0x7fda7a65b828>"
      ]
     },
     "metadata": {},
     "output_type": "display_data"
    }
   ],
   "source": [
    "# taxi fare vs trip duration\n",
    "y = yc_new4['Fare_Amt']\n",
    "x = yc_new4['tripDurationHours']\n",
    "\n",
    "print(y.mean())\n",
    "print(x.mean())\n",
    "\n",
    "# Make sure that both quantities are roughly of the same order of magnitude\n",
    "# You can simply divide by the order of magnitude of the mean of the sample to obtain this\n",
    "x = yc_new4['tripDurationHours'] * 10\n",
    "\n",
    "# Plotting with seaborn\n",
    "sns.regplot(x, y, data=yc_new4)"
   ]
  },
  {
   "cell_type": "markdown",
   "metadata": {},
   "source": [
    "__Figure 5: Created a seaborn plot, but this isn't what I wanted so I did a better one below.__"
   ]
  },
  {
   "cell_type": "code",
   "execution_count": 332,
   "metadata": {
    "collapsed": false
   },
   "outputs": [
    {
     "data": {
      "text/plain": [
       "Text(0,0.5,'Taxi Fare')"
      ]
     },
     "execution_count": 332,
     "metadata": {},
     "output_type": "execute_result"
    },
    {
     "data": {
      "image/png": "[encoded data removed]",
      "text/plain": [
       "<matplotlib.figure.Figure at 0x7fda7abf6b38>"
      ]
     },
     "metadata": {},
     "output_type": "display_data"
    }
   ],
   "source": [
    "# Plotting with OLS\n",
    "# oModel = smf.ols('y ~ x', data=df_)\n",
    "oModel = sm.OLS(endog = y, exog = x).fit()\n",
    "\n",
    "pl.plot(x, y, '.')\n",
    "yerr = np.sqrt(y)\n",
    "# pl.errorbar(x,y, yerr, fmt='.')\n",
    "pl.plot(x, oModel.fittedvalues, '-')\n",
    "pl.title('Taxi Fare v Trip Duration')\n",
    "pl.xlabel(\"Trip Duration\")\n",
    "pl.ylabel(\"Taxi Fare\")"
   ]
  },
  {
   "cell_type": "markdown",
   "metadata": {},
   "source": [
    "__Figure 6: Here I fit an OLS line for taxi fare vs trip duration. The datapoints seem to move up and to right pretty consistently, but the line looks skewed upwards. There's something exerting leverage on my line.__"
   ]
  },
  {
   "cell_type": "code",
   "execution_count": 333,
   "metadata": {
    "collapsed": false
   },
   "outputs": [
    {
     "data": {
      "text/html": [
       "<table class=\"simpletable\">\n",
       "<caption>OLS Regression Results</caption>\n",
       "<tr>\n",
       "  <th>Dep. Variable:</th>        <td>Fare_Amt</td>     <th>  R-squared:         </th> <td>   0.901</td> \n",
       "</tr>\n",
       "<tr>\n",
       "  <th>Model:</th>                   <td>OLS</td>       <th>  Adj. R-squared:    </th> <td>   0.901</td> \n",
       "</tr>\n",
       "<tr>\n",
       "  <th>Method:</th>             <td>Least Squares</td>  <th>  F-statistic:       </th> <td>2.540e+04</td>\n",
       "</tr>\n",
       "<tr>\n",
       "  <th>Date:</th>             <td>Thu, 26 Oct 2017</td> <th>  Prob (F-statistic):</th>  <td>  0.00</td>  \n",
       "</tr>\n",
       "<tr>\n",
       "  <th>Time:</th>                 <td>12:55:19</td>     <th>  Log-Likelihood:    </th> <td> -7510.9</td> \n",
       "</tr>\n",
       "<tr>\n",
       "  <th>No. Observations:</th>      <td>  2799</td>      <th>  AIC:               </th> <td>1.502e+04</td>\n",
       "</tr>\n",
       "<tr>\n",
       "  <th>Df Residuals:</th>          <td>  2798</td>      <th>  BIC:               </th> <td>1.503e+04</td>\n",
       "</tr>\n",
       "<tr>\n",
       "  <th>Df Model:</th>              <td>     1</td>      <th>                     </th>     <td> </td>    \n",
       "</tr>\n",
       "<tr>\n",
       "  <th>Covariance Type:</th>      <td>nonrobust</td>    <th>                     </th>     <td> </td>    \n",
       "</tr>\n",
       "</table>\n",
       "<table class=\"simpletable\">\n",
       "<tr>\n",
       "        <td></td>           <th>coef</th>     <th>std err</th>      <th>t</th>      <th>P>|t|</th> <th>[95.0% Conf. Int.]</th> \n",
       "</tr>\n",
       "<tr>\n",
       "  <th>Trip_Distance</th> <td>    2.9277</td> <td>    0.018</td> <td>  159.362</td> <td> 0.000</td> <td>    2.892     2.964</td>\n",
       "</tr>\n",
       "</table>\n",
       "<table class=\"simpletable\">\n",
       "<tr>\n",
       "  <th>Omnibus:</th>       <td>1959.416</td> <th>  Durbin-Watson:     </th>  <td>   1.010</td> \n",
       "</tr>\n",
       "<tr>\n",
       "  <th>Prob(Omnibus):</th>  <td> 0.000</td>  <th>  Jarque-Bera (JB):  </th> <td>625747.893</td>\n",
       "</tr>\n",
       "<tr>\n",
       "  <th>Skew:</th>           <td> 2.176</td>  <th>  Prob(JB):          </th>  <td>    0.00</td> \n",
       "</tr>\n",
       "<tr>\n",
       "  <th>Kurtosis:</th>       <td>76.120</td>  <th>  Cond. No.          </th>  <td>    1.00</td> \n",
       "</tr>\n",
       "</table>"
      ],
      "text/plain": [
       "<class 'statsmodels.iolib.summary.Summary'>\n",
       "\"\"\"\n",
       "                            OLS Regression Results                            \n",
       "==============================================================================\n",
       "Dep. Variable:               Fare_Amt   R-squared:                       0.901\n",
       "Model:                            OLS   Adj. R-squared:                  0.901\n",
       "Method:                 Least Squares   F-statistic:                 2.540e+04\n",
       "Date:                Thu, 26 Oct 2017   Prob (F-statistic):               0.00\n",
       "Time:                        12:55:19   Log-Likelihood:                -7510.9\n",
       "No. Observations:                2799   AIC:                         1.502e+04\n",
       "Df Residuals:                    2798   BIC:                         1.503e+04\n",
       "Df Model:                           1                                         \n",
       "Covariance Type:            nonrobust                                         \n",
       "=================================================================================\n",
       "                    coef    std err          t      P>|t|      [95.0% Conf. Int.]\n",
       "---------------------------------------------------------------------------------\n",
       "Trip_Distance     2.9277      0.018    159.362      0.000         2.892     2.964\n",
       "==============================================================================\n",
       "Omnibus:                     1959.416   Durbin-Watson:                   1.010\n",
       "Prob(Omnibus):                  0.000   Jarque-Bera (JB):           625747.893\n",
       "Skew:                           2.176   Prob(JB):                         0.00\n",
       "Kurtosis:                      76.120   Cond. No.                         1.00\n",
       "==============================================================================\n",
       "\n",
       "Warnings:\n",
       "[1] Standard Errors assume that the covariance matrix of the errors is correctly specified.\n",
       "\"\"\""
      ]
     },
     "execution_count": 333,
     "metadata": {},
     "output_type": "execute_result"
    }
   ],
   "source": [
    "oModel.summary()"
   ]
  },
  {
   "cell_type": "code",
   "execution_count": 334,
   "metadata": {
    "collapsed": false
   },
   "outputs": [
    {
     "name": "stdout",
     "output_type": "stream",
     "text": [
      "9.21286173633\n",
      "2.43350482315\n"
     ]
    },
    {
     "data": {
      "text/plain": [
       "<matplotlib.axes._subplots.AxesSubplot at 0x7fda11390fd0>"
      ]
     },
     "execution_count": 334,
     "metadata": {},
     "output_type": "execute_result"
    },
    {
     "data": {
      "image/png": "[encoded data removed]",
      "text/plain": [
       "<matplotlib.figure.Figure at 0x7fda0ffad048>"
      ]
     },
     "metadata": {},
     "output_type": "display_data"
    }
   ],
   "source": [
    "# taxi fare vs trip distance\n",
    "y = yc_new4['Fare_Amt']\n",
    "x = yc_new4['Trip_Distance']\n",
    "\n",
    "print(y.mean())\n",
    "print(x.mean())\n",
    "\n",
    "# Make sure that both quantities are roughly of the same order of magnitude\n",
    "# You can simply divide by the order of magnitude of the mean of the sample to obtain this\n",
    "# x = yc_new4['tripDurationHours'] * 10\n",
    "\n",
    "# Plotting with seaborn\n",
    "sns.regplot(x, y, data=yc_new4)"
   ]
  },
  {
   "cell_type": "markdown",
   "metadata": {},
   "source": [
    "__Figure 7: Another seaborn plot that looks nice but that I passed up for something better below.__"
   ]
  },
  {
   "cell_type": "code",
   "execution_count": 281,
   "metadata": {
    "collapsed": false
   },
   "outputs": [
    {
     "data": {
      "text/plain": [
       "Text(0,0.5,'Taxi Fare')"
      ]
     },
     "execution_count": 281,
     "metadata": {},
     "output_type": "execute_result"
    },
    {
     "data": {
      "image/png": "[encoded data removed]",
      "text/plain": [
       "<matplotlib.figure.Figure at 0x7fda7b369e48>"
      ]
     },
     "metadata": {},
     "output_type": "display_data"
    }
   ],
   "source": [
    "# taxi fare vs trip distance\n",
    "# Plotting with OLS\n",
    "# oModel = smf.ols('y ~ x', data=df_)\n",
    "aModel = sm.OLS(endog = y, exog = x).fit()\n",
    "\n",
    "pl.plot(x, y, '.')\n",
    "yerr = np.sqrt(y)\n",
    "# pl.errorbar(x,y, yerr, fmt='.')\n",
    "pl.plot(x, aModel.fittedvalues, '-')\n",
    "pl.title('Taxi Fare v Trip Distance')\n",
    "pl.xlabel(\"Trip Distance\")\n",
    "pl.ylabel(\"Taxi Fare\")"
   ]
  },
  {
   "cell_type": "markdown",
   "metadata": {},
   "source": [
    "__Figure 8: This is the line I was able to fit that ended up being well correlated with taxi fare. Distance is a good predictor of taxi fare. It's a shame I didn't get around to prediction!!__"
   ]
  },
  {
   "cell_type": "code",
   "execution_count": 335,
   "metadata": {
    "collapsed": false
   },
   "outputs": [
    {
     "data": {
      "text/html": [
       "<table class=\"simpletable\">\n",
       "<caption>OLS Regression Results</caption>\n",
       "<tr>\n",
       "  <th>Dep. Variable:</th>        <td>Fare_Amt</td>     <th>  R-squared:         </th> <td>   0.901</td> \n",
       "</tr>\n",
       "<tr>\n",
       "  <th>Model:</th>                   <td>OLS</td>       <th>  Adj. R-squared:    </th> <td>   0.901</td> \n",
       "</tr>\n",
       "<tr>\n",
       "  <th>Method:</th>             <td>Least Squares</td>  <th>  F-statistic:       </th> <td>2.540e+04</td>\n",
       "</tr>\n",
       "<tr>\n",
       "  <th>Date:</th>             <td>Thu, 26 Oct 2017</td> <th>  Prob (F-statistic):</th>  <td>  0.00</td>  \n",
       "</tr>\n",
       "<tr>\n",
       "  <th>Time:</th>                 <td>12:56:55</td>     <th>  Log-Likelihood:    </th> <td> -7510.9</td> \n",
       "</tr>\n",
       "<tr>\n",
       "  <th>No. Observations:</th>      <td>  2799</td>      <th>  AIC:               </th> <td>1.502e+04</td>\n",
       "</tr>\n",
       "<tr>\n",
       "  <th>Df Residuals:</th>          <td>  2798</td>      <th>  BIC:               </th> <td>1.503e+04</td>\n",
       "</tr>\n",
       "<tr>\n",
       "  <th>Df Model:</th>              <td>     1</td>      <th>                     </th>     <td> </td>    \n",
       "</tr>\n",
       "<tr>\n",
       "  <th>Covariance Type:</th>      <td>nonrobust</td>    <th>                     </th>     <td> </td>    \n",
       "</tr>\n",
       "</table>\n",
       "<table class=\"simpletable\">\n",
       "<tr>\n",
       "        <td></td>           <th>coef</th>     <th>std err</th>      <th>t</th>      <th>P>|t|</th> <th>[95.0% Conf. Int.]</th> \n",
       "</tr>\n",
       "<tr>\n",
       "  <th>Trip_Distance</th> <td>    2.9277</td> <td>    0.018</td> <td>  159.362</td> <td> 0.000</td> <td>    2.892     2.964</td>\n",
       "</tr>\n",
       "</table>\n",
       "<table class=\"simpletable\">\n",
       "<tr>\n",
       "  <th>Omnibus:</th>       <td>1959.416</td> <th>  Durbin-Watson:     </th>  <td>   1.010</td> \n",
       "</tr>\n",
       "<tr>\n",
       "  <th>Prob(Omnibus):</th>  <td> 0.000</td>  <th>  Jarque-Bera (JB):  </th> <td>625747.893</td>\n",
       "</tr>\n",
       "<tr>\n",
       "  <th>Skew:</th>           <td> 2.176</td>  <th>  Prob(JB):          </th>  <td>    0.00</td> \n",
       "</tr>\n",
       "<tr>\n",
       "  <th>Kurtosis:</th>       <td>76.120</td>  <th>  Cond. No.          </th>  <td>    1.00</td> \n",
       "</tr>\n",
       "</table>"
      ],
      "text/plain": [
       "<class 'statsmodels.iolib.summary.Summary'>\n",
       "\"\"\"\n",
       "                            OLS Regression Results                            \n",
       "==============================================================================\n",
       "Dep. Variable:               Fare_Amt   R-squared:                       0.901\n",
       "Model:                            OLS   Adj. R-squared:                  0.901\n",
       "Method:                 Least Squares   F-statistic:                 2.540e+04\n",
       "Date:                Thu, 26 Oct 2017   Prob (F-statistic):               0.00\n",
       "Time:                        12:56:55   Log-Likelihood:                -7510.9\n",
       "No. Observations:                2799   AIC:                         1.502e+04\n",
       "Df Residuals:                    2798   BIC:                         1.503e+04\n",
       "Df Model:                           1                                         \n",
       "Covariance Type:            nonrobust                                         \n",
       "=================================================================================\n",
       "                    coef    std err          t      P>|t|      [95.0% Conf. Int.]\n",
       "---------------------------------------------------------------------------------\n",
       "Trip_Distance     2.9277      0.018    159.362      0.000         2.892     2.964\n",
       "==============================================================================\n",
       "Omnibus:                     1959.416   Durbin-Watson:                   1.010\n",
       "Prob(Omnibus):                  0.000   Jarque-Bera (JB):           625747.893\n",
       "Skew:                           2.176   Prob(JB):                         0.00\n",
       "Kurtosis:                      76.120   Cond. No.                         1.00\n",
       "==============================================================================\n",
       "\n",
       "Warnings:\n",
       "[1] Standard Errors assume that the covariance matrix of the errors is correctly specified.\n",
       "\"\"\""
      ]
     },
     "execution_count": 335,
     "metadata": {},
     "output_type": "execute_result"
    }
   ],
   "source": [
    "aModel.summary()"
   ]
  },
  {
   "cell_type": "markdown",
   "metadata": {},
   "source": [
    "__So, which variable between duration and distance \"contains more information\" when used with the fare? They are very close! I'm making my conclusion based on R^2 value as it gives me some insight as to how well duration and distance predict fare. Since distance has a slightly better R^2 value, I'm going to go ahead and state that distance contain more information when used with the fare. Boy I would have like to have gotten to some of the next steps to create a model and see how well I would be able to predict tip percentage. Thanks for lending us your idea Professor Bianco!"
   ]
  },
  {
   "cell_type": "code",
   "execution_count": null,
   "metadata": {
    "collapsed": true
   },
   "outputs": [],
   "source": []
  }
 ],
 "metadata": {
  "kernelspec": {
   "display_name": "PUI2016_Python3",
   "language": "python",
   "name": "pui2016_python3"
  },
  "language_info": {
   "codemirror_mode": {
    "name": "ipython",
    "version": 3
   },
   "file_extension": ".py",
   "mimetype": "text/x-python",
   "name": "python",
   "nbconvert_exporter": "python",
   "pygments_lexer": "ipython3",
   "version": "3.5.4"
  }
 },
 "nbformat": 4,
 "nbformat_minor": 0
}
