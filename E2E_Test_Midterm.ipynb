{
 "cells": [
  {
   "cell_type": "code",
   "execution_count": 50,
   "metadata": {
    "collapsed": false
   },
   "outputs": [
    {
     "name": "stdout",
     "output_type": "stream",
     "text": [
      "Populating the interactive namespace from numpy and matplotlib\n"
     ]
    }
   ],
   "source": [
    "from __future__ import print_function, division\n",
    "import geopandas as gp\n",
    "import pandas as pd\n",
    "import os\n",
    "import json\n",
    "import pylab as pl\n",
    "from pandas.tools.plotting import scatter_matrix\n",
    "import statsmodels.api as sm\n",
    "import statsmodels.formula.api as smf\n",
    "import datetime as dt\n",
    "\n",
    "try:\n",
    "    import urllib2 as urllib\n",
    "except ImportError:\n",
    "    import urllib.request as urllib\n",
    "%pylab inline"
   ]
  },
  {
   "cell_type": "code",
   "execution_count": 53,
   "metadata": {
    "collapsed": false
   },
   "outputs": [
    {
     "data": {
      "text/plain": [
       "Index(['Country/Territory', 'ISO code', 'Source', '% of homicides by firearm',\n",
       "       'Number of homicides by firearm',\n",
       "       'Homicide by firearm rate per 100,000 pop', 'Rank by rate of ownership',\n",
       "       'Average firearms per 100 people',\n",
       "       'Average total all civilian firearms'],\n",
       "      dtype='object')"
      ]
     },
     "execution_count": 53,
     "metadata": {},
     "output_type": "execute_result"
    }
   ],
   "source": [
    "# Reading in guns data\n",
    "furl = 'https://raw.githubusercontent.com/fedhere/PUI2017_fb55/master/HW5_fb55/World' +\\\n",
    "    '%20firearms%20murders%20and%20ownership%20-%20Sheet%201.csv'\n",
    "guns = pd.read_csv(furl)\n",
    "guns.columns"
   ]
  },
  {
   "cell_type": "code",
   "execution_count": 57,
   "metadata": {
    "collapsed": false
   },
   "outputs": [
    {
     "data": {
      "text/html": [
       "<div>\n",
       "<table border=\"1\" class=\"dataframe\">\n",
       "  <thead>\n",
       "    <tr style=\"text-align: right;\">\n",
       "      <th></th>\n",
       "      <th>Country</th>\n",
       "      <th>Average total all civilian firearms</th>\n",
       "      <th>Number of homicides by firearm</th>\n",
       "    </tr>\n",
       "  </thead>\n",
       "  <tbody>\n",
       "    <tr>\n",
       "      <th>0</th>\n",
       "      <td>Albania</td>\n",
       "      <td>270000.0</td>\n",
       "      <td>56.0</td>\n",
       "    </tr>\n",
       "    <tr>\n",
       "      <th>1</th>\n",
       "      <td>Algeria</td>\n",
       "      <td>1900000.0</td>\n",
       "      <td>20.0</td>\n",
       "    </tr>\n",
       "    <tr>\n",
       "      <th>2</th>\n",
       "      <td>Angola</td>\n",
       "      <td>2800000.0</td>\n",
       "      <td>NaN</td>\n",
       "    </tr>\n",
       "    <tr>\n",
       "      <th>3</th>\n",
       "      <td>Anguilla</td>\n",
       "      <td>NaN</td>\n",
       "      <td>1.0</td>\n",
       "    </tr>\n",
       "    <tr>\n",
       "      <th>4</th>\n",
       "      <td>Argentina</td>\n",
       "      <td>3950000.0</td>\n",
       "      <td>1198.0</td>\n",
       "    </tr>\n",
       "  </tbody>\n",
       "</table>\n",
       "</div>"
      ],
      "text/plain": [
       "     Country  Average total all civilian firearms  \\\n",
       "0    Albania                             270000.0   \n",
       "1    Algeria                            1900000.0   \n",
       "2     Angola                            2800000.0   \n",
       "3   Anguilla                                  NaN   \n",
       "4  Argentina                            3950000.0   \n",
       "\n",
       "   Number of homicides by firearm  \n",
       "0                            56.0  \n",
       "1                            20.0  \n",
       "2                             NaN  \n",
       "3                             1.0  \n",
       "4                          1198.0  "
      ]
     },
     "execution_count": 57,
     "metadata": {},
     "output_type": "execute_result"
    }
   ],
   "source": [
    "# We only want Country/Territory, Average total all civilian firearms, and Number of homicides by firearm\n",
    "guns = guns[['Country/Territory', 'Average total all civilian firearms', 'Number of homicides by firearm']]\n",
    "guns = guns.rename(columns={'Country/Territory' : 'Country'})\n",
    "guns.head()"
   ]
  },
  {
   "cell_type": "code",
   "execution_count": 40,
   "metadata": {
    "collapsed": false
   },
   "outputs": [
    {
     "data": {
      "text/plain": [
       "2304"
      ]
     },
     "execution_count": 40,
     "metadata": {},
     "output_type": "execute_result"
    }
   ],
   "source": []
  },
  {
   "cell_type": "code",
   "execution_count": 42,
   "metadata": {
    "collapsed": false
   },
   "outputs": [
    {
     "name": "stdout",
     "output_type": "stream",
     "text": [
      "BK_Dcp_Mappinglot.dbf\t   BKMapPLUTO.BBL.atx\t   BKMapPLUTO.shp\r\n",
      "BK_Dcp_Mappinglot.prj\t   BKMapPLUTO.CD.atx\t   BKMapPLUTO.shp.xml\r\n",
      "BK_Dcp_Mappinglot.sbn\t   BKMapPLUTO.dbf\t   BKMapPLUTO.shx\r\n",
      "BK_Dcp_Mappinglot.sbx\t   BKMapPLUTO.LandUse.atx  BKMapPLUTO.ZoneDist1.atx\r\n",
      "BK_Dcp_Mappinglot.shp\t   BKMapPLUTO.prj\t   bk_pluto.dbf\r\n",
      "BK_Dcp_Mappinglot.shp.xml  BKMapPLUTO.sbn\t   bk_pluto.dbf.xml\r\n",
      "BK_Dcp_Mappinglot.shx\t   BKMapPLUTO.sbx\t   PLUTODD16v2.pdf\r\n"
     ]
    }
   ],
   "source": []
  },
  {
   "cell_type": "code",
   "execution_count": 28,
   "metadata": {
    "collapsed": false
   },
   "outputs": [],
   "source": []
  },
  {
   "cell_type": "code",
   "execution_count": 45,
   "metadata": {
    "collapsed": false
   },
   "outputs": [],
   "source": []
  },
  {
   "cell_type": "code",
   "execution_count": 23,
   "metadata": {
    "collapsed": false
   },
   "outputs": [
    {
     "name": "stdout",
     "output_type": "stream",
     "text": [
      "Archive:  bk_mappluto_16v2.zip\n",
      "replace /home/cusp/cm4698/PUIdata/PLUTODD16v2.pdf? [y]es, [n]o, [A]ll, [N]one, [r]ename: ^C\n"
     ]
    }
   ],
   "source": []
  },
  {
   "cell_type": "code",
   "execution_count": 46,
   "metadata": {
    "collapsed": false
   },
   "outputs": [],
   "source": []
  },
  {
   "cell_type": "code",
   "execution_count": null,
   "metadata": {
    "collapsed": false
   },
   "outputs": [],
   "source": []
  },
  {
   "cell_type": "code",
   "execution_count": 47,
   "metadata": {
    "collapsed": false
   },
   "outputs": [
    {
     "data": {
      "text/html": [
       "<div>\n",
       "<table border=\"1\" class=\"dataframe\">\n",
       "  <thead>\n",
       "    <tr style=\"text-align: right;\">\n",
       "      <th></th>\n",
       "      <th>Borough</th>\n",
       "      <th>Block</th>\n",
       "      <th>Lot</th>\n",
       "      <th>CD</th>\n",
       "      <th>CT2010</th>\n",
       "      <th>CB2010</th>\n",
       "      <th>SchoolDist</th>\n",
       "      <th>Council</th>\n",
       "      <th>ZipCode</th>\n",
       "      <th>FireComp</th>\n",
       "      <th>...</th>\n",
       "      <th>TaxMap</th>\n",
       "      <th>EDesigNum</th>\n",
       "      <th>APPBBL</th>\n",
       "      <th>APPDate</th>\n",
       "      <th>PLUTOMapID</th>\n",
       "      <th>Version</th>\n",
       "      <th>MAPPLUTO_F</th>\n",
       "      <th>SHAPE_Leng</th>\n",
       "      <th>SHAPE_Area</th>\n",
       "      <th>geometry</th>\n",
       "    </tr>\n",
       "  </thead>\n",
       "  <tbody>\n",
       "    <tr>\n",
       "      <th>0</th>\n",
       "      <td>BK</td>\n",
       "      <td>7036</td>\n",
       "      <td>23</td>\n",
       "      <td>313</td>\n",
       "      <td>336</td>\n",
       "      <td>None</td>\n",
       "      <td>21</td>\n",
       "      <td>47</td>\n",
       "      <td>11224</td>\n",
       "      <td>E318</td>\n",
       "      <td>...</td>\n",
       "      <td>32104</td>\n",
       "      <td>None</td>\n",
       "      <td>0.000000e+00</td>\n",
       "      <td>None</td>\n",
       "      <td>1</td>\n",
       "      <td>16V2</td>\n",
       "      <td>0</td>\n",
       "      <td>1008.659562</td>\n",
       "      <td>48254.897890</td>\n",
       "      <td>POLYGON ((980812.9622000009 149656.1661999971,...</td>\n",
       "    </tr>\n",
       "    <tr>\n",
       "      <th>1</th>\n",
       "      <td>BK</td>\n",
       "      <td>7037</td>\n",
       "      <td>45</td>\n",
       "      <td>313</td>\n",
       "      <td>336</td>\n",
       "      <td>None</td>\n",
       "      <td>21</td>\n",
       "      <td>47</td>\n",
       "      <td>11224</td>\n",
       "      <td>E318</td>\n",
       "      <td>...</td>\n",
       "      <td>32104</td>\n",
       "      <td>None</td>\n",
       "      <td>0.000000e+00</td>\n",
       "      <td>None</td>\n",
       "      <td>1</td>\n",
       "      <td>16V2</td>\n",
       "      <td>0</td>\n",
       "      <td>466.778463</td>\n",
       "      <td>12182.420391</td>\n",
       "      <td>POLYGON ((980811.0732000023 149338.8654000014,...</td>\n",
       "    </tr>\n",
       "    <tr>\n",
       "      <th>2</th>\n",
       "      <td>BK</td>\n",
       "      <td>8696</td>\n",
       "      <td>70</td>\n",
       "      <td>313</td>\n",
       "      <td>352</td>\n",
       "      <td>1002</td>\n",
       "      <td>21</td>\n",
       "      <td>47</td>\n",
       "      <td>11224</td>\n",
       "      <td>E245</td>\n",
       "      <td>...</td>\n",
       "      <td>32601</td>\n",
       "      <td>None</td>\n",
       "      <td>0.000000e+00</td>\n",
       "      <td>None</td>\n",
       "      <td>1</td>\n",
       "      <td>16V2</td>\n",
       "      <td>0</td>\n",
       "      <td>489.556780</td>\n",
       "      <td>2235.111932</td>\n",
       "      <td>POLYGON ((990137.3931999952 148647.5088, 99011...</td>\n",
       "    </tr>\n",
       "    <tr>\n",
       "      <th>3</th>\n",
       "      <td>BK</td>\n",
       "      <td>7029</td>\n",
       "      <td>84</td>\n",
       "      <td>313</td>\n",
       "      <td>336</td>\n",
       "      <td>2004</td>\n",
       "      <td>21</td>\n",
       "      <td>47</td>\n",
       "      <td>11224</td>\n",
       "      <td>E318</td>\n",
       "      <td>...</td>\n",
       "      <td>32104</td>\n",
       "      <td>None</td>\n",
       "      <td>0.000000e+00</td>\n",
       "      <td>None</td>\n",
       "      <td>1</td>\n",
       "      <td>16V2</td>\n",
       "      <td>0</td>\n",
       "      <td>260.717734</td>\n",
       "      <td>3979.291146</td>\n",
       "      <td>POLYGON ((982935.4722000062 148654.2924000025,...</td>\n",
       "    </tr>\n",
       "    <tr>\n",
       "      <th>4</th>\n",
       "      <td>BK</td>\n",
       "      <td>7049</td>\n",
       "      <td>115</td>\n",
       "      <td>313</td>\n",
       "      <td>342</td>\n",
       "      <td>3000</td>\n",
       "      <td>21</td>\n",
       "      <td>47</td>\n",
       "      <td>11224</td>\n",
       "      <td>E318</td>\n",
       "      <td>...</td>\n",
       "      <td>32104</td>\n",
       "      <td>None</td>\n",
       "      <td>3.070490e+09</td>\n",
       "      <td>12/19/2000</td>\n",
       "      <td>1</td>\n",
       "      <td>16V2</td>\n",
       "      <td>0</td>\n",
       "      <td>181.786006</td>\n",
       "      <td>1683.769587</td>\n",
       "      <td>POLYGON ((984932.7683999985 148737.0093999952,...</td>\n",
       "    </tr>\n",
       "  </tbody>\n",
       "</table>\n",
       "<p>5 rows × 88 columns</p>\n",
       "</div>"
      ],
      "text/plain": [
       "  Borough  Block  Lot   CD CT2010 CB2010 SchoolDist  Council  ZipCode  \\\n",
       "0      BK   7036   23  313    336   None         21       47    11224   \n",
       "1      BK   7037   45  313    336   None         21       47    11224   \n",
       "2      BK   8696   70  313    352   1002         21       47    11224   \n",
       "3      BK   7029   84  313    336   2004         21       47    11224   \n",
       "4      BK   7049  115  313    342   3000         21       47    11224   \n",
       "\n",
       "  FireComp                        ...                          TaxMap  \\\n",
       "0     E318                        ...                           32104   \n",
       "1     E318                        ...                           32104   \n",
       "2     E245                        ...                           32601   \n",
       "3     E318                        ...                           32104   \n",
       "4     E318                        ...                           32104   \n",
       "\n",
       "   EDesigNum        APPBBL     APPDate PLUTOMapID Version MAPPLUTO_F  \\\n",
       "0       None  0.000000e+00        None          1    16V2          0   \n",
       "1       None  0.000000e+00        None          1    16V2          0   \n",
       "2       None  0.000000e+00        None          1    16V2          0   \n",
       "3       None  0.000000e+00        None          1    16V2          0   \n",
       "4       None  3.070490e+09  12/19/2000          1    16V2          0   \n",
       "\n",
       "    SHAPE_Leng    SHAPE_Area  \\\n",
       "0  1008.659562  48254.897890   \n",
       "1   466.778463  12182.420391   \n",
       "2   489.556780   2235.111932   \n",
       "3   260.717734   3979.291146   \n",
       "4   181.786006   1683.769587   \n",
       "\n",
       "                                            geometry  \n",
       "0  POLYGON ((980812.9622000009 149656.1661999971,...  \n",
       "1  POLYGON ((980811.0732000023 149338.8654000014,...  \n",
       "2  POLYGON ((990137.3931999952 148647.5088, 99011...  \n",
       "3  POLYGON ((982935.4722000062 148654.2924000025,...  \n",
       "4  POLYGON ((984932.7683999985 148737.0093999952,...  \n",
       "\n",
       "[5 rows x 88 columns]"
      ]
     },
     "execution_count": 47,
     "metadata": {},
     "output_type": "execute_result"
    }
   ],
   "source": []
  },
  {
   "cell_type": "code",
   "execution_count": 48,
   "metadata": {
    "collapsed": false
   },
   "outputs": [
    {
     "data": {
      "text/plain": [
       "(276909, 88)"
      ]
     },
     "execution_count": 48,
     "metadata": {},
     "output_type": "execute_result"
    }
   ],
   "source": []
  },
  {
   "cell_type": "code",
   "execution_count": null,
   "metadata": {
    "collapsed": true
   },
   "outputs": [],
   "source": []
  }
 ],
 "metadata": {
  "kernelspec": {
   "display_name": "PUI2016_Python3",
   "language": "python",
   "name": "pui2016_python3"
  },
  "language_info": {
   "codemirror_mode": {
    "name": "ipython",
    "version": 3
   },
   "file_extension": ".py",
   "mimetype": "text/x-python",
   "name": "python",
   "nbconvert_exporter": "python",
   "pygments_lexer": "ipython3",
   "version": "3.5.4"
  }
 },
 "nbformat": 4,
 "nbformat_minor": 0
}
