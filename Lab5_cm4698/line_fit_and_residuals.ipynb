{
 "cells": [
  {
   "cell_type": "code",
   "execution_count": null,
   "metadata": {
    "collapsed": false
   },
   "outputs": [],
   "source": [
    "from __future__ import print_function, division\n",
    "import numpy as np\n",
    "import pylab as pl\n",
    "\n",
    "import os\n",
    "import json\n",
    "s = json.load( open(os.getenv('PUI2016')+\"/fbb_matplotlibrc.json\") )\n",
    "pl.rcParams.update(s)\n",
    "\n",
    "import statsmodels.api as sm\n",
    "import statsmodels.formula.api as smf\n",
    "np.random.seed(99)\n",
    "%pylab inline"
   ]
  },
  {
   "cell_type": "code",
   "execution_count": null,
   "metadata": {
    "collapsed": false
   },
   "outputs": [],
   "source": [
    "\n",
    "##this function will fit a line woth statsmodels packages, \n",
    "##both with and without including the noise int he fir parameter (WLS and OLS respectively)\n",
    "##also i can use the statsmodels.formula package passing it a formula, which i will need\n",
    "##when i want to fit a curve, not a straight line, to the data\n",
    "def myregression(x, y, method=None): \n",
    "    if method == None or method == 'O':\n",
    "        rm = sm.OLS(y, x)\n",
    "    elif method == 'W':\n",
    "        rm = sm.WLS(y, x)\n",
    "    else:\n",
    "        print (\"Problem in the way you called myregression\")\n",
    "        return -1\n",
    "            \n",
    "    reg = rm.fit()\n",
    "    print (\"linear regression slope {}\".format(reg.summary()))\n",
    "    return reg\n",
    "\n",
    "def line(a, b, x):\n",
    "    return a*x + b"
   ]
  },
  {
   "cell_type": "markdown",
   "metadata": {},
   "source": [
    "## creating simulated data: just a line \n",
    "## then i fit it with a line fit (linear first degree fit) and plotting it"
   ]
  },
  {
   "cell_type": "code",
   "execution_count": null,
   "metadata": {
    "collapsed": false,
    "scrolled": false
   },
   "outputs": [],
   "source": [
    "x = np.linspace(10,100,100)\n",
    "y = line(0.7, 0, x)\n",
    "\n",
    "mrnew = myregression(x, y)\n",
    "xnew = np.linspace(10,100,10)\n",
    "fig = pl.figure(figsize=(10,10))\n",
    "ax = fig.add_subplot(221)\n",
    "ax.scatter(x, y, label = \"just a line\")\n",
    "ax.set_xlabel('independent variable')\n",
    "ax.set_ylabel('dependent variable')\n",
    "ax2 = fig.add_subplot(222)\n",
    "ax2.scatter(x, y, label = \"just a line\")\n",
    "ax2.set_xlabel('independent variable')\n",
    "ax2.set_ylabel('dependent variable')\n",
    "ax2.plot(xnew, mrnew.predict(xnew), 'r', alpha=0.5, \n",
    "         label = \"statsmodels fit\")\n",
    "ax2.legend()\n"
   ]
  },
  {
   "cell_type": "markdown",
   "metadata": {},
   "source": [
    "# adding noise to the line"
   ]
  },
  {
   "cell_type": "code",
   "execution_count": null,
   "metadata": {
    "collapsed": false
   },
   "outputs": [],
   "source": [
    "y = y + np.random.randn(100) * 2.5\n",
    "mrold = mrnew\n",
    "\n",
    "#I use just OLD: the ordinary square fit which does not take the error bars \n",
    "#into account\n",
    "#refer to statsmodels documentation!!\n",
    "mrnew = myregression(x, y)\n",
    "\n",
    "fig = pl.figure(figsize=(10, 10))\n",
    "ax = fig.add_subplot(221)\n",
    "ax.scatter(x, y, label = \"plus some noise\")\n",
    "ax.plot(xnew, mrold.predict(xnew), 'k', alpha=0.5, label='old fit')\n",
    "\n",
    "ax.set_xlabel('independent variable')\n",
    "ax.set_ylabel('dependent variable')\n",
    "ax.legend()\n",
    "\n",
    "ax = fig.add_subplot(222)\n",
    "ax.scatter(x, y, label = \"plus some noise\")\n",
    "ax.plot(xnew, mrnew.predict(xnew), 'r', alpha=0.5, label='new fit')\n",
    "\n",
    "ax.set_xlabel('independent variable')\n",
    "ax.set_ylabel('dependent variable')\n",
    "ax.legend()"
   ]
  },
  {
   "cell_type": "markdown",
   "metadata": {},
   "source": [
    "## adding a bit of curvature to my line"
   ]
  },
  {
   "cell_type": "code",
   "execution_count": null,
   "metadata": {
    "collapsed": false
   },
   "outputs": [],
   "source": [
    "#y = y+np.cos(x/100*2*np.pi*10.0)\n",
    "y = y + 3e-3 * ((x - 50)**2)\n",
    "mrolder = mrold\n",
    "mrold = mrnew\n",
    "\n",
    "#now i fit the data taking into account the errorbars: \n",
    "#u ise WLS (weighted square fit) \n",
    "#instead of OLS (ordinary square fit)\n",
    "mrnew = myregression(x, y, method='W')\n",
    "\n",
    "fig = pl.figure(figsize=(10,10))\n",
    "ax = fig.add_subplot(221)\n",
    "e = np.random.rand(100)*2.5+2.5\n",
    "ax.errorbar(x, y, yerr=e, fmt='.', label = \"and some structure\")\n",
    "ax.plot(xnew, mrolder.predict(xnew), 'k', alpha=0.4,\n",
    "       label = \"fit to line only\")\n",
    "ax.plot(xnew, mrold.predict(xnew), 'k', alpha=0.7,\n",
    "       label = \"fit to line and noise\")\n",
    "\n",
    "ax.set_xlabel('independent variable')\n",
    "ax.set_ylabel('dependent variable')\n",
    "ax.legend()\n",
    "\n",
    "ax = fig.add_subplot(222)\n",
    "ax.errorbar(x, y, yerr=e, fmt='.', label = \"and some structure\")\n",
    "ax.plot(xnew, mrold.predict(xnew), 'k', alpha=0.7,      \n",
    "       label = \"fit to line and noise\")\n",
    "\n",
    "ax.plot(xnew, mrnew.predict(xnew), 'r', alpha=0.5,\n",
    "       label = \"fit to noisy curve\")\n",
    "\n",
    "ax.set_xlabel('independent variable')\n",
    "ax.set_ylabel('dependent variable')\n",
    "ax.legend()\n"
   ]
  },
  {
   "cell_type": "code",
   "execution_count": null,
   "metadata": {
    "collapsed": false
   },
   "outputs": [],
   "source": [
    "#to fit a curve i can use statsmodels formula, or i can use scipy polyfit. \n",
    "#here i take the residuals from the previous line regression, \n",
    "#which are a curve, and i fir those with a second degree polynomial\n",
    "\n",
    "#here is an example of how to do it with scipy.polyfit  \n",
    "#(the number 2 refers to the degree of the polynomial i want to fit : \n",
    "#refer to the scipy documentation!)\n",
    "\n",
    "mrres = np.polyfit(x, y-mrnew.predict(x), 2)\n",
    "#these are the parameters of the fit: the a b and c in \n",
    "#ax^2 + bx + c\n",
    "print ('numpy polyfit parameters', mrres)\n",
    "fig = pl.figure(figsize=(10,10))\n",
    "ax=fig.add_subplot(221)\n",
    "ax.plot(x, y-mrnew.predict(x), 'o', color='DarkGreen', label='residuals')\n",
    "ax.plot(x, y-mrnew.predict(x), 'k-')\n",
    "\n",
    "ax.plot(x, mrres[0] * x**2 + mrres[1] * x + mrres[2], 'y',\n",
    "       label = 'fit to the residuals (with numpy)')\n",
    "ax.set_xlabel('independent variable')\n",
    "ax.set_ylabel('dependent variable')\n",
    "ax.legend()\n",
    "\n",
    "ax=fig.add_subplot(222)\n",
    "\n",
    "#and i plot the \"residual of the residuals\".... just for fun. \n",
    "#this is not normally something which one would include in the analysis\n",
    "ax.plot(x,y - mrnew.predict(x) - (mrres[0] * x**2 + \n",
    "                                  mrres[1] * x + \n",
    "                                  mrres[2]), 'y',\n",
    "       label = \"rectified residuals\")\n",
    "ax.plot([x.min(), x.max()], [0,0],  '-', color='IndianRed',\n",
    "       label = \"no residuals\")\n",
    "\n",
    "print ('mean of residuals {0:.2f} ({0:.2e})'.format(\n",
    "                mean(y - mrnew.predict(x) - (mrres[1] +  mrres[0] * (x)))))\n",
    "print ('sum squared of residuals {0:.2f} ({0:.2e})'.format(\n",
    "        np.sqrt(sum((y - mrnew.predict(x))**2))))\n",
    "ax.set_xlabel('independent variable')\n",
    "ax.set_ylabel('dependent variable')\n",
    "ax.legend()"
   ]
  },
  {
   "cell_type": "markdown",
   "metadata": {},
   "source": [
    "# of course i could have fit a curve to my data in the first place: i did not need to do a line fit, and then fit a curve to the residuals. that may cme in handy if the residuals have a lot of complex structure: for example if i think they may be periodic and i may want to fit a sine wave to it, but generally if i see a set of data which is curvy iw ill fit a curve to it: \n",
    "\n",
    "## lets fit a second degree polynomial to the data i had created with y = y+3e-3 ((x-50)**2)\n"
   ]
  },
  {
   "cell_type": "code",
   "execution_count": null,
   "metadata": {
    "collapsed": false
   },
   "outputs": [],
   "source": [
    "\n",
    "##second degree polynomial: arguments are i\n",
    "#independent variable, dependent variable, degree of the polynomial\n",
    "mrnew = np.polyfit(x, y, 2)\n",
    "\n",
    "pl.plot(x, y, 'o', color='DarkGreen', label='all in one: ' + \n",
    "        'line+noise+curvature')\n",
    "pl.plot(x, y, 'k-')\n",
    "\n",
    "\n",
    "pl.plot(xnew, np.poly1d(mrnew)(xnew), 'y', alpha=1, \n",
    "        label = '2D polynomial fit with numpy.polyfit')\n",
    "\n",
    "pl.xlabel('independent variable')\n",
    "pl.ylabel('dependent variable')\n",
    "pl.legend()"
   ]
  },
  {
   "cell_type": "code",
   "execution_count": null,
   "metadata": {
    "collapsed": false
   },
   "outputs": [],
   "source": [
    "#with statsmodels that is:\n",
    "smreg = smf.ols(formula=\"y ~ x1 + I((x1)) + I((x1)**2)\", \n",
    "                data={\"x1\" : x, \"y\" : y} ).fit()\n",
    "print (smreg.summary())\n",
    "pl.plot(x, y, 'o', color='DarkGreen', label='all in one : ' + \n",
    "        'line+noise+curvature')\n",
    "pl.plot(x, y, 'k-')\n",
    "\n",
    "\n",
    "pl.plot(xnew, smreg.predict(exog=dict(x1=xnew)), \n",
    "        label = '2D polynomial fit with statsmodels.ols')\n",
    "pl.xlabel('independent variable')\n",
    "pl.ylabel('dependent variable')\n",
    "pl.legend()\n"
   ]
  },
  {
   "cell_type": "code",
   "execution_count": null,
   "metadata": {
    "collapsed": false
   },
   "outputs": [],
   "source": [
    "mrold = mrnew\n",
    "mrnew = np.polyfit(x, y, 2)\n",
    "pl.plot([x.min(), x.max()], [0,0],  '-', color='IndianRed')\n",
    "\n",
    "e = np.random.rand(100)*2.5+2.5\n",
    "#pl.errorbar(x, y, yerr=e, label = \"and some structure\")\n",
    "pl.plot(x, y - np.poly1d(mrnew)(x), 'ro', alpha=0.5,\n",
    "       label = 'residuals from pylab model fit')\n",
    "pl.plot(x, y - np.poly1d(mrnew)(x), 'k', alpha=0.5)\n",
    "\n",
    "\n",
    "pl.xlabel('independent variable')\n",
    "pl.ylabel('dependent variable')\n",
    "pl.legend()\n",
    "print ('mean of residuals {0:.2f} ({0:.2e})'.format(mean(y - \n",
    "                                                       (mrnew[2] + \n",
    "                                                       mrnew[1] * (x) + \n",
    "                                                       mrnew[0] * (x**2)\n",
    "                                                       ))))\n",
    "print ('sum squared of residuals {0:.2f} ({0:.2e})'.format(np.sqrt(sum((y - \n",
    "                                                      (mrnew[2] + \n",
    "                                                       mrnew[1] * \n",
    "                         (x) + mrnew[0] * (x**2)))))))\n"
   ]
  },
  {
   "cell_type": "markdown",
   "metadata": {
    "collapsed": true
   },
   "source": [
    "# many more regression diagnostics!\n",
    "http://statsmodels.sourceforge.net/devel/examples/notebooks/generated/regression_diagnostics.html"
   ]
  },
  {
   "cell_type": "markdown",
   "metadata": {
    "collapsed": true
   },
   "source": [
    "# 10/19 in-class:\n",
    "Fit both a line y=ax+b to it and a quadratic equation y=ax^2 + bx +c to it with statsmodels.formula.api package. Can you compare these models w LE test? Try write down the LR statistics and compare it to a chi sq table. "
   ]
  },
  {
   "cell_type": "code",
   "execution_count": 6,
   "metadata": {
    "collapsed": false
   },
   "outputs": [
    {
     "name": "stdout",
     "output_type": "stream",
     "text": [
      "Populating the interactive namespace from numpy and matplotlib\n"
     ]
    }
   ],
   "source": [
    "import numpy as np # to generate random numbers\n",
    "import statsmodels as st\n",
    "import statsmodels.formula.api as smf\n",
    "import pandas as pd\n",
    "import pylab as pl\n",
    "%pylab inline"
   ]
  },
  {
   "cell_type": "code",
   "execution_count": 15,
   "metadata": {
    "collapsed": false
   },
   "outputs": [
    {
     "data": {
      "text/plain": [
       "array([  9.27911549,  42.19234063,  38.66526982,  32.05184381,\n",
       "        49.54925809,  54.72935004,  18.64145099,  47.12595182,\n",
       "        18.65470167,  40.24042369])"
      ]
     },
     "execution_count": 15,
     "metadata": {},
     "output_type": "execute_result"
    }
   ],
   "source": [
    "# generate some points\n",
    "def line(a, b, x):\n",
    "    # add Gaussian error\n",
    "    # make a vector of those that is as long as x\n",
    "    yerr = np.random.randn(len(x))\n",
    "    # multiply by something comparable to the square root of y\n",
    "    yerr = yerr * (np.sqrt(a * x + b).mean())\n",
    "    \"\"\"pass x-axis to the line\"\"\"\n",
    "    return a * x + b + yerr\n",
    "\n",
    "x = np.random.rand(10) * 10 # generates 10 numbers between 0 and 10 (was 1)\n",
    "line(5, 7, x)"
   ]
  },
  {
   "cell_type": "code",
   "execution_count": 16,
   "metadata": {
    "collapsed": false
   },
   "outputs": [
    {
     "data": {
      "text/plain": [
       "[<matplotlib.lines.Line2D at 0x7f7aefa62c88>]"
      ]
     },
     "execution_count": 16,
     "metadata": {},
     "output_type": "execute_result"
    },
    {
     "data": {
      "image/png": "[encoded data removed]",
      "text/plain": [
       "<matplotlib.figure.Figure at 0x7f7aefaa9e80>"
      ]
     },
     "metadata": {},
     "output_type": "display_data"
    }
   ],
   "source": [
    "# plot that\n",
    "\n",
    "line1 = line(5, 7, x)\n",
    "\n",
    "pl.plot(x, line1, 'o')"
   ]
  },
  {
   "cell_type": "code",
   "execution_count": 19,
   "metadata": {
    "collapsed": false
   },
   "outputs": [
    {
     "name": "stderr",
     "output_type": "stream",
     "text": [
      "/opt/rh/anaconda/root/envs/PUI2016_Python3/lib/python3.5/site-packages/scipy/stats/stats.py:1535: UserWarning: kurtosistest only valid for n>=20 ... continuing anyway, n=10\n",
      "  \"anyway, n=%i\" % int(n))\n"
     ]
    },
    {
     "data": {
      "text/html": [
       "<table class=\"simpletable\">\n",
       "<caption>OLS Regression Results</caption>\n",
       "<tr>\n",
       "  <th>Dep. Variable:</th>            <td>y</td>        <th>  R-squared:         </th> <td>   0.899</td>\n",
       "</tr>\n",
       "<tr>\n",
       "  <th>Model:</th>                   <td>OLS</td>       <th>  Adj. R-squared:    </th> <td>   0.887</td>\n",
       "</tr>\n",
       "<tr>\n",
       "  <th>Method:</th>             <td>Least Squares</td>  <th>  F-statistic:       </th> <td>   71.37</td>\n",
       "</tr>\n",
       "<tr>\n",
       "  <th>Date:</th>             <td>Thu, 19 Oct 2017</td> <th>  Prob (F-statistic):</th> <td>2.94e-05</td>\n",
       "</tr>\n",
       "<tr>\n",
       "  <th>Time:</th>                 <td>11:18:30</td>     <th>  Log-Likelihood:    </th> <td> -31.074</td>\n",
       "</tr>\n",
       "<tr>\n",
       "  <th>No. Observations:</th>      <td>    10</td>      <th>  AIC:               </th> <td>   66.15</td>\n",
       "</tr>\n",
       "<tr>\n",
       "  <th>Df Residuals:</th>          <td>     8</td>      <th>  BIC:               </th> <td>   66.75</td>\n",
       "</tr>\n",
       "<tr>\n",
       "  <th>Df Model:</th>              <td>     1</td>      <th>                     </th>     <td> </td>   \n",
       "</tr>\n",
       "<tr>\n",
       "  <th>Covariance Type:</th>      <td>nonrobust</td>    <th>                     </th>     <td> </td>   \n",
       "</tr>\n",
       "</table>\n",
       "<table class=\"simpletable\">\n",
       "<tr>\n",
       "      <td></td>         <th>coef</th>     <th>std err</th>      <th>t</th>      <th>P>|t|</th> <th>[95.0% Conf. Int.]</th> \n",
       "</tr>\n",
       "<tr>\n",
       "  <th>Intercept</th> <td>    6.0414</td> <td>    3.890</td> <td>    1.553</td> <td> 0.159</td> <td>   -2.928    15.011</td>\n",
       "</tr>\n",
       "<tr>\n",
       "  <th>x</th>         <td>    5.1506</td> <td>    0.610</td> <td>    8.448</td> <td> 0.000</td> <td>    3.745     6.557</td>\n",
       "</tr>\n",
       "</table>\n",
       "<table class=\"simpletable\">\n",
       "<tr>\n",
       "  <th>Omnibus:</th>       <td> 1.388</td> <th>  Durbin-Watson:     </th> <td>   1.596</td>\n",
       "</tr>\n",
       "<tr>\n",
       "  <th>Prob(Omnibus):</th> <td> 0.500</td> <th>  Jarque-Bera (JB):  </th> <td>   0.040</td>\n",
       "</tr>\n",
       "<tr>\n",
       "  <th>Skew:</th>          <td> 0.011</td> <th>  Prob(JB):          </th> <td>   0.980</td>\n",
       "</tr>\n",
       "<tr>\n",
       "  <th>Kurtosis:</th>      <td> 3.308</td> <th>  Cond. No.          </th> <td>    13.2</td>\n",
       "</tr>\n",
       "</table>"
      ],
      "text/plain": [
       "<class 'statsmodels.iolib.summary.Summary'>\n",
       "\"\"\"\n",
       "                            OLS Regression Results                            \n",
       "==============================================================================\n",
       "Dep. Variable:                      y   R-squared:                       0.899\n",
       "Model:                            OLS   Adj. R-squared:                  0.887\n",
       "Method:                 Least Squares   F-statistic:                     71.37\n",
       "Date:                Thu, 19 Oct 2017   Prob (F-statistic):           2.94e-05\n",
       "Time:                        11:18:30   Log-Likelihood:                -31.074\n",
       "No. Observations:                  10   AIC:                             66.15\n",
       "Df Residuals:                       8   BIC:                             66.75\n",
       "Df Model:                           1                                         \n",
       "Covariance Type:            nonrobust                                         \n",
       "==============================================================================\n",
       "                 coef    std err          t      P>|t|      [95.0% Conf. Int.]\n",
       "------------------------------------------------------------------------------\n",
       "Intercept      6.0414      3.890      1.553      0.159        -2.928    15.011\n",
       "x              5.1506      0.610      8.448      0.000         3.745     6.557\n",
       "==============================================================================\n",
       "Omnibus:                        1.388   Durbin-Watson:                   1.596\n",
       "Prob(Omnibus):                  0.500   Jarque-Bera (JB):                0.040\n",
       "Skew:                           0.011   Prob(JB):                        0.980\n",
       "Kurtosis:                       3.308   Cond. No.                         13.2\n",
       "==============================================================================\n",
       "\n",
       "Warnings:\n",
       "[1] Standard Errors assume that the covariance matrix of the errors is correctly specified.\n",
       "\"\"\""
      ]
     },
     "execution_count": 19,
     "metadata": {},
     "output_type": "execute_result"
    },
    {
     "data": {
      "image/png": "[encoded data removed]",
      "text/plain": [
       "<matplotlib.figure.Figure at 0x7f7aefaa7f60>"
      ]
     },
     "metadata": {},
     "output_type": "display_data"
    }
   ],
   "source": [
    "# fit a line to that with stats models\n",
    "# use formula inside of statsmodels\n",
    "\n",
    "# let's create a data frame\n",
    "# good way to convert any array to a dataframe\n",
    "# you can also create an empty df and add variables to it\n",
    "dfline = pd.DataFrame({'x': x,'y': line1})\n",
    "# call OLS, lowercase\n",
    "# smf.ols? >> look at the parameters\n",
    "fittedline = smf.ols(formula='y ~ x', data = dfline) # twiddle means y is proportional to x # our formula is still y = ax+b\n",
    "model = fittedline.fit()\n",
    "model.summary()"
   ]
  },
  {
   "cell_type": "code",
   "execution_count": 20,
   "metadata": {
    "collapsed": false
   },
   "outputs": [
    {
     "ename": "NameError",
     "evalue": "name 'fittedline2' is not defined",
     "output_type": "error",
     "traceback": [
      "\u001b[0;31m---------------------------------------------------------------------------\u001b[0m",
      "\u001b[0;31mNameError\u001b[0m                                 Traceback (most recent call last)",
      "\u001b[0;32m<ipython-input-20-3d334b6793d7>\u001b[0m in \u001b[0;36m<module>\u001b[0;34m()\u001b[0m\n\u001b[1;32m      1\u001b[0m \u001b[0mfittedlin2\u001b[0m \u001b[0;34m=\u001b[0m \u001b[0msmf\u001b[0m\u001b[0;34m.\u001b[0m\u001b[0mols\u001b[0m\u001b[0;34m(\u001b[0m\u001b[0mformula\u001b[0m\u001b[0;34m=\u001b[0m\u001b[0;34m'y ~ I(x**2)'\u001b[0m\u001b[0;34m,\u001b[0m \u001b[0mdata\u001b[0m \u001b[0;34m=\u001b[0m \u001b[0mdfline\u001b[0m\u001b[0;34m)\u001b[0m\u001b[0;34m\u001b[0m\u001b[0m\n\u001b[0;32m----> 2\u001b[0;31m \u001b[0mmodel2\u001b[0m \u001b[0;34m=\u001b[0m \u001b[0mfittedline2\u001b[0m\u001b[0;34m.\u001b[0m\u001b[0mfit\u001b[0m\u001b[0;34m(\u001b[0m\u001b[0;34m)\u001b[0m\u001b[0;34m\u001b[0m\u001b[0m\n\u001b[0m\u001b[1;32m      3\u001b[0m \u001b[0mmodel2\u001b[0m\u001b[0;34m.\u001b[0m\u001b[0msummary\u001b[0m\u001b[0;34m(\u001b[0m\u001b[0;34m)\u001b[0m\u001b[0;34m\u001b[0m\u001b[0m\n\u001b[1;32m      4\u001b[0m \u001b[0;31m# should see R^2 improve\u001b[0m\u001b[0;34m\u001b[0m\u001b[0;34m\u001b[0m\u001b[0m\n\u001b[1;32m      5\u001b[0m \u001b[0;31m# not suprisingly, we increased the # of parameters\u001b[0m\u001b[0;34m\u001b[0m\u001b[0;34m\u001b[0m\u001b[0m\n",
      "\u001b[0;31mNameError\u001b[0m: name 'fittedline2' is not defined"
     ]
    }
   ],
   "source": [
    "fittedlin2 = smf.ols(formula='y ~ I(x**2)', data = dfline)\n",
    "model2 = fittedline2.fit()\n",
    "model2.summary()\n",
    "# should see R^2 improve\n",
    "# not suprisingly, we increased the # of parameters\n",
    "# adjusted-rsquared had actually decreased"
   ]
  },
  {
   "cell_type": "code",
   "execution_count": null,
   "metadata": {
    "collapsed": true
   },
   "outputs": [],
   "source": [
    "OLSResults.compare_lr_test(restricted) # pass your more complex model to compare with your basic model\n",
    "# will give you chi-square tests, "
   ]
  }
 ],
 "metadata": {
  "kernelspec": {
   "display_name": "PUI2016_Python3",
   "language": "python",
   "name": "pui2016_python3"
  },
  "language_info": {
   "codemirror_mode": {
    "name": "ipython",
    "version": 3
   },
   "file_extension": ".py",
   "mimetype": "text/x-python",
   "name": "python",
   "nbconvert_exporter": "python",
   "pygments_lexer": "ipython3",
   "version": "3.5.4"
  },
  "latex_envs": {
   "LaTeX_envs_menu_present": true,
   "bibliofile": "biblio.bib",
   "cite_by": "apalike",
   "current_citInitial": 1,
   "eqLabelWithNumbers": true,
   "eqNumInitial": 1,
   "hotkeys": {
    "equation": "Ctrl-E",
    "itemize": "Ctrl-I"
   },
   "labels_anchors": false,
   "latex_user_defs": false,
   "report_style_numbering": false,
   "user_envs_cfg": false
  },
  "toc": {
   "colors": {
    "hover_highlight": "#DAA520",
    "running_highlight": "#FF0000",
    "selected_highlight": "#FFD700"
   },
   "moveMenuLeft": true,
   "nav_menu": {
    "height": "11.992187999999999px",
    "width": "1.992188px"
   },
   "navigate_menu": true,
   "number_sections": true,
   "sideBar": true,
   "threshold": 4,
   "toc_cell": false,
   "toc_section_display": "block",
   "toc_window_display": false
  }
 },
 "nbformat": 4,
 "nbformat_minor": 0
}
