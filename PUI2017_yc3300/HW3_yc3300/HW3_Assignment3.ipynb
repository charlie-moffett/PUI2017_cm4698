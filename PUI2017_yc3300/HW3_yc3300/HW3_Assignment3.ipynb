{
 "cells": [
  {
   "cell_type": "markdown",
   "metadata": {},
   "source": [
    "Null Hypothesis $H_0$:\n",
    "\n",
    "We assume that new bus route average travel time will be slower than or the same as the old bus route average travel time. \n",
    "$ H_0: T(new) > = T(old) $\n",
    "\n",
    "Hypothesis $H_a$:\n",
    "\n",
    "We assume that new bus route avaerage travel time will be faster than the old bus route average travel time.\n",
    "$ H_a: T(new) > T(old)$\n",
    "\n",
    "$a = 0.5$"
   ]
  },
  {
   "cell_type": "code",
   "execution_count": 22,
   "metadata": {
    "collapsed": true
   },
   "outputs": [],
   "source": [
    "import pandas as pd\n",
    "import numpy as np\n",
    "import os\n",
    "import matplotlib.pyplot as pl"
   ]
  },
  {
   "cell_type": "code",
   "execution_count": 23,
   "metadata": {
    "collapsed": false
   },
   "outputs": [
    {
     "name": "stdout",
     "output_type": "stream",
     "text": [
      "31.62223931\r\n",
      "32.82137636\r\n",
      "30.2291014\r\n",
      "31.41376587\r\n",
      "39.01055035\r\n",
      "34.82207891\r\n",
      "39.87188366\r\n",
      "39.57994562\r\n",
      "31.02658678\r\n",
      "27.66246068\r\n",
      "18.8752884\r\n",
      "46.2313731\r\n",
      "30.01522604\r\n",
      "47.6004104\r\n",
      "16.52726666\r\n",
      "42.4462331\r\n",
      "33.62527449\r\n",
      "42.28462558\r\n",
      "46.20520667\r\n",
      "30.87517392\r\n",
      "32.94800341\r\n",
      "26.17691512\r\n",
      "31.25699649\r\n",
      "35.33644554\r\n",
      "35.64072501\r\n",
      "40.32297174\r\n",
      "38.04348588\r\n",
      "29.4579793\r\n",
      "23.91636367\r\n",
      "34.56403521\r\n",
      "45.42782464\r\n",
      "38.95607754\r\n",
      "39.11396748\r\n",
      "39.67398759\r\n",
      "31.89148105\r\n",
      "22.62379325\r\n",
      "26.18910408\r\n",
      "43.54114213\r\n",
      "33.2607386\r\n",
      "31.67602384\r\n",
      "37.12846259\r\n",
      "38.22048496\r\n",
      "34.38814185\r\n",
      "36.11407371\r\n",
      "44.08064814\r\n",
      "29.59917161\r\n",
      "37.02411751\r\n",
      "41.60576556\r\n",
      "44.37860528\r\n",
      "38.06471077\r\n",
      "22.90526456\r\n",
      "40.27182857\r\n",
      "31.57979239\r\n",
      "25.88037795\r\n",
      "28.8913048\r\n",
      "44.33687925\r\n",
      "36.78948684\r\n",
      "43.46098875\r\n",
      "40.65557\r\n",
      "26.16634004\r\n",
      "25.13884784\r\n",
      "33.01581456\r\n",
      "32.87050073\r\n",
      "26.28557154\r\n",
      "39.44933037\r\n",
      "36.25528612\r\n",
      "40.719133\r\n",
      "40.57181545\r\n",
      "19.87166413\r\n",
      "43.21925286\r\n",
      "31.48102823\r\n",
      "37.14915056\r\n",
      "38.991504\r\n",
      "20.53059384\r\n",
      "27.80447692\r\n",
      "38.69933298\r\n",
      "30.0223142\r\n",
      "38.64884169\r\n",
      "26.40668884\r\n",
      "32.10224978\r\n",
      "28.31532754\r\n",
      "43.26195884\r\n",
      "40.3609407\r\n",
      "37.3025258\r\n",
      "31.45110181\r\n",
      "38.79599524\r\n",
      "36.92553372\r\n",
      "32.37167945\r\n",
      "23.25835631\r\n",
      "26.42613261\r\n",
      "48.74987653\r\n",
      "31.42512354\r\n",
      "46.80679298\r\n",
      "30.59748648\r\n",
      "20.7926322\r\n",
      "26.19785226\r\n",
      "42.7274097\r\n",
      "33.7314695\r\n",
      "37.23859057\r\n",
      "36.33984141\r\n"
     ]
    }
   ],
   "source": [
    "!curl -0 https://raw.githubusercontent.com/fedhere/PUI2017_fb55/master/Lab3_fb55/times.txt"
   ]
  },
  {
   "cell_type": "code",
   "execution_count": 31,
   "metadata": {
    "collapsed": false
   },
   "outputs": [
    {
     "data": {
      "text/html": [
       "<div>\n",
       "<table border=\"1\" class=\"dataframe\">\n",
       "  <thead>\n",
       "    <tr style=\"text-align: right;\">\n",
       "      <th></th>\n",
       "      <th>0</th>\n",
       "    </tr>\n",
       "  </thead>\n",
       "  <tbody>\n",
       "    <tr>\n",
       "      <th>0</th>\n",
       "      <td>31.622239</td>\n",
       "    </tr>\n",
       "    <tr>\n",
       "      <th>1</th>\n",
       "      <td>32.821376</td>\n",
       "    </tr>\n",
       "    <tr>\n",
       "      <th>2</th>\n",
       "      <td>30.229101</td>\n",
       "    </tr>\n",
       "    <tr>\n",
       "      <th>3</th>\n",
       "      <td>31.413766</td>\n",
       "    </tr>\n",
       "    <tr>\n",
       "      <th>4</th>\n",
       "      <td>39.010550</td>\n",
       "    </tr>\n",
       "  </tbody>\n",
       "</table>\n",
       "</div>"
      ],
      "text/plain": [
       "           0\n",
       "0  31.622239\n",
       "1  32.821376\n",
       "2  30.229101\n",
       "3  31.413766\n",
       "4  39.010550"
      ]
     },
     "execution_count": 31,
     "metadata": {},
     "output_type": "execute_result"
    }
   ],
   "source": [
    "data = pd.read_csv(\"https://raw.githubusercontent.com/fedhere/PUI2017_fb55/master/Lab3_fb55/times.txt\", header = None)\n",
    "data.head()"
   ]
  },
  {
   "cell_type": "markdown",
   "metadata": {},
   "source": [
    "# Z test \n",
    "Z = \\frac{\\mu_{pop} - \\mu_{sample}}{\\sigma / \\sqrt{N}}"
   ]
  },
  {
   "cell_type": "code",
   "execution_count": 33,
   "metadata": {
    "collapsed": false
   },
   "outputs": [],
   "source": [
    "mu_pop = 36\n",
    "sigma = 6"
   ]
  },
  {
   "cell_type": "code",
   "execution_count": 35,
   "metadata": {
    "collapsed": false
   },
   "outputs": [
    {
     "data": {
      "text/plain": [
       "100"
      ]
     },
     "execution_count": 35,
     "metadata": {},
     "output_type": "execute_result"
    }
   ],
   "source": [
    "N = len(data)\n",
    "N"
   ]
  },
  {
   "cell_type": "code",
   "execution_count": 37,
   "metadata": {
    "collapsed": false
   },
   "outputs": [
    {
     "data": {
      "text/plain": [
       "0    34.466162\n",
       "dtype: float64"
      ]
     },
     "execution_count": 37,
     "metadata": {},
     "output_type": "execute_result"
    }
   ],
   "source": [
    "mu_sample = data.mean()\n",
    "mu_sample"
   ]
  },
  {
   "cell_type": "code",
   "execution_count": 40,
   "metadata": {
    "collapsed": false
   },
   "outputs": [
    {
     "name": "stdout",
     "output_type": "stream",
     "text": [
      "0    2.556397\n",
      "dtype: float64\n"
     ]
    }
   ],
   "source": [
    "Z = (mu_pop - mu_sample)/(sigma/np.sqrt(N))\n",
    "print(Z)"
   ]
  },
  {
   "cell_type": "markdown",
   "metadata": {},
   "source": [
    "At $a =0.05$ level, the critical value will be 1.96. because $Z = 2.55 >1.96$, the Null Hypothesis is rejected. The new bus route average travel time is faster than the old bus route travel time. "
   ]
  },
  {
   "cell_type": "code",
   "execution_count": null,
   "metadata": {
    "collapsed": true
   },
   "outputs": [],
   "source": []
  }
 ],
 "metadata": {
  "kernelspec": {
   "display_name": "PUI2016_Python2",
   "language": "python",
   "name": "pui2016_python2"
  },
  "language_info": {
   "codemirror_mode": {
    "name": "ipython",
    "version": 2
   },
   "file_extension": ".py",
   "mimetype": "text/x-python",
   "name": "python",
   "nbconvert_exporter": "python",
   "pygments_lexer": "ipython2",
   "version": "2.7.12"
  }
 },
 "nbformat": 4,
 "nbformat_minor": 0
}
