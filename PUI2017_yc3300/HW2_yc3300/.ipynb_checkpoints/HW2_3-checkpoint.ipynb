{
 "cells": [
  {
   "cell_type": "code",
   "execution_count": 1,
   "metadata": {
    "collapsed": true
   },
   "outputs": [],
   "source": [
    "from __future__ import print_function\n",
    "import numpy as np\n",
    "import pandas as pd\n",
    "import sys\n",
    "import os\n",
    "import matplotlib.pyplot as plt"
   ]
  },
  {
   "cell_type": "code",
   "execution_count": 2,
   "metadata": {
    "collapsed": false
   },
   "outputs": [
    {
     "name": "stdout",
     "output_type": "stream",
     "text": [
      "/gws/open/NYCOpenData/nycopendata/data\n"
     ]
    }
   ],
   "source": [
    "DFDATA = os.getenv(\"DFDATA\")\n",
    "print(DFDATA)"
   ]
  },
  {
   "cell_type": "code",
   "execution_count": 58,
   "metadata": {
    "collapsed": false
   },
   "outputs": [],
   "source": [
    "df = pd.read_csv( DFDATA + \"/b7kx-qikm/1414245968/b7kx-qikm\")"
   ]
  },
  {
   "cell_type": "code",
   "execution_count": 59,
   "metadata": {
    "collapsed": false,
    "scrolled": true
   },
   "outputs": [
    {
     "data": {
      "text/html": [
       "<div>\n",
       "<table border=\"1\" class=\"dataframe\">\n",
       "  <thead>\n",
       "    <tr style=\"text-align: right;\">\n",
       "      <th></th>\n",
       "      <th>Borough</th>\n",
       "      <th>Market Name</th>\n",
       "      <th>Street Address</th>\n",
       "      <th>Day(s)</th>\n",
       "      <th>Hours</th>\n",
       "      <th>Distribute Health Bucks</th>\n",
       "      <th>Accepts Health Bucks</th>\n",
       "      <th>EBT</th>\n",
       "      <th>Stellar</th>\n",
       "    </tr>\n",
       "  </thead>\n",
       "  <tbody>\n",
       "    <tr>\n",
       "      <th>0</th>\n",
       "      <td>Bronx</td>\n",
       "      <td>Bissel Gardens Farmers' Market</td>\n",
       "      <td>Baychester Ave &amp; E 241st St</td>\n",
       "      <td>Wednesday &amp; Saturday</td>\n",
       "      <td>9am-5pm</td>\n",
       "      <td>1</td>\n",
       "      <td>1</td>\n",
       "      <td>1</td>\n",
       "      <td>0</td>\n",
       "    </tr>\n",
       "    <tr>\n",
       "      <th>1</th>\n",
       "      <td>Bronx</td>\n",
       "      <td>Bronx Borough Hall Greenmarket</td>\n",
       "      <td>Grand Concourse bet 161st &amp; 162nd Sts</td>\n",
       "      <td>Tuesday</td>\n",
       "      <td>8am-4pm</td>\n",
       "      <td>1</td>\n",
       "      <td>1</td>\n",
       "      <td>1</td>\n",
       "      <td>1</td>\n",
       "    </tr>\n",
       "    <tr>\n",
       "      <th>2</th>\n",
       "      <td>Bronx</td>\n",
       "      <td>Crotona Park Greenmarket</td>\n",
       "      <td>Crotona Park South &amp; Clinton Ave, in Crotona Park</td>\n",
       "      <td>Saturday</td>\n",
       "      <td>8am-3pm</td>\n",
       "      <td>1</td>\n",
       "      <td>1</td>\n",
       "      <td>1</td>\n",
       "      <td>1</td>\n",
       "    </tr>\n",
       "    <tr>\n",
       "      <th>3</th>\n",
       "      <td>Bronx</td>\n",
       "      <td>Harvest Home Co-op City Farmers' Market</td>\n",
       "      <td>140 Bellamy Loop</td>\n",
       "      <td>Saturday</td>\n",
       "      <td>8am-4pm</td>\n",
       "      <td>1</td>\n",
       "      <td>1</td>\n",
       "      <td>1</td>\n",
       "      <td>0</td>\n",
       "    </tr>\n",
       "    <tr>\n",
       "      <th>4</th>\n",
       "      <td>Bronx</td>\n",
       "      <td>Harvest Home Echo Park Market</td>\n",
       "      <td>Ryer &amp; Burnside Aves</td>\n",
       "      <td>Wednesday</td>\n",
       "      <td>8am-4pm</td>\n",
       "      <td>1</td>\n",
       "      <td>1</td>\n",
       "      <td>1</td>\n",
       "      <td>0</td>\n",
       "    </tr>\n",
       "    <tr>\n",
       "      <th>5</th>\n",
       "      <td>Bronx</td>\n",
       "      <td>Harvest Home Forest Avenue Farmers' Market</td>\n",
       "      <td>Forest Ave bet Westchester Ave &amp; 156th St</td>\n",
       "      <td>Wednesday</td>\n",
       "      <td>8am-4pm</td>\n",
       "      <td>1</td>\n",
       "      <td>1</td>\n",
       "      <td>1</td>\n",
       "      <td>0</td>\n",
       "    </tr>\n",
       "    <tr>\n",
       "      <th>6</th>\n",
       "      <td>Bronx</td>\n",
       "      <td>Harvest Home Jacobi Hospital Farmers' Market</td>\n",
       "      <td>1400 Pelham Pkwy at Eastchester Rd</td>\n",
       "      <td>Tuesday</td>\n",
       "      <td>8am-4pm</td>\n",
       "      <td>1</td>\n",
       "      <td>1</td>\n",
       "      <td>1</td>\n",
       "      <td>0</td>\n",
       "    </tr>\n",
       "    <tr>\n",
       "      <th>7</th>\n",
       "      <td>Bronx</td>\n",
       "      <td>Harvest Home Jerome Avenue Market</td>\n",
       "      <td>Plaza Dr bet 170th St &amp; Elliot Pl</td>\n",
       "      <td>Friday</td>\n",
       "      <td>8am-4pm</td>\n",
       "      <td>1</td>\n",
       "      <td>1</td>\n",
       "      <td>1</td>\n",
       "      <td>0</td>\n",
       "    </tr>\n",
       "  </tbody>\n",
       "</table>\n",
       "</div>"
      ],
      "text/plain": [
       "  Borough                                  Market Name   \\\n",
       "0   Bronx                Bissel Gardens Farmers' Market   \n",
       "1   Bronx                Bronx Borough Hall Greenmarket   \n",
       "2   Bronx                      Crotona Park Greenmarket   \n",
       "3   Bronx       Harvest Home Co-op City Farmers' Market   \n",
       "4   Bronx                 Harvest Home Echo Park Market   \n",
       "5   Bronx    Harvest Home Forest Avenue Farmers' Market   \n",
       "6   Bronx  Harvest Home Jacobi Hospital Farmers' Market   \n",
       "7   Bronx             Harvest Home Jerome Avenue Market   \n",
       "\n",
       "                                      Street Address                 Day(s)  \\\n",
       "0                        Baychester Ave & E 241st St  Wednesday & Saturday    \n",
       "1              Grand Concourse bet 161st & 162nd Sts               Tuesday    \n",
       "2  Crotona Park South & Clinton Ave, in Crotona Park               Saturday   \n",
       "3                                   140 Bellamy Loop               Saturday   \n",
       "4                              Ryer & Burnside Aves               Wednesday   \n",
       "5          Forest Ave bet Westchester Ave & 156th St              Wednesday   \n",
       "6                 1400 Pelham Pkwy at Eastchester Rd                Tuesday   \n",
       "7                  Plaza Dr bet 170th St & Elliot Pl                 Friday   \n",
       "\n",
       "     Hours  Distribute Health Bucks  Accepts Health Bucks  EBT  Stellar  \n",
       "0  9am-5pm                        1                     1    1        0  \n",
       "1  8am-4pm                        1                     1    1        1  \n",
       "2  8am-3pm                        1                     1    1        1  \n",
       "3  8am-4pm                        1                     1    1        0  \n",
       "4  8am-4pm                        1                     1    1        0  \n",
       "5  8am-4pm                        1                     1    1        0  \n",
       "6  8am-4pm                        1                     1    1        0  \n",
       "7  8am-4pm                        1                     1    1        0  "
      ]
     },
     "execution_count": 59,
     "metadata": {},
     "output_type": "execute_result"
    }
   ],
   "source": [
    "df.head(8)"
   ]
  },
  {
   "cell_type": "code",
   "execution_count": 51,
   "metadata": {
    "collapsed": false
   },
   "outputs": [
    {
     "data": {
      "text/plain": [
       "Index([u'Borough', u'Market Name ', u'Street Address', u'Day(s)', u'Hours',\n",
       "       u'Distribute Health Bucks', u'Accepts Health Bucks', u'EBT',\n",
       "       u'Stellar'],\n",
       "      dtype='object')"
      ]
     },
     "execution_count": 51,
     "metadata": {},
     "output_type": "execute_result"
    }
   ],
   "source": [
    "df.columns"
   ]
  },
  {
   "cell_type": "code",
   "execution_count": 60,
   "metadata": {
    "collapsed": false
   },
   "outputs": [
    {
     "data": {
      "text/html": [
       "<div>\n",
       "<table border=\"1\" class=\"dataframe\">\n",
       "  <thead>\n",
       "    <tr style=\"text-align: right;\">\n",
       "      <th></th>\n",
       "      <th>EBT</th>\n",
       "      <th>Stellar</th>\n",
       "    </tr>\n",
       "  </thead>\n",
       "  <tbody>\n",
       "    <tr>\n",
       "      <th>0</th>\n",
       "      <td>1</td>\n",
       "      <td>0</td>\n",
       "    </tr>\n",
       "    <tr>\n",
       "      <th>1</th>\n",
       "      <td>1</td>\n",
       "      <td>1</td>\n",
       "    </tr>\n",
       "    <tr>\n",
       "      <th>2</th>\n",
       "      <td>1</td>\n",
       "      <td>1</td>\n",
       "    </tr>\n",
       "    <tr>\n",
       "      <th>3</th>\n",
       "      <td>1</td>\n",
       "      <td>0</td>\n",
       "    </tr>\n",
       "    <tr>\n",
       "      <th>4</th>\n",
       "      <td>1</td>\n",
       "      <td>0</td>\n",
       "    </tr>\n",
       "    <tr>\n",
       "      <th>5</th>\n",
       "      <td>1</td>\n",
       "      <td>0</td>\n",
       "    </tr>\n",
       "    <tr>\n",
       "      <th>6</th>\n",
       "      <td>1</td>\n",
       "      <td>0</td>\n",
       "    </tr>\n",
       "    <tr>\n",
       "      <th>7</th>\n",
       "      <td>1</td>\n",
       "      <td>0</td>\n",
       "    </tr>\n",
       "  </tbody>\n",
       "</table>\n",
       "</div>"
      ],
      "text/plain": [
       "   EBT  Stellar\n",
       "0    1        0\n",
       "1    1        1\n",
       "2    1        1\n",
       "3    1        0\n",
       "4    1        0\n",
       "5    1        0\n",
       "6    1        0\n",
       "7    1        0"
      ]
     },
     "execution_count": 60,
     "metadata": {},
     "output_type": "execute_result"
    }
   ],
   "source": [
    "items = ['EBT','Stellar']\n",
    "df.drop(['Borough', 'Market Name ','Street Address','Day(s)','Hours', 'Distribute Health Bucks','Accepts Health Bucks'], axis = 1, inplace = True)\n",
    "df.head(8)"
   ]
  },
  {
   "cell_type": "code",
   "execution_count": 63,
   "metadata": {
    "collapsed": false
   },
   "outputs": [],
   "source": [
    "import matplotlib.pyplot as plt"
   ]
  },
  {
   "cell_type": "code",
   "execution_count": 65,
   "metadata": {
    "collapsed": false
   },
   "outputs": [
    {
     "data": {
      "image/png": "[encoded data removed]",
      "text/plain": [
       "<matplotlib.figure.Figure at 0x7fd8af17bc90>"
      ]
     },
     "metadata": {},
     "output_type": "display_data"
    }
   ],
   "source": [
    "file_plot = df.plot.scatter(x = 'EBT', y = 'Stellar' )\n",
    "plt.show()"
   ]
  },
  {
   "cell_type": "code",
   "execution_count": null,
   "metadata": {
    "collapsed": true
   },
   "outputs": [],
   "source": []
  },
  {
   "cell_type": "code",
   "execution_count": null,
   "metadata": {
    "collapsed": true
   },
   "outputs": [],
   "source": []
  }
 ],
 "metadata": {
  "kernelspec": {
   "display_name": "PUI2016_Python2",
   "language": "python",
   "name": "pui2016_python2"
  },
  "language_info": {
   "codemirror_mode": {
    "name": "ipython",
    "version": 2
   },
   "file_extension": ".py",
   "mimetype": "text/x-python",
   "name": "python",
   "nbconvert_exporter": "python",
   "pygments_lexer": "ipython2",
   "version": "2.7.12"
  }
 },
 "nbformat": 4,
 "nbformat_minor": 0
}
