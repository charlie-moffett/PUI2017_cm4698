{
 "cells": [
  {
   "cell_type": "markdown",
   "metadata": {},
   "source": [
    "written by Charlie Moffett, NYU CUSP, 2017"
   ]
  },
  {
   "cell_type": "code",
   "execution_count": 4,
   "metadata": {
    "collapsed": false
   },
   "outputs": [
    {
     "name": "stdout",
     "output_type": "stream",
     "text": [
      "Populating the interactive namespace from numpy and matplotlib\n"
     ]
    }
   ],
   "source": [
    "from __future__ import print_function, division\n",
    "import numpy as np\n",
    "import pandas as pd\n",
    "import geopandas as gpd\n",
    "import pylab as pl\n",
    "%pylab inline\n",
    "\n",
    "import os\n",
    "import statsmodels.api as sm\n",
    "import statsmodels.formula.api as smf\n",
    "\n",
    "try:\n",
    "    import urllib2 as urllib\n",
    "except ImportError:\n",
    "    import urllib.request as urllib"
   ]
  },
  {
   "cell_type": "markdown",
   "metadata": {},
   "source": [
    "__An interesting urban question is \"can we measure and predict energy use based on observables that are easily acquired\". For example the urban observatory at CUSP can monitor lights: they are a relatively easily observable. All you need is a camera, and a pipeline to process your data. But how does the light coming from a window relate to the total energy consumption? We generally postulate that light is a proxy for occupancy, and that occupancy is a good predictor of energy consumption.__\n",
    "\n",
    "## So let's test if the last link holds. If we have data on the energy consumed by a building how well does that relate to the number of units in the building?"
   ]
  },
  {
   "cell_type": "code",
   "execution_count": 6,
   "metadata": {
    "collapsed": false
   },
   "outputs": [
    {
     "name": "stdout",
     "output_type": "stream",
     "text": [
      "--2017-10-23 17:37:35--  https://data.cityofnewyork.us/api/views/rgfe-8y2z/rows.csv\n",
      "Resolving data.cityofnewyork.us... 52.206.140.199\n",
      "Connecting to data.cityofnewyork.us|52.206.140.199|:443... connected.\n",
      "HTTP request sent, awaiting response... 200 OK\n",
      "Length: 4433512 (4.2M) [text/csv]\n",
      "Saving to: “rows.csv”\n",
      "\n",
      "100%[======================================>] 4,433,512   18.1M/s   in 0.2s    \n",
      "\n",
      "Last-modified header invalid -- time-stamp ignored.\n",
      "2017-10-23 17:37:35 (18.1 MB/s) - “rows.csv” saved [4433512/4433512]\n",
      "\n"
     ]
    }
   ],
   "source": [
    "# Either obtain the data through the API or download the csv file, and move it to $PUIDATA\n",
    "# The next line will download the 'Energy-and-Water-Data-Disclosure-for-Local-Law-84' data locally\n",
    "# !wget https://data.cityofnewyork.us/api/views/rgfe-8y2z/rows.csv"
   ]
  },
  {
   "cell_type": "code",
   "execution_count": 7,
   "metadata": {
    "collapsed": false
   },
   "outputs": [
    {
     "name": "stdout",
     "output_type": "stream",
     "text": [
      "201501-citibike-tripdata.csv\r\n",
      "201501-citibike-tripdata.zip\r\n",
      "201503-citibike-tripdata.csv\r\n",
      "201503-citibike-tripdata.zip\r\n",
      "201507-citibike-tripdata.csv\r\n",
      "201507-citibike-tripdata.zip\r\n",
      "API_NY.GDP.MKTP.CD_DS2_en_csv_v2.csv\r\n",
      "API_SP.POP.TOTL_DS2_en_csv_v2.csv\r\n",
      "BORO_zip_files_csv\r\n",
      "data-pvLFI.csv\r\n",
      "World firearms murders and ownership - Sheet 1.csv\r\n"
     ]
    }
   ],
   "source": [
    "# Looking in PUIDATA to show that the file is not there yet\n",
    "# !ls $PUIDATA"
   ]
  },
  {
   "cell_type": "code",
   "execution_count": 8,
   "metadata": {
    "collapsed": false
   },
   "outputs": [
    {
     "data": {
      "text/plain": [
       "0"
      ]
     },
     "execution_count": 8,
     "metadata": {},
     "output_type": "execute_result"
    }
   ],
   "source": [
    "# Moving the dataset 'rows.csv', which is the 'Energy-and-Water-Data-Disclosure-for-Local-Law-84',\n",
    "# into PUIDATA\n",
    "# os.system(\"mv %s %s\"%(\"rows.csv\", os.getenv(\"PUIDATA\")))"
   ]
  },
  {
   "cell_type": "code",
   "execution_count": 10,
   "metadata": {
    "collapsed": false
   },
   "outputs": [
    {
     "name": "stdout",
     "output_type": "stream",
     "text": [
      "201501-citibike-tripdata.csv\r\n",
      "201501-citibike-tripdata.zip\r\n",
      "201503-citibike-tripdata.csv\r\n",
      "201503-citibike-tripdata.zip\r\n",
      "201507-citibike-tripdata.csv\r\n",
      "201507-citibike-tripdata.zip\r\n",
      "API_NY.GDP.MKTP.CD_DS2_en_csv_v2.csv\r\n",
      "API_SP.POP.TOTL_DS2_en_csv_v2.csv\r\n",
      "BORO_zip_files_csv\r\n",
      "data-pvLFI.csv\r\n",
      "rows.csv\r\n",
      "World firearms murders and ownership - Sheet 1.csv\r\n"
     ]
    }
   ],
   "source": [
    "# Demonstrating that the dataset has been moved into PUIDATA\n",
    "!ls $PUIDATA"
   ]
  },
  {
   "cell_type": "code",
   "execution_count": 13,
   "metadata": {
    "collapsed": false
   },
   "outputs": [
    {
     "data": {
      "text/html": [
       "<div>\n",
       "<table border=\"1\" class=\"dataframe\">\n",
       "  <thead>\n",
       "    <tr style=\"text-align: right;\">\n",
       "      <th></th>\n",
       "      <th>Record Number</th>\n",
       "      <th>BBL</th>\n",
       "      <th>Co-reported BBL Status</th>\n",
       "      <th>BBLs Co-reported</th>\n",
       "      <th>Reported NYC Building Identificaiton Numbers (BINs)</th>\n",
       "      <th>Street Number</th>\n",
       "      <th>Street Name</th>\n",
       "      <th>Borough</th>\n",
       "      <th>Postcode</th>\n",
       "      <th>DOF Benchmarking Submission Status</th>\n",
       "      <th>...</th>\n",
       "      <th>DOF Property Floor Area (Buildngs and Parking)(ft2)</th>\n",
       "      <th>Primary Property Type - Self Selected</th>\n",
       "      <th>DOF Number of Buildings</th>\n",
       "      <th>Latitude</th>\n",
       "      <th>Longitude</th>\n",
       "      <th>Community Board</th>\n",
       "      <th>Council District</th>\n",
       "      <th>Census Tract</th>\n",
       "      <th>BIN</th>\n",
       "      <th>NTA</th>\n",
       "    </tr>\n",
       "  </thead>\n",
       "  <tbody>\n",
       "    <tr>\n",
       "      <th>0</th>\n",
       "      <td>12086</td>\n",
       "      <td>1.000410e+09</td>\n",
       "      <td>NaN</td>\n",
       "      <td>1000410001</td>\n",
       "      <td>1001007</td>\n",
       "      <td>NaN</td>\n",
       "      <td>NaN</td>\n",
       "      <td>Manhattan</td>\n",
       "      <td>NaN</td>\n",
       "      <td>BBL not valid</td>\n",
       "      <td>...</td>\n",
       "      <td>NaN</td>\n",
       "      <td>Office</td>\n",
       "      <td>NaN</td>\n",
       "      <td>NaN</td>\n",
       "      <td>NaN</td>\n",
       "      <td>NaN</td>\n",
       "      <td>NaN</td>\n",
       "      <td>NaN</td>\n",
       "      <td>NaN</td>\n",
       "      <td>NaN</td>\n",
       "    </tr>\n",
       "    <tr>\n",
       "      <th>1</th>\n",
       "      <td>14354</td>\n",
       "      <td>4.021460e+09</td>\n",
       "      <td>NaN</td>\n",
       "      <td>NaN</td>\n",
       "      <td>NaN</td>\n",
       "      <td>63-10</td>\n",
       "      <td>108 STREET</td>\n",
       "      <td>Queens</td>\n",
       "      <td>11375.0</td>\n",
       "      <td>No Submission Matched to BBL</td>\n",
       "      <td>...</td>\n",
       "      <td>82730.0</td>\n",
       "      <td>NaN</td>\n",
       "      <td>1.0</td>\n",
       "      <td>NaN</td>\n",
       "      <td>NaN</td>\n",
       "      <td>NaN</td>\n",
       "      <td>NaN</td>\n",
       "      <td>NaN</td>\n",
       "      <td>NaN</td>\n",
       "      <td>NaN</td>\n",
       "    </tr>\n",
       "    <tr>\n",
       "      <th>2</th>\n",
       "      <td>12150</td>\n",
       "      <td>2.027620e+09</td>\n",
       "      <td>NaN</td>\n",
       "      <td>2027620097</td>\n",
       "      <td>2006460</td>\n",
       "      <td>NaN</td>\n",
       "      <td>NaN</td>\n",
       "      <td>Bronx</td>\n",
       "      <td>NaN</td>\n",
       "      <td>BBL not valid</td>\n",
       "      <td>...</td>\n",
       "      <td>NaN</td>\n",
       "      <td>Multifamily Housing</td>\n",
       "      <td>NaN</td>\n",
       "      <td>NaN</td>\n",
       "      <td>NaN</td>\n",
       "      <td>NaN</td>\n",
       "      <td>NaN</td>\n",
       "      <td>NaN</td>\n",
       "      <td>NaN</td>\n",
       "      <td>NaN</td>\n",
       "    </tr>\n",
       "    <tr>\n",
       "      <th>3</th>\n",
       "      <td>12590</td>\n",
       "      <td>1.006700e+09</td>\n",
       "      <td>NaN</td>\n",
       "      <td>NaN</td>\n",
       "      <td>NaN</td>\n",
       "      <td>201</td>\n",
       "      <td>11 AVENUE</td>\n",
       "      <td>Manhattan</td>\n",
       "      <td>10001.0</td>\n",
       "      <td>No Submission Matched to BBL</td>\n",
       "      <td>...</td>\n",
       "      <td>440360.0</td>\n",
       "      <td>NaN</td>\n",
       "      <td>1.0</td>\n",
       "      <td>40.749652</td>\n",
       "      <td>-74.006471</td>\n",
       "      <td>4.0</td>\n",
       "      <td>3.0</td>\n",
       "      <td>99.0</td>\n",
       "      <td>1012266.0</td>\n",
       "      <td>Hudson Yards-Chelsea-Flatiron-Union Square    ...</td>\n",
       "    </tr>\n",
       "    <tr>\n",
       "      <th>4</th>\n",
       "      <td>15591</td>\n",
       "      <td>2.048300e+09</td>\n",
       "      <td>NaN</td>\n",
       "      <td>2048300034</td>\n",
       "      <td>2063117</td>\n",
       "      <td>NaN</td>\n",
       "      <td>NaN</td>\n",
       "      <td>Bronx</td>\n",
       "      <td>NaN</td>\n",
       "      <td>Not on Covered Buildings List</td>\n",
       "      <td>...</td>\n",
       "      <td>NaN</td>\n",
       "      <td>Multifamily Housing</td>\n",
       "      <td>NaN</td>\n",
       "      <td>NaN</td>\n",
       "      <td>NaN</td>\n",
       "      <td>NaN</td>\n",
       "      <td>NaN</td>\n",
       "      <td>NaN</td>\n",
       "      <td>NaN</td>\n",
       "      <td>NaN</td>\n",
       "    </tr>\n",
       "  </tbody>\n",
       "</table>\n",
       "<p>5 rows × 32 columns</p>\n",
       "</div>"
      ],
      "text/plain": [
       "   Record Number           BBL Co-reported BBL Status BBLs Co-reported  \\\n",
       "0          12086  1.000410e+09                    NaN       1000410001   \n",
       "1          14354  4.021460e+09                    NaN              NaN   \n",
       "2          12150  2.027620e+09                    NaN       2027620097   \n",
       "3          12590  1.006700e+09                    NaN              NaN   \n",
       "4          15591  2.048300e+09                    NaN       2048300034   \n",
       "\n",
       "  Reported NYC Building Identificaiton Numbers (BINs) Street Number  \\\n",
       "0                                            1001007            NaN   \n",
       "1                                                NaN          63-10   \n",
       "2                                            2006460            NaN   \n",
       "3                                                NaN            201   \n",
       "4                                            2063117            NaN   \n",
       "\n",
       "  Street Name    Borough  Postcode DOF Benchmarking Submission Status  \\\n",
       "0         NaN  Manhattan       NaN                      BBL not valid   \n",
       "1  108 STREET     Queens   11375.0       No Submission Matched to BBL   \n",
       "2         NaN      Bronx       NaN                      BBL not valid   \n",
       "3   11 AVENUE  Manhattan   10001.0       No Submission Matched to BBL   \n",
       "4         NaN      Bronx       NaN      Not on Covered Buildings List   \n",
       "\n",
       "                         ...                          \\\n",
       "0                        ...                           \n",
       "1                        ...                           \n",
       "2                        ...                           \n",
       "3                        ...                           \n",
       "4                        ...                           \n",
       "\n",
       "  DOF Property Floor Area (Buildngs and Parking)(ft2)  \\\n",
       "0                                                NaN    \n",
       "1                                            82730.0    \n",
       "2                                                NaN    \n",
       "3                                           440360.0    \n",
       "4                                                NaN    \n",
       "\n",
       "  Primary Property Type - Self Selected DOF Number of Buildings   Latitude  \\\n",
       "0                                Office                     NaN        NaN   \n",
       "1                                   NaN                     1.0        NaN   \n",
       "2                   Multifamily Housing                     NaN        NaN   \n",
       "3                                   NaN                     1.0  40.749652   \n",
       "4                   Multifamily Housing                     NaN        NaN   \n",
       "\n",
       "   Longitude Community Board Council District Census Tract        BIN  \\\n",
       "0        NaN             NaN              NaN          NaN        NaN   \n",
       "1        NaN             NaN              NaN          NaN        NaN   \n",
       "2        NaN             NaN              NaN          NaN        NaN   \n",
       "3 -74.006471             4.0              3.0         99.0  1012266.0   \n",
       "4        NaN             NaN              NaN          NaN        NaN   \n",
       "\n",
       "                                                 NTA  \n",
       "0                                                NaN  \n",
       "1                                                NaN  \n",
       "2                                                NaN  \n",
       "3  Hudson Yards-Chelsea-Flatiron-Union Square    ...  \n",
       "4                                                NaN  \n",
       "\n",
       "[5 rows x 32 columns]"
      ]
     },
     "execution_count": 13,
     "metadata": {},
     "output_type": "execute_result"
    }
   ],
   "source": [
    "# creating a pandas dataframe from the dataset\n",
    "nrg=pd.read_csv(os.getenv(\"PUIDATA\")+'/rows.csv')\n",
    "nrg.head()"
   ]
  },
  {
   "cell_type": "code",
   "execution_count": 24,
   "metadata": {
    "collapsed": false
   },
   "outputs": [
    {
     "name": "stdout",
     "output_type": "stream",
     "text": [
      "--2017-10-23 17:53:25--  https://www1.nyc.gov/assets/planning/download/zip/data-maps/open-data/mn_mappluto_16v2.zip\n",
      "Resolving www1.nyc.gov... 23.66.229.194, 2600:1400:a:1a3::1500, 2600:1400:a:18f::1500\n",
      "Connecting to www1.nyc.gov|23.66.229.194|:443... connected.\n",
      "HTTP request sent, awaiting response... 200 OK\n",
      "Length: 9857321 (9.4M) [application/zip]\n",
      "Saving to: “mn_mappluto_16v2.zip”\n",
      "\n",
      "100%[======================================>] 9,857,321   32.5M/s   in 0.3s    \n",
      "\n",
      "2017-10-23 17:53:26 (32.5 MB/s) - “mn_mappluto_16v2.zip” saved [9857321/9857321]\n",
      "\n"
     ]
    }
   ],
   "source": [
    "# However this dataset does not have the number of units. We can find that in the Pluto dataset.\n",
    "# !wget https://www1.nyc.gov/assets/planning/download/zip/data-maps/open-data/mn_mappluto_16v2.zip"
   ]
  },
  {
   "cell_type": "code",
   "execution_count": 25,
   "metadata": {
    "collapsed": false
   },
   "outputs": [
    {
     "name": "stdout",
     "output_type": "stream",
     "text": [
      "Archive:  mn_mappluto_16v2.zip\n",
      "  inflating: /home/cusp/cm4698/PUIdata/PLUTODD16v2.pdf  \n",
      "  inflating: /home/cusp/cm4698/PUIdata/MN_Dcp_Mappinglot.dbf  \n",
      "  inflating: /home/cusp/cm4698/PUIdata/MN_Dcp_Mappinglot.prj  \n",
      "  inflating: /home/cusp/cm4698/PUIdata/MN_Dcp_Mappinglot.sbn  \n",
      "  inflating: /home/cusp/cm4698/PUIdata/MN_Dcp_Mappinglot.sbx  \n",
      "  inflating: /home/cusp/cm4698/PUIdata/MN_Dcp_Mappinglot.shp  \n",
      "  inflating: /home/cusp/cm4698/PUIdata/MN_Dcp_Mappinglot.shp.xml  \n",
      "  inflating: /home/cusp/cm4698/PUIdata/MN_Dcp_Mappinglot.shx  \n",
      "  inflating: /home/cusp/cm4698/PUIdata/mn_pluto.dbf  \n",
      "  inflating: /home/cusp/cm4698/PUIdata/mn_pluto.dbf.xml  \n",
      "  inflating: /home/cusp/cm4698/PUIdata/MNMapPLUTO.BBL.atx  \n",
      "  inflating: /home/cusp/cm4698/PUIdata/MNMapPLUTO.CD.atx  \n",
      "  inflating: /home/cusp/cm4698/PUIdata/MNMapPLUTO.dbf  \n",
      "  inflating: /home/cusp/cm4698/PUIdata/MNMapPLUTO.LandUse.atx  \n",
      "  inflating: /home/cusp/cm4698/PUIdata/MNMapPLUTO.prj  \n",
      "  inflating: /home/cusp/cm4698/PUIdata/MNMapPLUTO.sbn  \n",
      "  inflating: /home/cusp/cm4698/PUIdata/MNMapPLUTO.sbx  \n",
      "  inflating: /home/cusp/cm4698/PUIdata/MNMapPLUTO.shp  \n",
      "  inflating: /home/cusp/cm4698/PUIdata/MNMapPLUTO.shp.xml  \n",
      "  inflating: /home/cusp/cm4698/PUIdata/MNMapPLUTO.shx  \n",
      "  inflating: /home/cusp/cm4698/PUIdata/MNMapPLUTO.ZoneDist1.atx  \n"
     ]
    }
   ],
   "source": [
    "# !unzip -d $PUIDATA mn_mappluto_16v2.zip"
   ]
  },
  {
   "cell_type": "code",
   "execution_count": 20,
   "metadata": {
    "collapsed": false
   },
   "outputs": [
    {
     "data": {
      "text/plain": [
       "0"
      ]
     },
     "execution_count": 20,
     "metadata": {},
     "output_type": "execute_result"
    }
   ],
   "source": [
    "# os.system(\"mv %s %s\"%(\"mn_mappluto_16v2.zip\", os.getenv(\"PUIDATA\")))"
   ]
  },
  {
   "cell_type": "code",
   "execution_count": 26,
   "metadata": {
    "collapsed": false
   },
   "outputs": [
    {
     "name": "stdout",
     "output_type": "stream",
     "text": [
      "201501-citibike-tripdata.csv\r\n",
      "201501-citibike-tripdata.zip\r\n",
      "201503-citibike-tripdata.csv\r\n",
      "201503-citibike-tripdata.zip\r\n",
      "201507-citibike-tripdata.csv\r\n",
      "201507-citibike-tripdata.zip\r\n",
      "API_NY.GDP.MKTP.CD_DS2_en_csv_v2.csv\r\n",
      "API_SP.POP.TOTL_DS2_en_csv_v2.csv\r\n",
      "BORO_zip_files_csv\r\n",
      "data-pvLFI.csv\r\n",
      "MN_Dcp_Mappinglot.dbf\r\n",
      "MN_Dcp_Mappinglot.prj\r\n",
      "MN_Dcp_Mappinglot.sbn\r\n",
      "MN_Dcp_Mappinglot.sbx\r\n",
      "MN_Dcp_Mappinglot.shp\r\n",
      "MN_Dcp_Mappinglot.shp.xml\r\n",
      "MN_Dcp_Mappinglot.shx\r\n",
      "mn_mappluto_16v2.zip\r\n",
      "MNMapPLUTO.BBL.atx\r\n",
      "MNMapPLUTO.CD.atx\r\n",
      "MNMapPLUTO.dbf\r\n",
      "MNMapPLUTO.LandUse.atx\r\n",
      "MNMapPLUTO.prj\r\n",
      "MNMapPLUTO.sbn\r\n",
      "MNMapPLUTO.sbx\r\n",
      "MNMapPLUTO.shp\r\n",
      "MNMapPLUTO.shp.xml\r\n",
      "MNMapPLUTO.shx\r\n",
      "MNMapPLUTO.ZoneDist1.atx\r\n",
      "mn_pluto.dbf\r\n",
      "mn_pluto.dbf.xml\r\n",
      "PLUTODD16v2.pdf\r\n",
      "rows.csv\r\n",
      "World firearms murders and ownership - Sheet 1.csv\r\n"
     ]
    }
   ],
   "source": [
    "!ls $PUIDATA"
   ]
  },
  {
   "cell_type": "code",
   "execution_count": 27,
   "metadata": {
    "collapsed": false
   },
   "outputs": [
    {
     "name": "stdout",
     "output_type": "stream",
     "text": [
      "File in place, proceed!\n"
     ]
    }
   ],
   "source": [
    "# Confirms that the unzipped CSV is in PUIDATA, otherwise will download it for you\n",
    "PUIdata=os.getenv(\"PUIDATA\")\n",
    "if not os.path.isfile(PUIdata + \"/BORO_zip_files_csv/MN.csv\"):\n",
    "    print('Downloading...')\n",
    "    os.system('curl -O https://www1.nyc.gov/assets/planning/download/zip/data-maps/open-data/nyc_pluto_16v2%20.zip')\n",
    "    os.system('mv nyc_pluto_16v2%20.zip ' + PUIdata)\n",
    "    os.system('unzip ' + PUIdata + '/nyc_pluto_16v2%20.zip -d ' + PUIdata)\n",
    "    if os.path.isfile(PUIdata + \"/BORO_zip_files_csv/MN.csv\"):\n",
    "        print('File in place, proceed!')\n",
    "else:\n",
    "    print('File in place, proceed!')"
   ]
  },
  {
   "cell_type": "code",
   "execution_count": 28,
   "metadata": {
    "collapsed": false
   },
   "outputs": [
    {
     "name": "stderr",
     "output_type": "stream",
     "text": [
      "/opt/rh/anaconda/root/envs/PUI2016_Python3/lib/python3.5/site-packages/IPython/core/interactiveshell.py:2717: DtypeWarning: Columns (19,22,23,25,63,79) have mixed types. Specify dtype option on import or set low_memory=False.\n",
      "  interactivity=interactivity, compiler=compiler, result=result)\n"
     ]
    }
   ],
   "source": [
    "# Reading in the Pluto data for manhattan, which will give me the number of units ber building Manhattan/MNMapPLUTO.shp\n",
    "bsize=pd.read_csv(PUIdata + \"/BORO_zip_files_csv/MN.csv\")"
   ]
  },
  {
   "cell_type": "code",
   "execution_count": 29,
   "metadata": {
    "collapsed": false
   },
   "outputs": [
    {
     "data": {
      "text/html": [
       "<div>\n",
       "<table border=\"1\" class=\"dataframe\">\n",
       "  <thead>\n",
       "    <tr style=\"text-align: right;\">\n",
       "      <th></th>\n",
       "      <th>Borough</th>\n",
       "      <th>Block</th>\n",
       "      <th>Lot</th>\n",
       "      <th>CD</th>\n",
       "      <th>CT2010</th>\n",
       "      <th>CB2010</th>\n",
       "      <th>SchoolDist</th>\n",
       "      <th>Council</th>\n",
       "      <th>ZipCode</th>\n",
       "      <th>FireComp</th>\n",
       "      <th>...</th>\n",
       "      <th>YCoord</th>\n",
       "      <th>ZoneMap</th>\n",
       "      <th>ZMCode</th>\n",
       "      <th>Sanborn</th>\n",
       "      <th>TaxMap</th>\n",
       "      <th>EDesigNum</th>\n",
       "      <th>APPBBL</th>\n",
       "      <th>APPDate</th>\n",
       "      <th>PLUTOMapID</th>\n",
       "      <th>Version</th>\n",
       "    </tr>\n",
       "  </thead>\n",
       "  <tbody>\n",
       "    <tr>\n",
       "      <th>0</th>\n",
       "      <td>MN</td>\n",
       "      <td>1</td>\n",
       "      <td>10</td>\n",
       "      <td>101</td>\n",
       "      <td>5.0</td>\n",
       "      <td>1018.0</td>\n",
       "      <td>2.0</td>\n",
       "      <td>1.0</td>\n",
       "      <td>10004.0</td>\n",
       "      <td>E007</td>\n",
       "      <td>...</td>\n",
       "      <td>190225.0</td>\n",
       "      <td>16a</td>\n",
       "      <td>Y</td>\n",
       "      <td>199 999</td>\n",
       "      <td>10101.0</td>\n",
       "      <td>NaN</td>\n",
       "      <td>0.0</td>\n",
       "      <td>NaN</td>\n",
       "      <td>1</td>\n",
       "      <td>16V2</td>\n",
       "    </tr>\n",
       "    <tr>\n",
       "      <th>1</th>\n",
       "      <td>MN</td>\n",
       "      <td>1</td>\n",
       "      <td>101</td>\n",
       "      <td>101</td>\n",
       "      <td>1.0</td>\n",
       "      <td>1001.0</td>\n",
       "      <td>2.0</td>\n",
       "      <td>1.0</td>\n",
       "      <td>10004.0</td>\n",
       "      <td>E007</td>\n",
       "      <td>...</td>\n",
       "      <td>190636.0</td>\n",
       "      <td>16a</td>\n",
       "      <td>Y</td>\n",
       "      <td>199 999</td>\n",
       "      <td>10101.0</td>\n",
       "      <td>NaN</td>\n",
       "      <td>0.0</td>\n",
       "      <td>NaN</td>\n",
       "      <td>1</td>\n",
       "      <td>16V2</td>\n",
       "    </tr>\n",
       "    <tr>\n",
       "      <th>2</th>\n",
       "      <td>MN</td>\n",
       "      <td>1</td>\n",
       "      <td>201</td>\n",
       "      <td>101</td>\n",
       "      <td>1.0</td>\n",
       "      <td>1000.0</td>\n",
       "      <td>2.0</td>\n",
       "      <td>1.0</td>\n",
       "      <td>10004.0</td>\n",
       "      <td>E007</td>\n",
       "      <td>...</td>\n",
       "      <td>193648.0</td>\n",
       "      <td>12b</td>\n",
       "      <td>NaN</td>\n",
       "      <td>199 999</td>\n",
       "      <td>10101.0</td>\n",
       "      <td>NaN</td>\n",
       "      <td>0.0</td>\n",
       "      <td>NaN</td>\n",
       "      <td>1</td>\n",
       "      <td>16V2</td>\n",
       "    </tr>\n",
       "    <tr>\n",
       "      <th>3</th>\n",
       "      <td>MN</td>\n",
       "      <td>1</td>\n",
       "      <td>301</td>\n",
       "      <td>101</td>\n",
       "      <td>NaN</td>\n",
       "      <td>NaN</td>\n",
       "      <td>2.0</td>\n",
       "      <td>1.0</td>\n",
       "      <td>10004.0</td>\n",
       "      <td>E007</td>\n",
       "      <td>...</td>\n",
       "      <td>NaN</td>\n",
       "      <td>12b</td>\n",
       "      <td>NaN</td>\n",
       "      <td>199 999</td>\n",
       "      <td>10101.0</td>\n",
       "      <td>NaN</td>\n",
       "      <td>0.0</td>\n",
       "      <td>NaN</td>\n",
       "      <td>4</td>\n",
       "      <td>16V2</td>\n",
       "    </tr>\n",
       "    <tr>\n",
       "      <th>4</th>\n",
       "      <td>MN</td>\n",
       "      <td>1</td>\n",
       "      <td>401</td>\n",
       "      <td>101</td>\n",
       "      <td>NaN</td>\n",
       "      <td>NaN</td>\n",
       "      <td>2.0</td>\n",
       "      <td>1.0</td>\n",
       "      <td>10004.0</td>\n",
       "      <td>E007</td>\n",
       "      <td>...</td>\n",
       "      <td>NaN</td>\n",
       "      <td>12b</td>\n",
       "      <td>NaN</td>\n",
       "      <td>1 99 999</td>\n",
       "      <td>10101.0</td>\n",
       "      <td>NaN</td>\n",
       "      <td>0.0</td>\n",
       "      <td>NaN</td>\n",
       "      <td>4</td>\n",
       "      <td>16V2</td>\n",
       "    </tr>\n",
       "  </tbody>\n",
       "</table>\n",
       "<p>5 rows × 84 columns</p>\n",
       "</div>"
      ],
      "text/plain": [
       "  Borough  Block  Lot   CD  CT2010  CB2010  SchoolDist  Council  ZipCode  \\\n",
       "0      MN      1   10  101     5.0  1018.0         2.0      1.0  10004.0   \n",
       "1      MN      1  101  101     1.0  1001.0         2.0      1.0  10004.0   \n",
       "2      MN      1  201  101     1.0  1000.0         2.0      1.0  10004.0   \n",
       "3      MN      1  301  101     NaN     NaN         2.0      1.0  10004.0   \n",
       "4      MN      1  401  101     NaN     NaN         2.0      1.0  10004.0   \n",
       "\n",
       "  FireComp   ...      YCoord  ZoneMap  ZMCode   Sanborn   TaxMap EDesigNum  \\\n",
       "0     E007   ...    190225.0      16a       Y   199 999  10101.0       NaN   \n",
       "1     E007   ...    190636.0      16a       Y   199 999  10101.0       NaN   \n",
       "2     E007   ...    193648.0      12b     NaN   199 999  10101.0       NaN   \n",
       "3     E007   ...         NaN      12b     NaN   199 999  10101.0       NaN   \n",
       "4     E007   ...         NaN      12b     NaN  1 99 999  10101.0       NaN   \n",
       "\n",
       "  APPBBL APPDate PLUTOMapID Version  \n",
       "0    0.0     NaN          1    16V2  \n",
       "1    0.0     NaN          1    16V2  \n",
       "2    0.0     NaN          1    16V2  \n",
       "3    0.0     NaN          4    16V2  \n",
       "4    0.0     NaN          4    16V2  \n",
       "\n",
       "[5 rows x 84 columns]"
      ]
     },
     "execution_count": 29,
     "metadata": {},
     "output_type": "execute_result"
    }
   ],
   "source": [
    "bsize.head()"
   ]
  },
  {
   "cell_type": "code",
   "execution_count": 30,
   "metadata": {
    "collapsed": false
   },
   "outputs": [
    {
     "data": {
      "text/plain": [
       "Index(['Record Number', 'BBL', 'Co-reported BBL Status', 'BBLs Co-reported',\n",
       "       'Reported NYC Building Identificaiton Numbers (BINs)', 'Street Number',\n",
       "       'Street Name', 'Borough', 'Postcode',\n",
       "       'DOF Benchmarking Submission Status', 'Site EUI(kBtu/ft2)',\n",
       "       'Weather Normalized Site EUI(kBtu/ft2)', 'Source EUI(kBtu/ft2)',\n",
       "       'Weather Normalized Source EUI(kBtu/ft2)',\n",
       "       'Municipally Supplied Potable Water - Indoor Intensity (gal/ft²)',\n",
       "       'Automatic Water Benchmarking Eligible', 'Reported Water Method',\n",
       "       'ENERGY STAR Score', 'Total GHG Emissions(MtCO2e)',\n",
       "       'Direct GHG Emissions(MtCO2e)', 'Indirect GHG Emissions(MtCO2e)',\n",
       "       'Reported Property Floor Area (Building(s)) (ft²)',\n",
       "       'DOF Property Floor Area (Buildngs and Parking)(ft2)',\n",
       "       'Primary Property Type - Self Selected', 'DOF Number of Buildings',\n",
       "       'Latitude', 'Longitude', 'Community Board', 'Council District',\n",
       "       'Census Tract', 'BIN', 'NTA'],\n",
       "      dtype='object')"
      ]
     },
     "execution_count": 30,
     "metadata": {},
     "output_type": "execute_result"
    }
   ],
   "source": [
    "nrg.columns"
   ]
  },
  {
   "cell_type": "code",
   "execution_count": 31,
   "metadata": {
    "collapsed": false
   },
   "outputs": [
    {
     "data": {
      "text/plain": [
       "Index(['Borough', 'Block', 'Lot', 'CD', 'CT2010', 'CB2010', 'SchoolDist',\n",
       "       'Council', 'ZipCode', 'FireComp', 'PolicePrct', 'HealthArea',\n",
       "       'SanitBoro', 'SanitDistrict', 'SanitSub', 'Address', 'ZoneDist1',\n",
       "       'ZoneDist2', 'ZoneDist3', 'ZoneDist4', 'Overlay1', 'Overlay2',\n",
       "       'SPDist1', 'SPDist2', 'SPDist3', 'LtdHeight', 'SplitZone', 'BldgClass',\n",
       "       'LandUse', 'Easements', 'OwnerType', 'OwnerName', 'LotArea', 'BldgArea',\n",
       "       'ComArea', 'ResArea', 'OfficeArea', 'RetailArea', 'GarageArea',\n",
       "       'StrgeArea', 'FactryArea', 'OtherArea', 'AreaSource', 'NumBldgs',\n",
       "       'NumFloors', 'UnitsRes', 'UnitsTotal', 'LotFront', 'LotDepth',\n",
       "       'BldgFront', 'BldgDepth', 'Ext', 'ProxCode', 'IrrLotCode', 'LotType',\n",
       "       'BsmtCode', 'AssessLand', 'AssessTot', 'ExemptLand', 'ExemptTot',\n",
       "       'YearBuilt', 'YearAlter1', 'YearAlter2', 'HistDist', 'Landmark',\n",
       "       'BuiltFAR', 'ResidFAR', 'CommFAR', 'FacilFAR', 'BoroCode', 'BBL',\n",
       "       'CondoNo', 'Tract2010', 'XCoord', 'YCoord', 'ZoneMap', 'ZMCode',\n",
       "       'Sanborn', 'TaxMap', 'EDesigNum', 'APPBBL', 'APPDate', 'PLUTOMapID',\n",
       "       'Version'],\n",
       "      dtype='object')"
      ]
     },
     "execution_count": 31,
     "metadata": {},
     "output_type": "execute_result"
    }
   ],
   "source": [
    "bsize.columns"
   ]
  },
  {
   "cell_type": "code",
   "execution_count": 32,
   "metadata": {
    "collapsed": true
   },
   "outputs": [],
   "source": [
    "# Clean up nrg data by throwing away columns I do not need\n",
    "nrg_new=nrg.drop(['Record Number', 'Co-reported BBL Status', 'BBLs Co-reported',\n",
    "       'Reported NYC Building Identificaiton Numbers (BINs)', 'Street Number',\n",
    "       'Street Name', 'Borough',\n",
    "       'DOF Benchmarking Submission Status',\n",
    "       'Weather Normalized Site EUI(kBtu/ft2)', 'Source EUI(kBtu/ft2)',\n",
    "       'Weather Normalized Source EUI(kBtu/ft2)',\n",
    "       'Municipally Supplied Potable Water - Indoor Intensity (gal/ft²)',\n",
    "       'Automatic Water Benchmarking Eligible', 'Reported Water Method',\n",
    "       'ENERGY STAR Score', 'Total GHG Emissions(MtCO2e)',\n",
    "       'Direct GHG Emissions(MtCO2e)', 'Indirect GHG Emissions(MtCO2e)',\n",
    "       'Primary Property Type - Self Selected',\n",
    "       'Latitude', 'Longitude', 'Community Board', 'Council District',\n",
    "       'Census Tract', 'BIN', 'NTA'],axis=1)"
   ]
  },
  {
   "cell_type": "code",
   "execution_count": 33,
   "metadata": {
    "collapsed": false
   },
   "outputs": [
    {
     "data": {
      "text/html": [
       "<div>\n",
       "<table border=\"1\" class=\"dataframe\">\n",
       "  <thead>\n",
       "    <tr style=\"text-align: right;\">\n",
       "      <th></th>\n",
       "      <th>BBL</th>\n",
       "      <th>Postcode</th>\n",
       "      <th>Site EUI(kBtu/ft2)</th>\n",
       "      <th>Reported Property Floor Area (Building(s)) (ft²)</th>\n",
       "      <th>DOF Property Floor Area (Buildngs and Parking)(ft2)</th>\n",
       "      <th>DOF Number of Buildings</th>\n",
       "    </tr>\n",
       "  </thead>\n",
       "  <tbody>\n",
       "    <tr>\n",
       "      <th>0</th>\n",
       "      <td>1.000410e+09</td>\n",
       "      <td>NaN</td>\n",
       "      <td>NaN</td>\n",
       "      <td>918919</td>\n",
       "      <td>NaN</td>\n",
       "      <td>NaN</td>\n",
       "    </tr>\n",
       "    <tr>\n",
       "      <th>1</th>\n",
       "      <td>4.021460e+09</td>\n",
       "      <td>11375.0</td>\n",
       "      <td>NaN</td>\n",
       "      <td>NaN</td>\n",
       "      <td>82730.0</td>\n",
       "      <td>1.0</td>\n",
       "    </tr>\n",
       "    <tr>\n",
       "      <th>2</th>\n",
       "      <td>2.027620e+09</td>\n",
       "      <td>NaN</td>\n",
       "      <td>NaN</td>\n",
       "      <td>64200</td>\n",
       "      <td>NaN</td>\n",
       "      <td>NaN</td>\n",
       "    </tr>\n",
       "    <tr>\n",
       "      <th>3</th>\n",
       "      <td>1.006700e+09</td>\n",
       "      <td>10001.0</td>\n",
       "      <td>NaN</td>\n",
       "      <td>NaN</td>\n",
       "      <td>440360.0</td>\n",
       "      <td>1.0</td>\n",
       "    </tr>\n",
       "    <tr>\n",
       "      <th>4</th>\n",
       "      <td>2.048300e+09</td>\n",
       "      <td>NaN</td>\n",
       "      <td>NaN</td>\n",
       "      <td>50000</td>\n",
       "      <td>NaN</td>\n",
       "      <td>NaN</td>\n",
       "    </tr>\n",
       "  </tbody>\n",
       "</table>\n",
       "</div>"
      ],
      "text/plain": [
       "            BBL  Postcode Site EUI(kBtu/ft2)  \\\n",
       "0  1.000410e+09       NaN                NaN   \n",
       "1  4.021460e+09   11375.0                NaN   \n",
       "2  2.027620e+09       NaN                NaN   \n",
       "3  1.006700e+09   10001.0                NaN   \n",
       "4  2.048300e+09       NaN                NaN   \n",
       "\n",
       "  Reported Property Floor Area (Building(s)) (ft²)  \\\n",
       "0                                           918919   \n",
       "1                                              NaN   \n",
       "2                                            64200   \n",
       "3                                              NaN   \n",
       "4                                            50000   \n",
       "\n",
       "   DOF Property Floor Area (Buildngs and Parking)(ft2)  \\\n",
       "0                                                NaN     \n",
       "1                                            82730.0     \n",
       "2                                                NaN     \n",
       "3                                           440360.0     \n",
       "4                                                NaN     \n",
       "\n",
       "   DOF Number of Buildings  \n",
       "0                      NaN  \n",
       "1                      1.0  \n",
       "2                      NaN  \n",
       "3                      1.0  \n",
       "4                      NaN  "
      ]
     },
     "execution_count": 33,
     "metadata": {},
     "output_type": "execute_result"
    }
   ],
   "source": [
    "nrg_new.head()"
   ]
  },
  {
   "cell_type": "code",
   "execution_count": 34,
   "metadata": {
    "collapsed": false
   },
   "outputs": [
    {
     "data": {
      "text/plain": [
       "array([[<matplotlib.axes._subplots.AxesSubplot object at 0x7f014c9042b0>,\n",
       "        <matplotlib.axes._subplots.AxesSubplot object at 0x7f0149e5d4a8>,\n",
       "        <matplotlib.axes._subplots.AxesSubplot object at 0x7f0149e02518>,\n",
       "        <matplotlib.axes._subplots.AxesSubplot object at 0x7f0149e23438>],\n",
       "       [<matplotlib.axes._subplots.AxesSubplot object at 0x7f0149dbad30>,\n",
       "        <matplotlib.axes._subplots.AxesSubplot object at 0x7f0149d671d0>,\n",
       "        <matplotlib.axes._subplots.AxesSubplot object at 0x7f0149d73780>,\n",
       "        <matplotlib.axes._subplots.AxesSubplot object at 0x7f0149d2f0f0>],\n",
       "       [<matplotlib.axes._subplots.AxesSubplot object at 0x7f0149d6ca58>,\n",
       "        <matplotlib.axes._subplots.AxesSubplot object at 0x7f0149ced7f0>,\n",
       "        <matplotlib.axes._subplots.AxesSubplot object at 0x7f0149d11cc0>,\n",
       "        <matplotlib.axes._subplots.AxesSubplot object at 0x7f0149cba240>],\n",
       "       [<matplotlib.axes._subplots.AxesSubplot object at 0x7f0149cd0240>,\n",
       "        <matplotlib.axes._subplots.AxesSubplot object at 0x7f0149c7d2b0>,\n",
       "        <matplotlib.axes._subplots.AxesSubplot object at 0x7f0149c9e630>,\n",
       "        <matplotlib.axes._subplots.AxesSubplot object at 0x7f0149c42550>]], dtype=object)"
      ]
     },
     "execution_count": 34,
     "metadata": {},
     "output_type": "execute_result"
    },
    {
     "data": {
      "image/png": "[encoded data removed]",
      "text/plain": [
       "<matplotlib.figure.Figure at 0x7f014c904e10>"
      ]
     },
     "metadata": {},
     "output_type": "display_data"
    }
   ],
   "source": [
    "# Make a scatter plot of nrg_new\n",
    "from pandas.tools.plotting import scatter_matrix\n",
    "scatter_matrix (nrg_new, s=300, figsize=(16, 16))"
   ]
  },
  {
   "cell_type": "markdown",
   "metadata": {},
   "source": [
    "Figure 1: scatter matrix of all numerical values in the files\n",
    "\n",
    "This kind of plot shows correlations between variables, but it will also show me what can and cannot be plotted trivially in my dataset. Here only a few columns can be plotted: those that contain only numbers (and possibly NaN's), but most columns contain rows that cannot be converted to float (e.g. entries like 'See Primary BBL' in several rows for the energy dataframe 'Site EUI(kBtu/ft2) ' column) , so Pandas refuses to plot them, cause it does not know what to do with those entries. The columns I am interested in are in fact u'Site EUI(kBtu/ft2)' which is a measure of the energy consumed PER SQ FOOT by a building, and then the building area: for eg. u'Reported Property Floor Area (Building(s)) (ft²)'. Neither gets plotted: I need to remove all values that cannot convert to float in order to use the columns and convert them to float arrays and do math with them."
   ]
  },
  {
   "cell_type": "code",
   "execution_count": 37,
   "metadata": {
    "collapsed": true
   },
   "outputs": [],
   "source": [
    "# Transforms values to float (when possible)\n",
    "nrg_new['Site EUI(kBtu/ft2)']=pd.to_numeric(nrg_new['Site EUI(kBtu/ft2)'],errors='coerce')"
   ]
  },
  {
   "cell_type": "code",
   "execution_count": 38,
   "metadata": {
    "collapsed": true
   },
   "outputs": [],
   "source": [
    "nrg_new['BBL']=pd.to_numeric(nrg_new['BBL'],errors='coerce')"
   ]
  },
  {
   "cell_type": "code",
   "execution_count": 39,
   "metadata": {
    "collapsed": true
   },
   "outputs": [],
   "source": [
    "nrg_new['Reported Property Floor Area (Building(s)) (ft²)']=pd.to_numeric(\n",
    "    nrg_new['Reported Property Floor Area (Building(s)) (ft²)'],errors='coerce')"
   ]
  },
  {
   "cell_type": "code",
   "execution_count": 44,
   "metadata": {
    "collapsed": false
   },
   "outputs": [
    {
     "name": "stdout",
     "output_type": "stream",
     "text": [
      "invalid entries changed to NaN 4623\n"
     ]
    }
   ],
   "source": [
    "#How many missing values?\n",
    "indx = np.isnan(nrg_new['Site EUI(kBtu/ft2)']).sum()\n",
    "print (\"invalid entries changed to NaN %d\"%sum(indx))\n",
    "#do it for however many columns you need"
   ]
  },
  {
   "cell_type": "code",
   "execution_count": 40,
   "metadata": {
    "collapsed": false
   },
   "outputs": [
    {
     "name": "stdout",
     "output_type": "stream",
     "text": [
      "Invalid entries changed to NaN: 3125\n"
     ]
    }
   ],
   "source": [
    "#How many missing values?\n",
    "indx = np.isnan(nrg_new['Reported Property Floor Area (Building(s)) (ft²)']).sum()\n",
    "print(\"Invalid entries changed to NaN: {}\".format(indx))\n",
    "#do it for however many columns you need"
   ]
  },
  {
   "cell_type": "code",
   "execution_count": 71,
   "metadata": {
    "collapsed": false
   },
   "outputs": [
    {
     "name": "stdout",
     "output_type": "stream",
     "text": [
      "float64\n"
     ]
    }
   ],
   "source": [
    "##check that your conversion worked:\n",
    "print(nrg_new['Site EUI(kBtu/ft2)'].dtype)"
   ]
  },
  {
   "cell_type": "code",
   "execution_count": 72,
   "metadata": {
    "collapsed": false
   },
   "outputs": [
    {
     "data": {
      "text/plain": [
       "dtype('float64')"
      ]
     },
     "execution_count": 72,
     "metadata": {},
     "output_type": "execute_result"
    }
   ],
   "source": [
    "bsize.BBL.dtype"
   ]
  },
  {
   "cell_type": "code",
   "execution_count": 35,
   "metadata": {
    "collapsed": true
   },
   "outputs": [],
   "source": [
    "# Clean up PLUTO data\n",
    "bsize_new=bsize.drop(['Borough', 'Block', 'Lot', 'CD', 'CT2010', 'CB2010', 'SchoolDist',\n",
    "       'Council', 'ZipCode', 'FireComp', 'PolicePrct', 'HealthArea',\n",
    "       'SanitBoro', 'SanitDistrict', 'SanitSub', 'Address', 'ZoneDist1',\n",
    "       'ZoneDist2', 'ZoneDist3', 'ZoneDist4', 'Overlay1', 'Overlay2',\n",
    "       'SPDist1', 'SPDist2', 'SPDist3', 'LtdHeight', 'SplitZone', 'BldgClass',\n",
    "       'LandUse', 'Easements', 'OwnerType', 'OwnerName', 'LotArea', 'BldgArea',\n",
    "       'ComArea', 'ResArea', 'OfficeArea', 'RetailArea', 'GarageArea',\n",
    "       'StrgeArea', 'FactryArea', 'OtherArea', 'AreaSource', 'NumBldgs',\n",
    "       'NumFloors', 'LotFront', 'LotDepth',\n",
    "       'BldgFront', 'BldgDepth', 'Ext', 'ProxCode', 'IrrLotCode', 'LotType',\n",
    "       'BsmtCode', 'AssessLand', 'AssessTot', 'ExemptLand', 'ExemptTot',\n",
    "       'YearAlter1', 'YearAlter2', 'HistDist', 'Landmark',\n",
    "       'BuiltFAR', 'ResidFAR', 'CommFAR', 'FacilFAR', 'BoroCode',\n",
    "       'CondoNo', 'Tract2010', 'XCoord', 'YCoord', 'ZoneMap', 'ZMCode',\n",
    "       'Sanborn', 'TaxMap', 'EDesigNum', 'APPBBL', 'APPDate', 'PLUTOMapID',\n",
    "       'Version'],axis=1)"
   ]
  },
  {
   "cell_type": "code",
   "execution_count": 36,
   "metadata": {
    "collapsed": false
   },
   "outputs": [
    {
     "data": {
      "text/html": [
       "<div>\n",
       "<table border=\"1\" class=\"dataframe\">\n",
       "  <thead>\n",
       "    <tr style=\"text-align: right;\">\n",
       "      <th></th>\n",
       "      <th>UnitsRes</th>\n",
       "      <th>UnitsTotal</th>\n",
       "      <th>YearBuilt</th>\n",
       "      <th>BBL</th>\n",
       "    </tr>\n",
       "  </thead>\n",
       "  <tbody>\n",
       "    <tr>\n",
       "      <th>0</th>\n",
       "      <td>0</td>\n",
       "      <td>0</td>\n",
       "      <td>1900</td>\n",
       "      <td>1.000010e+09</td>\n",
       "    </tr>\n",
       "    <tr>\n",
       "      <th>1</th>\n",
       "      <td>0</td>\n",
       "      <td>0</td>\n",
       "      <td>1900</td>\n",
       "      <td>1.000010e+09</td>\n",
       "    </tr>\n",
       "    <tr>\n",
       "      <th>2</th>\n",
       "      <td>0</td>\n",
       "      <td>0</td>\n",
       "      <td>1900</td>\n",
       "      <td>1.000010e+09</td>\n",
       "    </tr>\n",
       "    <tr>\n",
       "      <th>3</th>\n",
       "      <td>0</td>\n",
       "      <td>0</td>\n",
       "      <td>0</td>\n",
       "      <td>1.000010e+09</td>\n",
       "    </tr>\n",
       "    <tr>\n",
       "      <th>4</th>\n",
       "      <td>0</td>\n",
       "      <td>0</td>\n",
       "      <td>0</td>\n",
       "      <td>1.000010e+09</td>\n",
       "    </tr>\n",
       "  </tbody>\n",
       "</table>\n",
       "</div>"
      ],
      "text/plain": [
       "   UnitsRes  UnitsTotal  YearBuilt           BBL\n",
       "0         0           0       1900  1.000010e+09\n",
       "1         0           0       1900  1.000010e+09\n",
       "2         0           0       1900  1.000010e+09\n",
       "3         0           0          0  1.000010e+09\n",
       "4         0           0          0  1.000010e+09"
      ]
     },
     "execution_count": 36,
     "metadata": {},
     "output_type": "execute_result"
    }
   ],
   "source": [
    "bsize_new.head()"
   ]
  },
  {
   "cell_type": "markdown",
   "metadata": {},
   "source": [
    "# MERGE THE DATASETS"
   ]
  },
  {
   "cell_type": "code",
   "execution_count": 47,
   "metadata": {
    "collapsed": false
   },
   "outputs": [],
   "source": [
    "# Look at the syntax for pandas.merge\n",
    "# pd.merge?"
   ]
  },
  {
   "cell_type": "code",
   "execution_count": 54,
   "metadata": {
    "collapsed": false
   },
   "outputs": [
    {
     "data": {
      "text/plain": [
       "(1000010010.0, 1000410001.0)"
      ]
     },
     "execution_count": 54,
     "metadata": {},
     "output_type": "execute_result"
    }
   ],
   "source": [
    "(bsize_new.BBL.values[0]), (nrg_new.BBL.values[0])"
   ]
  },
  {
   "cell_type": "code",
   "execution_count": 61,
   "metadata": {
    "collapsed": false
   },
   "outputs": [],
   "source": [
    "mergedata=nrg_new.merge(bsize_new,on='BBL')"
   ]
  },
  {
   "cell_type": "code",
   "execution_count": 62,
   "metadata": {
    "collapsed": false
   },
   "outputs": [
    {
     "data": {
      "text/plain": [
       "(6536, 9)"
      ]
     },
     "execution_count": 62,
     "metadata": {},
     "output_type": "execute_result"
    }
   ],
   "source": [
    "mergedata.dropna\n",
    "mergedata.shape"
   ]
  },
  {
   "cell_type": "code",
   "execution_count": 63,
   "metadata": {
    "collapsed": false
   },
   "outputs": [
    {
     "data": {
      "text/html": [
       "<div>\n",
       "<table border=\"1\" class=\"dataframe\">\n",
       "  <thead>\n",
       "    <tr style=\"text-align: right;\">\n",
       "      <th></th>\n",
       "      <th>BBL</th>\n",
       "      <th>Postcode</th>\n",
       "      <th>Site EUI(kBtu/ft2)</th>\n",
       "      <th>Reported Property Floor Area (Building(s)) (ft²)</th>\n",
       "      <th>DOF Property Floor Area (Buildngs and Parking)(ft2)</th>\n",
       "      <th>DOF Number of Buildings</th>\n",
       "      <th>UnitsRes</th>\n",
       "      <th>UnitsTotal</th>\n",
       "      <th>YearBuilt</th>\n",
       "    </tr>\n",
       "  </thead>\n",
       "  <tbody>\n",
       "    <tr>\n",
       "      <th>0</th>\n",
       "      <td>1.006700e+09</td>\n",
       "      <td>10001.0</td>\n",
       "      <td>NaN</td>\n",
       "      <td>NaN</td>\n",
       "      <td>440360.0</td>\n",
       "      <td>1.0</td>\n",
       "      <td>0</td>\n",
       "      <td>1</td>\n",
       "      <td>1987</td>\n",
       "    </tr>\n",
       "    <tr>\n",
       "      <th>1</th>\n",
       "      <td>1.004370e+09</td>\n",
       "      <td>10009.0</td>\n",
       "      <td>NaN</td>\n",
       "      <td>NaN</td>\n",
       "      <td>52390.0</td>\n",
       "      <td>1.0</td>\n",
       "      <td>0</td>\n",
       "      <td>4</td>\n",
       "      <td>1920</td>\n",
       "    </tr>\n",
       "    <tr>\n",
       "      <th>2</th>\n",
       "      <td>1.013110e+09</td>\n",
       "      <td>10022.0</td>\n",
       "      <td>125.4</td>\n",
       "      <td>330000.0</td>\n",
       "      <td>313200.0</td>\n",
       "      <td>1.0</td>\n",
       "      <td>0</td>\n",
       "      <td>56</td>\n",
       "      <td>1977</td>\n",
       "    </tr>\n",
       "    <tr>\n",
       "      <th>3</th>\n",
       "      <td>1.009220e+09</td>\n",
       "      <td>10003.0</td>\n",
       "      <td>NaN</td>\n",
       "      <td>NaN</td>\n",
       "      <td>98260.0</td>\n",
       "      <td>1.0</td>\n",
       "      <td>148</td>\n",
       "      <td>148</td>\n",
       "      <td>1963</td>\n",
       "    </tr>\n",
       "    <tr>\n",
       "      <th>4</th>\n",
       "      <td>1.007400e+09</td>\n",
       "      <td>NaN</td>\n",
       "      <td>NaN</td>\n",
       "      <td>68329.0</td>\n",
       "      <td>NaN</td>\n",
       "      <td>NaN</td>\n",
       "      <td>0</td>\n",
       "      <td>1</td>\n",
       "      <td>1920</td>\n",
       "    </tr>\n",
       "  </tbody>\n",
       "</table>\n",
       "</div>"
      ],
      "text/plain": [
       "            BBL  Postcode  Site EUI(kBtu/ft2)  \\\n",
       "0  1.006700e+09   10001.0                 NaN   \n",
       "1  1.004370e+09   10009.0                 NaN   \n",
       "2  1.013110e+09   10022.0               125.4   \n",
       "3  1.009220e+09   10003.0                 NaN   \n",
       "4  1.007400e+09       NaN                 NaN   \n",
       "\n",
       "   Reported Property Floor Area (Building(s)) (ft²)  \\\n",
       "0                                               NaN   \n",
       "1                                               NaN   \n",
       "2                                          330000.0   \n",
       "3                                               NaN   \n",
       "4                                           68329.0   \n",
       "\n",
       "   DOF Property Floor Area (Buildngs and Parking)(ft2)  \\\n",
       "0                                           440360.0     \n",
       "1                                            52390.0     \n",
       "2                                           313200.0     \n",
       "3                                            98260.0     \n",
       "4                                                NaN     \n",
       "\n",
       "   DOF Number of Buildings  UnitsRes  UnitsTotal  YearBuilt  \n",
       "0                      1.0         0           1       1987  \n",
       "1                      1.0         0           4       1920  \n",
       "2                      1.0         0          56       1977  \n",
       "3                      1.0       148         148       1963  \n",
       "4                      NaN         0           1       1920  "
      ]
     },
     "execution_count": 63,
     "metadata": {},
     "output_type": "execute_result"
    }
   ],
   "source": [
    "mergedata.head()"
   ]
  },
  {
   "cell_type": "code",
   "execution_count": 64,
   "metadata": {
    "collapsed": false
   },
   "outputs": [
    {
     "data": {
      "text/html": [
       "<div>\n",
       "<table border=\"1\" class=\"dataframe\">\n",
       "  <thead>\n",
       "    <tr style=\"text-align: right;\">\n",
       "      <th></th>\n",
       "      <th>BBL</th>\n",
       "      <th>Site EUI(kBtu/ft2)</th>\n",
       "      <th>Reported Property Floor Area (Building(s)) (ft²)</th>\n",
       "      <th>DOF Property Floor Area (Buildngs and Parking)(ft2)</th>\n",
       "      <th>UnitsRes</th>\n",
       "      <th>UnitsTotal</th>\n",
       "      <th>YearBuilt</th>\n",
       "    </tr>\n",
       "  </thead>\n",
       "  <tbody>\n",
       "    <tr>\n",
       "      <th>0</th>\n",
       "      <td>1.006700e+09</td>\n",
       "      <td>NaN</td>\n",
       "      <td>NaN</td>\n",
       "      <td>440360.0</td>\n",
       "      <td>0</td>\n",
       "      <td>1</td>\n",
       "      <td>1987</td>\n",
       "    </tr>\n",
       "    <tr>\n",
       "      <th>1</th>\n",
       "      <td>1.004370e+09</td>\n",
       "      <td>NaN</td>\n",
       "      <td>NaN</td>\n",
       "      <td>52390.0</td>\n",
       "      <td>0</td>\n",
       "      <td>4</td>\n",
       "      <td>1920</td>\n",
       "    </tr>\n",
       "    <tr>\n",
       "      <th>2</th>\n",
       "      <td>1.013110e+09</td>\n",
       "      <td>125.4</td>\n",
       "      <td>330000.0</td>\n",
       "      <td>313200.0</td>\n",
       "      <td>0</td>\n",
       "      <td>56</td>\n",
       "      <td>1977</td>\n",
       "    </tr>\n",
       "    <tr>\n",
       "      <th>3</th>\n",
       "      <td>1.009220e+09</td>\n",
       "      <td>NaN</td>\n",
       "      <td>NaN</td>\n",
       "      <td>98260.0</td>\n",
       "      <td>148</td>\n",
       "      <td>148</td>\n",
       "      <td>1963</td>\n",
       "    </tr>\n",
       "    <tr>\n",
       "      <th>4</th>\n",
       "      <td>1.007400e+09</td>\n",
       "      <td>NaN</td>\n",
       "      <td>68329.0</td>\n",
       "      <td>NaN</td>\n",
       "      <td>0</td>\n",
       "      <td>1</td>\n",
       "      <td>1920</td>\n",
       "    </tr>\n",
       "  </tbody>\n",
       "</table>\n",
       "</div>"
      ],
      "text/plain": [
       "            BBL  Site EUI(kBtu/ft2)  \\\n",
       "0  1.006700e+09                 NaN   \n",
       "1  1.004370e+09                 NaN   \n",
       "2  1.013110e+09               125.4   \n",
       "3  1.009220e+09                 NaN   \n",
       "4  1.007400e+09                 NaN   \n",
       "\n",
       "   Reported Property Floor Area (Building(s)) (ft²)  \\\n",
       "0                                               NaN   \n",
       "1                                               NaN   \n",
       "2                                          330000.0   \n",
       "3                                               NaN   \n",
       "4                                           68329.0   \n",
       "\n",
       "   DOF Property Floor Area (Buildngs and Parking)(ft2)  UnitsRes  UnitsTotal  \\\n",
       "0                                           440360.0           0           1   \n",
       "1                                            52390.0           0           4   \n",
       "2                                           313200.0           0          56   \n",
       "3                                            98260.0         148         148   \n",
       "4                                                NaN           0           1   \n",
       "\n",
       "   YearBuilt  \n",
       "0       1987  \n",
       "1       1920  \n",
       "2       1977  \n",
       "3       1963  \n",
       "4       1920  "
      ]
     },
     "execution_count": 64,
     "metadata": {},
     "output_type": "execute_result"
    }
   ],
   "source": [
    "mergedata=mergedata.drop(['Postcode','DOF Number of Buildings'],axis=1)\n",
    "\n",
    "mergedata.head()"
   ]
  },
  {
   "cell_type": "code",
   "execution_count": 65,
   "metadata": {
    "collapsed": false
   },
   "outputs": [
    {
     "data": {
      "text/html": [
       "<div>\n",
       "<table border=\"1\" class=\"dataframe\">\n",
       "  <thead>\n",
       "    <tr style=\"text-align: right;\">\n",
       "      <th></th>\n",
       "      <th>BBL</th>\n",
       "      <th>SiteEUI</th>\n",
       "      <th>AreaReported</th>\n",
       "      <th>DOFfloorArea</th>\n",
       "      <th>UnitsRes</th>\n",
       "      <th>UnitsTotal</th>\n",
       "      <th>YearBuilt</th>\n",
       "    </tr>\n",
       "  </thead>\n",
       "  <tbody>\n",
       "    <tr>\n",
       "      <th>0</th>\n",
       "      <td>1.006700e+09</td>\n",
       "      <td>NaN</td>\n",
       "      <td>NaN</td>\n",
       "      <td>440360.0</td>\n",
       "      <td>0</td>\n",
       "      <td>1</td>\n",
       "      <td>1987</td>\n",
       "    </tr>\n",
       "    <tr>\n",
       "      <th>1</th>\n",
       "      <td>1.004370e+09</td>\n",
       "      <td>NaN</td>\n",
       "      <td>NaN</td>\n",
       "      <td>52390.0</td>\n",
       "      <td>0</td>\n",
       "      <td>4</td>\n",
       "      <td>1920</td>\n",
       "    </tr>\n",
       "    <tr>\n",
       "      <th>2</th>\n",
       "      <td>1.013110e+09</td>\n",
       "      <td>125.4</td>\n",
       "      <td>330000.0</td>\n",
       "      <td>313200.0</td>\n",
       "      <td>0</td>\n",
       "      <td>56</td>\n",
       "      <td>1977</td>\n",
       "    </tr>\n",
       "    <tr>\n",
       "      <th>3</th>\n",
       "      <td>1.009220e+09</td>\n",
       "      <td>NaN</td>\n",
       "      <td>NaN</td>\n",
       "      <td>98260.0</td>\n",
       "      <td>148</td>\n",
       "      <td>148</td>\n",
       "      <td>1963</td>\n",
       "    </tr>\n",
       "    <tr>\n",
       "      <th>4</th>\n",
       "      <td>1.007400e+09</td>\n",
       "      <td>NaN</td>\n",
       "      <td>68329.0</td>\n",
       "      <td>NaN</td>\n",
       "      <td>0</td>\n",
       "      <td>1</td>\n",
       "      <td>1920</td>\n",
       "    </tr>\n",
       "  </tbody>\n",
       "</table>\n",
       "</div>"
      ],
      "text/plain": [
       "            BBL  SiteEUI  AreaReported  DOFfloorArea  UnitsRes  UnitsTotal  \\\n",
       "0  1.006700e+09      NaN           NaN      440360.0         0           1   \n",
       "1  1.004370e+09      NaN           NaN       52390.0         0           4   \n",
       "2  1.013110e+09    125.4      330000.0      313200.0         0          56   \n",
       "3  1.009220e+09      NaN           NaN       98260.0       148         148   \n",
       "4  1.007400e+09      NaN       68329.0           NaN         0           1   \n",
       "\n",
       "   YearBuilt  \n",
       "0       1987  \n",
       "1       1920  \n",
       "2       1977  \n",
       "3       1963  \n",
       "4       1920  "
      ]
     },
     "execution_count": 65,
     "metadata": {},
     "output_type": "execute_result"
    }
   ],
   "source": [
    "mergedata.columns=['BBL','SiteEUI','AreaReported','DOFfloorArea','UnitsRes','UnitsTotal','YearBuilt']\n",
    "mergedata.head()"
   ]
  },
  {
   "cell_type": "code",
   "execution_count": 73,
   "metadata": {
    "collapsed": false
   },
   "outputs": [
    {
     "data": {
      "text/plain": [
       "array([[<matplotlib.axes._subplots.AxesSubplot object at 0x7f01443c78d0>,\n",
       "        <matplotlib.axes._subplots.AxesSubplot object at 0x7f014416ed30>,\n",
       "        <matplotlib.axes._subplots.AxesSubplot object at 0x7f014411b710>,\n",
       "        <matplotlib.axes._subplots.AxesSubplot object at 0x7f01440b94a8>,\n",
       "        <matplotlib.axes._subplots.AxesSubplot object at 0x7f01440dc4a8>,\n",
       "        <matplotlib.axes._subplots.AxesSubplot object at 0x7f0144076cf8>,\n",
       "        <matplotlib.axes._subplots.AxesSubplot object at 0x7f0144099d68>],\n",
       "       [<matplotlib.axes._subplots.AxesSubplot object at 0x7f014403fd68>,\n",
       "        <matplotlib.axes._subplots.AxesSubplot object at 0x7f0144062d68>,\n",
       "        <matplotlib.axes._subplots.AxesSubplot object at 0x7f0144052198>,\n",
       "        <matplotlib.axes._subplots.AxesSubplot object at 0x7f013ebf7908>,\n",
       "        <matplotlib.axes._subplots.AxesSubplot object at 0x7f013eb9a908>,\n",
       "        <matplotlib.axes._subplots.AxesSubplot object at 0x7f013eb3e908>,\n",
       "        <matplotlib.axes._subplots.AxesSubplot object at 0x7f013eb60e48>],\n",
       "       [<matplotlib.axes._subplots.AxesSubplot object at 0x7f013eb023c8>,\n",
       "        <matplotlib.axes._subplots.AxesSubplot object at 0x7f013eb273c8>,\n",
       "        <matplotlib.axes._subplots.AxesSubplot object at 0x7f013eacb2e8>,\n",
       "        <matplotlib.axes._subplots.AxesSubplot object at 0x7f013ead8d30>,\n",
       "        <matplotlib.axes._subplots.AxesSubplot object at 0x7f013eb09588>,\n",
       "        <matplotlib.axes._subplots.AxesSubplot object at 0x7f013eaada58>,\n",
       "        <matplotlib.axes._subplots.AxesSubplot object at 0x7f013ea51ac8>],\n",
       "       [<matplotlib.axes._subplots.AxesSubplot object at 0x7f013ea77ac8>,\n",
       "        <matplotlib.axes._subplots.AxesSubplot object at 0x7f013ea1cac8>,\n",
       "        <matplotlib.axes._subplots.AxesSubplot object at 0x7f013ea3b518>,\n",
       "        <matplotlib.axes._subplots.AxesSubplot object at 0x7f013e9e19e8>,\n",
       "        <matplotlib.axes._subplots.AxesSubplot object at 0x7f013e983f28>,\n",
       "        <matplotlib.axes._subplots.AxesSubplot object at 0x7f013e9ad4a8>,\n",
       "        <matplotlib.axes._subplots.AxesSubplot object at 0x7f013e949278>],\n",
       "       [<matplotlib.axes._subplots.AxesSubplot object at 0x7f013e96d278>,\n",
       "        <matplotlib.axes._subplots.AxesSubplot object at 0x7f013e900518>,\n",
       "        <matplotlib.axes._subplots.AxesSubplot object at 0x7f013e936278>,\n",
       "        <matplotlib.axes._subplots.AxesSubplot object at 0x7f013e973eb8>,\n",
       "        <matplotlib.axes._subplots.AxesSubplot object at 0x7f013e8f3cf8>,\n",
       "        <matplotlib.axes._subplots.AxesSubplot object at 0x7f013e89e208>,\n",
       "        <matplotlib.axes._subplots.AxesSubplot object at 0x7f013e840748>],\n",
       "       [<matplotlib.axes._subplots.AxesSubplot object at 0x7f013e857748>,\n",
       "        <matplotlib.axes._subplots.AxesSubplot object at 0x7f013e8027b8>,\n",
       "        <matplotlib.axes._subplots.AxesSubplot object at 0x7f013e824ac8>,\n",
       "        <matplotlib.axes._subplots.AxesSubplot object at 0x7f013e838438>,\n",
       "        <matplotlib.axes._subplots.AxesSubplot object at 0x7f013e7eea58>,\n",
       "        <matplotlib.axes._subplots.AxesSubplot object at 0x7f013ea22978>,\n",
       "        <matplotlib.axes._subplots.AxesSubplot object at 0x7f013e7a1630>],\n",
       "       [<matplotlib.axes._subplots.AxesSubplot object at 0x7f013e7b6940>,\n",
       "        <matplotlib.axes._subplots.AxesSubplot object at 0x7f013e76b630>,\n",
       "        <matplotlib.axes._subplots.AxesSubplot object at 0x7f013e710630>,\n",
       "        <matplotlib.axes._subplots.AxesSubplot object at 0x7f013e72afd0>,\n",
       "        <matplotlib.axes._subplots.AxesSubplot object at 0x7f013e6d4470>,\n",
       "        <matplotlib.axes._subplots.AxesSubplot object at 0x7f013e6f9470>,\n",
       "        <matplotlib.axes._subplots.AxesSubplot object at 0x7f013e69c400>]], dtype=object)"
      ]
     },
     "execution_count": 73,
     "metadata": {},
     "output_type": "execute_result"
    },
    {
     "data": {
      "image/png": "[encoded data removed]",
      "text/plain": [
       "<matplotlib.figure.Figure at 0x7f01499ad400>"
      ]
     },
     "metadata": {},
     "output_type": "display_data"
    }
   ],
   "source": [
    "from pandas.tools.plotting import scatter_matrix\n",
    "scatter_matrix (mergedata, s=30, figsize=(16, 16))"
   ]
  },
  {
   "cell_type": "markdown",
   "metadata": {
    "collapsed": true
   },
   "source": [
    "Figure 2: scatter matrix of merged dataset\n",
    "\n",
    "Figure 2 does the same as Figure 1 but because I converted additional columns into float, pandas was able to plot the additional columns. The columns I am interested in are u'Site EUI(kBtu/ft2)' which is a measure of the energy consumed PER SQ FOOT by a building, and then the building area: for eg. u'Reported Property Floor Area (Building(s)) (ft²)'. These are the columns previously omitted, but now included. I can see now the correlation between all variables contained in my final dataset."
   ]
  },
  {
   "cell_type": "markdown",
   "metadata": {},
   "source": [
    "# Make a scatter plot first of Energy vs Units."
   ]
  },
  {
   "cell_type": "code",
   "execution_count": 74,
   "metadata": {
    "collapsed": true
   },
   "outputs": [],
   "source": [
    "# Convert energy per sq ft into Energy TOTAL\n",
    "mergedata['EnergyTOTAL']=mergedata.SiteEUI*mergedata.AreaReported"
   ]
  },
  {
   "cell_type": "code",
   "execution_count": 76,
   "metadata": {
    "collapsed": false
   },
   "outputs": [
    {
     "data": {
      "text/plain": [
       "Text(0,0.5,'Number of Units')"
      ]
     },
     "execution_count": 76,
     "metadata": {},
     "output_type": "execute_result"
    },
    {
     "data": {
      "image/png": "[encoded data removed]",
      "text/plain": [
       "<matplotlib.figure.Figure at 0x7f013e3a12e8>"
      ]
     },
     "metadata": {},
     "output_type": "display_data"
    }
   ],
   "source": [
    "# Now plotting it\n",
    "pl.scatter(mergedata.EnergyTOTAL,mergedata.UnitsTotal)\n",
    "pl.title('Toatl Energy vs Total # of Units')\n",
    "pl.xlabel('Total Energy Consumed',fontsize=12)\n",
    "pl.ylabel('Number of Units', fontsize=12)"
   ]
  },
  {
   "cell_type": "markdown",
   "metadata": {},
   "source": [
    "Figure 3: Plots total energy consumption of each BBL vs the number of units in the building\n",
    "\n",
    "It looks really bad because all the datapoints are at very low Unit numbers while the Unit number range actually goes up to 8000. So we have some outliers with very high numbers of units, and another outlier with a very high amount of total energy consumed (but low total number of units).\n",
    "\n",
    "I chose Total Units instead of Residential Units because a number of the BBLs don't have any residential units, so in order to plot more points I went the Total Units route."
   ]
  },
  {
   "cell_type": "markdown",
   "metadata": {},
   "source": [
    "### Make a second plot that zooms into the region where most points are by cutting your x and y axis plotted"
   ]
  },
  {
   "cell_type": "code",
   "execution_count": 92,
   "metadata": {
    "collapsed": false
   },
   "outputs": [
    {
     "data": {
      "text/plain": [
       "(1, 1000)"
      ]
     },
     "execution_count": 92,
     "metadata": {},
     "output_type": "execute_result"
    },
    {
     "data": {
      "image/png": "[encoded data removed]",
      "text/plain": [
       "<matplotlib.figure.Figure at 0x7f013e2bfd68>"
      ]
     },
     "metadata": {},
     "output_type": "display_data"
    }
   ],
   "source": [
    "# zoomed in scatter plot\n",
    "pl.scatter(mergedata.EnergyTOTAL, mergedata.UnitsTotal)\n",
    "pl.title('Toatl Energy vs Total # of Units plot')\n",
    "pl.xlabel('Total Energy',fontsize=12)\n",
    "pl.ylabel('Total Number of Units', fontsize=12)\n",
    "pl.xlim(1000,1e10)\n",
    "pl.ylim(1,1000)"
   ]
  },
  {
   "cell_type": "markdown",
   "metadata": {},
   "source": [
    "Figure 4: same as Figure 3, but zooms into the region where most points are.\n",
    "\n",
    "I accomplished this zooming in by cutting my x and y axes in the process of plotting them by using xlim=(1000,1e10), ylim=(1,1000)."
   ]
  },
  {
   "cell_type": "code",
   "execution_count": null,
   "metadata": {
    "collapsed": true
   },
   "outputs": [],
   "source": []
  }
 ],
 "metadata": {
  "kernelspec": {
   "display_name": "PUI2016_Python3",
   "language": "python",
   "name": "pui2016_python3"
  },
  "language_info": {
   "codemirror_mode": {
    "name": "ipython",
    "version": 3
   },
   "file_extension": ".py",
   "mimetype": "text/x-python",
   "name": "python",
   "nbconvert_exporter": "python",
   "pygments_lexer": "ipython3",
   "version": "3.5.4"
  }
 },
 "nbformat": 4,
 "nbformat_minor": 0
}
