{
 "cells": [
  {
   "cell_type": "markdown",
   "metadata": {},
   "source": [
    "Author: Charlie Moffett, NYU CUSP, 2017\n",
    "\n",
    "# Time Series Clustering Exercise"
   ]
  },
  {
   "cell_type": "code",
   "execution_count": 1,
   "metadata": {},
   "outputs": [
    {
     "name": "stdout",
     "output_type": "stream",
     "text": [
      "Populating the interactive namespace from numpy and matplotlib\n"
     ]
    }
   ],
   "source": [
    "import numpy as np\n",
    "import pandas as pd\n",
    "import geopandas as gpd\n",
    "\n",
    "import os\n",
    "import sys\n",
    "import zipfile \n",
    "\n",
    "import pylab as pl\n",
    "%pylab inline\n",
    "\n",
    "from sklearn.linear_model import LinearRegression\n",
    "from sklearn.decomposition import PCA\n",
    "from scipy.spatial.distance import cdist, pdist\n",
    "from sklearn.cluster import KMeans, AgglomerativeClustering\n",
    "from sklearn.metrics import silhouette_samples, silhouette_score\n",
    "from sklearn.mixture import GMM\n",
    "from scipy.cluster.hierarchy import dendrogram, linkage, fcluster\n",
    "from scipy.cluster.hierarchy import cophenet\n",
    "from scipy.spatial.distance import pdist\n",
    "\n",
    "from scipy.spatial.distance import cdist, pdist"
   ]
  },
  {
   "cell_type": "markdown",
   "metadata": {},
   "source": [
    "__Download the census bureau business data for all years 1993-2014.__"
   ]
  },
  {
   "cell_type": "raw",
   "metadata": {},
   "source": [
    "# need only be run once; convert cell to 'Code' to enable\n",
    "\n",
    "!for ((y=94; y<=99; y+=1)); do wget \\\n",
    "https://www2.census.gov/Econ2001_And_Earlier/CBP_CSV//zbp$y\\totals.zip; done\n",
    "\n",
    "!for ((y=0; y<=1; y+=1)); do wget \\\n",
    "https://www2.census.gov/Econ2001_And_Earlier/CBP_CSV//zbp0$y\\totals.zip; done\n",
    "\n",
    "!for ((y=2; y<=9; y+=1)); do wget \\\n",
    "https://www2.census.gov/econ200$y\\/CBP_CSV/zbp0$y\\totals.zip; done\n",
    "\n",
    "!for ((y=10; y<=14; y+=1)); do wget \\\n",
    "https://www2.census.gov/econ20$y\\/CBP_CSV/zbp$y\\totals.zip; done"
   ]
  },
  {
   "cell_type": "code",
   "execution_count": 3,
   "metadata": {},
   "outputs": [
    {
     "name": "stdout",
     "output_type": "stream",
     "text": [
      "Shapefile in place..\n"
     ]
    }
   ],
   "source": [
    "# unzip NYC zipcode shapefiles in PUIdata\n",
    "if not os.path.isdir(PUIdata + '/ZIP_CODES'):\n",
    "    print('Download and unzip file...')\n",
    "    os.system('wget https://data.cityofnewyork.us/download/i8iw-xf4u/application%2Fzip')\n",
    "    os.system('mv application%2Fzip ' + PUIdata)\n",
    "    os.system('unzip ' + PUIdata + '/application%2Fzip -d ' + PUIdata + '/ZIP_CODES')\n",
    "\n",
    "if os.path.isdir(PUIdata + '/ZIP_CODES'):\n",
    "    for file in os.listdir(PUIdata + '/ZIP_CODES'):\n",
    "        if file.endswith('.shp'):\n",
    "            print('Shapefile in place..')\n",
    "            shpfile = file"
   ]
  },
  {
   "cell_type": "code",
   "execution_count": 9,
   "metadata": {},
   "outputs": [
    {
     "data": {
      "text/html": [
       "<div>\n",
       "<table border=\"1\" class=\"dataframe\">\n",
       "  <thead>\n",
       "    <tr style=\"text-align: right;\">\n",
       "      <th></th>\n",
       "      <th>ZIPCODE</th>\n",
       "      <th>BLDGZIP</th>\n",
       "      <th>PO_NAME</th>\n",
       "      <th>POPULATION</th>\n",
       "      <th>AREA</th>\n",
       "      <th>STATE</th>\n",
       "      <th>COUNTY</th>\n",
       "      <th>ST_FIPS</th>\n",
       "      <th>CTY_FIPS</th>\n",
       "      <th>URL</th>\n",
       "      <th>SHAPE_AREA</th>\n",
       "      <th>SHAPE_LEN</th>\n",
       "      <th>geometry</th>\n",
       "    </tr>\n",
       "  </thead>\n",
       "  <tbody>\n",
       "    <tr>\n",
       "      <th>0</th>\n",
       "      <td>11436</td>\n",
       "      <td>0</td>\n",
       "      <td>Jamaica</td>\n",
       "      <td>18681.0</td>\n",
       "      <td>2.269930e+07</td>\n",
       "      <td>NY</td>\n",
       "      <td>Queens</td>\n",
       "      <td>36</td>\n",
       "      <td>081</td>\n",
       "      <td>http://www.usps.com/</td>\n",
       "      <td>0.0</td>\n",
       "      <td>0.0</td>\n",
       "      <td>POLYGON ((1038098.251871482 188138.3800067157,...</td>\n",
       "    </tr>\n",
       "    <tr>\n",
       "      <th>1</th>\n",
       "      <td>11213</td>\n",
       "      <td>0</td>\n",
       "      <td>Brooklyn</td>\n",
       "      <td>62426.0</td>\n",
       "      <td>2.963100e+07</td>\n",
       "      <td>NY</td>\n",
       "      <td>Kings</td>\n",
       "      <td>36</td>\n",
       "      <td>047</td>\n",
       "      <td>http://www.usps.com/</td>\n",
       "      <td>0.0</td>\n",
       "      <td>0.0</td>\n",
       "      <td>POLYGON ((1001613.712964058 186926.4395172149,...</td>\n",
       "    </tr>\n",
       "  </tbody>\n",
       "</table>\n",
       "</div>"
      ],
      "text/plain": [
       "  ZIPCODE BLDGZIP   PO_NAME  POPULATION          AREA STATE  COUNTY ST_FIPS  \\\n",
       "0   11436       0   Jamaica     18681.0  2.269930e+07    NY  Queens      36   \n",
       "1   11213       0  Brooklyn     62426.0  2.963100e+07    NY   Kings      36   \n",
       "\n",
       "  CTY_FIPS                   URL  SHAPE_AREA  SHAPE_LEN  \\\n",
       "0      081  http://www.usps.com/         0.0        0.0   \n",
       "1      047  http://www.usps.com/         0.0        0.0   \n",
       "\n",
       "                                            geometry  \n",
       "0  POLYGON ((1038098.251871482 188138.3800067157,...  \n",
       "1  POLYGON ((1001613.712964058 186926.4395172149,...  "
      ]
     },
     "execution_count": 9,
     "metadata": {},
     "output_type": "execute_result"
    }
   ],
   "source": [
    "# read in shapefiles using geopandas\n",
    "dfzip = gpd.read_file(PUIdata + \"/ZIP_CODES/ZIP_CODE_040114.shp\")\n",
    "dfzip.head(2)"
   ]
  },
  {
   "cell_type": "code",
   "execution_count": 20,
   "metadata": {},
   "outputs": [
    {
     "data": {
      "text/html": [
       "<div>\n",
       "<table border=\"1\" class=\"dataframe\">\n",
       "  <thead>\n",
       "    <tr style=\"text-align: right;\">\n",
       "      <th></th>\n",
       "      <th>ZIPCODE</th>\n",
       "      <th>geometry</th>\n",
       "    </tr>\n",
       "  </thead>\n",
       "  <tbody>\n",
       "    <tr>\n",
       "      <th>0</th>\n",
       "      <td>11436</td>\n",
       "      <td>POLYGON ((1038098.251871482 188138.3800067157,...</td>\n",
       "    </tr>\n",
       "    <tr>\n",
       "      <th>1</th>\n",
       "      <td>11213</td>\n",
       "      <td>POLYGON ((1001613.712964058 186926.4395172149,...</td>\n",
       "    </tr>\n",
       "  </tbody>\n",
       "</table>\n",
       "</div>"
      ],
      "text/plain": [
       "   ZIPCODE                                           geometry\n",
       "0    11436  POLYGON ((1038098.251871482 188138.3800067157,...\n",
       "1    11213  POLYGON ((1001613.712964058 186926.4395172149,..."
      ]
     },
     "execution_count": 20,
     "metadata": {},
     "output_type": "execute_result"
    }
   ],
   "source": [
    "dfzip = dfzip[['ZIPCODE', 'geometry']]\n",
    "dfzip['ZIPCODE'] = pd.to_numeric(dfzip['ZIPCODE'])\n",
    "dfzip.head(2)"
   ]
  },
  {
   "cell_type": "code",
   "execution_count": 12,
   "metadata": {},
   "outputs": [],
   "source": [
    "ts_df = pd.DataFrame()"
   ]
  },
  {
   "cell_type": "code",
   "execution_count": 13,
   "metadata": {},
   "outputs": [
    {
     "data": {
      "text/plain": [
       "(828791, 3)"
      ]
     },
     "execution_count": 13,
     "metadata": {},
     "output_type": "execute_result"
    }
   ],
   "source": [
    "for i in range(94,100):\n",
    "    fname='zbp' + str(i) + 'totals.zip'\n",
    "    time = 1900 + i\n",
    "    zf = zipfile.ZipFile(PUIdata + '/' + fname)\n",
    "    df = pd.read_csv(zf.open(fname.replace('.zip','.txt'))).assign(year=time)\n",
    "    df.columns = [x.upper() for x in df.columns]\n",
    "    df = df[['ZIP', 'EST', 'YEAR']]\n",
    "    ts_df = ts_df.append(df)\n",
    "    \n",
    "\n",
    "for i in range(0,15):\n",
    "    fname='zbp' + str(i).zfill(2) + 'totals.zip'\n",
    "    time = 2000 + i\n",
    "    zf = zipfile.ZipFile(PUIdata + '/' + fname)\n",
    "    df = pd.read_csv(zf.open(fname.replace('.zip','.txt'))).assign(year=time)\n",
    "    df.columns = [x.upper() for x in df.columns]\n",
    "    df = df[['ZIP', 'EST', 'YEAR']]\n",
    "    ts_df = ts_df.append(df)\n",
    "    \n",
    "ts_df.shape"
   ]
  },
  {
   "cell_type": "markdown",
   "metadata": {},
   "source": [
    "## Data Cleaning Tasks"
   ]
  },
  {
   "cell_type": "code",
   "execution_count": 16,
   "metadata": {},
   "outputs": [],
   "source": [
    "# 1. get and prep my data\n",
    "ts_df = pd.pivot_table(ts_df, values='EST', index='ZIP', columns='YEAR')\n",
    "ts_df.dropna(axis=0, inplace=True)"
   ]
  },
  {
   "cell_type": "code",
   "execution_count": 21,
   "metadata": {},
   "outputs": [
    {
     "data": {
      "text/html": [
       "<div>\n",
       "<table border=\"1\" class=\"dataframe\">\n",
       "  <thead>\n",
       "    <tr style=\"text-align: right;\">\n",
       "      <th></th>\n",
       "      <th>1994</th>\n",
       "      <th>1995</th>\n",
       "      <th>1996</th>\n",
       "      <th>1997</th>\n",
       "      <th>1998</th>\n",
       "      <th>1999</th>\n",
       "      <th>2000</th>\n",
       "      <th>2001</th>\n",
       "      <th>2002</th>\n",
       "      <th>2003</th>\n",
       "      <th>...</th>\n",
       "      <th>2005</th>\n",
       "      <th>2006</th>\n",
       "      <th>2007</th>\n",
       "      <th>2008</th>\n",
       "      <th>2009</th>\n",
       "      <th>2010</th>\n",
       "      <th>2011</th>\n",
       "      <th>2012</th>\n",
       "      <th>2013</th>\n",
       "      <th>2014</th>\n",
       "    </tr>\n",
       "    <tr>\n",
       "      <th>ZIPCODE</th>\n",
       "      <th></th>\n",
       "      <th></th>\n",
       "      <th></th>\n",
       "      <th></th>\n",
       "      <th></th>\n",
       "      <th></th>\n",
       "      <th></th>\n",
       "      <th></th>\n",
       "      <th></th>\n",
       "      <th></th>\n",
       "      <th></th>\n",
       "      <th></th>\n",
       "      <th></th>\n",
       "      <th></th>\n",
       "      <th></th>\n",
       "      <th></th>\n",
       "      <th></th>\n",
       "      <th></th>\n",
       "      <th></th>\n",
       "      <th></th>\n",
       "      <th></th>\n",
       "    </tr>\n",
       "  </thead>\n",
       "  <tbody>\n",
       "    <tr>\n",
       "      <th>11436</th>\n",
       "      <td>51.0</td>\n",
       "      <td>50.0</td>\n",
       "      <td>53.0</td>\n",
       "      <td>51.0</td>\n",
       "      <td>51.0</td>\n",
       "      <td>58.0</td>\n",
       "      <td>65.0</td>\n",
       "      <td>57.0</td>\n",
       "      <td>78.0</td>\n",
       "      <td>74.0</td>\n",
       "      <td>...</td>\n",
       "      <td>82.0</td>\n",
       "      <td>80.0</td>\n",
       "      <td>84.0</td>\n",
       "      <td>90.0</td>\n",
       "      <td>92.0</td>\n",
       "      <td>98.0</td>\n",
       "      <td>101.0</td>\n",
       "      <td>95.0</td>\n",
       "      <td>99.0</td>\n",
       "      <td>109.0</td>\n",
       "    </tr>\n",
       "    <tr>\n",
       "      <th>11213</th>\n",
       "      <td>406.0</td>\n",
       "      <td>420.0</td>\n",
       "      <td>433.0</td>\n",
       "      <td>456.0</td>\n",
       "      <td>476.0</td>\n",
       "      <td>473.0</td>\n",
       "      <td>477.0</td>\n",
       "      <td>493.0</td>\n",
       "      <td>546.0</td>\n",
       "      <td>569.0</td>\n",
       "      <td>...</td>\n",
       "      <td>556.0</td>\n",
       "      <td>565.0</td>\n",
       "      <td>556.0</td>\n",
       "      <td>592.0</td>\n",
       "      <td>621.0</td>\n",
       "      <td>675.0</td>\n",
       "      <td>674.0</td>\n",
       "      <td>726.0</td>\n",
       "      <td>755.0</td>\n",
       "      <td>772.0</td>\n",
       "    </tr>\n",
       "  </tbody>\n",
       "</table>\n",
       "<p>2 rows × 21 columns</p>\n",
       "</div>"
      ],
      "text/plain": [
       "          1994   1995   1996   1997   1998   1999   2000   2001   2002   2003  \\\n",
       "ZIPCODE                                                                         \n",
       "11436     51.0   50.0   53.0   51.0   51.0   58.0   65.0   57.0   78.0   74.0   \n",
       "11213    406.0  420.0  433.0  456.0  476.0  473.0  477.0  493.0  546.0  569.0   \n",
       "\n",
       "         ...     2005   2006   2007   2008   2009   2010   2011   2012   2013  \\\n",
       "ZIPCODE  ...                                                                    \n",
       "11436    ...     82.0   80.0   84.0   90.0   92.0   98.0  101.0   95.0   99.0   \n",
       "11213    ...    556.0  565.0  556.0  592.0  621.0  675.0  674.0  726.0  755.0   \n",
       "\n",
       "          2014  \n",
       "ZIPCODE         \n",
       "11436    109.0  \n",
       "11213    772.0  \n",
       "\n",
       "[2 rows x 21 columns]"
      ]
     },
     "execution_count": 21,
     "metadata": {},
     "output_type": "execute_result"
    }
   ],
   "source": [
    "merge_df = dfzip.merge(ts_df, right_index=True, left_on='ZIPCODE')\n",
    "merge_df.drop('geometry', axis=1, inplace=True)\n",
    "merge_df.set_index('ZIPCODE', inplace=True)\n",
    "merge_df.head(2)"
   ]
  },
  {
   "cell_type": "code",
   "execution_count": 22,
   "metadata": {},
   "outputs": [
    {
     "data": {
      "text/plain": [
       "(243, 21)"
      ]
     },
     "execution_count": 22,
     "metadata": {},
     "output_type": "execute_result"
    }
   ],
   "source": [
    "df_stan = ((merge_df.T - merge_df.mean(axis=1)) / merge_df.std(axis=1)).T\n",
    "df_stan.shape"
   ]
  },
  {
   "cell_type": "code",
   "execution_count": 23,
   "metadata": {},
   "outputs": [],
   "source": [
    "def elbow(data,K):\n",
    "#data is your input as numpy form\n",
    "#K is a list of number of clusters you would like to show.\n",
    "    # Run the KMeans model and save all the results for each number of clusters\n",
    "    KM = [KMeans(n_clusters=k, random_state=123).fit(data) for k in K]\n",
    "    \n",
    "    # Save the centroids for each model with a increasing k\n",
    "    centroids = [k.cluster_centers_ for k in KM]\n",
    "\n",
    "    # For each k, get the distance between the data with each center. \n",
    "    D_k = [cdist(data, cent, 'euclidean') for cent in centroids]\n",
    "    \n",
    "    # But we only need the distance to the nearest centroid since we only calculate dist(x,ci) for its own cluster.\n",
    "    globals()['dist'] = [np.min(D,axis=1) for D in D_k]\n",
    "    \n",
    "    # Calculate the Average SSE.\n",
    "    avgWithinSS = [sum(d)/data.shape[0] for d in dist]\n",
    "    \n",
    "    \n",
    "    # elbow curve\n",
    "    fig = plt.figure()\n",
    "    ax = fig.add_subplot(111)\n",
    "    ax.plot(K, avgWithinSS, 'b*-')\n",
    "    plt.grid(True)\n",
    "    plt.xlabel('Number of clusters')\n",
    "    plt.ylabel('Average within-cluster sum of squares')\n",
    "    plt.title('Elbow for KMeans clustering')\n",
    "    plt.show()\n",
    "    \n",
    "    \n",
    "    # Total with-in sum of square plot. Another way to show the result.\n",
    "    wcss = [sum(d**2) for d in dist]\n",
    "    tss = sum(pdist(data)**2)/data.shape[0]\n",
    "    bss = tss-wcss\n",
    "    \n",
    "    fig = plt.figure()\n",
    "    ax = fig.add_subplot(111)\n",
    "    ax.plot(K, bss/tss*100, 'b*-')\n",
    "    pl.grid(True)\n",
    "    pl.xlabel('Number of clusters')\n",
    "    pl.ylabel('Percentage of variance explained')\n",
    "    pl.title('Elbow for KMeans clustering')\n",
    "    pl.show()"
   ]
  },
  {
   "cell_type": "code",
   "execution_count": 24,
   "metadata": {},
   "outputs": [
    {
     "name": "stdout",
     "output_type": "stream",
     "text": [
      "For n_clusters = 2 The average silhouette_score is : 0.572142801777\n",
      "For n_clusters = 3 The average silhouette_score is : 0.541072613328\n",
      "For n_clusters = 4 The average silhouette_score is : 0.501207133658\n",
      "For n_clusters = 5 The average silhouette_score is : 0.331797446821\n",
      "For n_clusters = 6 The average silhouette_score is : 0.32721517486\n",
      "For n_clusters = 7 The average silhouette_score is : 0.251977848353\n",
      "For n_clusters = 8 The average silhouette_score is : 0.241967649096\n",
      "For n_clusters = 9 The average silhouette_score is : 0.158254524982\n",
      "For n_clusters = 10 The average silhouette_score is : 0.150430762634\n"
     ]
    },
    {
     "data": {
      "image/png": "[encoded data removed]",
      "text/plain": [
       "<matplotlib.figure.Figure at 0x7fec899bad68>"
      ]
     },
     "metadata": {},
     "output_type": "display_data"
    },
    {
     "data": {
      "image/png": "[encoded data removed]",
      "text/plain": [
       "<matplotlib.figure.Figure at 0x7fec89a2c0f0>"
      ]
     },
     "metadata": {},
     "output_type": "display_data"
    }
   ],
   "source": [
    "# 2. cluster the NUMBER OF ESTABLISHMENTS time series with K-means\n",
    "range_n_clusters = range(2,11)\n",
    "for n_clusters in range_n_clusters:\n",
    "\n",
    "    clusterer = KMeans(n_clusters=n_clusters, random_state=123)\n",
    "    cluster_labels = clusterer.fit_predict(df_stan)\n",
    "    silhouette_avg = silhouette_score(df_stan, cluster_labels)\n",
    "    print(\"For n_clusters =\", n_clusters,\n",
    "          \"The average silhouette_score is :\", silhouette_avg)\n",
    "    sample_silhouette_values = silhouette_samples(df_stan, cluster_labels)\n",
    "elbow(df_stan,range_n_clusters)"
   ]
  },
  {
   "cell_type": "code",
   "execution_count": null,
   "metadata": {},
   "outputs": [],
   "source": []
  }
 ],
 "metadata": {
  "kernelspec": {
   "display_name": "PUI2016_Python3",
   "language": "python",
   "name": "pui2016_python3"
  },
  "language_info": {
   "codemirror_mode": {
    "name": "ipython",
    "version": 3
   },
   "file_extension": ".py",
   "mimetype": "text/x-python",
   "name": "python",
   "nbconvert_exporter": "python",
   "pygments_lexer": "ipython3",
   "version": "3.5.4"
  }
 },
 "nbformat": 4,
 "nbformat_minor": 2
}
