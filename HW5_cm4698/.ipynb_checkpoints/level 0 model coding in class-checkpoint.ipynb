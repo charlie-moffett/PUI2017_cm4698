{
 "cells": [
  {
   "cell_type": "code",
   "execution_count": 1,
   "metadata": {
    "collapsed": false
   },
   "outputs": [
    {
     "name": "stdout",
     "output_type": "stream",
     "text": [
      "Populating the interactive namespace from numpy and matplotlib\n"
     ]
    }
   ],
   "source": [
    "import numpy as np\n",
    "import pylab as pl\n",
    "\n",
    "%pylab inline"
   ]
  },
  {
   "cell_type": "code",
   "execution_count": 6,
   "metadata": {
    "collapsed": false
   },
   "outputs": [
    {
     "data": {
      "text/plain": [
       "array([ 82.30852361,  57.47700661,  20.72003185,  67.57132998,\n",
       "        18.18327365,  39.90031127,  48.46428527,  59.89472312,\n",
       "        66.53138702,  72.76536498,  81.095472  ,  21.87013176,\n",
       "        40.84934065,  28.14036497,  73.65918071,  13.00593379,\n",
       "        91.83250392,  46.46445984,  78.43919233,  52.63825382,\n",
       "        35.80470261,  77.61632399,  18.73809491,  47.11220095,\n",
       "        35.34750663,  45.12500025,  88.39982886,  17.31206055,\n",
       "        60.21380486,  59.27808509,  39.89827627,  97.59419322,\n",
       "        35.76484879,  55.74317488,  23.31556623,  27.67905863,\n",
       "        85.67380097,  10.33778829,  80.43589091,  85.01299452,\n",
       "        94.41166046,  97.53414969,  84.95407377,  15.92358453,\n",
       "        46.34133041,  43.73141377,  55.67512121,  98.00892637,\n",
       "        83.7091188 ,  26.87871197])"
      ]
     },
     "execution_count": 6,
     "metadata": {},
     "output_type": "execute_result"
    }
   ],
   "source": [
    "np.random.seed(999)\n",
    "\n",
    "# first let's make an x-axis\n",
    "# we can do it at regular intervals, we can do it randomly\n",
    "x = np.random.uniform(10,100,50) # 50 points between 10 and 100\n",
    "x"
   ]
  },
  {
   "cell_type": "code",
   "execution_count": 9,
   "metadata": {
    "collapsed": false
   },
   "outputs": [
    {
     "data": {
      "text/plain": [
       "[<matplotlib.lines.Line2D at 0x7f23a920c908>]"
      ]
     },
     "execution_count": 9,
     "metadata": {},
     "output_type": "execute_result"
    },
    {
     "data": {
      "image/png": "[encoded data removed]",
      "text/plain": [
       "<matplotlib.figure.Figure at 0x7f23ab894c18>"
      ]
     },
     "metadata": {},
     "output_type": "display_data"
    }
   ],
   "source": [
    "# defining a function in multiple lines (it can be done in one line though)\n",
    "# it's always a good idea to define your function in its own cell\n",
    "# we can give the function default parameters by placing them in bw the parentheses where we define the function\n",
    "def makealine(x, a=10, b=5):\n",
    "# what parameters does the function need to take?\n",
    "    y = a * x + b\n",
    "    return y\n",
    "\n",
    "L = makealine(x)\n",
    "\n",
    "pl.plot(x,L,'.')\n",
    "\n",
    "# for future reference, we're encourage to use classes when we code in Python"
   ]
  },
  {
   "cell_type": "code",
   "execution_count": 11,
   "metadata": {
    "collapsed": true
   },
   "outputs": [],
   "source": [
    "# let's use statsmodels to fit it\n",
    "import statsmodels.api as sm"
   ]
  },
  {
   "cell_type": "code",
   "execution_count": 15,
   "metadata": {
    "collapsed": false
   },
   "outputs": [
    {
     "data": {
      "text/plain": [
       "<statsmodels.regression.linear_model.OLS at 0x7f239edf3f60>"
      ]
     },
     "execution_count": 15,
     "metadata": {},
     "output_type": "execute_result"
    }
   ],
   "source": [
    "# let's do it the wrong way first\n",
    "#dir(sm) # gives you content of the package # we'll use OLS\n",
    "\n",
    "#sm.OLS? # args it takes are endog (dependent) var, exog(dependent) var\n",
    "\n",
    "sm.OLS(L, x) # sets up the stage, but doesn't do the fit"
   ]
  },
  {
   "cell_type": "code",
   "execution_count": 16,
   "metadata": {
    "collapsed": false
   },
   "outputs": [
    {
     "ename": "SyntaxError",
     "evalue": "invalid syntax (<ipython-input-16-721fcbf32ecc>, line 4)",
     "output_type": "error",
     "traceback": [
      "\u001b[0;36m  File \u001b[0;32m\"<ipython-input-16-721fcbf32ecc>\"\u001b[0;36m, line \u001b[0;32m4\u001b[0m\n\u001b[0;31m    lin_model.\u001b[0m\n\u001b[0m              ^\u001b[0m\n\u001b[0;31mSyntaxError\u001b[0m\u001b[0;31m:\u001b[0m invalid syntax\n"
     ]
    }
   ],
   "source": [
    "#\n",
    "lin_model = sm.OLS(L, x).fit()\n",
    "\n",
    "lin_model."
   ]
  },
  {
   "cell_type": "code",
   "execution_count": null,
   "metadata": {
    "collapsed": true
   },
   "outputs": [],
   "source": []
  }
 ],
 "metadata": {
  "kernelspec": {
   "display_name": "PUI2016_Python3",
   "language": "python",
   "name": "pui2016_python3"
  },
  "language_info": {
   "codemirror_mode": {
    "name": "ipython",
    "version": 3
   },
   "file_extension": ".py",
   "mimetype": "text/x-python",
   "name": "python",
   "nbconvert_exporter": "python",
   "pygments_lexer": "ipython3",
   "version": "3.5.4"
  }
 },
 "nbformat": 4,
 "nbformat_minor": 0
}
