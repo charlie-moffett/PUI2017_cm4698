{
 "cells": [
  {
   "cell_type": "markdown",
   "metadata": {},
   "source": [
    "written by Charlie Moffett, CUSP 2017"
   ]
  },
  {
   "cell_type": "markdown",
   "metadata": {},
   "source": [
    "__Assignment 1: Test the Z test__"
   ]
  },
  {
   "cell_type": "code",
   "execution_count": 2,
   "metadata": {
    "collapsed": false
   },
   "outputs": [
    {
     "name": "stdout",
     "output_type": "stream",
     "text": [
      "Populating the interactive namespace from numpy and matplotlib\n"
     ]
    }
   ],
   "source": [
    "import numpy as np\n",
    "import pylab as pl\n",
    "import pandas as pd\n",
    "import scipy.stats\n",
    "import os\n",
    "\n",
    "%pylab inline"
   ]
  },
  {
   "cell_type": "code",
   "execution_count": 10,
   "metadata": {
    "collapsed": false
   },
   "outputs": [
    {
     "data": {
      "text/plain": [
       "array([  22.7157844 ,  150.18908825,   41.48149867,  -75.84491643,\n",
       "        -16.61344368,  -54.89007096,  166.62675689, -199.13701906,\n",
       "        155.63280637,  104.52934154,  -30.02011939,   41.5227304 ,\n",
       "       -101.00608341,  -48.48215253,   -8.84095641,   91.30236491,\n",
       "         -6.13047164,  170.08715507,  108.43425751,  -73.54473728,\n",
       "         -8.66493399,  -75.80670736,  -65.9778159 , -141.20542395,\n",
       "        184.77747441,  223.00549769,   17.11542235, -174.16422418,\n",
       "        -25.25906976,  -30.89037948,   65.93101709,   57.40130974,\n",
       "       -160.26333684, -120.82865468,   52.48317379,   10.66686835,\n",
       "        -37.0683277 ,   58.05221618,  116.61863028,  125.63184132,\n",
       "          9.75902483,   16.92448453,   94.70240676,   76.1684352 ,\n",
       "        -60.82337603,  -39.86054355,   70.48757253,   40.05431318,\n",
       "        -15.12286687,   65.61100805])"
      ]
     },
     "execution_count": 10,
     "metadata": {},
     "output_type": "execute_result"
    }
   ],
   "source": [
    "# Generate parameter distribution\n",
    "np.random.seed(999)\n",
    "\n",
    "# first let's make an x-axis\n",
    "# we can do it at regular intervals\n",
    "x = np.random.normal(10,100,50) # 50 points between 10 and 100"
   ]
  },
  {
   "cell_type": "code",
   "execution_count": 31,
   "metadata": {
    "collapsed": false
   },
   "outputs": [
    {
     "data": {
      "text/plain": [
       "Text(0,-2,'The distribution is Gaussian, with a mean of 144 and a standard deviation of 12')"
      ]
     },
     "execution_count": 31,
     "metadata": {},
     "output_type": "execute_result"
    },
    {
     "data": {
      "image/png": "[encoded data removed]",
      "text/plain": [
       "<matplotlib.figure.Figure at 0x7fc857feb390>"
      ]
     },
     "metadata": {},
     "output_type": "display_data"
    }
   ],
   "source": [
    "# plotting histogram of my normal distribution\n",
    "plt.hist(x)\n",
    "pl.title('Distribution of my control parameters')\n",
    "pl.text(x=0, y=-2, s='The distribution is Gaussian, with a mean of 144 and a standard deviation of 12')"
   ]
  },
  {
   "cell_type": "code",
   "execution_count": 17,
   "metadata": {
    "collapsed": true
   },
   "outputs": [],
   "source": [
    "pl.text?"
   ]
  },
  {
   "cell_type": "code",
   "execution_count": 1,
   "metadata": {
    "collapsed": true
   },
   "outputs": [],
   "source": [
    "# Generate N samples from a distribution of your choice, but not a Gaussian\n",
    "np.random.seed(999)\n",
    "\n",
    "mean = 144\n",
    "sigma = 12\n",
    "N = 100\n",
    "\n",
    "# with a chosen mean μ and standard deviation σ: N(μ, σ) and \n",
    "# calculate the mean of each sample (all samples should have the same size n)"
   ]
  },
  {
   "cell_type": "code",
   "execution_count": null,
   "metadata": {
    "collapsed": true
   },
   "outputs": [],
   "source": [
    "# Assess the validity of the Z-test\n",
    "# Show that the distribution of z -statistics is consistent with N(0,1)"
   ]
  }
 ],
 "metadata": {
  "kernelspec": {
   "display_name": "PUI2016_Python3",
   "language": "python",
   "name": "pui2016_python3"
  },
  "language_info": {
   "codemirror_mode": {
    "name": "ipython",
    "version": 3
   },
   "file_extension": ".py",
   "mimetype": "text/x-python",
   "name": "python",
   "nbconvert_exporter": "python",
   "pygments_lexer": "ipython3",
   "version": "3.5.4"
  }
 },
 "nbformat": 4,
 "nbformat_minor": 0
}
