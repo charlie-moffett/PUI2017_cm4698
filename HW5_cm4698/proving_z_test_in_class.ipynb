{
 "cells": [
  {
   "cell_type": "code",
   "execution_count": null,
   "metadata": {
    "collapsed": true
   },
   "outputs": [],
   "source": [
    "# we want to test for ourselves if we take a sample... (z test)\n",
    "# you can do it in very few lines of code if you do it the happy (data science) way\n"
   ]
  },
  {
   "cell_type": "code",
   "execution_count": 2,
   "metadata": {
    "collapsed": false
   },
   "outputs": [
    {
     "name": "stdout",
     "output_type": "stream",
     "text": [
      "Populating the interactive namespace from numpy and matplotlib\n"
     ]
    }
   ],
   "source": [
    "import numpy as np # for statistics\n",
    "import pylab as pl\n",
    "import scipy as sp\n",
    "from scipy import stats\n",
    "%pylab inline"
   ]
  },
  {
   "cell_type": "code",
   "execution_count": 5,
   "metadata": {
    "collapsed": false
   },
   "outputs": [],
   "source": [
    "# set a random seed\n",
    "np.random.seed(999)\n",
    "\n",
    "# first we have to choose what kind of parent population we want\n",
    "# keep it simple and create a sample population\n",
    "\n",
    "mymean = 800.\n",
    "mystdev = 14.\n",
    "Nsamples = 100\n",
    "nit = 1000 #number of iterations\n",
    "myDmeans = np.zeros(nit)\n",
    "# can also use np.random.randn\n",
    "# putting it into a loop to create multiple child samples\n",
    "for i in range(nit):\n",
    "    mydistrib = sp.stats.norm.rvs(loc=mymean, scale=mystdev, size=Nsamples) # takes the location (mean) and scale (std)\n",
    "    myDmean = mydistrib.mean()\n",
    "    myDmeans[i] = mydistrib.mean()\n",
    "# take a sample from the population of size 100\n",
    "\n"
   ]
  },
  {
   "cell_type": "code",
   "execution_count": 6,
   "metadata": {
    "collapsed": false
   },
   "outputs": [
    {
     "data": {
      "text/plain": [
       "(array([   6.,   40.,  134.,  278.,  250.,  197.,   81.,   12.,    1.,    1.]),\n",
       " array([ 795.5544249 ,  796.61441607,  797.67440725,  798.73439842,\n",
       "         799.79438959,  800.85438077,  801.91437194,  802.97436311,\n",
       "         804.03435428,  805.09434546,  806.15433663]),\n",
       " <a list of 10 Patch objects>)"
      ]
     },
     "execution_count": 6,
     "metadata": {},
     "output_type": "execute_result"
    },
    {
     "data": {
      "image/png": "[encoded data removed]",
      "text/plain": [
       "<matplotlib.figure.Figure at 0x7fe69a34ac88>"
      ]
     },
     "metadata": {},
     "output_type": "display_data"
    }
   ],
   "source": [
    "# this is not the z statistic though\n",
    "pl.hist(myDmeans)"
   ]
  },
  {
   "cell_type": "code",
   "execution_count": 7,
   "metadata": {
    "collapsed": false
   },
   "outputs": [
    {
     "data": {
      "text/plain": [
       "(array([  3.,   4.,  11.,   9.,  16.,  19.,  20.,  12.,   5.,   1.]),\n",
       " array([ 758.99750286,  766.5953072 ,  774.19311154,  781.79091589,\n",
       "         789.38872023,  796.98652457,  804.58432892,  812.18213326,\n",
       "         819.7799376 ,  827.37774195,  834.97554629]),\n",
       " <a list of 10 Patch objects>)"
      ]
     },
     "execution_count": 7,
     "metadata": {},
     "output_type": "execute_result"
    },
    {
     "data": {
      "image/png": "[encoded data removed]",
      "text/plain": [
       "<matplotlib.figure.Figure at 0x7fe69a105208>"
      ]
     },
     "metadata": {},
     "output_type": "display_data"
    }
   ],
   "source": [
    "# let's take a histogram of it\n",
    "# rvs is how you draw a sample from the parent distribution\n",
    "pl.hist(sp.stats.norm.rvs(loc=mymean, scale=mystdev, size=100))"
   ]
  },
  {
   "cell_type": "code",
   "execution_count": 8,
   "metadata": {
    "collapsed": true
   },
   "outputs": [],
   "source": [
    "# what is the z test?\n",
    "# It measures the difference between the means (parent pop and sample)\n",
    "# divides by stdev over square root of N\n",
    "\n",
    "# "
   ]
  },
  {
   "cell_type": "code",
   "execution_count": 10,
   "metadata": {
    "collapsed": false
   },
   "outputs": [
    {
     "data": {
      "text/plain": [
       "(array([   1.,    1.,   12.,   81.,  197.,  250.,  278.,  134.,   40.,    6.]),\n",
       " array([-4.39595474, -3.63881818, -2.88168163, -2.12454508, -1.36740853,\n",
       "        -0.61027198,  0.14686458,  0.90400113,  1.66113768,  2.41827423,\n",
       "         3.17541079]),\n",
       " <a list of 10 Patch objects>)"
      ]
     },
     "execution_count": 10,
     "metadata": {},
     "output_type": "execute_result"
    },
    {
     "data": {
      "image/png": "[encoded data removed]",
      "text/plain": [
       "<matplotlib.figure.Figure at 0x7fe699fdafd0>"
      ]
     },
     "metadata": {},
     "output_type": "display_data"
    }
   ],
   "source": [
    "zs = (mymean - myDmeans) * np.sqrt(Nsamples) / mystdev# should give me an array, myDmeans is sample means\n",
    "# each one of those has to be multiplied by N samples (remember the formula)\n",
    "pl.hist(zs)\n",
    "# don't need absolute value bc it's a one-side test\n",
    "# from below, "
   ]
  },
  {
   "cell_type": "code",
   "execution_count": null,
   "metadata": {
    "collapsed": true
   },
   "outputs": [],
   "source": [
    "# if this wasn't a HW you could stop here\n",
    "# for HW, we will test whether samples are reasonable representation of the model in another manner\n"
   ]
  },
  {
   "cell_type": "code",
   "execution_count": 11,
   "metadata": {
    "collapsed": false
   },
   "outputs": [
    {
     "data": {
      "text/plain": [
       "KstestResult(statistic=0.029078852995795657, pvalue=0.3615543791026623)"
      ]
     },
     "execution_count": 11,
     "metadata": {},
     "output_type": "execute_result"
    }
   ],
   "source": [
    "sp.stats.kstest(zs, 'norm') # not 2 sample ks test, but ks test\n",
    "# p-value is 0.36, so if our alpha was 0.05 we can't reject NH\n",
    "# tells us whether samples come from parent distro"
   ]
  },
  {
   "cell_type": "code",
   "execution_count": null,
   "metadata": {
    "collapsed": true
   },
   "outputs": [],
   "source": []
  }
 ],
 "metadata": {
  "kernelspec": {
   "display_name": "PUI2016_Python3",
   "language": "python",
   "name": "pui2016_python3"
  },
  "language_info": {
   "codemirror_mode": {
    "name": "ipython",
    "version": 3
   },
   "file_extension": ".py",
   "mimetype": "text/x-python",
   "name": "python",
   "nbconvert_exporter": "python",
   "pygments_lexer": "ipython3",
   "version": "3.5.4"
  }
 },
 "nbformat": 4,
 "nbformat_minor": 0
}
