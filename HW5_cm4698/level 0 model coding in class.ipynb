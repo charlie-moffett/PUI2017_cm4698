{
 "cells": [
  {
   "cell_type": "code",
   "execution_count": 1,
   "metadata": {
    "collapsed": false
   },
   "outputs": [
    {
     "name": "stdout",
     "output_type": "stream",
     "text": [
      "Populating the interactive namespace from numpy and matplotlib\n"
     ]
    }
   ],
   "source": [
    "import numpy as np\n",
    "import pylab as pl\n",
    "\n",
    "%pylab inline"
   ]
  },
  {
   "cell_type": "code",
   "execution_count": 21,
   "metadata": {
    "collapsed": false
   },
   "outputs": [
    {
     "data": {
      "text/plain": [
       "array([ 82.30852361,  57.47700661,  20.72003185,  67.57132998,\n",
       "        18.18327365,  39.90031127,  48.46428527,  59.89472312,\n",
       "        66.53138702,  72.76536498,  81.095472  ,  21.87013176,\n",
       "        40.84934065,  28.14036497,  73.65918071,  13.00593379,\n",
       "        91.83250392,  46.46445984,  78.43919233,  52.63825382,\n",
       "        35.80470261,  77.61632399,  18.73809491,  47.11220095,\n",
       "        35.34750663,  45.12500025,  88.39982886,  17.31206055,\n",
       "        60.21380486,  59.27808509,  39.89827627,  97.59419322,\n",
       "        35.76484879,  55.74317488,  23.31556623,  27.67905863,\n",
       "        85.67380097,  10.33778829,  80.43589091,  85.01299452,\n",
       "        94.41166046,  97.53414969,  84.95407377,  15.92358453,\n",
       "        46.34133041,  43.73141377,  55.67512121,  98.00892637,\n",
       "        83.7091188 ,  26.87871197])"
      ]
     },
     "execution_count": 21,
     "metadata": {},
     "output_type": "execute_result"
    }
   ],
   "source": [
    "np.random.seed(999)\n",
    "\n",
    "# first let's make an x-axis\n",
    "# we can do it at regular intervals, we can do it randomly\n",
    "x = np.random.uniform(10,100,50) # 50 points between 10 and 100\n",
    "x"
   ]
  },
  {
   "cell_type": "code",
   "execution_count": 22,
   "metadata": {
    "collapsed": false
   },
   "outputs": [
    {
     "data": {
      "text/plain": [
       "[<matplotlib.lines.Line2D at 0x7f239ecf37b8>]"
      ]
     },
     "execution_count": 22,
     "metadata": {},
     "output_type": "execute_result"
    },
    {
     "data": {
      "image/png": "[encoded data removed]",
      "text/plain": [
       "<matplotlib.figure.Figure at 0x7f239d103128>"
      ]
     },
     "metadata": {},
     "output_type": "display_data"
    }
   ],
   "source": [
    "# defining a function in multiple lines (it can be done in one line though)\n",
    "# it's always a good idea to define your function in its own cell\n",
    "# we can give the function default parameters by placing them in bw the parentheses where we define the function\n",
    "def makealine(x, a=10, b=5):\n",
    "# what parameters does the function need to take?\n",
    "    y = a * x + b\n",
    "    return y\n",
    "\n",
    "L = makealine(x)\n",
    "\n",
    "pl.plot(x,L,'.')\n",
    "\n",
    "# for future reference, we're encourage to use classes when we code in Python"
   ]
  },
  {
   "cell_type": "code",
   "execution_count": 23,
   "metadata": {
    "collapsed": true
   },
   "outputs": [],
   "source": [
    "# let's use statsmodels to fit it\n",
    "import statsmodels.api as sm"
   ]
  },
  {
   "cell_type": "code",
   "execution_count": 24,
   "metadata": {
    "collapsed": false
   },
   "outputs": [
    {
     "data": {
      "text/plain": [
       "<statsmodels.regression.linear_model.OLS at 0x7f239ecc6c18>"
      ]
     },
     "execution_count": 24,
     "metadata": {},
     "output_type": "execute_result"
    }
   ],
   "source": [
    "# let's do it the wrong way first\n",
    "#dir(sm) # gives you content of the package # we'll use OLS\n",
    "\n",
    "#sm.OLS? # args it takes are endog (dependent) var, exog(dependent) var\n",
    "\n",
    "sm.OLS(L, x) # sets up the stage, but doesn't do the fit"
   ]
  },
  {
   "cell_type": "code",
   "execution_count": 30,
   "metadata": {
    "collapsed": false
   },
   "outputs": [
    {
     "data": {
      "text/plain": [
       "[<matplotlib.lines.Line2D at 0x7f239ced4cc0>]"
      ]
     },
     "execution_count": 30,
     "metadata": {},
     "output_type": "execute_result"
    },
    {
     "data": {
      "image/png": "[encoded data removed]",
      "text/plain": [
       "<matplotlib.figure.Figure at 0x7f239d069208>"
      ]
     },
     "metadata": {},
     "output_type": "display_data"
    }
   ],
   "source": [
    "# still the wrong way\n",
    "lin_model = sm.OLS(L, x).fit()\n",
    "\n",
    "def makealine2(x, a=10, b=5):\n",
    "# what parameters does the function need to take?\n",
    "    y = a * x + b\n",
    "    return y + np.random.randn(len(y)) * y.mean() # adds some noise\n",
    "\n",
    "L2 = makealine2(x)\n",
    "\n",
    "pl.plot(x,L2,'.')"
   ]
  },
  {
   "cell_type": "code",
   "execution_count": 39,
   "metadata": {
    "collapsed": false
   },
   "outputs": [
    {
     "data": {
      "text/plain": [
       "array([ 9.03163279])"
      ]
     },
     "execution_count": 39,
     "metadata": {},
     "output_type": "execute_result"
    }
   ],
   "source": [
    "lin_model = sm.OLS(L2, x).fit()\n",
    "\n",
    "lin_model.params\n",
    "\n",
    "# if you wanna use this function, you have to manipulate your model and make it 2-D"
   ]
  },
  {
   "cell_type": "code",
   "execution_count": 37,
   "metadata": {
    "collapsed": false
   },
   "outputs": [
    {
     "data": {
      "text/plain": [
       "array([[  1.        ,  82.30852361],\n",
       "       [  1.        ,  57.47700661],\n",
       "       [  1.        ,  20.72003185],\n",
       "       [  1.        ,  67.57132998],\n",
       "       [  1.        ,  18.18327365],\n",
       "       [  1.        ,  39.90031127],\n",
       "       [  1.        ,  48.46428527],\n",
       "       [  1.        ,  59.89472312],\n",
       "       [  1.        ,  66.53138702],\n",
       "       [  1.        ,  72.76536498],\n",
       "       [  1.        ,  81.095472  ],\n",
       "       [  1.        ,  21.87013176],\n",
       "       [  1.        ,  40.84934065],\n",
       "       [  1.        ,  28.14036497],\n",
       "       [  1.        ,  73.65918071],\n",
       "       [  1.        ,  13.00593379],\n",
       "       [  1.        ,  91.83250392],\n",
       "       [  1.        ,  46.46445984],\n",
       "       [  1.        ,  78.43919233],\n",
       "       [  1.        ,  52.63825382],\n",
       "       [  1.        ,  35.80470261],\n",
       "       [  1.        ,  77.61632399],\n",
       "       [  1.        ,  18.73809491],\n",
       "       [  1.        ,  47.11220095],\n",
       "       [  1.        ,  35.34750663],\n",
       "       [  1.        ,  45.12500025],\n",
       "       [  1.        ,  88.39982886],\n",
       "       [  1.        ,  17.31206055],\n",
       "       [  1.        ,  60.21380486],\n",
       "       [  1.        ,  59.27808509],\n",
       "       [  1.        ,  39.89827627],\n",
       "       [  1.        ,  97.59419322],\n",
       "       [  1.        ,  35.76484879],\n",
       "       [  1.        ,  55.74317488],\n",
       "       [  1.        ,  23.31556623],\n",
       "       [  1.        ,  27.67905863],\n",
       "       [  1.        ,  85.67380097],\n",
       "       [  1.        ,  10.33778829],\n",
       "       [  1.        ,  80.43589091],\n",
       "       [  1.        ,  85.01299452],\n",
       "       [  1.        ,  94.41166046],\n",
       "       [  1.        ,  97.53414969],\n",
       "       [  1.        ,  84.95407377],\n",
       "       [  1.        ,  15.92358453],\n",
       "       [  1.        ,  46.34133041],\n",
       "       [  1.        ,  43.73141377],\n",
       "       [  1.        ,  55.67512121],\n",
       "       [  1.        ,  98.00892637],\n",
       "       [  1.        ,  83.7091188 ],\n",
       "       [  1.        ,  26.87871197]])"
      ]
     },
     "execution_count": 37,
     "metadata": {},
     "output_type": "execute_result"
    }
   ],
   "source": [
    "# we're gonna create a new x-axis, a 2-D x-axis\n",
    "x_2D = sm.add_constant(x)\n",
    "x_2D"
   ]
  },
  {
   "cell_type": "code",
   "execution_count": 40,
   "metadata": {
    "collapsed": false
   },
   "outputs": [
    {
     "data": {
      "text/plain": [
       "[<matplotlib.lines.Line2D at 0x7f239cdb4630>,\n",
       " <matplotlib.lines.Line2D at 0x7f239cdb4860>]"
      ]
     },
     "execution_count": 40,
     "metadata": {},
     "output_type": "execute_result"
    },
    {
     "data": {
      "image/png": "[encoded data removed]",
      "text/plain": [
       "<matplotlib.figure.Figure at 0x7f239ce58390>"
      ]
     },
     "metadata": {},
     "output_type": "display_data"
    }
   ],
   "source": [
    "lin_model = sm.OLS(L2, x_2D).fit()\n",
    "pl.plot(x_2D, lin_model.fittedvalues)"
   ]
  },
  {
   "cell_type": "code",
   "execution_count": 41,
   "metadata": {
    "collapsed": false
   },
   "outputs": [
    {
     "ename": "ImportError",
     "evalue": "No module named 'statsmodel'",
     "output_type": "error",
     "traceback": [
      "\u001b[0;31m---------------------------------------------------------------------------\u001b[0m",
      "\u001b[0;31mImportError\u001b[0m                               Traceback (most recent call last)",
      "\u001b[0;32m<ipython-input-41-657e2cb47435>\u001b[0m in \u001b[0;36m<module>\u001b[0;34m()\u001b[0m\n\u001b[0;32m----> 1\u001b[0;31m \u001b[0;32mimport\u001b[0m \u001b[0mstatsmodel\u001b[0m\u001b[0;34m.\u001b[0m\u001b[0mformula\u001b[0m\u001b[0;34m.\u001b[0m\u001b[0mapi\u001b[0m \u001b[0;32mas\u001b[0m \u001b[0msmf\u001b[0m\u001b[0;34m\u001b[0m\u001b[0m\n\u001b[0m\u001b[1;32m      2\u001b[0m \u001b[0msmf\u001b[0m\u001b[0;34m.\u001b[0m\u001b[0mols\u001b[0m\u001b[0;34m(\u001b[0m\u001b[0;34m'y ~ x'\u001b[0m\u001b[0;34m,\u001b[0m \u001b[0mdata\u001b[0m\u001b[0;34m=\u001b[0m\u001b[0mdf\u001b[0m\u001b[0;34m)\u001b[0m \u001b[0;31m# if you're using DFs, just pass it a df there\u001b[0m\u001b[0;34m\u001b[0m\u001b[0m\n",
      "\u001b[0;31mImportError\u001b[0m: No module named 'statsmodel'"
     ]
    }
   ],
   "source": [
    "import statsmodel.formula.api as smf\n",
    "smf.ols('y ~ x', data=df) # if you're using DFs, just pass it a df there"
   ]
  },
  {
   "cell_type": "code",
   "execution_count": null,
   "metadata": {
    "collapsed": true
   },
   "outputs": [],
   "source": []
  }
 ],
 "metadata": {
  "kernelspec": {
   "display_name": "PUI2016_Python3",
   "language": "python",
   "name": "pui2016_python3"
  },
  "language_info": {
   "codemirror_mode": {
    "name": "ipython",
    "version": 3
   },
   "file_extension": ".py",
   "mimetype": "text/x-python",
   "name": "python",
   "nbconvert_exporter": "python",
   "pygments_lexer": "ipython3",
   "version": "3.5.4"
  }
 },
 "nbformat": 4,
 "nbformat_minor": 0
}
