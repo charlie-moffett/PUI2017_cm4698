{
 "cells": [
  {
   "cell_type": "markdown",
   "metadata": {},
   "source": [
    "written by Charlie Moffett, CUSP 2017"
   ]
  },
  {
   "cell_type": "markdown",
   "metadata": {},
   "source": [
    "__Assignment 1: Test the Z test__"
   ]
  },
  {
   "cell_type": "code",
   "execution_count": 2,
   "metadata": {
    "collapsed": false
   },
   "outputs": [
    {
     "name": "stdout",
     "output_type": "stream",
     "text": [
      "Populating the interactive namespace from numpy and matplotlib\n"
     ]
    }
   ],
   "source": [
    "import numpy as np\n",
    "import pylab as pl\n",
    "import pandas as pd\n",
    "import scipy.stats\n",
    "import os\n",
    "\n",
    "%pylab inline"
   ]
  },
  {
   "cell_type": "markdown",
   "metadata": {},
   "source": [
    "# N(0,1)"
   ]
  },
  {
   "cell_type": "code",
   "execution_count": 3,
   "metadata": {
    "collapsed": false
   },
   "outputs": [],
   "source": [
    "# Generate parameter distribution\n",
    "np.random.seed(125)\n",
    "\n",
    "# first let's make an x-axis\n",
    "# we can do it at regular intervals\n",
    "x = np.random.normal(111,14,100) # 50 points between 10 and 100"
   ]
  },
  {
   "cell_type": "code",
   "execution_count": 4,
   "metadata": {
    "collapsed": false
   },
   "outputs": [
    {
     "data": {
      "text/plain": [
       "Text(65,-5,'The distribution is Gaussian, with a mean of 10 and a standard deviation of 100')"
      ]
     },
     "execution_count": 4,
     "metadata": {},
     "output_type": "execute_result"
    },
    {
     "data": {
      "image/png": "[encoded data removed]",
      "text/plain": [
       "<matplotlib.figure.Figure at 0x7f7190e24160>"
      ]
     },
     "metadata": {},
     "output_type": "display_data"
    }
   ],
   "source": [
    "# plotting histogram of my normal distribution\n",
    "# will need N(0,1) distribution to compare with later!\n",
    "pl.hist(x)\n",
    "pl.title('Distribution of my control parameters')\n",
    "pl.text(x=65, y=-5, s='The distribution is Gaussian, with a mean of 10 and a standard deviation of 100')"
   ]
  },
  {
   "cell_type": "markdown",
   "metadata": {},
   "source": [
    "# Poisson"
   ]
  },
  {
   "cell_type": "code",
   "execution_count": 9,
   "metadata": {
    "collapsed": false
   },
   "outputs": [
    {
     "name": "stdout",
     "output_type": "stream",
     "text": [
      "dict_values([112.81999999999999, 109.73999999999999, 109.77, 110.48, 111.37, 110.67, 110.97, 109.34, 111.33, 109.86, 110.98999999999999, 110.15000000000001, 111.70999999999999, 111.36, 111.68000000000001, 111.47, 110.56, 110.87, 112.03, 110.55, 111.11, 110.76000000000001, 110.06999999999999, 111.29000000000001, 110.31, 109.41, 110.84, 111.33, 110.73999999999999, 110.83, 110.66, 110.51000000000001, 110.68000000000001, 111.66, 111.42, 109.76000000000001, 111.17, 109.88, 110.58, 111.67, 110.81, 111.92, 108.84999999999999, 111.64, 111.06, 109.56, 109.23999999999999, 110.51000000000001, 112.68000000000001, 110.05, 110.34999999999999, 110.08, 112.09, 109.51000000000001, 112.13, 111.05, 111.06, 109.09999999999999, 110.95999999999999, 111.27, 111.51000000000001, 111.81999999999999, 109.83, 109.98, 110.56999999999999, 110.59, 111.43000000000001, 111.04000000000001, 110.28, 109.44, 110.33, 110.23, 110.8, 111.13, 110.38, 110.13, 110.52, 111.81, 111.79000000000001, 109.93000000000001, 109.64, 111.66, 110.2, 110.05, 111.54000000000001, 112.26000000000001, 112.27, 108.79000000000001, 110.58, 111.37, 113.58, 109.95999999999999, 111.31, 112.84, 111.29000000000001, 110.89, 111.91, 110.22, 111.40000000000001, 109.95])\n"
     ]
    }
   ],
   "source": [
    "# Generate N samples from a distribution of your choice (Poisson) \n",
    "np.random.seed(999)\n",
    "\n",
    "mean = 111\n",
    "sigma = 14\n",
    "N = 100\n",
    "lm = mean\n",
    "\n",
    "mydict = {}\n",
    "mydict['pois'] = {} \n",
    "mydict['pois']['means'] = {}\n",
    "\n",
    "for i in range(100):\n",
    "    mydict['pois'][i] = np.random.poisson(lm, size= N)\n",
    "    \n",
    "# Calculate the mean of each sample (all samples should have the same size n)\n",
    "for q in mydict['pois']:\n",
    "    if not type(q) == str:\n",
    "        mydict['pois']['means'][q] = mydict['pois'][q].mean()\n",
    "        \n",
    "mymeans = mydict['pois']['means'].values()\n",
    "print(mymeans)"
   ]
  },
  {
   "cell_type": "code",
   "execution_count": 10,
   "metadata": {
    "collapsed": false
   },
   "outputs": [
    {
     "data": {
      "text/plain": [
       "Text(0.5,1,'1 of 100 randomly generated samples with Poisson distribution')"
      ]
     },
     "execution_count": 10,
     "metadata": {},
     "output_type": "execute_result"
    },
    {
     "data": {
      "image/png": "[encoded data removed]",
      "text/plain": [
       "<matplotlib.figure.Figure at 0x7f71bc943390>"
      ]
     },
     "metadata": {},
     "output_type": "display_data"
    }
   ],
   "source": [
    "# plot at least one of the samples\n",
    "pl.hist(mydict['pois'][0])\n",
    "pl.title('1 of 100 randomly generated samples with Poisson distribution')"
   ]
  },
  {
   "cell_type": "markdown",
   "metadata": {},
   "source": [
    "# Ploting the distribution of Z stats"
   ]
  },
  {
   "cell_type": "code",
   "execution_count": 20,
   "metadata": {
    "collapsed": false
   },
   "outputs": [],
   "source": [
    "# establish function for Z Test\n",
    "def ztest(m):\n",
    "    \"\"\"formula for z test\"\"\"\n",
    "    z = (mean - m) / sigma * sqrt(N)\n",
    "    return z"
   ]
  },
  {
   "cell_type": "code",
   "execution_count": 21,
   "metadata": {
    "collapsed": false
   },
   "outputs": [
    {
     "data": {
      "text/plain": [
       "Text(0.5,1,'Distribution of Z-scores for random samples set')"
      ]
     },
     "execution_count": 21,
     "metadata": {},
     "output_type": "execute_result"
    },
    {
     "data": {
      "image/png": "[encoded data removed]",
      "text/plain": [
       "<matplotlib.figure.Figure at 0x7f718e30c518>"
      ]
     },
     "metadata": {},
     "output_type": "display_data"
    }
   ],
   "source": [
    "# plot the z test distribution\n",
    "myscores = []\n",
    "\n",
    "for m in mymeans:\n",
    "    myscore = ztest(m)\n",
    "    myscores.append(myscore)\n",
    "    \n",
    "pl.hist(myscores)\n",
    "pl.title('Distribution of Z-scores for random samples set')"
   ]
  },
  {
   "cell_type": "markdown",
   "metadata": {},
   "source": [
    "# Fit Z Stats with normal distribution\n",
    "$H_0$: My sample distribution ('zscores') comes from a normal distribution, N(0,1)\n",
    "\n",
    "$\\alpha = 0.05$"
   ]
  },
  {
   "cell_type": "code",
   "execution_count": 22,
   "metadata": {
    "collapsed": false
   },
   "outputs": [
    {
     "data": {
      "text/plain": [
       "Text(0.5,1,'Normal distribution (m = 0, sigma = 1) fit to z-score distribution')"
      ]
     },
     "execution_count": 22,
     "metadata": {},
     "output_type": "execute_result"
    },
    {
     "data": {
      "image/png": "[encoded data removed]",
      "text/plain": [
       "<matplotlib.figure.Figure at 0x7f718e267198>"
      ]
     },
     "metadata": {},
     "output_type": "display_data"
    }
   ],
   "source": [
    "np.random.seed(999)\n",
    "newNorm = np.random.normal(0, 1, 100)\n",
    "pl.hist(myscores, alpha = .5)\n",
    "# uses normal distribution from above\n",
    "pl.hist(newNorm, alpha = .5)\n",
    "pl.title('Normal distribution (m = 0, sigma = 1) fit to z-score distribution')"
   ]
  },
  {
   "cell_type": "code",
   "execution_count": 23,
   "metadata": {
    "collapsed": false
   },
   "outputs": [
    {
     "name": "stdout",
     "output_type": "stream",
     "text": [
      "Normal v. Z-Scores\n",
      "stat: 0.1690337661852021, pvalue: 0.005748301451298232\n"
     ]
    }
   ],
   "source": [
    "# Assess the validity of the Z-test (KS test)\n",
    "simpleTest = scipy.stats.kstest(myscores, 'norm')\n",
    "print (\"Normal v. Z-Scores\\nstat: {}, pvalue: {}\".format(simpleTest[0], simpleTest[1]))"
   ]
  },
  {
   "cell_type": "markdown",
   "metadata": {},
   "source": [
    "### As a result of this simple test (KS), we should reject the NH $H_0$ because the p-value (0.005) is less than the p-value (0.05) we set at the start. This means that the Z-score distribution doesn't comes from a Normal distribution."
   ]
  },
  {
   "cell_type": "code",
   "execution_count": null,
   "metadata": {
    "collapsed": true
   },
   "outputs": [],
   "source": []
  }
 ],
 "metadata": {
  "kernelspec": {
   "display_name": "PUI2016_Python3",
   "language": "python",
   "name": "pui2016_python3"
  },
  "language_info": {
   "codemirror_mode": {
    "name": "ipython",
    "version": 3
   },
   "file_extension": ".py",
   "mimetype": "text/x-python",
   "name": "python",
   "nbconvert_exporter": "python",
   "pygments_lexer": "ipython3",
   "version": "3.5.4"
  }
 },
 "nbformat": 4,
 "nbformat_minor": 0
}
